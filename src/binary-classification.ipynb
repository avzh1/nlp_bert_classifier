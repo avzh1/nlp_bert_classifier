{
 "cells": [
  {
   "cell_type": "markdown",
   "metadata": {},
   "source": [
    "# Binary Classification of the \"Don't Patronize Me!\" Dataset"
   ]
  },
  {
   "cell_type": "markdown",
   "metadata": {},
   "source": [
    "Perform Binary Classification to predict whether a text contains patronizing and condescending language. The task was task 4 (subtask 1) in the SemEval 2022 competition."
   ]
  },
  {
   "cell_type": "markdown",
   "metadata": {},
   "source": [
    "## == Initialize Environment == "
   ]
  },
  {
   "cell_type": "code",
   "execution_count": 23,
   "metadata": {},
   "outputs": [
    {
     "data": {
      "text/plain": [
       "'cuda'"
      ]
     },
     "execution_count": 23,
     "metadata": {},
     "output_type": "execute_result"
    }
   ],
   "source": [
    "# Library imports\n",
    "import pandas as pd\n",
    "\n",
    "import seaborn as sns\n",
    "import matplotlib.pyplot as plt    \n",
    "\n",
    "from nltk import PorterStemmer, WordNetLemmatizer\n",
    "import codecs\n",
    "\n",
    "import torch\n",
    "from torch.utils.data import DataLoader, Dataset, Sampler\n",
    "from tqdm import tqdm\n",
    "import torch.nn as nn\n",
    "\n",
    "import re\n",
    "from functools import partial\n",
    "\n",
    "import numpy as np\n",
    "from numpy import dot\n",
    "from numpy.linalg import norm\n",
    "\n",
    "from sklearn.model_selection import train_test_split\n",
    "from sklearn.metrics import confusion_matrix, ConfusionMatrixDisplay, classification_report, precision_score, recall_score, f1_score, precision_recall_fscore_support\n",
    "\n",
    "# Pre-trained models\n",
    "from simpletransformers.classification import ClassificationModel, ClassificationArgs, MultiLabelClassificationModel, MultiLabelClassificationArgs\n",
    "from transformers import Trainer, TrainingArguments\n",
    "from transformers import BertTokenizer\n",
    "from transformers import BertPreTrainedModel, BertModel\n",
    "from transformers.models.bert.modeling_bert import BertOnlyMLMHead\n",
    "from transformers import AutoModelForSequenceClassification, AdamW, get_scheduler\n",
    "\n",
    "\n",
    "def fix_seed(seed=420.69):\n",
    "  torch.manual_seed(seed)\n",
    "  torch.cuda.manual_seed(seed)\n",
    "#   np.random.seed(seed)\n",
    "#   random.seed(seed)\n",
    "\n",
    "fix_seed()\n",
    "\n",
    "data_path = '../bin/data'\n",
    "embeddings_path = '../bin/word_embeddings'\n",
    "model_save_path = '../bin/models'\n",
    "\n",
    "from util.datafunctions import *\n",
    "from util.evaluation import *\n",
    "\n",
    "if not torch.cuda.is_available():\n",
    "  DEVICE = 'cpu'\n",
    "else:\n",
    "  DEVICE = 'cuda'\n",
    "\n",
    "DEVICE"
   ]
  },
  {
   "cell_type": "markdown",
   "metadata": {},
   "source": [
    "## === Utils ==="
   ]
  },
  {
   "cell_type": "markdown",
   "metadata": {},
   "source": [
    "### Data related util functions"
   ]
  },
  {
   "cell_type": "code",
   "execution_count": 24,
   "metadata": {},
   "outputs": [],
   "source": [
    "from sklearn.model_selection import train_test_split\n",
    "import matplotlib.pyplot as plt\n",
    "\n",
    "def generate_data_splits(train_data):\n",
    "    # The stratify parameter makes a split so that the proportion of values in the sample produced will be the same as the proportion of values provided to parameter stratify. \n",
    "\n",
    "    X_train, X_val, y_train, y_val = train_test_split(train_data[['text', 'keyword', 'country_code']]\n",
    "                                                    , train_data['labels']\n",
    "                                                    , train_size=0.8\n",
    "                                                    , test_size=0.2\n",
    "                                                    , random_state=0\n",
    "                                                    , stratify=train_data[['labels']]\n",
    "                                                    )\n",
    "   \n",
    "    return X_train, X_val, y_train, y_val\n",
    "\n",
    "\n",
    "def pie_data_distributions(pie_series, pie_series_label):\n",
    "    \"\"\"Plots some pie charts for data distribution (Assume len(pie_series) inputs)\n",
    "\n",
    "    Args:\n",
    "        pie_series (_type_): pandas series \n",
    "        pie_series_label (_type_): for the title\n",
    "    \"\"\"\n",
    "\n",
    "    assert len(pie_series) == len(pie_series_label) and \"expected inputs of same length\"\n",
    "\n",
    "    _, axs = plt.subplots(1, len(pie_series), figsize=(len(pie_series)*5, 5))\n",
    "\n",
    "    for idx, (series, title) in enumerate(zip(pie_series, pie_series_label)):\n",
    "        tmp = series.value_counts()\n",
    "\n",
    "        wedges, _, _ = axs[idx].pie(tmp, labels=tmp.index, autopct='%1.1f%%', startangle=90)\n",
    "        legend_labels = [f'{label} ({count})' for label, count in zip(tmp.index, tmp)]\n",
    "        axs[idx].legend(wedges, legend_labels, title=\"Class 1 and 0\", loc=\"center left\", bbox_to_anchor=(1, 0, 0.5, 1))\n",
    "        axs[idx].set_title(f'Distribution for {title}')\n",
    "\n",
    "    plt.tight_layout()\n",
    "    plt.show()"
   ]
  },
  {
   "cell_type": "code",
   "execution_count": 25,
   "metadata": {},
   "outputs": [],
   "source": [
    "def plot_data_splits(X_train, X_val, y_train, y_val, test_data):\n",
    "    print(\"=== DISTRIBUTION FOR TRAINING DATA ===\")\n",
    "    pie_data_distributions(\n",
    "        [X_train['country_code'], X_train['keyword'], y_train],\n",
    "        ['train country_code label', 'train keyword label', 'train binary classification']\n",
    "    )\n",
    "\n",
    "    print(\"=== DISTRIBUTION FOR VALIDATION DATA ===\")\n",
    "    pie_data_distributions(\n",
    "        [X_val['country_code'], X_val['keyword'], y_val],\n",
    "        ['validation country_code label', 'validation keyword label', 'validation binary classification']\n",
    "    )\n",
    "\n",
    "    print(\"=== DISTRIBUTION FOR TEST DATA ===\")\n",
    "    pie_data_distributions(\n",
    "        [test_data['country_code'], test_data['keyword']],\n",
    "        ['test country_code label', 'test keyword label']\n",
    "    )"
   ]
  },
  {
   "cell_type": "markdown",
   "metadata": {},
   "source": [
    "## === Loading the Data ==="
   ]
  },
  {
   "cell_type": "code",
   "execution_count": 44,
   "metadata": {},
   "outputs": [
    {
     "data": {
      "text/html": [
       "<div>\n",
       "<style scoped>\n",
       "    .dataframe tbody tr th:only-of-type {\n",
       "        vertical-align: middle;\n",
       "    }\n",
       "\n",
       "    .dataframe tbody tr th {\n",
       "        vertical-align: top;\n",
       "    }\n",
       "\n",
       "    .dataframe thead th {\n",
       "        text-align: right;\n",
       "    }\n",
       "</style>\n",
       "<table border=\"1\" class=\"dataframe\">\n",
       "  <thead>\n",
       "    <tr style=\"text-align: right;\">\n",
       "      <th></th>\n",
       "      <th>par_id</th>\n",
       "      <th>keyword</th>\n",
       "      <th>country_code</th>\n",
       "      <th>text</th>\n",
       "      <th>labels</th>\n",
       "    </tr>\n",
       "  </thead>\n",
       "  <tbody>\n",
       "    <tr>\n",
       "      <th>0</th>\n",
       "      <td>t_4</td>\n",
       "      <td>vulnerable</td>\n",
       "      <td>ca</td>\n",
       "      <td>Members of the church , which is part of Ken C...</td>\n",
       "      <td>-1</td>\n",
       "    </tr>\n",
       "    <tr>\n",
       "      <th>1</th>\n",
       "      <td>t_5</td>\n",
       "      <td>women</td>\n",
       "      <td>tz</td>\n",
       "      <td>To ensure that \" Priority Agriculture Programm...</td>\n",
       "      <td>-1</td>\n",
       "    </tr>\n",
       "    <tr>\n",
       "      <th>2</th>\n",
       "      <td>t_6</td>\n",
       "      <td>immigrant</td>\n",
       "      <td>us</td>\n",
       "      <td>The deportees stepped off their flight from El...</td>\n",
       "      <td>-1</td>\n",
       "    </tr>\n",
       "    <tr>\n",
       "      <th>3</th>\n",
       "      <td>t_7</td>\n",
       "      <td>disabled</td>\n",
       "      <td>pk</td>\n",
       "      <td>PIMS staffer who raped disabled girl at ICU wa...</td>\n",
       "      <td>-1</td>\n",
       "    </tr>\n",
       "    <tr>\n",
       "      <th>4</th>\n",
       "      <td>t_9</td>\n",
       "      <td>vulnerable</td>\n",
       "      <td>lk</td>\n",
       "      <td>I conclude , Yes , the general FEELING generat...</td>\n",
       "      <td>-1</td>\n",
       "    </tr>\n",
       "    <tr>\n",
       "      <th>...</th>\n",
       "      <td>...</td>\n",
       "      <td>...</td>\n",
       "      <td>...</td>\n",
       "      <td>...</td>\n",
       "      <td>...</td>\n",
       "    </tr>\n",
       "    <tr>\n",
       "      <th>3823</th>\n",
       "      <td>t_3893</td>\n",
       "      <td>migrant</td>\n",
       "      <td>jm</td>\n",
       "      <td>In a letter dated Thursday to European Commiss...</td>\n",
       "      <td>-1</td>\n",
       "    </tr>\n",
       "    <tr>\n",
       "      <th>3824</th>\n",
       "      <td>t_3894</td>\n",
       "      <td>poor-families</td>\n",
       "      <td>au</td>\n",
       "      <td>They discovered that poor families with health...</td>\n",
       "      <td>-1</td>\n",
       "    </tr>\n",
       "    <tr>\n",
       "      <th>3825</th>\n",
       "      <td>t_3895</td>\n",
       "      <td>migrant</td>\n",
       "      <td>ca</td>\n",
       "      <td>She married at 19 , to Milan ( Emil ) Badovina...</td>\n",
       "      <td>-1</td>\n",
       "    </tr>\n",
       "    <tr>\n",
       "      <th>3826</th>\n",
       "      <td>t_3896</td>\n",
       "      <td>immigrant</td>\n",
       "      <td>us</td>\n",
       "      <td>The United Kingdom is n't going to devolve int...</td>\n",
       "      <td>-1</td>\n",
       "    </tr>\n",
       "    <tr>\n",
       "      <th>3827</th>\n",
       "      <td>t_3897</td>\n",
       "      <td>poor-families</td>\n",
       "      <td>ng</td>\n",
       "      <td>This moral battle informed the recent defectio...</td>\n",
       "      <td>-1</td>\n",
       "    </tr>\n",
       "  </tbody>\n",
       "</table>\n",
       "<p>3828 rows × 5 columns</p>\n",
       "</div>"
      ],
      "text/plain": [
       "      par_id        keyword country_code  \\\n",
       "0        t_4     vulnerable           ca   \n",
       "1        t_5          women           tz   \n",
       "2        t_6      immigrant           us   \n",
       "3        t_7       disabled           pk   \n",
       "4        t_9     vulnerable           lk   \n",
       "...      ...            ...          ...   \n",
       "3823  t_3893        migrant           jm   \n",
       "3824  t_3894  poor-families           au   \n",
       "3825  t_3895        migrant           ca   \n",
       "3826  t_3896      immigrant           us   \n",
       "3827  t_3897  poor-families           ng   \n",
       "\n",
       "                                                   text  labels  \n",
       "0     Members of the church , which is part of Ken C...      -1  \n",
       "1     To ensure that \" Priority Agriculture Programm...      -1  \n",
       "2     The deportees stepped off their flight from El...      -1  \n",
       "3     PIMS staffer who raped disabled girl at ICU wa...      -1  \n",
       "4     I conclude , Yes , the general FEELING generat...      -1  \n",
       "...                                                 ...     ...  \n",
       "3823  In a letter dated Thursday to European Commiss...      -1  \n",
       "3824  They discovered that poor families with health...      -1  \n",
       "3825  She married at 19 , to Milan ( Emil ) Badovina...      -1  \n",
       "3826  The United Kingdom is n't going to devolve int...      -1  \n",
       "3827  This moral battle informed the recent defectio...      -1  \n",
       "\n",
       "[3828 rows x 5 columns]"
      ]
     },
     "execution_count": 44,
     "metadata": {},
     "output_type": "execute_result"
    }
   ],
   "source": [
    "# Import Raw Unprocessed Data\n",
    "unedited_train_data_df = pd.read_csv(f'{data_path}/dontpatronizeme_pcl.tsv', delimiter='\\t', skiprows=4, header=None, names=['par_id','art_id','keyword','country_code', 'text','labels'])\n",
    "test_data_df  = pd.read_csv(f'{data_path}/task4_test.tsv',  delimiter='\\t', skiprows=4, header=None, names=['par_id','art_id','keyword','country_code', 'text'])\n",
    "\n",
    "# Import Data with the assumption that we've already preprocessed the data\n",
    "train_data_df = pd.read_csv(f'{data_path}/pre-processed/sampled_train_data.tsv', header=0, delimiter='\\t')\n",
    "val_data_df = pd.read_csv(f'{data_path}/pre-processed/sampled_val_data.tsv', header=0, delimiter='\\t')\n",
    "\n",
    "# Remove redundant information\n",
    "test_data_df = test_data_df.drop(['art_id'], axis=1)\n",
    "\n",
    "# Include a dummy column so that they may use the same DataSet class\n",
    "test_data_df['labels'] = -1\n",
    "\n",
    "test_data_df"
   ]
  },
  {
   "cell_type": "code",
   "execution_count": 57,
   "metadata": {},
   "outputs": [
    {
     "data": {
      "text/plain": [
       "8639    True\n",
       "Name: text, dtype: bool"
      ]
     },
     "execution_count": 57,
     "metadata": {},
     "output_type": "execute_result"
    }
   ],
   "source": [
    "# unedited_train_data_df\n",
    "unedited_train_data_df[unedited_train_data_df['text'].isnull()]['text'].isnull()\n"
   ]
  },
  {
   "cell_type": "code",
   "execution_count": 27,
   "metadata": {},
   "outputs": [],
   "source": [
    "id2label = {0: \"non-PCL\", 1: \"PCL\"}\n",
    "label2id = {\"non-PCL\": 0, \"PCL\": 1}"
   ]
  },
  {
   "cell_type": "code",
   "execution_count": 28,
   "metadata": {},
   "outputs": [
    {
     "data": {
      "image/png": "[encoded data removed]",
      "text/plain": [
       "<Figure size 1000x500 with 2 Axes>"
      ]
     },
     "metadata": {},
     "output_type": "display_data"
    }
   ],
   "source": [
    "pie_data_distributions([train_data_df['labels'], val_data_df['labels']], ['Train Data (Upsampled)', 'Validation Data'])"
   ]
  },
  {
   "cell_type": "markdown",
   "metadata": {},
   "source": [
    "## === Pre-processing ==="
   ]
  },
  {
   "cell_type": "markdown",
   "metadata": {},
   "source": [
    "### 1. Tokenization"
   ]
  },
  {
   "cell_type": "code",
   "execution_count": 29,
   "metadata": {},
   "outputs": [],
   "source": [
    "from typing import List\n",
    "\n",
    "def tokenize_text(text: List[str], tokenizer: BertTokenizer, max_length: int = 300):\n",
    "    \"\"\"Tokenize the input text using the provided tokenizer\n",
    "\n",
    "    Args:\n",
    "        text (List[str]): input text\n",
    "        tokenizer (BertTokenizer): tokenizer to be used\n",
    "        max_length (int, optional): maximum length of the tokenized text. Defaults to 300.\n",
    "\n",
    "    Returns:\n",
    "        dict: dictionary containing the tokenized text\n",
    "    \"\"\"    \n",
    "\n",
    "    # We pad shorter sentences to a length of trunc_len tokens since the maximum sequence size for BERT is 512\n",
    "    return tokenizer(text, return_tensors='pt', padding=True, truncation=True, max_length=max_length)"
   ]
  },
  {
   "cell_type": "markdown",
   "metadata": {},
   "source": [
    "### 2. Masking Tokens"
   ]
  },
  {
   "cell_type": "code",
   "execution_count": 30,
   "metadata": {},
   "outputs": [],
   "source": [
    "def mask_tokens(inputs, tokenizer, mlm_probability):\n",
    "    \"\"\"Given a tokenized input, will prepare masked tokens inputs/labels for Masked Language Modelling. 'We want to train BERT to predict an mlm_probability% of tokens (in the original paper it is 15%) of which 80% will be replaced by a ``[MASK]`` token, 10% with a random token and 10% remain the same token.' (from tutorial)\n",
    "\n",
    "    Args:\n",
    "        inputs (list): list of inputs to be masked\n",
    "        tokenizer (BertTokenizer): tokenizer to be used\n",
    "        mlm_probability (float): probability of applying a mask to each token\n",
    "\n",
    "    Returns:\n",
    "        (maksed tokens, original token): _description_\n",
    "    \"\"\"    \n",
    "\n",
    "    assert tokenizer.mask_token is not None and \"Tokenizer should not be none. (how can we mask if we don't know what to call it!)\"\n",
    "\n",
    "    labels = inputs.clone()\n",
    "\n",
    "    # We sample a few tokens in each sequence for masked-LM training (with probability mlm_probability defaults to 0.15 in Bert/RoBERTa)\n",
    "    probability_matrix = torch.full(labels.shape, mlm_probability)\n",
    "    special_tokens_mask = [tokenizer.get_special_tokens_mask(val, already_has_special_tokens=True) for val in labels.tolist()]\n",
    "    probability_matrix.masked_fill_(torch.tensor(special_tokens_mask, dtype=torch.bool), value=0.0)\n",
    "\n",
    "    if tokenizer._pad_token is not None:\n",
    "        padding_mask = labels.eq(tokenizer.pad_token_id)\n",
    "        probability_matrix.masked_fill_(padding_mask, value=0.0)\n",
    "    masked_indices = torch.bernoulli(probability_matrix).bool()\n",
    "    labels[~masked_indices] = -100  # We only compute loss on masked tokens\n",
    "\n",
    "    # 80% of the time, we replace masked input tokens with tokenizer.mask_token ([MASK])\n",
    "    indices_replaced = torch.bernoulli(torch.full(labels.shape, 0.8)).bool() & masked_indices\n",
    "    inputs[indices_replaced] = tokenizer.convert_tokens_to_ids(tokenizer.mask_token)\n",
    "\n",
    "    # 10% of the time, we replace masked input tokens with random word\n",
    "    indices_random = torch.bernoulli(torch.full(labels.shape, 0.5)).bool() & masked_indices & ~indices_replaced\n",
    "    random_words = torch.randint(len(tokenizer), labels.shape, dtype=torch.long)\n",
    "    inputs[indices_random] = random_words[indices_random]\n",
    "\n",
    "    # The rest of the time (10% of the time) we keep the masked input tokens unchanged\n",
    "    return inputs, labels"
   ]
  },
  {
   "cell_type": "markdown",
   "metadata": {},
   "source": [
    "## === Model Setup ==="
   ]
  },
  {
   "cell_type": "markdown",
   "metadata": {},
   "source": [
    "### Dataset Class"
   ]
  },
  {
   "cell_type": "code",
   "execution_count": 61,
   "metadata": {},
   "outputs": [],
   "source": [
    "class PCLDataset(Dataset):\n",
    "    def __init__(self, data_frame: pd.DataFrame\n",
    "                 , tokenizer: BertTokenizer\n",
    "                 , mask_tokens = False\n",
    "                 , trunc_len = 300\n",
    "                 , mlm_probability = 0.15):\n",
    "        \"\"\"Initializes the PCLDataset class\"\"\"\n",
    "\n",
    "        self.data = data_frame\n",
    "        self.tokenizer = tokenizer\n",
    "        self.mask = mask_tokens\n",
    "        self.trunc_len = trunc_len\n",
    "        self.mlm_probability = mlm_probability        \n",
    "\n",
    "    def __len__(self):\n",
    "        return len(self.data)\n",
    "\n",
    "    def __getitem__(self, idx):\n",
    "        \"\"\"Returns a singular item with all pre-processing required for the tester\"\"\"\n",
    "\n",
    "        text = self.data['text'].iloc[idx]\n",
    "        if pd.isnull(text):\n",
    "            text = \"\"\n",
    "\n",
    "        data = {'text': text}\n",
    "        \n",
    "        # instead of label and label_detailed we use label\n",
    "        label = {'labels': self.data['labels'].iloc[idx]}\n",
    "\n",
    "        return data, label\n",
    "    \n",
    "    def collate_fn(self, batch):\n",
    "        \"\"\"merges a list of samples to form a mini-batch of Tensor(s). Used when using batched loading from a map-style\"\"\"\n",
    "        \n",
    "        input_features = [i for i, _ in batch]\n",
    "        output_labels  = [o for _, o in batch]\n",
    "\n",
    "        # 1. Tokenize the input text\n",
    "        batched_text = [item['text'] for item in input_features]\n",
    "        encodings = tokenize_text(batched_text, self.tokenizer, self.trunc_len)\n",
    "\n",
    "        # 2. Optionally mask the input\n",
    "        # if self.mask:\n",
    "        if False: # for now, we don't mask the input\n",
    "            masked_input, labels = mask_tokens(encodings['input_ids'], self.tokenizer, self.mlm_probability)\n",
    "            encodings['input_ids'] = masked_input\n",
    "            encodings['labels'] = labels\n",
    "\n",
    "        # 3. Process the output labels\n",
    "        encodings['labels'] = torch.tensor([item['labels'] for item in output_labels])\n",
    "\n",
    "        return encodings"
   ]
  },
  {
   "cell_type": "markdown",
   "metadata": {},
   "source": [
    "## === Model ==="
   ]
  },
  {
   "cell_type": "code",
   "execution_count": 32,
   "metadata": {},
   "outputs": [],
   "source": [
    "h_params = {\n",
    "      'text trunction length': 300\n",
    "    , 'mask tokens': False\n",
    "    , 'mlm probability': 0.15\n",
    "    , 'batch size': 16\n",
    "    , 'learning rate': 2e-5\n",
    "    , 'epochs': 1\n",
    "    , 'warmup steps': 100\n",
    "    , 'weight decay': 0.01 \n",
    "}"
   ]
  },
  {
   "cell_type": "markdown",
   "metadata": {},
   "source": [
    "### Model Training Utils"
   ]
  },
  {
   "cell_type": "code",
   "execution_count": 64,
   "metadata": {},
   "outputs": [],
   "source": [
    "def predict_hatespeech(input, tokenizer, model):\n",
    "  model.eval()\n",
    "  encodings = tokenizer(input, return_tensors='pt', padding=True, truncation=True, max_length=h_params['text trunction length'])\n",
    "  encodings.to(DEVICE)\n",
    "  model.to(DEVICE)\n",
    "\n",
    "  output = model(**encodings)\n",
    "  \n",
    "  return torch.argmax(output.logits, dim=1)"
   ]
  },
  {
   "cell_type": "code",
   "execution_count": null,
   "metadata": {},
   "outputs": [],
   "source": [
    "def save_model_predictions(model_name, model, tokenizer):\n",
    "\n",
    "    model.eval()\n",
    "    model.to(DEVICE)\n",
    "\n",
    "    # << create a dataloader for the entire training dataset >>\n",
    "    global_train_dataset = PCLDataset(unedited_train_data_df, mask_tokens=False, tokenizer=tokenizer, trunc_len=h_params['text trunction length'])\n",
    "    global_train_data_loader = DataLoader(global_train_dataset, batch_size=h_params['batch size'], collate_fn=global_train_dataset.collate_fn, shuffle=False)\n",
    "\n",
    "    # << create a dataloader for the test dataset >>\n",
    "    test_dataset = PCLDataset(test_data_df, mask_tokens=False, tokenizer=tokenizer, trunc_len=h_params['text trunction length'])\n",
    "    test_data_loader = DataLoader(test_dataset, batch_size=h_params['batch size'], collate_fn=test_dataset.collate_fn, shuffle=False)\n",
    "\n",
    "    # << iterate through the dataloader and make predictions >>\n",
    "    for loader in {global_train_data_loader, test_data_loader}:\n",
    "\n",
    "        train_predictions = []\n",
    "\n",
    "        with torch.no_grad():\n",
    "            for batch in tqdm(loader):\n",
    "                del batch['labels']\n",
    "                batch = batch.to(DEVICE)\n",
    "                                \n",
    "                logits = model(**batch)\n",
    "                predictions = torch.argmax(logits.logits, dim=1)\n",
    "                train_predictions.extend(predictions.tolist())\n",
    "\n",
    "        train_predictions = np.array(train_predictions)\n",
    "\n",
    "        if loader is global_train_data_loader:\n",
    "            np.savetxt(f\"{model_save_path}/{model_name}/dev.txt\", train_predictions, fmt=\"%d\")\n",
    "        else:\n",
    "            np.savetxt(f\"{model_save_path}/{model_name}/test.txt\", train_predictions, fmt=\"%d\")\n"
   ]
  },
  {
   "cell_type": "code",
   "execution_count": 66,
   "metadata": {},
   "outputs": [],
   "source": [
    "import numpy as np\n",
    "from sklearn.metrics import confusion_matrix, classification_report\n",
    "import seaborn as sns\n",
    "import matplotlib.pyplot as plt\n",
    "\n",
    "def evaluate_model(model, tokenizer, data_loader):\n",
    "\n",
    "  model.to(DEVICE)\n",
    "\n",
    "  preds = []\n",
    "  tot_labels = []\n",
    "\n",
    "  with torch.no_grad():\n",
    "    for logits, expected in tqdm(data_loader):\n",
    "      \n",
    "      tweets = logits['text']\n",
    "\n",
    "      pred = predict_hatespeech(tweets, tokenizer, model)\n",
    "\n",
    "      preds.append(pred.tolist())\n",
    "      tot_labels.append(expected['labels'])\n",
    "\n",
    "  # with the saved predictions and labels we can compute accuracy, precision, recall and f1-score\n",
    "  report = classification_report(tot_labels, preds, target_names=[\"Not offensive\",\"Offensive\"], output_dict= True)\n",
    "\n",
    "  print(report)\n",
    "\n",
    "  cm = confusion_matrix(tot_labels, preds, labels=[0, 1]) \n",
    "\n",
    "  ax= plt.subplot()\n",
    "  sns.heatmap(cm, annot=True, fmt='g', ax=ax, cmap=sns.color_palette(\"ch:s=-.2,r=.6\", as_cmap=True));  #annot=True to annotate cells, ftm='g' to disable scientific notation\n",
    "\n",
    "  # labels, title and ticks\n",
    "  ax.set_xlabel('Predicted labels')\n",
    "  ax.set_ylabel('True labels')\n",
    "\n",
    "  ax.set_title('Confusion Matrix')\n",
    "\n",
    "  ax.xaxis.set_ticklabels(['Not Patronizing', 'Patronizing'])\n",
    "  ax.yaxis.set_ticklabels(['Not Patronizing', 'Patronizing'])\n",
    "\n",
    "  plt.show()\n",
    "\n",
    "  return report\n"
   ]
  },
  {
   "cell_type": "code",
   "execution_count": 67,
   "metadata": {},
   "outputs": [],
   "source": [
    "import evaluate\n",
    "\n",
    "def compute_accuracy(eval_pred):\n",
    "    logits, labels = eval_pred\n",
    "    predictions = np.argmax(logits, axis=-1)\n",
    "    metric = evaluate.load(\"accuracy\")\n",
    "    return metric.compute(predictions=predictions, references=labels)"
   ]
  },
  {
   "cell_type": "code",
   "execution_count": 68,
   "metadata": {},
   "outputs": [],
   "source": [
    "# Class Weights: https://discuss.huggingface.co/t/class-weights-for-bertforsequenceclassification/1674/7\n",
    "#                https://www.analyticsvidhya.com/blog/2020/11/handling-imbalanced-data-machine-learning-computer-vision-and-nlp/#Class%20weights\n",
    "\n",
    "class MySmoothTrainer(Trainer):\n",
    "    def compute_loss(self, model, inputs, return_outputs=False):\n",
    "        labels = inputs.pop(\"labels\")\n",
    "        outputs = model(**inputs)\n",
    "        logits = outputs.logits\n",
    "        loss_fct = nn.CrossEntropyLoss()\n",
    "        loss = loss_fct(logits.view(-1, self.model.config.num_labels), labels.view(-1))\n",
    "        return (loss, outputs) if return_outputs else loss"
   ]
  },
  {
   "cell_type": "code",
   "execution_count": 69,
   "metadata": {},
   "outputs": [],
   "source": [
    "def setup_trainer(model_name, model, h_params, training_dataset, val_dataset):\n",
    "\n",
    "    # << Initilize the Training Arguments >>\n",
    "    training_args = TrainingArguments(\n",
    "          output_dir                 = model_name\n",
    "        , learning_rate              = h_params['learning rate']\n",
    "        , per_device_train_batch_size= h_params['batch size']\n",
    "        , per_device_eval_batch_size = h_params['batch size']\n",
    "        , num_train_epochs           = h_params['epochs']\n",
    "        , weight_decay               = h_params['weight decay']\n",
    "        , evaluation_strategy        = \"epoch\"\n",
    "        , save_strategy              = \"epoch\"\n",
    "        , load_best_model_at_end     = True\n",
    "        , logging_dir                = f'{model_save_path}/{model_name}/logs'\n",
    "        , logging_steps              = 10\n",
    "    )\n",
    "\n",
    "    # << Initilize the Trainer >>\n",
    "    trainer = Trainer(\n",
    "        model           = model,\n",
    "        args            = training_args,\n",
    "        train_dataset   = training_dataset,\n",
    "        eval_dataset    = val_dataset,\n",
    "        data_collator   = training_dataset.collate_fn,\n",
    "        compute_metrics = compute_accuracy\n",
    "    )\n",
    "\n",
    "    return trainer"
   ]
  },
  {
   "cell_type": "code",
   "execution_count": 70,
   "metadata": {},
   "outputs": [],
   "source": [
    "def plot_loss(trainer):\n",
    "    log = trainer.state.log_history\n",
    "\n",
    "    train_loss = []\n",
    "    train_epoch = []\n",
    "\n",
    "    eval_loss = [] # eval calculated at the end of each epoch\n",
    "    eval_accuracy = []\n",
    "\n",
    "    for log_entry in log:\n",
    "        keys = log_entry.keys()\n",
    "\n",
    "        if 'loss' in keys:\n",
    "            train_loss.append(log_entry['loss'])\n",
    "            train_epoch.append(log_entry['epoch'])\n",
    "        elif 'eval_loss' in keys:\n",
    "            eval_loss.append(log_entry['eval_loss'])\n",
    "            eval_accuracy.append(log_entry['eval_accuracy'])\n",
    "        \n",
    "    fig, ax = plt.subplots(1, 2, figsize=(15, 5))\n",
    "\n",
    "    ax[0].plot(train_epoch, train_loss, label='Training Loss')\n",
    "    ax[0].set_title('Training Loss')\n",
    "    ax[0].set_xlabel('Epoch')\n",
    "    ax[0].set_ylabel('Loss')\n",
    "    ax[0].legend()\n",
    "\n",
    "    eval_epoch = [i+1 for i in range(len(eval_loss))]\n",
    "\n",
    "    print(eval_epoch)\n",
    "    print(eval_loss)\n",
    "    print(eval_accuracy)\n",
    "\n",
    "    ax[1].plot(eval_epoch, eval_loss, 'x', label='Evaluation Loss')\n",
    "    ax[1].plot(eval_epoch, eval_accuracy, 'o', label='Evaluation Accuracy')\n",
    "    ax[1].set_title('Evaluation Loss and Accuracy')\n",
    "    ax[1].set_xlabel('Epoch')\n",
    "    ax[1].set_ylabel('Loss and Accuracy')\n",
    "    ax[1].legend()\n",
    "\n",
    "    plt.show()"
   ]
  },
  {
   "cell_type": "code",
   "execution_count": 71,
   "metadata": {},
   "outputs": [],
   "source": [
    "def full_train_run(model_name, model, tokenizer, training_dataset, val_dataset):\n",
    "\n",
    "    # << Setup the trainer >>\n",
    "    trainer = setup_trainer(model_name, model, h_params, training_dataset, val_dataset)\n",
    "\n",
    "    #  << Set model to training mode >>\n",
    "    model.train()\n",
    "\n",
    "    # << Train the model >>\n",
    "    trainer.train()\n",
    "\n",
    "    # << Plot the loss >>\n",
    "    plot_loss(trainer)\n",
    "\n",
    "    # << Save the model predictions >>\n",
    "    save_model_predictions(model_name, model, tokenizer)\n",
    "\n",
    "    # << Evaluate the model >>\n",
    "    evaluate_model(model, tokenizer, val_dataset)\n",
    "\n",
    "    return trainer"
   ]
  },
  {
   "cell_type": "markdown",
   "metadata": {},
   "source": [
    "#### bert-base-cased"
   ]
  },
  {
   "cell_type": "code",
   "execution_count": 72,
   "metadata": {},
   "outputs": [],
   "source": [
    "# from transformers import BertTokenizer, AutoModelForSequenceClassification\n",
    "\n",
    "# # << Create Model and Tokenizer >>\n",
    "# model = AutoModelForSequenceClassification.from_pretrained('google-bert/bert-base-cased', num_labels=2, id2label=id2label, label2id=label2id)\n",
    "# tokenizer = BertTokenizer.from_pretrained('google-bert/bert-base-cased')\n",
    "\n",
    "# # << Create Datasets >>\n",
    "# training_dataset = PCLDataset(sampled_train_data, mask_tokens=h_params['mask tokens'], tokenizer=tokenizer, trunc_len=h_params['text trunction length'])\n",
    "# val_dataset = PCLDataset(sampled_val_data, mask_tokens=h_params['mask tokens'], tokenizer=tokenizer, trunc_len=h_params['text trunction length'])\n",
    "\n",
    "# bert_trainer = full_train_run('bert-base-cased', model, tokenizer, training_dataset, val_dataset)"
   ]
  },
  {
   "cell_type": "markdown",
   "metadata": {},
   "source": [
    "#### roberta"
   ]
  },
  {
   "cell_type": "code",
   "execution_count": 73,
   "metadata": {},
   "outputs": [
    {
     "name": "stderr",
     "output_type": "stream",
     "text": [
      "1211.83s - pydevd: Sending message related to process being replaced timed-out after 5 seconds\n"
     ]
    },
    {
     "name": "stdout",
     "output_type": "stream",
     "text": [
      "Mon Mar  4 17:15:36 2024       \n",
      "+---------------------------------------------------------------------------------------+\n",
      "| NVIDIA-SMI 535.161.07             Driver Version: 535.161.07   CUDA Version: 12.2     |\n",
      "|-----------------------------------------+----------------------+----------------------+\n",
      "| GPU  Name                 Persistence-M | Bus-Id        Disp.A | Volatile Uncorr. ECC |\n",
      "| Fan  Temp   Perf          Pwr:Usage/Cap |         Memory-Usage | GPU-Util  Compute M. |\n",
      "|                                         |                      |               MIG M. |\n",
      "|=========================================+======================+======================|\n",
      "|   0  NVIDIA GeForce RTX 4070 ...    Off | 00000000:01:00.0 Off |                  N/A |\n",
      "| N/A   57C    P8               7W /  30W |   7707MiB /  8188MiB |      0%      Default |\n",
      "|                                         |                      |                  N/A |\n",
      "+-----------------------------------------+----------------------+----------------------+\n",
      "                                                                                         \n",
      "+---------------------------------------------------------------------------------------+\n",
      "| Processes:                                                                            |\n",
      "|  GPU   GI   CI        PID   Type   Process name                            GPU Memory |\n",
      "|        ID   ID                                                             Usage      |\n",
      "|=======================================================================================|\n",
      "|    0   N/A  N/A      2378      G   /usr/lib/xorg/Xorg                            4MiB |\n",
      "|    0   N/A  N/A     24889      C   ...nlp/Coursework/nlp/.venv/bin/python     7694MiB |\n",
      "+---------------------------------------------------------------------------------------+\n"
     ]
    }
   ],
   "source": [
    "!nvidia-smi"
   ]
  },
  {
   "cell_type": "code",
   "execution_count": 75,
   "metadata": {},
   "outputs": [
    {
     "name": "stderr",
     "output_type": "stream",
     "text": [
      "Some weights of RobertaForSequenceClassification were not initialized from the model checkpoint at FacebookAI/roberta-base and are newly initialized: ['classifier.dense.bias', 'classifier.dense.weight', 'classifier.out_proj.bias', 'classifier.out_proj.weight']\n",
      "You should probably TRAIN this model on a down-stream task to be able to use it for predictions and inference.\n"
     ]
    },
    {
     "data": {
      "application/vnd.jupyter.widget-view+json": {
       "model_id": "e6c268b566664cd1b3bfb31f51c51eac",
       "version_major": 2,
       "version_minor": 0
      },
      "text/plain": [
       "  0%|          | 0/573 [00:00<?, ?it/s]"
      ]
     },
     "metadata": {},
     "output_type": "display_data"
    },
    {
     "name": "stdout",
     "output_type": "stream",
     "text": [
      "{'loss': 0.5333, 'grad_norm': 4.287139892578125, 'learning_rate': 1.9650959860383945e-05, 'epoch': 0.02}\n",
      "{'loss': 0.4853, 'grad_norm': 4.357046127319336, 'learning_rate': 1.930191972076789e-05, 'epoch': 0.03}\n",
      "{'loss': 0.4054, 'grad_norm': 5.183619499206543, 'learning_rate': 1.895287958115183e-05, 'epoch': 0.05}\n",
      "{'loss': 0.3773, 'grad_norm': 3.5005083084106445, 'learning_rate': 1.8603839441535778e-05, 'epoch': 0.07}\n",
      "{'loss': 0.3967, 'grad_norm': 5.627954959869385, 'learning_rate': 1.825479930191972e-05, 'epoch': 0.09}\n",
      "{'loss': 0.3742, 'grad_norm': 3.159947395324707, 'learning_rate': 1.7905759162303668e-05, 'epoch': 0.1}\n",
      "{'loss': 0.4111, 'grad_norm': 15.994827270507812, 'learning_rate': 1.755671902268761e-05, 'epoch': 0.12}\n",
      "{'loss': 0.3227, 'grad_norm': 3.6663389205932617, 'learning_rate': 1.7207678883071554e-05, 'epoch': 0.14}\n",
      "{'loss': 0.3488, 'grad_norm': 10.726009368896484, 'learning_rate': 1.6858638743455497e-05, 'epoch': 0.16}\n",
      "{'loss': 0.2927, 'grad_norm': 6.110940933227539, 'learning_rate': 1.6509598603839444e-05, 'epoch': 0.17}\n",
      "{'loss': 0.3212, 'grad_norm': 9.270727157592773, 'learning_rate': 1.6160558464223387e-05, 'epoch': 0.19}\n",
      "{'loss': 0.2995, 'grad_norm': 13.426468849182129, 'learning_rate': 1.581151832460733e-05, 'epoch': 0.21}\n",
      "{'loss': 0.3819, 'grad_norm': 7.621713161468506, 'learning_rate': 1.5462478184991274e-05, 'epoch': 0.23}\n",
      "{'loss': 0.3279, 'grad_norm': 3.9597678184509277, 'learning_rate': 1.511343804537522e-05, 'epoch': 0.24}\n",
      "{'loss': 0.2731, 'grad_norm': 3.4816372394561768, 'learning_rate': 1.4764397905759162e-05, 'epoch': 0.26}\n",
      "{'loss': 0.2614, 'grad_norm': 5.356879234313965, 'learning_rate': 1.4415357766143108e-05, 'epoch': 0.28}\n",
      "{'loss': 0.3614, 'grad_norm': 7.945162773132324, 'learning_rate': 1.4066317626527052e-05, 'epoch': 0.3}\n",
      "{'loss': 0.26, 'grad_norm': 11.68139934539795, 'learning_rate': 1.3717277486910996e-05, 'epoch': 0.31}\n",
      "{'loss': 0.3103, 'grad_norm': 10.689591407775879, 'learning_rate': 1.336823734729494e-05, 'epoch': 0.33}\n",
      "{'loss': 0.196, 'grad_norm': 3.2548158168792725, 'learning_rate': 1.3019197207678885e-05, 'epoch': 0.35}\n",
      "{'loss': 0.2975, 'grad_norm': 5.2508158683776855, 'learning_rate': 1.2670157068062828e-05, 'epoch': 0.37}\n",
      "{'loss': 0.1986, 'grad_norm': 12.101061820983887, 'learning_rate': 1.2321116928446773e-05, 'epoch': 0.38}\n",
      "{'loss': 0.3426, 'grad_norm': 13.348175048828125, 'learning_rate': 1.1972076788830716e-05, 'epoch': 0.4}\n",
      "{'loss': 0.201, 'grad_norm': 3.002570867538452, 'learning_rate': 1.162303664921466e-05, 'epoch': 0.42}\n",
      "{'loss': 0.2543, 'grad_norm': 9.450553894042969, 'learning_rate': 1.1273996509598604e-05, 'epoch': 0.44}\n",
      "{'loss': 0.3309, 'grad_norm': 5.607826232910156, 'learning_rate': 1.0924956369982549e-05, 'epoch': 0.45}\n",
      "{'loss': 0.3353, 'grad_norm': 15.216874122619629, 'learning_rate': 1.0575916230366492e-05, 'epoch': 0.47}\n",
      "{'loss': 0.1959, 'grad_norm': 3.0652294158935547, 'learning_rate': 1.0226876090750437e-05, 'epoch': 0.49}\n",
      "{'loss': 0.2589, 'grad_norm': 15.543206214904785, 'learning_rate': 9.877835951134382e-06, 'epoch': 0.51}\n",
      "{'loss': 0.2036, 'grad_norm': 3.792249917984009, 'learning_rate': 9.528795811518325e-06, 'epoch': 0.52}\n",
      "{'loss': 0.1857, 'grad_norm': 1.136291742324829, 'learning_rate': 9.17975567190227e-06, 'epoch': 0.54}\n",
      "{'loss': 0.105, 'grad_norm': 7.253561973571777, 'learning_rate': 8.830715532286213e-06, 'epoch': 0.56}\n",
      "{'loss': 0.1599, 'grad_norm': 12.103924751281738, 'learning_rate': 8.481675392670158e-06, 'epoch': 0.58}\n",
      "{'loss': 0.2665, 'grad_norm': 33.649009704589844, 'learning_rate': 8.132635253054101e-06, 'epoch': 0.59}\n",
      "{'loss': 0.3712, 'grad_norm': 29.088335037231445, 'learning_rate': 7.783595113438046e-06, 'epoch': 0.61}\n",
      "{'loss': 0.2287, 'grad_norm': 18.27872085571289, 'learning_rate': 7.43455497382199e-06, 'epoch': 0.63}\n",
      "{'loss': 0.2457, 'grad_norm': 9.052238464355469, 'learning_rate': 7.0855148342059345e-06, 'epoch': 0.65}\n",
      "{'loss': 0.2304, 'grad_norm': 21.50888442993164, 'learning_rate': 6.7364746945898785e-06, 'epoch': 0.66}\n",
      "{'loss': 0.2211, 'grad_norm': 3.196376085281372, 'learning_rate': 6.3874345549738226e-06, 'epoch': 0.68}\n",
      "{'loss': 0.2578, 'grad_norm': 9.191217422485352, 'learning_rate': 6.038394415357767e-06, 'epoch': 0.7}\n",
      "{'loss': 0.1698, 'grad_norm': 6.391247272491455, 'learning_rate': 5.689354275741711e-06, 'epoch': 0.72}\n",
      "{'loss': 0.2018, 'grad_norm': 19.56752586364746, 'learning_rate': 5.340314136125655e-06, 'epoch': 0.73}\n",
      "{'loss': 0.2207, 'grad_norm': 22.520877838134766, 'learning_rate': 4.991273996509599e-06, 'epoch': 0.75}\n",
      "{'loss': 0.2318, 'grad_norm': 14.524286270141602, 'learning_rate': 4.642233856893543e-06, 'epoch': 0.77}\n",
      "{'loss': 0.3015, 'grad_norm': 16.551956176757812, 'learning_rate': 4.293193717277487e-06, 'epoch': 0.79}\n",
      "{'loss': 0.164, 'grad_norm': 7.542567729949951, 'learning_rate': 3.944153577661432e-06, 'epoch': 0.8}\n",
      "{'loss': 0.2704, 'grad_norm': 9.389140129089355, 'learning_rate': 3.5951134380453755e-06, 'epoch': 0.82}\n",
      "{'loss': 0.1988, 'grad_norm': 12.489877700805664, 'learning_rate': 3.2460732984293196e-06, 'epoch': 0.84}\n",
      "{'loss': 0.389, 'grad_norm': 10.609142303466797, 'learning_rate': 2.897033158813264e-06, 'epoch': 0.86}\n",
      "{'loss': 0.1713, 'grad_norm': 12.692129135131836, 'learning_rate': 2.547993019197208e-06, 'epoch': 0.87}\n",
      "{'loss': 0.1967, 'grad_norm': 6.758544445037842, 'learning_rate': 2.198952879581152e-06, 'epoch': 0.89}\n",
      "{'loss': 0.3101, 'grad_norm': 0.6449180245399475, 'learning_rate': 1.8499127399650962e-06, 'epoch': 0.91}\n",
      "{'loss': 0.1807, 'grad_norm': 4.4334845542907715, 'learning_rate': 1.5008726003490403e-06, 'epoch': 0.92}\n",
      "{'loss': 0.1997, 'grad_norm': 6.608084201812744, 'learning_rate': 1.1518324607329843e-06, 'epoch': 0.94}\n",
      "{'loss': 0.1941, 'grad_norm': 4.859173774719238, 'learning_rate': 8.027923211169285e-07, 'epoch': 0.96}\n",
      "{'loss': 0.2968, 'grad_norm': 10.111954689025879, 'learning_rate': 4.537521815008726e-07, 'epoch': 0.98}\n",
      "{'loss': 0.2308, 'grad_norm': 5.167612552642822, 'learning_rate': 1.0471204188481677e-07, 'epoch': 0.99}\n"
     ]
    },
    {
     "data": {
      "application/vnd.jupyter.widget-view+json": {
       "model_id": "0b353eea304049ac9f7a00503684897c",
       "version_major": 2,
       "version_minor": 0
      },
      "text/plain": [
       "  0%|          | 0/131 [00:00<?, ?it/s]"
      ]
     },
     "metadata": {},
     "output_type": "display_data"
    },
    {
     "name": "stderr",
     "output_type": "stream",
     "text": [
      "Checkpoint destination directory roberta-base/checkpoint-573 already exists and is non-empty. Saving will proceed but saved results may be invalid.\n"
     ]
    },
    {
     "name": "stdout",
     "output_type": "stream",
     "text": [
      "{'eval_loss': 0.21281251311302185, 'eval_accuracy': 0.9106972301814709, 'eval_runtime': 19.5664, 'eval_samples_per_second': 107.02, 'eval_steps_per_second': 6.695, 'epoch': 1.0}\n",
      "{'train_runtime': 274.0927, 'train_samples_per_second': 33.441, 'train_steps_per_second': 2.091, 'train_loss': 0.2765874989577821, 'epoch': 1.0}\n",
      "[1]\n",
      "[0.21281251311302185]\n",
      "[0.9106972301814709]\n"
     ]
    },
    {
     "data": {
      "image/png": "[encoded data removed]",
      "text/plain": [
       "<Figure size 1500x500 with 2 Axes>"
      ]
     },
     "metadata": {},
     "output_type": "display_data"
    },
    {
     "name": "stderr",
     "output_type": "stream",
     "text": [
      "100%|██████████| 655/655 [01:30<00:00,  7.21it/s]\n",
      "100%|██████████| 2094/2094 [00:35<00:00, 59.39it/s]\n"
     ]
    },
    {
     "data": {
      "image/png": "[encoded data removed]",
      "text/plain": [
       "<Figure size 640x480 with 2 Axes>"
      ]
     },
     "metadata": {},
     "output_type": "display_data"
    },
    {
     "name": "stderr",
     "output_type": "stream",
     "text": [
      " 36%|███▋      | 3323/9166 [00:55<01:54, 50.85it/s]"
     ]
    }
   ],
   "source": [
    "from transformers import RobertaTokenizer, AutoModelForSequenceClassification\n",
    "\n",
    "# << Create Model and Tokenizer >>\n",
    "model = AutoModelForSequenceClassification.from_pretrained('FacebookAI/roberta-base', num_labels=2, id2label=id2label, label2id=label2id)\n",
    "tokenizer = RobertaTokenizer.from_pretrained('FacebookAI/roberta-base')\n",
    "\n",
    "# << Create Datasets >>\n",
    "training_dataset = PCLDataset(train_data_df, mask_tokens=h_params['mask tokens'], tokenizer=tokenizer, trunc_len=h_params['text trunction length'])\n",
    "val_dataset = PCLDataset(val_data_df, mask_tokens=h_params['mask tokens'], tokenizer=tokenizer, trunc_len=h_params['text trunction length'])\n",
    "\n",
    "# << Setup the trainer >>\n",
    "trainer = setup_trainer('roberta-base', model, h_params, training_dataset, val_dataset)\n",
    "\n",
    "#  << Set model to training mode >>\n",
    "model.train()\n",
    "\n",
    "# << Train the model >>\n",
    "trainer.train()\n",
    "\n",
    "# << Plot the loss >>\n",
    "plot_loss(trainer)\n",
    "\n",
    "# << Save the model predictions >>\n",
    "save_model_predictions('roberta-base', model, tokenizer)\n",
    "\n",
    "# << Evaluate the model >>\n",
    "evaluate_model(model, tokenizer, val_dataset)\n",
    "evaluate_model(model, tokenizer, training_dataset)\n",
    "\n",
    "# roberta_trainer = full_train_run('bert-base-cased', model, tokenizer, training_dataset, val_dataset)"
   ]
  },
  {
   "cell_type": "code",
   "execution_count": null,
   "metadata": {},
   "outputs": [],
   "source": []
  }
 ],
 "metadata": {
  "kernelspec": {
   "display_name": ".venv",
   "language": "python",
   "name": "python3"
  },
  "language_info": {
   "codemirror_mode": {
    "name": "ipython",
    "version": 3
   },
   "file_extension": ".py",
   "mimetype": "text/x-python",
   "name": "python",
   "nbconvert_exporter": "python",
   "pygments_lexer": "ipython3",
   "version": "3.10.12"
  }
 },
 "nbformat": 4,
 "nbformat_minor": 2
}
