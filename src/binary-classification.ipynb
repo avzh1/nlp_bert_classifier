{
 "cells": [
  {
   "cell_type": "markdown",
   "metadata": {},
   "source": [
    "# Binary Classification of the \"Don't Patronize Me!\" Dataset"
   ]
  },
  {
   "cell_type": "markdown",
   "metadata": {},
   "source": [
    "Perform Binary Classification to predict whether a text contains patronizing and condescending language. The task was task 4 (subtask 1) in the SemEval 2022 competition."
   ]
  },
  {
   "cell_type": "markdown",
   "metadata": {},
   "source": [
    "## Initialize Environment"
   ]
  },
  {
   "cell_type": "code",
   "execution_count": 52,
   "metadata": {},
   "outputs": [],
   "source": [
    "# Library imports\n",
    "import pandas as pd\n",
    "\n",
    "import seaborn as sns\n",
    "import matplotlib.pyplot as plt    \n",
    "\n",
    "from nltk import PorterStemmer, WordNetLemmatizer\n",
    "import codecs\n",
    "\n",
    "import torch\n",
    "from torch.utils.data import DataLoader, Dataset, Sampler\n",
    "from tqdm import tqdm\n",
    "import torch.nn as nn\n",
    "\n",
    "import re\n",
    "\n",
    "import numpy as np\n",
    "from numpy import dot\n",
    "from numpy.linalg import norm\n",
    "\n",
    "from sklearn.model_selection import train_test_split\n",
    "from simpletransformers.classification import ClassificationModel, ClassificationArgs, MultiLabelClassificationModel, MultiLabelClassificationArgs\n",
    "\n",
    "# import torch.optim as optim\n",
    "# import torch.nn.functional as F\n",
    "\n",
    "def fix_seed(seed=420.69):\n",
    "  torch.manual_seed(seed)\n",
    "  torch.cuda.manual_seed(seed)\n",
    "#   np.random.seed(seed)\n",
    "#   random.seed(seed)\n",
    "\n",
    "fix_seed()\n",
    "\n",
    "data_path = '../data'\n",
    "embeddings_path = '../word_embeddings'\n"
   ]
  },
  {
   "cell_type": "code",
   "execution_count": 2,
   "metadata": {},
   "outputs": [
    {
     "name": "stdout",
     "output_type": "stream",
     "text": [
      "cuda:0\n"
     ]
    }
   ],
   "source": [
    "if not torch.cuda.is_available():\n",
    "  DEVICE = 'cpu'\n",
    "else:\n",
    "  DEVICE = 'cuda:0'\n",
    "\n",
    "print(DEVICE)"
   ]
  },
  {
   "cell_type": "code",
   "execution_count": 3,
   "metadata": {},
   "outputs": [],
   "source": [
    "h_params = {\n",
    "    'model': 'None'\n",
    "    , 'batch_size': 128\n",
    "    , 'embedding_dimensions': 50\n",
    "}"
   ]
  },
  {
   "cell_type": "code",
   "execution_count": 4,
   "metadata": {},
   "outputs": [],
   "source": [
    "# Download the pre-trained model for word_embeddings\n",
    "\n",
    "# !wget http://nlp.stanford.edu/data/glove.6B.zip\n",
    "# !unzip 1/glove.6B.zip"
   ]
  },
  {
   "cell_type": "markdown",
   "metadata": {},
   "source": [
    "## Raw Data"
   ]
  },
  {
   "cell_type": "markdown",
   "metadata": {},
   "source": [
    "### Loading\n",
    "\n",
    "Load the data into pandas dataframes"
   ]
  },
  {
   "cell_type": "code",
   "execution_count": 5,
   "metadata": {},
   "outputs": [],
   "source": [
    "# Import Data\n",
    "train_data_path = f'{data_path}/dontpatronizeme_pcl.tsv'\n",
    "test_data_path  = f'{data_path}/task4_test.tsv'\n",
    "\n",
    "train_data = pd.read_csv(train_data_path, delimiter='\\t', skiprows=4, header=None, names=['par_id','art_id','keyword','country_code', 'text','label'])\n",
    "test_data  = pd.read_csv(test_data_path,  delimiter='\\t', skiprows=4, header=None, names=['par_id','art_id','keyword','country_code', 'text'])\n",
    "\n",
    "train_data = train_data.drop(['art_id'], axis=1)\n",
    "test_data = test_data.drop(['art_id'], axis=1)"
   ]
  },
  {
   "cell_type": "code",
   "execution_count": 6,
   "metadata": {},
   "outputs": [],
   "source": [
    "# Concatenate label information to train data\n",
    "dev_label_path   = f'{data_path}/dev_semeval_parids-labels.csv'\n",
    "train_label_path = f'{data_path}/train_semeval_parids-labels.csv'\n",
    "\n",
    "dev_label   = pd.read_csv(dev_label_path, delimiter=',')\n",
    "train_label = pd.read_csv(train_label_path, delimiter=',')\n",
    "\n",
    "detailed_labels = pd.concat([dev_label, train_label], ignore_index=True, join='inner', names=['simple', 'detailed'])\n",
    "train_data = pd.merge(train_data, detailed_labels, on='par_id')\n",
    "train_data = train_data.rename(columns={'label_x': 'label', 'label_y': 'label_detailed'})\n",
    "\n",
    "train_data = train_data.drop('par_id', axis=1)\n",
    "test_data = test_data.drop('par_id', axis=1)"
   ]
  },
  {
   "cell_type": "code",
   "execution_count": 7,
   "metadata": {},
   "outputs": [],
   "source": [
    "# Add Binary Classification column for ease of checking\n",
    "train_data.loc[:, 'is_patronizing'] = 0\n",
    "train_data.loc[train_data['label'].isin([2,3,4]), 'is_patronizing'] = 1"
   ]
  },
  {
   "cell_type": "code",
   "execution_count": 22,
   "metadata": {},
   "outputs": [],
   "source": [
    "train_data = train_data.dropna(subset = 'text')\n",
    "test_data = test_data.dropna(subset = 'text')"
   ]
  },
  {
   "cell_type": "markdown",
   "metadata": {},
   "source": [
    "## Pre-Processing"
   ]
  },
  {
   "cell_type": "code",
   "execution_count": 23,
   "metadata": {},
   "outputs": [],
   "source": [
    "class LabelledDataset(Dataset):\n",
    "    def __init__(self, dataframe):\n",
    "        self.data = dataframe\n",
    "\n",
    "    def __len__(self):\n",
    "        return len(self.data)\n",
    "\n",
    "    def __getitem__(self, idx):\n",
    "\n",
    "        data = {'keyword'     : self.data['keyword'].iloc[idx],\n",
    "                'country_code': self.data['country_code'].iloc[idx],\n",
    "                'text'        : self.data['text'].iloc[idx]}\n",
    "        \n",
    "        # instead of label and label_detailed we use is_patronizing\n",
    "        label = {'is_patronizing': self.data['is_patronizing'].iloc[idx]}\n",
    "\n",
    "        return data, label\n",
    "    \n",
    "class WithheldDataset(Dataset):\n",
    "    def __init__(self, dataframe):\n",
    "        self.data = dataframe\n",
    "    \n",
    "    def __len__(self):\n",
    "        return len(self.data)\n",
    "    \n",
    "    def __getitem__(self, idx):\n",
    "        data = {'keyword'     : self.data['keyword'].iloc[idx],\n",
    "                'country_code': self.data['country_code'].iloc[idx],\n",
    "                'text'        : self.data['text'].iloc[idx]}\n",
    "        \n",
    "        return data\n",
    "\n",
    "train_loader = DataLoader(dataset=LabelledDataset(train_data), batch_size=h_params['batch_size'], shuffle=True)\n",
    "test_loader = DataLoader(dataset=WithheldDataset(train_data), batch_size=h_params['batch_size'], shuffle=True)"
   ]
  },
  {
   "cell_type": "code",
   "execution_count": 12,
   "metadata": {},
   "outputs": [],
   "source": [
    "# # Define Embedding Class\n",
    "# class Encoder(nn.Module):\n",
    "#     def __init__(self, vocab_size, embedding_dimension):\n",
    "#         super(Encoder, self)\n",
    "#         # create embedding object to store mappings from words to embedded vectors\n",
    "#         self.tokenEmbeddings = nn.Embedding(num_embeddings=vocab_size\n",
    "#                                           , embedding_dim=embedding_dimension\n",
    "#                                           , padding_idx=0)\n",
    "    \n",
    "#     def forward(self, x):\n",
    "#         \"\"\"Generates the embeddings for each word in the input, of size: (batch_size, max_length of training sample)\"\"\"\n",
    "#         embedded = self.embedding(x)\n",
    "#         embedded = embedded.unsqueeze(1)\n",
    "\n",
    "#         return embedded"
   ]
  },
  {
   "cell_type": "markdown",
   "metadata": {},
   "source": [
    "## Data Splits\n",
    "\n",
    "split the data whilst keeping distributions of country, text and is_patronizing counts even"
   ]
  },
  {
   "cell_type": "code",
   "execution_count": 45,
   "metadata": {},
   "outputs": [
    {
     "name": "stdout",
     "output_type": "stream",
     "text": [
      "X_train shape: (8374,)\n",
      "y_train shape: (8374,)\n",
      "X_test shape: (2094,)\n",
      "y_test shape: (2094,)\n"
     ]
    }
   ],
   "source": [
    "X = train_data['text']\n",
    "y = train_data['is_patronizing']\n",
    "\n",
    "X_train, X_test, y_train, y_test = train_test_split(X, y, train_size=0.8, test_size=0.2, random_state=0)\n",
    "print(f\"X_train shape: {X_train.shape}\")\n",
    "print(f\"y_train shape: {y_train.shape}\")\n",
    "print(f\"X_test shape: {X_test.shape}\")\n",
    "print(f\"y_test shape: {y_test.shape}\")"
   ]
  },
  {
   "cell_type": "markdown",
   "metadata": {},
   "source": [
    "## Model"
   ]
  },
  {
   "cell_type": "code",
   "execution_count": 145,
   "metadata": {},
   "outputs": [
    {
     "name": "stderr",
     "output_type": "stream",
     "text": [
      "Some weights of RobertaForSequenceClassification were not initialized from the model checkpoint at roberta-base and are newly initialized: ['classifier.dense.bias', 'classifier.dense.weight', 'classifier.out_proj.bias', 'classifier.out_proj.weight']\n",
      "You should probably TRAIN this model on a down-stream task to be able to use it for predictions and inference.\n",
      "/home/avzh1/Documents/imperial/year4/lectures/.venv/lib/python3.10/site-packages/simpletransformers/classification/classification_model.py:610: UserWarning: Dataframe headers not specified. Falling back to using column 0 as text and column 1 as labels.\n",
      "  warnings.warn(\n",
      "Epochs 1/10. Running Loss:    0.1117: 100%|██████████| 1047/1047 [01:46<00:00,  9.85it/s]\n",
      "Epochs 2/10. Running Loss:    1.7116: 100%|██████████| 1047/1047 [01:27<00:00, 11.96it/s]\n",
      "Epochs 3/10. Running Loss:    0.0662: 100%|██████████| 1047/1047 [01:26<00:00, 12.15it/s]\n",
      "Epochs 4/10. Running Loss:    0.0709: 100%|██████████| 1047/1047 [01:26<00:00, 12.15it/s]\n",
      "Epochs 5/10. Running Loss:    0.4382: 100%|██████████| 1047/1047 [01:25<00:00, 12.30it/s]\n",
      "Epochs 6/10. Running Loss:    0.0642: 100%|██████████| 1047/1047 [01:25<00:00, 12.31it/s]\n",
      "Epochs 7/10. Running Loss:    0.0785: 100%|██████████| 1047/1047 [01:24<00:00, 12.33it/s]\n",
      "Epochs 8/10. Running Loss:    0.0277: 100%|██████████| 1047/1047 [01:24<00:00, 12.32it/s]\n",
      "Epochs 9/10. Running Loss:    0.0134: 100%|██████████| 1047/1047 [01:24<00:00, 12.33it/s]\n",
      "Epochs 10/10. Running Loss:    0.0319: 100%|██████████| 1047/1047 [01:25<00:00, 12.25it/s]\n",
      "Epoch 10 of 10: 100%|██████████| 10/10 [14:36<00:00, 87.66s/it]\n"
     ]
    },
    {
     "data": {
      "text/plain": [
       "(10470, 0.3116169809537238)"
      ]
     },
     "execution_count": 145,
     "metadata": {},
     "output_type": "execute_result"
    }
   ],
   "source": [
    "\n",
    "task1_model_args = ClassificationArgs(num_train_epochs=10,\n",
    "                                      no_save=True,\n",
    "                                      no_cache=True,\n",
    "                                      overwrite_output_dir=True,\n",
    "                                      use_multiprocessing = False,               # otherwise for me it doesn't run at all\n",
    "                                      use_multiprocessing_for_evaluation = False # otherwise for me it doesn't run at all\n",
    "                                      )\n",
    "\n",
    "task1_model = ClassificationModel(\"roberta\",\n",
    "                                  'roberta-base',\n",
    "                                  args = task1_model_args,\n",
    "                                  num_labels=2,\n",
    "                                  use_cuda=DEVICE)\n",
    "\n",
    "# train model\n",
    "task1_model.train_model(pd.concat([X_train, y_train], axis=1))"
   ]
  },
  {
   "cell_type": "code",
   "execution_count": 146,
   "metadata": {},
   "outputs": [
    {
     "name": "stderr",
     "output_type": "stream",
     "text": [
      "100%|██████████| 21/21 [00:02<00:00,  7.17it/s]\n"
     ]
    }
   ],
   "source": [
    "# run predictions\n",
    "y_pred, _ = task1_model.predict(X_test.tolist())"
   ]
  },
  {
   "cell_type": "code",
   "execution_count": 147,
   "metadata": {},
   "outputs": [
    {
     "data": {
      "text/plain": [
       "[Text(0, 0.5, 'Not Patronizing'), Text(0, 1.5, 'Patronizing')]"
      ]
     },
     "execution_count": 147,
     "metadata": {},
     "output_type": "execute_result"
    },
    {
     "data": {
      "image/png": "[encoded data removed]",
      "text/plain": [
       "<Figure size 640x480 with 2 Axes>"
      ]
     },
     "metadata": {},
     "output_type": "display_data"
    }
   ],
   "source": [
    "from sklearn.metrics import confusion_matrix, ConfusionMatrixDisplay, classification_report, precision_score, recall_score, f1_score, precision_recall_fscore_support\n",
    "\n",
    "set(y_pred)\n",
    "cm = confusion_matrix(y_test, y_pred, labels=[0, 1]) \n",
    "\n",
    "ax= plt.subplot()\n",
    "sns.heatmap(cm, annot=True, fmt='g', ax=ax, cmap=sns.color_palette(\"ch:s=-.2,r=.6\", as_cmap=True));  #annot=True to annotate cells, ftm='g' to disable scientific notation\n",
    "\n",
    "# labels, title and ticks\n",
    "ax.set_xlabel('Predicted labels')\n",
    "ax.set_ylabel('True labels')\n",
    "\n",
    "ax.set_title('Confusion Matrix')\n",
    "\n",
    "ax.xaxis.set_ticklabels(['Not Patronizing', 'Patronizing'])\n",
    "ax.yaxis.set_ticklabels(['Not Patronizing', 'Patronizing'])"
   ]
  },
  {
   "cell_type": "code",
   "execution_count": 148,
   "metadata": {},
   "outputs": [
    {
     "name": "stdout",
     "output_type": "stream",
     "text": [
      "              precision    recall  f1-score   support\n",
      "\n",
      "           0       0.93      0.97      0.95      1890\n",
      "           1       0.56      0.34      0.43       204\n",
      "\n",
      "    accuracy                           0.91      2094\n",
      "   macro avg       0.75      0.66      0.69      2094\n",
      "weighted avg       0.90      0.91      0.90      2094\n",
      "\n"
     ]
    }
   ],
   "source": [
    "print(classification_report(y_test, y_pred))"
   ]
  },
  {
   "cell_type": "code",
   "execution_count": 163,
   "metadata": {},
   "outputs": [
    {
     "name": "stderr",
     "output_type": "stream",
     "text": [
      "100%|██████████| 1/1 [00:00<00:00, 163.20it/s]"
     ]
    },
    {
     "name": "stdout",
     "output_type": "stream",
     "text": [
      "=== Paragraph example ===\n",
      "The common thieves then stole a crust of bread , the law came down upon the hungry heads ; the haughty land robber stole land with men resources and all contents . the first they said were a hopeless conviction . while they escaped the law by trick ; that grave , one-sided justice would not do -- the poor call for consideration , too . the cruel people started the unholy war , then from the line of action they kept far ; they pushed to the front sons of the poor , there to do battle , die , suffer galore , as the guns raged , liberty loans they raised , and in glorious tones , we sung freedom 's praise . those who made wars should first went to the front , and of shot and shell bear there the brunt : in first lines of action they were all due , if to their country and people they were true : when this was demanded in right of all , there would have been no more deadly cannon balls : the downtrodden poor people of us joined together and prevented the pakistani rulers our rights to purloin .\n",
      "\tReal Label:      1\n",
      "\tModel Prediction:1\n"
     ]
    },
    {
     "name": "stderr",
     "output_type": "stream",
     "text": [
      "\n"
     ]
    }
   ],
   "source": [
    "# Get one random sample from the test data\n",
    "random_index = X_test.sample(n=1).index.values[0]\n",
    "\n",
    "while random_index not in train_data.index:\n",
    "    random_index = X_test.sample(n=1).index.values[0]\n",
    "\n",
    "# Extract random sample\n",
    "tdf = train_data.loc[[random_index]][['text', 'is_patronizing']]\n",
    "test_paragraph, real_label = tdf['text'].values[0], tdf['is_patronizing'].values[0]\n",
    "\n",
    "# Get model prediction\n",
    "predicted_label, raw_outputs = task1_model.predict([tdf['text'].values[0]])\n",
    "# predicted_label = task1_model.predict(tdf['text'].values[0])\n",
    "\n",
    "print(f\"=== Paragraph example ===\\n{test_paragraph.capitalize()}\")\n",
    "print(f\"\\tReal Label:      {real_label}\")\n",
    "print(f\"\\tModel Prediction:{predicted_label[0]}\")"
   ]
  },
  {
   "cell_type": "markdown",
   "metadata": {},
   "source": [
    "## Submission Documents"
   ]
  },
  {
   "cell_type": "code",
   "execution_count": 168,
   "metadata": {},
   "outputs": [
    {
     "name": "stderr",
     "output_type": "stream",
     "text": [
      "100%|██████████| 39/39 [00:05<00:00,  7.28it/s]\n",
      "100%|██████████| 105/105 [00:14<00:00,  7.18it/s]\n"
     ]
    }
   ],
   "source": [
    "def get_and_save_predictions(dataset, save_name, model=task1_model):\n",
    "    y_pred, _ = model.predict(dataset.tolist())\n",
    "    np.savetxt(f'{save_name}.txt', y_pred, fmt='%d')\n",
    "\n",
    "# train predictions\n",
    "get_and_save_predictions(test_data['text'], \"test\")\n",
    "\n",
    "# test predictions\n",
    "get_and_save_predictions(train_data['text'], \"dev\")"
   ]
  }
 ],
 "metadata": {
  "kernelspec": {
   "display_name": ".venv",
   "language": "python",
   "name": "python3"
  },
  "language_info": {
   "codemirror_mode": {
    "name": "ipython",
    "version": 3
   },
   "file_extension": ".py",
   "mimetype": "text/x-python",
   "name": "python",
   "nbconvert_exporter": "python",
   "pygments_lexer": "ipython3",
   "version": "3.10.12"
  }
 },
 "nbformat": 4,
 "nbformat_minor": 2
}
