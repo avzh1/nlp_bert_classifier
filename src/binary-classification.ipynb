{
 "cells": [
  {
   "cell_type": "markdown",
   "metadata": {},
   "source": [
    "# Binary Classification of the \"Don't Patronize Me!\" Dataset"
   ]
  },
  {
   "cell_type": "markdown",
   "metadata": {},
   "source": [
    "Perform Binary Classification to predict whether a text contains patronizing and condescending language. The task was task 4 (subtask 1) in the SemEval 2022 competition."
   ]
  },
  {
   "cell_type": "markdown",
   "metadata": {},
   "source": [
    "## Initialize Environment"
   ]
  },
  {
   "cell_type": "code",
   "execution_count": 52,
   "metadata": {},
   "outputs": [],
   "source": [
    "# Library imports\n",
    "import pandas as pd\n",
    "\n",
    "import seaborn as sns\n",
    "import matplotlib.pyplot as plt    \n",
    "\n",
    "from nltk import PorterStemmer, WordNetLemmatizer\n",
    "import codecs\n",
    "\n",
    "import torch\n",
    "from torch.utils.data import DataLoader, Dataset, Sampler\n",
    "from tqdm import tqdm\n",
    "import torch.nn as nn\n",
    "\n",
    "import re\n",
    "\n",
    "import numpy as np\n",
    "from numpy import dot\n",
    "from numpy.linalg import norm\n",
    "\n",
    "from sklearn.model_selection import train_test_split\n",
    "from simpletransformers.classification import ClassificationModel, ClassificationArgs, MultiLabelClassificationModel, MultiLabelClassificationArgs\n",
    "\n",
    "# import torch.optim as optim\n",
    "# import torch.nn.functional as F\n",
    "\n",
    "def fix_seed(seed=420.69):\n",
    "  torch.manual_seed(seed)\n",
    "  torch.cuda.manual_seed(seed)\n",
    "#   np.random.seed(seed)\n",
    "#   random.seed(seed)\n",
    "\n",
    "fix_seed()\n",
    "\n",
    "data_path = '../data'\n",
    "embeddings_path = '../word_embeddings'\n"
   ]
  },
  {
   "cell_type": "code",
   "execution_count": 2,
   "metadata": {},
   "outputs": [
    {
     "name": "stdout",
     "output_type": "stream",
     "text": [
      "cuda:0\n"
     ]
    }
   ],
   "source": [
    "if not torch.cuda.is_available():\n",
    "  DEVICE = 'cpu'\n",
    "else:\n",
    "  DEVICE = 'cuda:0'\n",
    "\n",
    "print(DEVICE)"
   ]
  },
  {
   "cell_type": "code",
   "execution_count": 3,
   "metadata": {},
   "outputs": [],
   "source": [
    "h_params = {\n",
    "    'model': 'None'\n",
    "    , 'batch_size': 128\n",
    "    , 'embedding_dimensions': 50\n",
    "}"
   ]
  },
  {
   "cell_type": "code",
   "execution_count": 4,
   "metadata": {},
   "outputs": [],
   "source": [
    "# Download the pre-trained model for word_embeddings\n",
    "\n",
    "# !wget http://nlp.stanford.edu/data/glove.6B.zip\n",
    "# !unzip 1/glove.6B.zip"
   ]
  },
  {
   "cell_type": "markdown",
   "metadata": {},
   "source": [
    "## Raw Data"
   ]
  },
  {
   "cell_type": "markdown",
   "metadata": {},
   "source": [
    "### Loading\n",
    "\n",
    "Load the data into pandas dataframes"
   ]
  },
  {
   "cell_type": "code",
   "execution_count": 5,
   "metadata": {},
   "outputs": [],
   "source": [
    "# Import Data\n",
    "train_data_path = f'{data_path}/dontpatronizeme_pcl.tsv'\n",
    "test_data_path  = f'{data_path}/task4_test.tsv'\n",
    "\n",
    "train_data = pd.read_csv(train_data_path, delimiter='\\t', skiprows=4, header=None, names=['par_id','art_id','keyword','country_code', 'text','label'])\n",
    "test_data  = pd.read_csv(test_data_path,  delimiter='\\t', skiprows=4, header=None, names=['par_id','art_id','keyword','country_code', 'text'])\n",
    "\n",
    "train_data = train_data.drop(['art_id'], axis=1)\n",
    "test_data = test_data.drop(['art_id'], axis=1)"
   ]
  },
  {
   "cell_type": "code",
   "execution_count": 6,
   "metadata": {},
   "outputs": [],
   "source": [
    "# Concatenate label information to train data\n",
    "dev_label_path   = f'{data_path}/dev_semeval_parids-labels.csv'\n",
    "train_label_path = f'{data_path}/train_semeval_parids-labels.csv'\n",
    "\n",
    "dev_label   = pd.read_csv(dev_label_path, delimiter=',')\n",
    "train_label = pd.read_csv(train_label_path, delimiter=',')\n",
    "\n",
    "detailed_labels = pd.concat([dev_label, train_label], ignore_index=True, join='inner', names=['simple', 'detailed'])\n",
    "train_data = pd.merge(train_data, detailed_labels, on='par_id')\n",
    "train_data = train_data.rename(columns={'label_x': 'label', 'label_y': 'label_detailed'})\n",
    "\n",
    "train_data = train_data.drop('par_id', axis=1)\n",
    "test_data = test_data.drop('par_id', axis=1)"
   ]
  },
  {
   "cell_type": "code",
   "execution_count": 7,
   "metadata": {},
   "outputs": [],
   "source": [
    "# Add Binary Classification column for ease of checking\n",
    "train_data.loc[:, 'is_patronizing'] = 0\n",
    "train_data.loc[train_data['label'].isin([2,3,4]), 'is_patronizing'] = 1"
   ]
  },
  {
   "cell_type": "code",
   "execution_count": 22,
   "metadata": {},
   "outputs": [],
   "source": [
    "train_data = train_data.dropna(subset = 'text')\n",
    "test_data = test_data.dropna(subset = 'text')"
   ]
  },
  {
   "cell_type": "markdown",
   "metadata": {},
   "source": [
    "## Pre-Processing"
   ]
  },
  {
   "cell_type": "code",
   "execution_count": 23,
   "metadata": {},
   "outputs": [],
   "source": [
    "class LabelledDataset(Dataset):\n",
    "    def __init__(self, dataframe):\n",
    "        self.data = dataframe\n",
    "\n",
    "    def __len__(self):\n",
    "        return len(self.data)\n",
    "\n",
    "    def __getitem__(self, idx):\n",
    "\n",
    "        data = {'keyword'     : self.data['keyword'].iloc[idx],\n",
    "                'country_code': self.data['country_code'].iloc[idx],\n",
    "                'text'        : self.data['text'].iloc[idx]}\n",
    "        \n",
    "        # instead of label and label_detailed we use is_patronizing\n",
    "        label = {'is_patronizing': self.data['is_patronizing'].iloc[idx]}\n",
    "\n",
    "        return data, label\n",
    "    \n",
    "class WithheldDataset(Dataset):\n",
    "    def __init__(self, dataframe):\n",
    "        self.data = dataframe\n",
    "    \n",
    "    def __len__(self):\n",
    "        return len(self.data)\n",
    "    \n",
    "    def __getitem__(self, idx):\n",
    "        data = {'keyword'     : self.data['keyword'].iloc[idx],\n",
    "                'country_code': self.data['country_code'].iloc[idx],\n",
    "                'text'        : self.data['text'].iloc[idx]}\n",
    "        \n",
    "        return data\n",
    "\n",
    "train_loader = DataLoader(dataset=LabelledDataset(train_data), batch_size=h_params['batch_size'], shuffle=True)\n",
    "test_loader = DataLoader(dataset=WithheldDataset(train_data), batch_size=h_params['batch_size'], shuffle=True)"
   ]
  },
  {
   "cell_type": "code",
   "execution_count": 12,
   "metadata": {},
   "outputs": [],
   "source": [
    "# # Define Embedding Class\n",
    "# class Encoder(nn.Module):\n",
    "#     def __init__(self, vocab_size, embedding_dimension):\n",
    "#         super(Encoder, self)\n",
    "#         # create embedding object to store mappings from words to embedded vectors\n",
    "#         self.tokenEmbeddings = nn.Embedding(num_embeddings=vocab_size\n",
    "#                                           , embedding_dim=embedding_dimension\n",
    "#                                           , padding_idx=0)\n",
    "    \n",
    "#     def forward(self, x):\n",
    "#         \"\"\"Generates the embeddings for each word in the input, of size: (batch_size, max_length of training sample)\"\"\"\n",
    "#         embedded = self.embedding(x)\n",
    "#         embedded = embedded.unsqueeze(1)\n",
    "\n",
    "#         return embedded"
   ]
  },
  {
   "cell_type": "markdown",
   "metadata": {},
   "source": [
    "## Data Splits\n",
    "\n",
    "split the data whilst keeping distributions of country, text and is_patronizing counts even"
   ]
  },
  {
   "cell_type": "code",
   "execution_count": 45,
   "metadata": {},
   "outputs": [
    {
     "name": "stdout",
     "output_type": "stream",
     "text": [
      "X_train shape: (8374,)\n",
      "y_train shape: (8374,)\n",
      "X_test shape: (2094,)\n",
      "y_test shape: (2094,)\n"
     ]
    }
   ],
   "source": [
    "X = train_data['text']\n",
    "y = train_data['is_patronizing']\n",
    "\n",
    "X_train, X_test, y_train, y_test = train_test_split(X, y, train_size=0.8, test_size=0.2, random_state=0)\n",
    "print(f\"X_train shape: {X_train.shape}\")\n",
    "print(f\"y_train shape: {y_train.shape}\")\n",
    "print(f\"X_test shape: {X_test.shape}\")\n",
    "print(f\"y_test shape: {y_test.shape}\")"
   ]
  },
  {
   "cell_type": "markdown",
   "metadata": {},
   "source": [
    "## Model"
   ]
  },
  {
   "cell_type": "code",
   "execution_count": null,
   "metadata": {},
   "outputs": [],
   "source": [
    "\n",
    "task1_model_args = ClassificationArgs(num_train_epochs=1,\n",
    "                                      no_save=True,\n",
    "                                      no_cache=True,\n",
    "                                      overwrite_output_dir=True,\n",
    "                                      use_multiprocessing = False,               # otherwise for me it doesn't run at all\n",
    "                                      use_multiprocessing_for_evaluation = False # otherwise for me it doesn't run at all\n",
    "                                      )\n",
    "\n",
    "task1_model = ClassificationModel(\"roberta\",\n",
    "                                  'roberta-base',\n",
    "                                  args = task1_model_args,\n",
    "                                  num_labels=2,\n",
    "                                  use_cuda=DEVICE)\n",
    "\n",
    "# train model\n",
    "task1_model.train_model(pd.concat([X_train, y_train], axis=1))"
   ]
  },
  {
   "cell_type": "code",
   "execution_count": 58,
   "metadata": {},
   "outputs": [
    {
     "name": "stderr",
     "output_type": "stream",
     "text": [
      "100%|██████████| 21/21 [00:05<00:00,  3.57it/s]\n"
     ]
    }
   ],
   "source": [
    "# run predictions\n",
    "y_pred, _ = task1_model.predict(X_test.tolist())"
   ]
  },
  {
   "cell_type": "code",
   "execution_count": 59,
   "metadata": {},
   "outputs": [
    {
     "data": {
      "image/png": "[encoded data removed]",
      "text/plain": [
       "<Figure size 640x480 with 2 Axes>"
      ]
     },
     "metadata": {},
     "output_type": "display_data"
    }
   ],
   "source": [
    "from sklearn.metrics import confusion_matrix, ConfusionMatrixDisplay, classification_report, precision_score, recall_score, f1_score, precision_recall_fscore_support\n",
    "\n",
    "set(y_pred)\n",
    "cm = confusion_matrix(y_test, y_pred, labels=[0, 1]) \n",
    "\n",
    "ax= plt.subplot()\n",
    "sns.heatmap(cm, annot=True, fmt='g', ax=ax);  #annot=True to annotate cells, ftm='g' to disable scientific notation\n",
    "\n",
    "# labels, title and ticks\n",
    "ax.set_xlabel('Predicted labels');ax.set_ylabel('True labels'); \n",
    "ax.set_title('Confusion Matrix'); \n",
    "ax.xaxis.set_ticklabels(['Not Patronizing', 'Patronizing']); ax.yaxis.set_ticklabels(['Not Patronizing', 'Patronizing']);"
   ]
  },
  {
   "cell_type": "code",
   "execution_count": 60,
   "metadata": {},
   "outputs": [
    {
     "name": "stdout",
     "output_type": "stream",
     "text": [
      "              precision    recall  f1-score   support\n",
      "\n",
      "           0       0.91      0.99      0.95      1890\n",
      "           1       0.53      0.08      0.14       204\n",
      "\n",
      "    accuracy                           0.90      2094\n",
      "   macro avg       0.72      0.54      0.54      2094\n",
      "weighted avg       0.87      0.90      0.87      2094\n",
      "\n"
     ]
    }
   ],
   "source": [
    "print(classification_report(y_test, y_pred))"
   ]
  },
  {
   "cell_type": "code",
   "execution_count": 133,
   "metadata": {},
   "outputs": [
    {
     "name": "stderr",
     "output_type": "stream",
     "text": [
      "100%|██████████| 1/1 [00:00<00:00, 85.42it/s]"
     ]
    },
    {
     "name": "stdout",
     "output_type": "stream",
     "text": [
      "=== Paragraph example ===\n",
      "While the scale of waste is astonishing in the western world , the plight of the poor families in the uk being \" literally \" forced to rely on food banks than those suffering in african villages and refugee camps , is a sad story . but it is a true story .\n",
      "\tReal Label:      1\n",
      "\tModel Prediction:0\n"
     ]
    },
    {
     "name": "stderr",
     "output_type": "stream",
     "text": [
      "\n"
     ]
    }
   ],
   "source": [
    "# Get one random sample from the test data\n",
    "random_index = X_test.sample(n=1).index.values[0]\n",
    "\n",
    "while random_index not in train_data.index:\n",
    "    random_index = X_test.sample(n=1).index.values[0]\n",
    "\n",
    "# Extract random sample\n",
    "tdf = train_data.loc[[random_index]][['text', 'is_patronizing']]\n",
    "test_paragraph, real_label = tdf['text'].values[0], tdf['is_patronizing'].values[0]\n",
    "\n",
    "# Get model prediction\n",
    "predicted_label, raw_outputs = task1_model.predict([tdf['text'].values[0]])\n",
    "# predicted_label = task1_model.predict(tdf['text'].values[0])\n",
    "\n",
    "print(f\"=== Paragraph example ===\\n{test_paragraph.capitalize()}\")\n",
    "print(f\"\\tReal Label:      {real_label}\")\n",
    "print(f\"\\tModel Prediction:{predicted_label[0]}\")"
   ]
  },
  {
   "cell_type": "code",
   "execution_count": 14,
   "metadata": {},
   "outputs": [],
   "source": [
    "# # Load Pre-trained Embeddings from GloVe\n",
    "\n",
    "# word2idx = \n",
    "\n",
    "# w2i = [] # word2index\n",
    "# i2w = [] # index2word\n",
    "# wvecs = [] # word vectors\n",
    "\n",
    "# # this is a large file, it will take a while to load in the memory!\n",
    "# with codecs.open(f'glove.6B.{h_params['embedding_dimensions']}d.txt', 'r','utf-8') as f:\n",
    "#   index = 0\n",
    "#   for line in tqdm(f.readlines()):\n",
    "#     # Ignore the first line - first line typically contains vocab, dimensionality\n",
    "#     if len(line.strip().split()) > 3:\n",
    "\n",
    "#       (word, vec) = (line.strip().split()[0],\n",
    "#                      list(map(float,line.strip().split()[1:])))\n",
    "\n",
    "#       wvecs.append(vec)\n",
    "#       w2i.append((word, index))\n",
    "#       i2w.append((index, word))\n",
    "#       index += 1\n",
    "\n",
    "# w2i = dict(w2i)\n",
    "# i2w = dict(i2w)\n",
    "# wvecs = np.array(wvecs)\n",
    "\n"
   ]
  }
 ],
 "metadata": {
  "kernelspec": {
   "display_name": ".venv",
   "language": "python",
   "name": "python3"
  },
  "language_info": {
   "codemirror_mode": {
    "name": "ipython",
    "version": 3
   },
   "file_extension": ".py",
   "mimetype": "text/x-python",
   "name": "python",
   "nbconvert_exporter": "python",
   "pygments_lexer": "ipython3",
   "version": "3.10.12"
  }
 },
 "nbformat": 4,
 "nbformat_minor": 2
}
