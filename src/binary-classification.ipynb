{
 "cells": [
  {
   "cell_type": "markdown",
   "metadata": {},
   "source": [
    "# Binary Classification of the \"Don't Patronize Me!\" Dataset"
   ]
  },
  {
   "cell_type": "markdown",
   "metadata": {},
   "source": [
    "Perform Binary Classification to predict whether a text contains patronizing and condescending language. The task was task 4 (subtask 1) in the SemEval 2022 competition."
   ]
  },
  {
   "cell_type": "markdown",
   "metadata": {},
   "source": [
    "## == Initialize Environment == "
   ]
  },
  {
   "cell_type": "code",
   "execution_count": 1,
   "metadata": {},
   "outputs": [
    {
     "name": "stderr",
     "output_type": "stream",
     "text": [
      "2024-03-04 20:54:45.633620: I tensorflow/core/util/port.cc:113] oneDNN custom operations are on. You may see slightly different numerical results due to floating-point round-off errors from different computation orders. To turn them off, set the environment variable `TF_ENABLE_ONEDNN_OPTS=0`.\n",
      "2024-03-04 20:54:45.824260: E external/local_xla/xla/stream_executor/cuda/cuda_dnn.cc:9261] Unable to register cuDNN factory: Attempting to register factory for plugin cuDNN when one has already been registered\n",
      "2024-03-04 20:54:45.824325: E external/local_xla/xla/stream_executor/cuda/cuda_fft.cc:607] Unable to register cuFFT factory: Attempting to register factory for plugin cuFFT when one has already been registered\n",
      "2024-03-04 20:54:45.853346: E external/local_xla/xla/stream_executor/cuda/cuda_blas.cc:1515] Unable to register cuBLAS factory: Attempting to register factory for plugin cuBLAS when one has already been registered\n",
      "2024-03-04 20:54:45.912856: I tensorflow/core/platform/cpu_feature_guard.cc:182] This TensorFlow binary is optimized to use available CPU instructions in performance-critical operations.\n",
      "To enable the following instructions: AVX2 AVX_VNNI FMA, in other operations, rebuild TensorFlow with the appropriate compiler flags.\n",
      "2024-03-04 20:54:46.759101: W tensorflow/compiler/tf2tensorrt/utils/py_utils.cc:38] TF-TRT Warning: Could not find TensorRT\n"
     ]
    },
    {
     "data": {
      "text/plain": [
       "'cuda'"
      ]
     },
     "execution_count": 1,
     "metadata": {},
     "output_type": "execute_result"
    }
   ],
   "source": [
    "# Library imports\n",
    "import pandas as pd\n",
    "\n",
    "import seaborn as sns\n",
    "import matplotlib.pyplot as plt    \n",
    "\n",
    "from nltk import PorterStemmer, WordNetLemmatizer\n",
    "import codecs\n",
    "\n",
    "import torch\n",
    "from torch.utils.data import DataLoader, Dataset, Sampler\n",
    "from tqdm import tqdm\n",
    "import torch.nn as nn\n",
    "\n",
    "import re\n",
    "from functools import partial\n",
    "\n",
    "import numpy as np\n",
    "from numpy import dot\n",
    "from numpy.linalg import norm\n",
    "\n",
    "from sklearn.model_selection import train_test_split\n",
    "from sklearn.metrics import confusion_matrix, ConfusionMatrixDisplay, classification_report, precision_score, recall_score, f1_score, precision_recall_fscore_support\n",
    "\n",
    "# Pre-trained models\n",
    "from simpletransformers.classification import ClassificationModel, ClassificationArgs, MultiLabelClassificationModel, MultiLabelClassificationArgs\n",
    "from transformers import Trainer, TrainingArguments\n",
    "from transformers import BertTokenizer\n",
    "from transformers import BertPreTrainedModel, BertModel\n",
    "from transformers.models.bert.modeling_bert import BertOnlyMLMHead\n",
    "from transformers import AutoModelForSequenceClassification, AdamW, get_scheduler\n",
    "\n",
    "\n",
    "def fix_seed(seed=420.69):\n",
    "  torch.manual_seed(seed)\n",
    "  torch.cuda.manual_seed(seed)\n",
    "#   np.random.seed(seed)\n",
    "#   random.seed(seed)\n",
    "\n",
    "fix_seed()\n",
    "\n",
    "data_path = '../bin/data'\n",
    "embeddings_path = '../bin/word_embeddings'\n",
    "model_save_path = '../bin/models'\n",
    "\n",
    "from util.datafunctions import *\n",
    "from util.evaluation import *\n",
    "\n",
    "if not torch.cuda.is_available():\n",
    "  DEVICE = 'cpu'\n",
    "else:\n",
    "  DEVICE = 'cuda'\n",
    "\n",
    "DEVICE"
   ]
  },
  {
   "cell_type": "markdown",
   "metadata": {},
   "source": [
    "## === Utils ==="
   ]
  },
  {
   "cell_type": "markdown",
   "metadata": {},
   "source": [
    "### Data related util functions"
   ]
  },
  {
   "cell_type": "code",
   "execution_count": 2,
   "metadata": {},
   "outputs": [],
   "source": [
    "from sklearn.model_selection import train_test_split\n",
    "import matplotlib.pyplot as plt\n",
    "\n",
    "def generate_data_splits(train_data):\n",
    "    # The stratify parameter makes a split so that the proportion of values in the sample produced will be the same as the proportion of values provided to parameter stratify. \n",
    "\n",
    "    X_train, X_val, y_train, y_val = train_test_split(train_data[['text', 'keyword', 'country_code']]\n",
    "                                                    , train_data['labels']\n",
    "                                                    , train_size=0.8\n",
    "                                                    , test_size=0.2\n",
    "                                                    , random_state=0\n",
    "                                                    , stratify=train_data[['labels']]\n",
    "                                                    )\n",
    "   \n",
    "    return X_train, X_val, y_train, y_val\n",
    "\n",
    "\n",
    "def pie_data_distributions(pie_series, pie_series_label):\n",
    "    \"\"\"Plots some pie charts for data distribution (Assume len(pie_series) inputs)\n",
    "\n",
    "    Args:\n",
    "        pie_series (_type_): pandas series \n",
    "        pie_series_label (_type_): for the title\n",
    "    \"\"\"\n",
    "\n",
    "    assert len(pie_series) == len(pie_series_label) and \"expected inputs of same length\"\n",
    "\n",
    "    _, axs = plt.subplots(1, len(pie_series), figsize=(len(pie_series)*5, 5))\n",
    "\n",
    "    for idx, (series, title) in enumerate(zip(pie_series, pie_series_label)):\n",
    "        tmp = series.value_counts()\n",
    "\n",
    "        wedges, _, _ = axs[idx].pie(tmp, labels=tmp.index, autopct='%1.1f%%', startangle=90)\n",
    "        legend_labels = [f'{label} ({count})' for label, count in zip(tmp.index, tmp)]\n",
    "        axs[idx].legend(wedges, legend_labels, title=\"Class 1 and 0\", loc=\"center left\", bbox_to_anchor=(1, 0, 0.5, 1))\n",
    "        axs[idx].set_title(f'Distribution for {title}')\n",
    "\n",
    "    plt.tight_layout()\n",
    "    plt.show()"
   ]
  },
  {
   "cell_type": "code",
   "execution_count": 3,
   "metadata": {},
   "outputs": [],
   "source": [
    "def plot_data_splits(X_train, X_val, y_train, y_val, test_data):\n",
    "    print(\"=== DISTRIBUTION FOR TRAINING DATA ===\")\n",
    "    pie_data_distributions(\n",
    "        [X_train['country_code'], X_train['keyword'], y_train],\n",
    "        ['train country_code label', 'train keyword label', 'train binary classification']\n",
    "    )\n",
    "\n",
    "    print(\"=== DISTRIBUTION FOR VALIDATION DATA ===\")\n",
    "    pie_data_distributions(\n",
    "        [X_val['country_code'], X_val['keyword'], y_val],\n",
    "        ['validation country_code label', 'validation keyword label', 'validation binary classification']\n",
    "    )\n",
    "\n",
    "    print(\"=== DISTRIBUTION FOR TEST DATA ===\")\n",
    "    pie_data_distributions(\n",
    "        [test_data['country_code'], test_data['keyword']],\n",
    "        ['test country_code label', 'test keyword label']\n",
    "    )"
   ]
  },
  {
   "cell_type": "markdown",
   "metadata": {},
   "source": [
    "## === Loading the Data ==="
   ]
  },
  {
   "cell_type": "code",
   "execution_count": 4,
   "metadata": {},
   "outputs": [
    {
     "data": {
      "text/html": [
       "<div>\n",
       "<style scoped>\n",
       "    .dataframe tbody tr th:only-of-type {\n",
       "        vertical-align: middle;\n",
       "    }\n",
       "\n",
       "    .dataframe tbody tr th {\n",
       "        vertical-align: top;\n",
       "    }\n",
       "\n",
       "    .dataframe thead th {\n",
       "        text-align: right;\n",
       "    }\n",
       "</style>\n",
       "<table border=\"1\" class=\"dataframe\">\n",
       "  <thead>\n",
       "    <tr style=\"text-align: right;\">\n",
       "      <th></th>\n",
       "      <th>par_id</th>\n",
       "      <th>keyword</th>\n",
       "      <th>country_code</th>\n",
       "      <th>text</th>\n",
       "      <th>labels</th>\n",
       "    </tr>\n",
       "  </thead>\n",
       "  <tbody>\n",
       "    <tr>\n",
       "      <th>0</th>\n",
       "      <td>t_4</td>\n",
       "      <td>vulnerable</td>\n",
       "      <td>ca</td>\n",
       "      <td>Members of the church , which is part of Ken C...</td>\n",
       "      <td>-1</td>\n",
       "    </tr>\n",
       "    <tr>\n",
       "      <th>1</th>\n",
       "      <td>t_5</td>\n",
       "      <td>women</td>\n",
       "      <td>tz</td>\n",
       "      <td>To ensure that \" Priority Agriculture Programm...</td>\n",
       "      <td>-1</td>\n",
       "    </tr>\n",
       "    <tr>\n",
       "      <th>2</th>\n",
       "      <td>t_6</td>\n",
       "      <td>immigrant</td>\n",
       "      <td>us</td>\n",
       "      <td>The deportees stepped off their flight from El...</td>\n",
       "      <td>-1</td>\n",
       "    </tr>\n",
       "    <tr>\n",
       "      <th>3</th>\n",
       "      <td>t_7</td>\n",
       "      <td>disabled</td>\n",
       "      <td>pk</td>\n",
       "      <td>PIMS staffer who raped disabled girl at ICU wa...</td>\n",
       "      <td>-1</td>\n",
       "    </tr>\n",
       "    <tr>\n",
       "      <th>4</th>\n",
       "      <td>t_9</td>\n",
       "      <td>vulnerable</td>\n",
       "      <td>lk</td>\n",
       "      <td>I conclude , Yes , the general FEELING generat...</td>\n",
       "      <td>-1</td>\n",
       "    </tr>\n",
       "    <tr>\n",
       "      <th>...</th>\n",
       "      <td>...</td>\n",
       "      <td>...</td>\n",
       "      <td>...</td>\n",
       "      <td>...</td>\n",
       "      <td>...</td>\n",
       "    </tr>\n",
       "    <tr>\n",
       "      <th>3823</th>\n",
       "      <td>t_3893</td>\n",
       "      <td>migrant</td>\n",
       "      <td>jm</td>\n",
       "      <td>In a letter dated Thursday to European Commiss...</td>\n",
       "      <td>-1</td>\n",
       "    </tr>\n",
       "    <tr>\n",
       "      <th>3824</th>\n",
       "      <td>t_3894</td>\n",
       "      <td>poor-families</td>\n",
       "      <td>au</td>\n",
       "      <td>They discovered that poor families with health...</td>\n",
       "      <td>-1</td>\n",
       "    </tr>\n",
       "    <tr>\n",
       "      <th>3825</th>\n",
       "      <td>t_3895</td>\n",
       "      <td>migrant</td>\n",
       "      <td>ca</td>\n",
       "      <td>She married at 19 , to Milan ( Emil ) Badovina...</td>\n",
       "      <td>-1</td>\n",
       "    </tr>\n",
       "    <tr>\n",
       "      <th>3826</th>\n",
       "      <td>t_3896</td>\n",
       "      <td>immigrant</td>\n",
       "      <td>us</td>\n",
       "      <td>The United Kingdom is n't going to devolve int...</td>\n",
       "      <td>-1</td>\n",
       "    </tr>\n",
       "    <tr>\n",
       "      <th>3827</th>\n",
       "      <td>t_3897</td>\n",
       "      <td>poor-families</td>\n",
       "      <td>ng</td>\n",
       "      <td>This moral battle informed the recent defectio...</td>\n",
       "      <td>-1</td>\n",
       "    </tr>\n",
       "  </tbody>\n",
       "</table>\n",
       "<p>3828 rows × 5 columns</p>\n",
       "</div>"
      ],
      "text/plain": [
       "      par_id        keyword country_code  \\\n",
       "0        t_4     vulnerable           ca   \n",
       "1        t_5          women           tz   \n",
       "2        t_6      immigrant           us   \n",
       "3        t_7       disabled           pk   \n",
       "4        t_9     vulnerable           lk   \n",
       "...      ...            ...          ...   \n",
       "3823  t_3893        migrant           jm   \n",
       "3824  t_3894  poor-families           au   \n",
       "3825  t_3895        migrant           ca   \n",
       "3826  t_3896      immigrant           us   \n",
       "3827  t_3897  poor-families           ng   \n",
       "\n",
       "                                                   text  labels  \n",
       "0     Members of the church , which is part of Ken C...      -1  \n",
       "1     To ensure that \" Priority Agriculture Programm...      -1  \n",
       "2     The deportees stepped off their flight from El...      -1  \n",
       "3     PIMS staffer who raped disabled girl at ICU wa...      -1  \n",
       "4     I conclude , Yes , the general FEELING generat...      -1  \n",
       "...                                                 ...     ...  \n",
       "3823  In a letter dated Thursday to European Commiss...      -1  \n",
       "3824  They discovered that poor families with health...      -1  \n",
       "3825  She married at 19 , to Milan ( Emil ) Badovina...      -1  \n",
       "3826  The United Kingdom is n't going to devolve int...      -1  \n",
       "3827  This moral battle informed the recent defectio...      -1  \n",
       "\n",
       "[3828 rows x 5 columns]"
      ]
     },
     "execution_count": 4,
     "metadata": {},
     "output_type": "execute_result"
    }
   ],
   "source": [
    "# Import Raw Unprocessed Data\n",
    "unedited_train_data_df = pd.read_csv(f'{data_path}/dontpatronizeme_pcl.tsv', delimiter='\\t', skiprows=4, header=None, names=['par_id','art_id','keyword','country_code', 'text','labels'])\n",
    "test_data_df  = pd.read_csv(f'{data_path}/task4_test.tsv',  delimiter='\\t', skiprows=4, header=None, names=['par_id','art_id','keyword','country_code', 'text'])\n",
    "\n",
    "# Import Data with the assumption that we've already preprocessed the data\n",
    "train_data_df = pd.read_csv(f'{data_path}/pre-processed/sampled_train_data.tsv', header=0, delimiter='\\t')\n",
    "val_data_df = pd.read_csv(f'{data_path}/pre-processed/sampled_val_data.tsv', header=0, delimiter='\\t')\n",
    "\n",
    "# Remove redundant information\n",
    "test_data_df = test_data_df.drop(['art_id'], axis=1)\n",
    "\n",
    "# Include a dummy column so that they may use the same DataSet class\n",
    "test_data_df['labels'] = -1\n",
    "\n",
    "test_data_df"
   ]
  },
  {
   "cell_type": "code",
   "execution_count": 5,
   "metadata": {},
   "outputs": [
    {
     "data": {
      "text/plain": [
       "8639    True\n",
       "Name: text, dtype: bool"
      ]
     },
     "execution_count": 5,
     "metadata": {},
     "output_type": "execute_result"
    }
   ],
   "source": [
    "# unedited_train_data_df\n",
    "unedited_train_data_df[unedited_train_data_df['text'].isnull()]['text'].isnull()\n"
   ]
  },
  {
   "cell_type": "code",
   "execution_count": 6,
   "metadata": {},
   "outputs": [],
   "source": [
    "id2label = {0: \"non-PCL\", 1: \"PCL\"}\n",
    "label2id = {\"non-PCL\": 0, \"PCL\": 1}"
   ]
  },
  {
   "cell_type": "code",
   "execution_count": 7,
   "metadata": {},
   "outputs": [
    {
     "data": {
      "image/png": "[encoded data removed]",
      "text/plain": [
       "<Figure size 1000x500 with 2 Axes>"
      ]
     },
     "metadata": {},
     "output_type": "display_data"
    }
   ],
   "source": [
    "pie_data_distributions([train_data_df['labels'], val_data_df['labels']], ['Train Data (Upsampled)', 'Validation Data'])"
   ]
  },
  {
   "cell_type": "markdown",
   "metadata": {},
   "source": [
    "## === Pre-processing ==="
   ]
  },
  {
   "cell_type": "markdown",
   "metadata": {},
   "source": [
    "### 1. Tokenization"
   ]
  },
  {
   "cell_type": "code",
   "execution_count": 8,
   "metadata": {},
   "outputs": [],
   "source": [
    "from typing import List\n",
    "\n",
    "def tokenize_text(text: List[str], tokenizer: BertTokenizer, max_length: int = 300):\n",
    "    \"\"\"Tokenize the input text using the provided tokenizer\n",
    "\n",
    "    Args:\n",
    "        text (List[str]): input text\n",
    "        tokenizer (BertTokenizer): tokenizer to be used\n",
    "        max_length (int, optional): maximum length of the tokenized text. Defaults to 300.\n",
    "\n",
    "    Returns:\n",
    "        dict: dictionary containing the tokenized text\n",
    "    \"\"\"    \n",
    "\n",
    "    # We pad shorter sentences to a length of trunc_len tokens since the maximum sequence size for BERT is 512\n",
    "    return tokenizer(text, return_tensors='pt', padding=True, truncation=True, max_length=max_length)"
   ]
  },
  {
   "cell_type": "markdown",
   "metadata": {},
   "source": [
    "### 2. Masking Tokens"
   ]
  },
  {
   "cell_type": "code",
   "execution_count": 9,
   "metadata": {},
   "outputs": [],
   "source": [
    "def mask_tokens(inputs, tokenizer, mlm_probability):\n",
    "    \"\"\"Given a tokenized input, will prepare masked tokens inputs/labels for Masked Language Modelling. 'We want to train BERT to predict an mlm_probability% of tokens (in the original paper it is 15%) of which 80% will be replaced by a ``[MASK]`` token, 10% with a random token and 10% remain the same token.' (from tutorial)\n",
    "\n",
    "    Args:\n",
    "        inputs (list): list of inputs to be masked\n",
    "        tokenizer (BertTokenizer): tokenizer to be used\n",
    "        mlm_probability (float): probability of applying a mask to each token\n",
    "\n",
    "    Returns:\n",
    "        (maksed tokens, original token): _description_\n",
    "    \"\"\"    \n",
    "\n",
    "    assert tokenizer.mask_token is not None and \"Tokenizer should not be none. (how can we mask if we don't know what to call it!)\"\n",
    "\n",
    "    labels = inputs.clone()\n",
    "\n",
    "    # We sample a few tokens in each sequence for masked-LM training (with probability mlm_probability defaults to 0.15 in Bert/RoBERTa)\n",
    "    probability_matrix = torch.full(labels.shape, mlm_probability)\n",
    "    special_tokens_mask = [tokenizer.get_special_tokens_mask(val, already_has_special_tokens=True) for val in labels.tolist()]\n",
    "    probability_matrix.masked_fill_(torch.tensor(special_tokens_mask, dtype=torch.bool), value=0.0)\n",
    "\n",
    "    if tokenizer._pad_token is not None:\n",
    "        padding_mask = labels.eq(tokenizer.pad_token_id)\n",
    "        probability_matrix.masked_fill_(padding_mask, value=0.0)\n",
    "    masked_indices = torch.bernoulli(probability_matrix).bool()\n",
    "    labels[~masked_indices] = -100  # We only compute loss on masked tokens\n",
    "\n",
    "    # 80% of the time, we replace masked input tokens with tokenizer.mask_token ([MASK])\n",
    "    indices_replaced = torch.bernoulli(torch.full(labels.shape, 0.8)).bool() & masked_indices\n",
    "    inputs[indices_replaced] = tokenizer.convert_tokens_to_ids(tokenizer.mask_token)\n",
    "\n",
    "    # 10% of the time, we replace masked input tokens with random word\n",
    "    indices_random = torch.bernoulli(torch.full(labels.shape, 0.5)).bool() & masked_indices & ~indices_replaced\n",
    "    random_words = torch.randint(len(tokenizer), labels.shape, dtype=torch.long)\n",
    "    inputs[indices_random] = random_words[indices_random]\n",
    "\n",
    "    # The rest of the time (10% of the time) we keep the masked input tokens unchanged\n",
    "    return inputs, labels"
   ]
  },
  {
   "cell_type": "markdown",
   "metadata": {},
   "source": [
    "## === Model Setup ==="
   ]
  },
  {
   "cell_type": "markdown",
   "metadata": {},
   "source": [
    "### Dataset Class"
   ]
  },
  {
   "cell_type": "code",
   "execution_count": 10,
   "metadata": {},
   "outputs": [],
   "source": [
    "class PCLDataset(Dataset):\n",
    "    def __init__(self, data_frame: pd.DataFrame\n",
    "                 , tokenizer: BertTokenizer\n",
    "                 , mask_tokens = False\n",
    "                 , trunc_len = 300\n",
    "                 , mlm_probability = 0.15):\n",
    "        \"\"\"Initializes the PCLDataset class\"\"\"\n",
    "\n",
    "        self.data = data_frame\n",
    "        self.tokenizer = tokenizer\n",
    "        self.mask = mask_tokens\n",
    "        self.trunc_len = trunc_len\n",
    "        self.mlm_probability = mlm_probability        \n",
    "\n",
    "    def __len__(self):\n",
    "        return len(self.data)\n",
    "\n",
    "    def __getitem__(self, idx):\n",
    "        \"\"\"Returns a singular item with all pre-processing required for the tester\"\"\"\n",
    "\n",
    "        text = self.data['text'].iloc[idx]\n",
    "        if pd.isnull(text):\n",
    "            text = \"\"\n",
    "\n",
    "        data = {'text': text}\n",
    "        \n",
    "        # instead of label and label_detailed we use label\n",
    "        label = {'labels': self.data['labels'].iloc[idx]}\n",
    "\n",
    "        return data, label\n",
    "    \n",
    "    def collate_fn(self, batch):\n",
    "        \"\"\"merges a list of samples to form a mini-batch of Tensor(s). Used when using batched loading from a map-style\"\"\"\n",
    "        \n",
    "        input_features = [i for i, _ in batch]\n",
    "        output_labels  = [o for _, o in batch]\n",
    "\n",
    "        # 1. Tokenize the input text\n",
    "        batched_text = [item['text'] for item in input_features]\n",
    "        encodings = tokenize_text(batched_text, self.tokenizer, self.trunc_len)\n",
    "\n",
    "        # 2. Optionally mask the input\n",
    "        # if self.mask:\n",
    "        if False: # for now, we don't mask the input\n",
    "            masked_input, labels = mask_tokens(encodings['input_ids'], self.tokenizer, self.mlm_probability)\n",
    "            encodings['input_ids'] = masked_input\n",
    "            encodings['labels'] = labels\n",
    "\n",
    "        # 3. Process the output labels\n",
    "        encodings['labels'] = torch.tensor([item['labels'] for item in output_labels])\n",
    "\n",
    "        return encodings"
   ]
  },
  {
   "cell_type": "markdown",
   "metadata": {},
   "source": [
    "## === Model ==="
   ]
  },
  {
   "cell_type": "code",
   "execution_count": 11,
   "metadata": {},
   "outputs": [],
   "source": [
    "h_params = {\n",
    "      'text trunction length': 300\n",
    "    , 'mask tokens': False\n",
    "    , 'mlm probability': 0.15\n",
    "    , 'batch size': 16\n",
    "    , 'learning rate': 2e-5\n",
    "    , 'epochs': 5\n",
    "    , 'warmup steps': 100\n",
    "    , 'weight decay': 0.01 \n",
    "}"
   ]
  },
  {
   "cell_type": "markdown",
   "metadata": {},
   "source": [
    "### Model Training Utils"
   ]
  },
  {
   "cell_type": "code",
   "execution_count": 12,
   "metadata": {},
   "outputs": [],
   "source": [
    "def predict_hatespeech(input, tokenizer, model):\n",
    "  model.eval()\n",
    "  encodings = tokenizer(input, return_tensors='pt', padding=True, truncation=True, max_length=h_params['text trunction length'])\n",
    "  encodings.to(DEVICE)\n",
    "  model.to(DEVICE)\n",
    "\n",
    "  output = model(**encodings)\n",
    "  \n",
    "  return torch.argmax(output.logits, dim=1)"
   ]
  },
  {
   "cell_type": "code",
   "execution_count": 13,
   "metadata": {},
   "outputs": [],
   "source": [
    "def save_model_predictions(model_name, model, tokenizer):\n",
    "\n",
    "    model.eval()\n",
    "    model.to(DEVICE)\n",
    "\n",
    "    # << create a dataloader for the entire training dataset >>\n",
    "    global_train_dataset = PCLDataset(unedited_train_data_df, mask_tokens=False, tokenizer=tokenizer, trunc_len=h_params['text trunction length'])\n",
    "    global_train_data_loader = DataLoader(global_train_dataset, batch_size=h_params['batch size'], collate_fn=global_train_dataset.collate_fn, shuffle=False)\n",
    "\n",
    "    # << create a dataloader for the test dataset >>\n",
    "    test_dataset = PCLDataset(test_data_df, mask_tokens=False, tokenizer=tokenizer, trunc_len=h_params['text trunction length'])\n",
    "    test_data_loader = DataLoader(test_dataset, batch_size=h_params['batch size'], collate_fn=test_dataset.collate_fn, shuffle=False)\n",
    "\n",
    "    # << iterate through the dataloader and make predictions >>\n",
    "    for loader in {global_train_data_loader, test_data_loader}:\n",
    "\n",
    "        train_predictions = []\n",
    "\n",
    "        with torch.no_grad():\n",
    "            for batch in tqdm(loader):\n",
    "                del batch['labels']\n",
    "                batch = batch.to(DEVICE)\n",
    "                                \n",
    "                logits = model(**batch)\n",
    "                predictions = torch.argmax(logits.logits, dim=1)\n",
    "                train_predictions.extend(predictions.tolist())\n",
    "\n",
    "        train_predictions = np.array(train_predictions)\n",
    "\n",
    "        if loader is global_train_data_loader:\n",
    "            np.savetxt(f\"{model_save_path}/{model_name}/dev.txt\", train_predictions, fmt=\"%d\")\n",
    "        else:\n",
    "            np.savetxt(f\"{model_save_path}/{model_name}/test.txt\", train_predictions, fmt=\"%d\")\n"
   ]
  },
  {
   "cell_type": "code",
   "execution_count": 14,
   "metadata": {},
   "outputs": [],
   "source": [
    "import numpy as np\n",
    "from sklearn.metrics import confusion_matrix, classification_report\n",
    "import seaborn as sns\n",
    "import matplotlib.pyplot as plt\n",
    "\n",
    "def evaluate_model(model, tokenizer, data_loader):\n",
    "\n",
    "  model.to(DEVICE)\n",
    "\n",
    "  preds = []\n",
    "  tot_labels = []\n",
    "\n",
    "  with torch.no_grad():\n",
    "    for logits, expected in tqdm(data_loader):\n",
    "      \n",
    "      tweets = logits['text']\n",
    "\n",
    "      pred = predict_hatespeech(tweets, tokenizer, model)\n",
    "\n",
    "      preds.append(pred.tolist())\n",
    "      tot_labels.append(expected['labels'])\n",
    "\n",
    "  # with the saved predictions and labels we can compute accuracy, precision, recall and f1-score\n",
    "  report = classification_report(tot_labels, preds, target_names=[\"Not offensive\",\"Offensive\"], output_dict= True)\n",
    "\n",
    "  print(report)\n",
    "\n",
    "  cm = confusion_matrix(tot_labels, preds, labels=[0, 1]) \n",
    "\n",
    "  ax= plt.subplot()\n",
    "  sns.heatmap(cm, annot=True, fmt='g', ax=ax, cmap=sns.color_palette(\"ch:s=-.2,r=.6\", as_cmap=True));  #annot=True to annotate cells, ftm='g' to disable scientific notation\n",
    "\n",
    "  # labels, title and ticks\n",
    "  ax.set_xlabel('Predicted labels')\n",
    "  ax.set_ylabel('True labels')\n",
    "\n",
    "  ax.set_title('Confusion Matrix')\n",
    "\n",
    "  ax.xaxis.set_ticklabels(['Not Patronizing', 'Patronizing'])\n",
    "  ax.yaxis.set_ticklabels(['Not Patronizing', 'Patronizing'])\n",
    "\n",
    "  plt.show()\n",
    "\n",
    "  return report\n"
   ]
  },
  {
   "cell_type": "code",
   "execution_count": 15,
   "metadata": {},
   "outputs": [],
   "source": [
    "import evaluate\n",
    "\n",
    "def compute_accuracy(eval_pred):\n",
    "    logits, labels = eval_pred\n",
    "    predictions = np.argmax(logits, axis=-1)\n",
    "    metric = evaluate.load(\"accuracy\")\n",
    "    return metric.compute(predictions=predictions, references=labels)"
   ]
  },
  {
   "cell_type": "code",
   "execution_count": 16,
   "metadata": {},
   "outputs": [],
   "source": [
    "# Class Weights: https://discuss.huggingface.co/t/class-weights-for-bertforsequenceclassification/1674/7\n",
    "#                https://www.analyticsvidhya.com/blog/2020/11/handling-imbalanced-data-machine-learning-computer-vision-and-nlp/#Class%20weights\n",
    "\n",
    "# From HERE: https://naadispeaks.blog/2021/07/31/handling-imbalanced-classes-with-weighted-loss-in-pytorch/ \n",
    "# class weights is calculated as\n",
    "\n",
    "from sklearn.utils.class_weight import compute_class_weight\n",
    "\n",
    "class MyUnbiasedTrainer(Trainer):\n",
    "    def __init__(self, *args, **kwargs):\n",
    "        super().__init__(*args, **kwargs)\n",
    "        self.class_weights = torch.tensor(compute_class_weight(class_weight=\"balanced\", classes=np.array([0,1]), y=train_data_df['labels']))\n",
    "        self.class_weights = self.class_weights.to(DEVICE)\n",
    "        self.class_weights = self.class_weights.float()\n",
    "\n",
    "    def compute_loss(self, model, inputs, return_outputs=False):\n",
    "        \n",
    "        labels = inputs.pop(\"labels\")\n",
    "        outputs = model(**inputs)\n",
    "        logits = outputs.logits\n",
    "\n",
    "        loss_fct = nn.CrossEntropyLoss(weight=self.class_weights)\n",
    "        loss = loss_fct(logits.view(-1, self.model.config.num_labels), labels.view(-1))\n",
    "\n",
    "        return (loss, outputs) if return_outputs else loss"
   ]
  },
  {
   "cell_type": "code",
   "execution_count": 17,
   "metadata": {},
   "outputs": [],
   "source": [
    "def setup_trainer(model_name, model, h_params, training_dataset, val_dataset):\n",
    "\n",
    "    # << Initilize the Training Arguments >>\n",
    "    training_args = TrainingArguments(\n",
    "          output_dir                  = model_name\n",
    "        , learning_rate               = h_params['learning rate']\n",
    "        , per_device_train_batch_size = h_params['batch size']\n",
    "        , per_device_eval_batch_size  = h_params['batch size']\n",
    "        , num_train_epochs            = h_params['epochs']\n",
    "        , weight_decay                = h_params['weight decay']\n",
    "        , evaluation_strategy         = \"epoch\"\n",
    "        , save_strategy               = \"epoch\"\n",
    "        , load_best_model_at_end      = True\n",
    "        , logging_dir                 = f'{model_save_path}/{model_name}/logs'\n",
    "        , logging_steps               = 10\n",
    "    )\n",
    "\n",
    "    # << Initilize the Trainer >>\n",
    "    trainer = MyUnbiasedTrainer(\n",
    "        model           = model,\n",
    "        args            = training_args,\n",
    "        train_dataset   = training_dataset,\n",
    "        eval_dataset    = val_dataset,\n",
    "        data_collator   = training_dataset.collate_fn,\n",
    "        compute_metrics = compute_accuracy\n",
    "    )\n",
    "\n",
    "    return trainer"
   ]
  },
  {
   "cell_type": "code",
   "execution_count": 18,
   "metadata": {},
   "outputs": [],
   "source": [
    "def plot_loss(trainer):\n",
    "    log = trainer.state.log_history\n",
    "\n",
    "    train_loss = []\n",
    "    train_epoch = []\n",
    "\n",
    "    eval_loss = [] # eval calculated at the end of each epoch\n",
    "    eval_accuracy = []\n",
    "\n",
    "    for log_entry in log:\n",
    "        keys = log_entry.keys()\n",
    "\n",
    "        if 'loss' in keys:\n",
    "            train_loss.append(log_entry['loss'])\n",
    "            train_epoch.append(log_entry['epoch'])\n",
    "        elif 'eval_loss' in keys:\n",
    "            eval_loss.append(log_entry['eval_loss'])\n",
    "            eval_accuracy.append(log_entry['eval_accuracy'])\n",
    "        \n",
    "    fig, ax = plt.subplots(1, 2, figsize=(15, 5))\n",
    "\n",
    "    ax[0].plot(train_epoch, train_loss, label='Training Loss')\n",
    "    ax[0].set_title('Training Loss')\n",
    "    ax[0].set_xlabel('Epoch')\n",
    "    ax[0].set_ylabel('Loss')\n",
    "    ax[0].legend()\n",
    "\n",
    "    eval_epoch = [i+1 for i in range(len(eval_loss))]\n",
    "\n",
    "    print(eval_epoch)\n",
    "    print(eval_loss)\n",
    "    print(eval_accuracy)\n",
    "\n",
    "    ax[1].plot(eval_epoch, eval_loss, 'x', label='Evaluation Loss')\n",
    "    ax[1].plot(eval_epoch, eval_accuracy, 'o', label='Evaluation Accuracy')\n",
    "    ax[1].set_title('Evaluation Loss and Accuracy')\n",
    "    ax[1].set_xlabel('Epoch')\n",
    "    ax[1].set_ylabel('Loss and Accuracy')\n",
    "    ax[1].legend()\n",
    "\n",
    "    plt.show()"
   ]
  },
  {
   "cell_type": "code",
   "execution_count": 19,
   "metadata": {},
   "outputs": [],
   "source": [
    "def full_train_run(model_name, model, tokenizer, training_dataset, val_dataset):\n",
    "\n",
    "    # << Setup the trainer >>\n",
    "    trainer = setup_trainer(model_name, model, h_params, training_dataset, val_dataset)\n",
    "\n",
    "    #  << Set model to training mode >>\n",
    "    model.train()\n",
    "\n",
    "    # << Train the model >>\n",
    "    trainer.train()\n",
    "\n",
    "    # << Plot the loss >>\n",
    "    plot_loss(trainer)\n",
    "\n",
    "    # << Save the model predictions >>\n",
    "    save_model_predictions(model_name, model, tokenizer)\n",
    "\n",
    "    # << Evaluate the model >>\n",
    "    evaluate_model(model, tokenizer, val_dataset)\n",
    "\n",
    "    return trainer"
   ]
  },
  {
   "cell_type": "markdown",
   "metadata": {},
   "source": [
    "#### bert-base-cased"
   ]
  },
  {
   "cell_type": "code",
   "execution_count": 20,
   "metadata": {},
   "outputs": [
    {
     "name": "stderr",
     "output_type": "stream",
     "text": [
      "Some weights of BertForSequenceClassification were not initialized from the model checkpoint at google-bert/bert-base-cased and are newly initialized: ['classifier.bias', 'classifier.weight']\n",
      "You should probably TRAIN this model on a down-stream task to be able to use it for predictions and inference.\n",
      "Failed to detect the name of this notebook, you can set it manually with the WANDB_NOTEBOOK_NAME environment variable to enable code saving.\n",
      "\u001b[34m\u001b[1mwandb\u001b[0m: Currently logged in as: \u001b[33manton-zhitomirsky\u001b[0m (\u001b[33manton-zhitomirsky-joe-mama\u001b[0m). Use \u001b[1m`wandb login --relogin`\u001b[0m to force relogin\n"
     ]
    },
    {
     "data": {
      "text/html": [
       "Tracking run with wandb version 0.16.3"
      ],
      "text/plain": [
       "<IPython.core.display.HTML object>"
      ]
     },
     "metadata": {},
     "output_type": "display_data"
    },
    {
     "data": {
      "text/html": [
       "Run data is saved locally in <code>/home/avzh1/Documents/imperial/year4/lectures/nlp/Coursework/nlp/src/wandb/run-20240304_204457-vr92qvjh</code>"
      ],
      "text/plain": [
       "<IPython.core.display.HTML object>"
      ]
     },
     "metadata": {},
     "output_type": "display_data"
    },
    {
     "data": {
      "text/html": [
       "Syncing run <strong><a href='https://wandb.ai/anton-zhitomirsky-joe-mama/huggingface/runs/vr92qvjh' target=\"_blank\">fancy-fire-41</a></strong> to <a href='https://wandb.ai/anton-zhitomirsky-joe-mama/huggingface' target=\"_blank\">Weights & Biases</a> (<a href='https://wandb.me/run' target=\"_blank\">docs</a>)<br/>"
      ],
      "text/plain": [
       "<IPython.core.display.HTML object>"
      ]
     },
     "metadata": {},
     "output_type": "display_data"
    },
    {
     "data": {
      "text/html": [
       " View project at <a href='https://wandb.ai/anton-zhitomirsky-joe-mama/huggingface' target=\"_blank\">https://wandb.ai/anton-zhitomirsky-joe-mama/huggingface</a>"
      ],
      "text/plain": [
       "<IPython.core.display.HTML object>"
      ]
     },
     "metadata": {},
     "output_type": "display_data"
    },
    {
     "data": {
      "text/html": [
       " View run at <a href='https://wandb.ai/anton-zhitomirsky-joe-mama/huggingface/runs/vr92qvjh' target=\"_blank\">https://wandb.ai/anton-zhitomirsky-joe-mama/huggingface/runs/vr92qvjh</a>"
      ],
      "text/plain": [
       "<IPython.core.display.HTML object>"
      ]
     },
     "metadata": {},
     "output_type": "display_data"
    },
    {
     "data": {
      "application/vnd.jupyter.widget-view+json": {
       "model_id": "f809c77a9ac74a55b40553cccbd339bd",
       "version_major": 2,
       "version_minor": 0
      },
      "text/plain": [
       "  0%|          | 0/2865 [00:00<?, ?it/s]"
      ]
     },
     "metadata": {},
     "output_type": "display_data"
    },
    {
     "name": "stdout",
     "output_type": "stream",
     "text": [
      "{'loss': 0.7123, 'grad_norm': 8.156033515930176, 'learning_rate': 1.9930191972076792e-05, 'epoch': 0.02}\n",
      "{'loss': 0.6832, 'grad_norm': 14.472395896911621, 'learning_rate': 1.986038394415358e-05, 'epoch': 0.03}\n",
      "{'loss': 0.693, 'grad_norm': 5.312155723571777, 'learning_rate': 1.9790575916230367e-05, 'epoch': 0.05}\n",
      "{'loss': 0.6878, 'grad_norm': 10.644137382507324, 'learning_rate': 1.9720767888307158e-05, 'epoch': 0.07}\n",
      "{'loss': 0.5836, 'grad_norm': 18.224987030029297, 'learning_rate': 1.9650959860383945e-05, 'epoch': 0.09}\n",
      "{'loss': 0.7122, 'grad_norm': 4.05127477645874, 'learning_rate': 1.9581151832460736e-05, 'epoch': 0.1}\n"
     ]
    },
    {
     "ename": "KeyboardInterrupt",
     "evalue": "",
     "output_type": "error",
     "traceback": [
      "\u001b[0;31m---------------------------------------------------------------------------\u001b[0m",
      "\u001b[0;31mKeyboardInterrupt\u001b[0m                         Traceback (most recent call last)",
      "Cell \u001b[0;32mIn[20], line 20\u001b[0m\n\u001b[1;32m     17\u001b[0m model\u001b[38;5;241m.\u001b[39mtrain()\n\u001b[1;32m     19\u001b[0m \u001b[38;5;66;03m# << Train the model >>\u001b[39;00m\n\u001b[0;32m---> 20\u001b[0m \u001b[43mtrainer\u001b[49m\u001b[38;5;241;43m.\u001b[39;49m\u001b[43mtrain\u001b[49m\u001b[43m(\u001b[49m\u001b[43m)\u001b[49m\n\u001b[1;32m     22\u001b[0m \u001b[38;5;66;03m# << Plot the loss >>\u001b[39;00m\n\u001b[1;32m     23\u001b[0m plot_loss(trainer)\n",
      "File \u001b[0;32m~/Documents/imperial/year4/lectures/nlp/Coursework/nlp/.venv/lib/python3.10/site-packages/transformers/trainer.py:1624\u001b[0m, in \u001b[0;36mTrainer.train\u001b[0;34m(self, resume_from_checkpoint, trial, ignore_keys_for_eval, **kwargs)\u001b[0m\n\u001b[1;32m   1622\u001b[0m         hf_hub_utils\u001b[38;5;241m.\u001b[39menable_progress_bars()\n\u001b[1;32m   1623\u001b[0m \u001b[38;5;28;01melse\u001b[39;00m:\n\u001b[0;32m-> 1624\u001b[0m     \u001b[38;5;28;01mreturn\u001b[39;00m \u001b[43minner_training_loop\u001b[49m\u001b[43m(\u001b[49m\n\u001b[1;32m   1625\u001b[0m \u001b[43m        \u001b[49m\u001b[43margs\u001b[49m\u001b[38;5;241;43m=\u001b[39;49m\u001b[43margs\u001b[49m\u001b[43m,\u001b[49m\n\u001b[1;32m   1626\u001b[0m \u001b[43m        \u001b[49m\u001b[43mresume_from_checkpoint\u001b[49m\u001b[38;5;241;43m=\u001b[39;49m\u001b[43mresume_from_checkpoint\u001b[49m\u001b[43m,\u001b[49m\n\u001b[1;32m   1627\u001b[0m \u001b[43m        \u001b[49m\u001b[43mtrial\u001b[49m\u001b[38;5;241;43m=\u001b[39;49m\u001b[43mtrial\u001b[49m\u001b[43m,\u001b[49m\n\u001b[1;32m   1628\u001b[0m \u001b[43m        \u001b[49m\u001b[43mignore_keys_for_eval\u001b[49m\u001b[38;5;241;43m=\u001b[39;49m\u001b[43mignore_keys_for_eval\u001b[49m\u001b[43m,\u001b[49m\n\u001b[1;32m   1629\u001b[0m \u001b[43m    \u001b[49m\u001b[43m)\u001b[49m\n",
      "File \u001b[0;32m~/Documents/imperial/year4/lectures/nlp/Coursework/nlp/.venv/lib/python3.10/site-packages/transformers/trainer.py:1966\u001b[0m, in \u001b[0;36mTrainer._inner_training_loop\u001b[0;34m(self, batch_size, args, resume_from_checkpoint, trial, ignore_keys_for_eval)\u001b[0m\n\u001b[1;32m   1960\u001b[0m \u001b[38;5;28;01mwith\u001b[39;00m \u001b[38;5;28mself\u001b[39m\u001b[38;5;241m.\u001b[39maccelerator\u001b[38;5;241m.\u001b[39maccumulate(model):\n\u001b[1;32m   1961\u001b[0m     tr_loss_step \u001b[38;5;241m=\u001b[39m \u001b[38;5;28mself\u001b[39m\u001b[38;5;241m.\u001b[39mtraining_step(model, inputs)\n\u001b[1;32m   1963\u001b[0m \u001b[38;5;28;01mif\u001b[39;00m (\n\u001b[1;32m   1964\u001b[0m     args\u001b[38;5;241m.\u001b[39mlogging_nan_inf_filter\n\u001b[1;32m   1965\u001b[0m     \u001b[38;5;129;01mand\u001b[39;00m \u001b[38;5;129;01mnot\u001b[39;00m is_torch_tpu_available()\n\u001b[0;32m-> 1966\u001b[0m     \u001b[38;5;129;01mand\u001b[39;00m (torch\u001b[38;5;241m.\u001b[39misnan(tr_loss_step) \u001b[38;5;129;01mor\u001b[39;00m \u001b[43mtorch\u001b[49m\u001b[38;5;241;43m.\u001b[39;49m\u001b[43misinf\u001b[49m\u001b[43m(\u001b[49m\u001b[43mtr_loss_step\u001b[49m\u001b[43m)\u001b[49m)\n\u001b[1;32m   1967\u001b[0m ):\n\u001b[1;32m   1968\u001b[0m     \u001b[38;5;66;03m# if loss is nan or inf simply add the average of previous logged losses\u001b[39;00m\n\u001b[1;32m   1969\u001b[0m     tr_loss \u001b[38;5;241m+\u001b[39m\u001b[38;5;241m=\u001b[39m tr_loss \u001b[38;5;241m/\u001b[39m (\u001b[38;5;241m1\u001b[39m \u001b[38;5;241m+\u001b[39m \u001b[38;5;28mself\u001b[39m\u001b[38;5;241m.\u001b[39mstate\u001b[38;5;241m.\u001b[39mglobal_step \u001b[38;5;241m-\u001b[39m \u001b[38;5;28mself\u001b[39m\u001b[38;5;241m.\u001b[39m_globalstep_last_logged)\n\u001b[1;32m   1970\u001b[0m \u001b[38;5;28;01melse\u001b[39;00m:\n",
      "\u001b[0;31mKeyboardInterrupt\u001b[0m: "
     ]
    }
   ],
   "source": [
    "from transformers import BertTokenizer, AutoModelForSequenceClassification\n",
    "\n",
    "# << Create Model and Tokenizer >>\n",
    "# model = AutoModelForSequenceClassification.from_pretrained('FacebookAI/roberta-base', num_labels=2, id2label=id2label, label2id=label2id)\n",
    "\n",
    "model = AutoModelForSequenceClassification.from_pretrained('google-bert/bert-base-cased', num_labels=2, id2label=id2label, label2id=label2id)\n",
    "tokenizer = BertTokenizer.from_pretrained('google-bert/bert-base-cased')\n",
    "\n",
    "# << Create Datasets >>\n",
    "training_dataset = PCLDataset(train_data_df, mask_tokens=h_params['mask tokens'], tokenizer=tokenizer, trunc_len=h_params['text trunction length'])\n",
    "val_dataset = PCLDataset(val_data_df, mask_tokens=False, tokenizer=tokenizer, trunc_len=h_params['text trunction length'])\n",
    "\n",
    "# << Setup the trainer >>\n",
    "trainer = setup_trainer('distilbert-base-uncased', model, h_params, training_dataset, val_dataset)\n",
    "\n",
    "#  << Set model to training mode >>\n",
    "model.train()\n",
    "\n",
    "# << Train the model >>\n",
    "trainer.train()\n",
    "\n",
    "# << Plot the loss >>\n",
    "plot_loss(trainer)\n",
    "\n",
    "# << Save the model predictions >>\n",
    "save_model_predictions('distilbert-base-uncased', model, tokenizer)\n",
    "\n",
    "# << Evaluate the model >>\n",
    "evaluate_model(model, tokenizer, val_dataset)\n",
    "evaluate_model(model, tokenizer, training_dataset)\n",
    "\n",
    "# roberta_trainer = full_train_run('bert-base-cased', model, tokenizer, training_dataset, val_dataset)"
   ]
  },
  {
   "cell_type": "markdown",
   "metadata": {},
   "source": [
    "#### roberta with MASK"
   ]
  },
  {
   "cell_type": "code",
   "execution_count": 29,
   "metadata": {},
   "outputs": [
    {
     "name": "stderr",
     "output_type": "stream",
     "text": [
      "Some weights of RobertaForSequenceClassification were not initialized from the model checkpoint at FacebookAI/roberta-base and are newly initialized: ['classifier.dense.bias', 'classifier.dense.weight', 'classifier.out_proj.bias', 'classifier.out_proj.weight']\n",
      "You should probably TRAIN this model on a down-stream task to be able to use it for predictions and inference.\n"
     ]
    },
    {
     "data": {
      "application/vnd.jupyter.widget-view+json": {
       "model_id": "48ecae68eb864e3783e6d22237f9e277",
       "version_major": 2,
       "version_minor": 0
      },
      "text/plain": [
       "  0%|          | 0/2865 [00:00<?, ?it/s]"
      ]
     },
     "metadata": {},
     "output_type": "display_data"
    }
   ],
   "source": [
    "from transformers import RobertaTokenizer, AutoModelForSequenceClassification\n",
    "\n",
    "# << Create Model and Tokenizer >>\n",
    "model = AutoModelForSequenceClassification.from_pretrained('FacebookAI/roberta-base', num_labels=2, id2label=id2label, label2id=label2id)\n",
    "tokenizer = RobertaTokenizer.from_pretrained('FacebookAI/roberta-base')\n",
    "\n",
    "h_params['mask tokens'] = True\n",
    "\n",
    "# << Create Datasets >>\n",
    "training_dataset = PCLDataset(train_data_df, mask_tokens=h_params['mask tokens'], tokenizer=tokenizer, trunc_len=h_params['text trunction length'])\n",
    "val_dataset = PCLDataset(val_data_df, mask_tokens=False, tokenizer=tokenizer, trunc_len=h_params['text trunction length'])\n",
    "\n",
    "# << Setup the trainer >>\n",
    "trainer = setup_trainer('roberta-base', model, h_params, training_dataset, val_dataset)\n",
    "\n",
    "#  << Set model to training mode >>\n",
    "model.train()\n",
    "\n",
    "# << Train the model >>\n",
    "trainer.train()\n",
    "\n",
    "# << Plot the loss >>\n",
    "plot_loss(trainer)\n",
    "\n",
    "# << Save the model predictions >>\n",
    "save_model_predictions('roberta-base', model, tokenizer)\n",
    "\n",
    "# << Evaluate the model >>\n",
    "evaluate_model(model, tokenizer, val_dataset)\n",
    "evaluate_model(model, tokenizer, training_dataset)\n",
    "\n",
    "# roberta_trainer = full_train_run('bert-base-cased', model, tokenizer, training_dataset, val_dataset)"
   ]
  },
  {
   "cell_type": "markdown",
   "metadata": {},
   "source": [
    "#### roberta no Mask"
   ]
  },
  {
   "cell_type": "code",
   "execution_count": 22,
   "metadata": {},
   "outputs": [
    {
     "name": "stderr",
     "output_type": "stream",
     "text": [
      "Some weights of RobertaForSequenceClassification were not initialized from the model checkpoint at FacebookAI/roberta-base and are newly initialized: ['classifier.dense.bias', 'classifier.dense.weight', 'classifier.out_proj.bias', 'classifier.out_proj.weight']\n",
      "You should probably TRAIN this model on a down-stream task to be able to use it for predictions and inference.\n",
      "Failed to detect the name of this notebook, you can set it manually with the WANDB_NOTEBOOK_NAME environment variable to enable code saving.\n",
      "\u001b[34m\u001b[1mwandb\u001b[0m: Currently logged in as: \u001b[33manton-zhitomirsky\u001b[0m (\u001b[33manton-zhitomirsky-joe-mama\u001b[0m). Use \u001b[1m`wandb login --relogin`\u001b[0m to force relogin\n"
     ]
    },
    {
     "data": {
      "text/html": [
       "Tracking run with wandb version 0.16.3"
      ],
      "text/plain": [
       "<IPython.core.display.HTML object>"
      ]
     },
     "metadata": {},
     "output_type": "display_data"
    },
    {
     "data": {
      "text/html": [
       "Run data is saved locally in <code>/home/avzh1/Documents/imperial/year4/lectures/nlp/Coursework/nlp/src/wandb/run-20240304_205821-avtfptp4</code>"
      ],
      "text/plain": [
       "<IPython.core.display.HTML object>"
      ]
     },
     "metadata": {},
     "output_type": "display_data"
    },
    {
     "data": {
      "text/html": [
       "Syncing run <strong><a href='https://wandb.ai/anton-zhitomirsky-joe-mama/huggingface/runs/avtfptp4' target=\"_blank\">laced-durian-42</a></strong> to <a href='https://wandb.ai/anton-zhitomirsky-joe-mama/huggingface' target=\"_blank\">Weights & Biases</a> (<a href='https://wandb.me/run' target=\"_blank\">docs</a>)<br/>"
      ],
      "text/plain": [
       "<IPython.core.display.HTML object>"
      ]
     },
     "metadata": {},
     "output_type": "display_data"
    },
    {
     "data": {
      "text/html": [
       " View project at <a href='https://wandb.ai/anton-zhitomirsky-joe-mama/huggingface' target=\"_blank\">https://wandb.ai/anton-zhitomirsky-joe-mama/huggingface</a>"
      ],
      "text/plain": [
       "<IPython.core.display.HTML object>"
      ]
     },
     "metadata": {},
     "output_type": "display_data"
    },
    {
     "data": {
      "text/html": [
       " View run at <a href='https://wandb.ai/anton-zhitomirsky-joe-mama/huggingface/runs/avtfptp4' target=\"_blank\">https://wandb.ai/anton-zhitomirsky-joe-mama/huggingface/runs/avtfptp4</a>"
      ],
      "text/plain": [
       "<IPython.core.display.HTML object>"
      ]
     },
     "metadata": {},
     "output_type": "display_data"
    },
    {
     "data": {
      "application/vnd.jupyter.widget-view+json": {
       "model_id": "c724aa39e9494d6182f8ba0060e0db7f",
       "version_major": 2,
       "version_minor": 0
      },
      "text/plain": [
       "  0%|          | 0/2865 [00:00<?, ?it/s]"
      ]
     },
     "metadata": {},
     "output_type": "display_data"
    },
    {
     "ename": "KeyboardInterrupt",
     "evalue": "",
     "output_type": "error",
     "traceback": [
      "\u001b[0;31m---------------------------------------------------------------------------\u001b[0m",
      "\u001b[0;31mKeyboardInterrupt\u001b[0m                         Traceback (most recent call last)",
      "Cell \u001b[0;32mIn[22], line 18\u001b[0m\n\u001b[1;32m     15\u001b[0m model\u001b[38;5;241m.\u001b[39mtrain()\n\u001b[1;32m     17\u001b[0m \u001b[38;5;66;03m# << Train the model >>\u001b[39;00m\n\u001b[0;32m---> 18\u001b[0m \u001b[43mtrainer\u001b[49m\u001b[38;5;241;43m.\u001b[39;49m\u001b[43mtrain\u001b[49m\u001b[43m(\u001b[49m\u001b[43m)\u001b[49m\n\u001b[1;32m     20\u001b[0m \u001b[38;5;66;03m# << Plot the loss >>\u001b[39;00m\n\u001b[1;32m     21\u001b[0m plot_loss(trainer)\n",
      "File \u001b[0;32m~/Documents/imperial/year4/lectures/nlp/Coursework/nlp/.venv/lib/python3.10/site-packages/transformers/trainer.py:1624\u001b[0m, in \u001b[0;36mTrainer.train\u001b[0;34m(self, resume_from_checkpoint, trial, ignore_keys_for_eval, **kwargs)\u001b[0m\n\u001b[1;32m   1622\u001b[0m         hf_hub_utils\u001b[38;5;241m.\u001b[39menable_progress_bars()\n\u001b[1;32m   1623\u001b[0m \u001b[38;5;28;01melse\u001b[39;00m:\n\u001b[0;32m-> 1624\u001b[0m     \u001b[38;5;28;01mreturn\u001b[39;00m \u001b[43minner_training_loop\u001b[49m\u001b[43m(\u001b[49m\n\u001b[1;32m   1625\u001b[0m \u001b[43m        \u001b[49m\u001b[43margs\u001b[49m\u001b[38;5;241;43m=\u001b[39;49m\u001b[43margs\u001b[49m\u001b[43m,\u001b[49m\n\u001b[1;32m   1626\u001b[0m \u001b[43m        \u001b[49m\u001b[43mresume_from_checkpoint\u001b[49m\u001b[38;5;241;43m=\u001b[39;49m\u001b[43mresume_from_checkpoint\u001b[49m\u001b[43m,\u001b[49m\n\u001b[1;32m   1627\u001b[0m \u001b[43m        \u001b[49m\u001b[43mtrial\u001b[49m\u001b[38;5;241;43m=\u001b[39;49m\u001b[43mtrial\u001b[49m\u001b[43m,\u001b[49m\n\u001b[1;32m   1628\u001b[0m \u001b[43m        \u001b[49m\u001b[43mignore_keys_for_eval\u001b[49m\u001b[38;5;241;43m=\u001b[39;49m\u001b[43mignore_keys_for_eval\u001b[49m\u001b[43m,\u001b[49m\n\u001b[1;32m   1629\u001b[0m \u001b[43m    \u001b[49m\u001b[43m)\u001b[49m\n",
      "File \u001b[0;32m~/Documents/imperial/year4/lectures/nlp/Coursework/nlp/.venv/lib/python3.10/site-packages/transformers/trainer.py:1966\u001b[0m, in \u001b[0;36mTrainer._inner_training_loop\u001b[0;34m(self, batch_size, args, resume_from_checkpoint, trial, ignore_keys_for_eval)\u001b[0m\n\u001b[1;32m   1960\u001b[0m \u001b[38;5;28;01mwith\u001b[39;00m \u001b[38;5;28mself\u001b[39m\u001b[38;5;241m.\u001b[39maccelerator\u001b[38;5;241m.\u001b[39maccumulate(model):\n\u001b[1;32m   1961\u001b[0m     tr_loss_step \u001b[38;5;241m=\u001b[39m \u001b[38;5;28mself\u001b[39m\u001b[38;5;241m.\u001b[39mtraining_step(model, inputs)\n\u001b[1;32m   1963\u001b[0m \u001b[38;5;28;01mif\u001b[39;00m (\n\u001b[1;32m   1964\u001b[0m     args\u001b[38;5;241m.\u001b[39mlogging_nan_inf_filter\n\u001b[1;32m   1965\u001b[0m     \u001b[38;5;129;01mand\u001b[39;00m \u001b[38;5;129;01mnot\u001b[39;00m is_torch_tpu_available()\n\u001b[0;32m-> 1966\u001b[0m     \u001b[38;5;129;01mand\u001b[39;00m (torch\u001b[38;5;241m.\u001b[39misnan(tr_loss_step) \u001b[38;5;129;01mor\u001b[39;00m \u001b[43mtorch\u001b[49m\u001b[38;5;241;43m.\u001b[39;49m\u001b[43misinf\u001b[49m\u001b[43m(\u001b[49m\u001b[43mtr_loss_step\u001b[49m\u001b[43m)\u001b[49m)\n\u001b[1;32m   1967\u001b[0m ):\n\u001b[1;32m   1968\u001b[0m     \u001b[38;5;66;03m# if loss is nan or inf simply add the average of previous logged losses\u001b[39;00m\n\u001b[1;32m   1969\u001b[0m     tr_loss \u001b[38;5;241m+\u001b[39m\u001b[38;5;241m=\u001b[39m tr_loss \u001b[38;5;241m/\u001b[39m (\u001b[38;5;241m1\u001b[39m \u001b[38;5;241m+\u001b[39m \u001b[38;5;28mself\u001b[39m\u001b[38;5;241m.\u001b[39mstate\u001b[38;5;241m.\u001b[39mglobal_step \u001b[38;5;241m-\u001b[39m \u001b[38;5;28mself\u001b[39m\u001b[38;5;241m.\u001b[39m_globalstep_last_logged)\n\u001b[1;32m   1970\u001b[0m \u001b[38;5;28;01melse\u001b[39;00m:\n",
      "\u001b[0;31mKeyboardInterrupt\u001b[0m: "
     ]
    }
   ],
   "source": [
    "from transformers import RobertaTokenizer, AutoModelForSequenceClassification\n",
    "\n",
    "# << Create Model and Tokenizer >>\n",
    "model = AutoModelForSequenceClassification.from_pretrained('FacebookAI/roberta-base', num_labels=2, id2label=id2label, label2id=label2id)\n",
    "tokenizer = RobertaTokenizer.from_pretrained('FacebookAI/roberta-base')\n",
    "\n",
    "# << Create Datasets >>\n",
    "training_dataset = PCLDataset(train_data_df, mask_tokens=h_params['mask tokens'], tokenizer=tokenizer, trunc_len=h_params['text trunction length'])\n",
    "val_dataset = PCLDataset(val_data_df, mask_tokens=False, tokenizer=tokenizer, trunc_len=h_params['text trunction length'])\n",
    "\n",
    "# << Setup the trainer >>\n",
    "trainer = setup_trainer('roberta-base', model, h_params, training_dataset, val_dataset)\n",
    "\n",
    "#  << Set model to training mode >>\n",
    "model.train()\n",
    "\n",
    "# << Train the model >>\n",
    "trainer.train()\n",
    "\n",
    "# << Plot the loss >>\n",
    "plot_loss(trainer)\n",
    "\n",
    "# << Save the model predictions >>\n",
    "save_model_predictions('roberta-base', model, tokenizer)\n",
    "\n",
    "# << Evaluate the model >>\n",
    "evaluate_model(model, tokenizer, val_dataset)\n",
    "evaluate_model(model, tokenizer, training_dataset)\n",
    "\n",
    "# roberta_trainer = full_train_run('bert-base-cased', model, tokenizer, training_dataset, val_dataset)"
   ]
  },
  {
   "cell_type": "markdown",
   "metadata": {},
   "source": [
    "### DistilBERT no masking"
   ]
  },
  {
   "cell_type": "code",
   "execution_count": 25,
   "metadata": {},
   "outputs": [
    {
     "name": "stderr",
     "output_type": "stream",
     "text": [
      "Some weights of DistilBertForSequenceClassification were not initialized from the model checkpoint at distilbert-base-uncased and are newly initialized: ['classifier.bias', 'classifier.weight', 'pre_classifier.bias', 'pre_classifier.weight']\n",
      "You should probably TRAIN this model on a down-stream task to be able to use it for predictions and inference.\n"
     ]
    },
    {
     "data": {
      "application/vnd.jupyter.widget-view+json": {
       "model_id": "9bbd25274ba2471f8bb244ee04f0f98f",
       "version_major": 2,
       "version_minor": 0
      },
      "text/plain": [
       "  0%|          | 0/2865 [00:00<?, ?it/s]"
      ]
     },
     "metadata": {},
     "output_type": "display_data"
    },
    {
     "name": "stdout",
     "output_type": "stream",
     "text": [
      "{'loss': 0.6881, 'grad_norm': 2.414789915084839, 'learning_rate': 1.9930191972076792e-05, 'epoch': 0.02}\n",
      "{'loss': 0.6754, 'grad_norm': 4.632843017578125, 'learning_rate': 1.986038394415358e-05, 'epoch': 0.03}\n",
      "{'loss': 0.6581, 'grad_norm': 2.054395914077759, 'learning_rate': 1.9790575916230367e-05, 'epoch': 0.05}\n",
      "{'loss': 0.6367, 'grad_norm': 2.9562864303588867, 'learning_rate': 1.9720767888307158e-05, 'epoch': 0.07}\n",
      "{'loss': 0.5532, 'grad_norm': 3.0328316688537598, 'learning_rate': 1.9650959860383945e-05, 'epoch': 0.09}\n",
      "{'loss': 0.5107, 'grad_norm': 4.308007717132568, 'learning_rate': 1.9581151832460736e-05, 'epoch': 0.1}\n",
      "{'loss': 0.4841, 'grad_norm': 13.155981063842773, 'learning_rate': 1.9511343804537523e-05, 'epoch': 0.12}\n",
      "{'loss': 0.494, 'grad_norm': 4.715897560119629, 'learning_rate': 1.9441535776614313e-05, 'epoch': 0.14}\n",
      "{'loss': 0.4988, 'grad_norm': 8.520383834838867, 'learning_rate': 1.93717277486911e-05, 'epoch': 0.16}\n",
      "{'loss': 0.4715, 'grad_norm': 7.223470687866211, 'learning_rate': 1.930191972076789e-05, 'epoch': 0.17}\n",
      "{'loss': 0.6133, 'grad_norm': 7.979206085205078, 'learning_rate': 1.923211169284468e-05, 'epoch': 0.19}\n",
      "{'loss': 0.4006, 'grad_norm': 4.654531478881836, 'learning_rate': 1.9162303664921466e-05, 'epoch': 0.21}\n",
      "{'loss': 0.6084, 'grad_norm': 6.341671943664551, 'learning_rate': 1.9092495636998257e-05, 'epoch': 0.23}\n",
      "{'loss': 0.429, 'grad_norm': 5.159004211425781, 'learning_rate': 1.9022687609075044e-05, 'epoch': 0.24}\n",
      "{'loss': 0.591, 'grad_norm': 5.981537342071533, 'learning_rate': 1.895287958115183e-05, 'epoch': 0.26}\n",
      "{'loss': 0.6138, 'grad_norm': 3.9274635314941406, 'learning_rate': 1.8883071553228622e-05, 'epoch': 0.28}\n",
      "{'loss': 0.5168, 'grad_norm': 5.60624361038208, 'learning_rate': 1.8813263525305413e-05, 'epoch': 0.3}\n",
      "{'loss': 0.46, 'grad_norm': 5.720746040344238, 'learning_rate': 1.87434554973822e-05, 'epoch': 0.31}\n"
     ]
    },
    {
     "ename": "KeyboardInterrupt",
     "evalue": "",
     "output_type": "error",
     "traceback": [
      "\u001b[0;31m---------------------------------------------------------------------------\u001b[0m",
      "\u001b[0;31mKeyboardInterrupt\u001b[0m                         Traceback (most recent call last)",
      "Cell \u001b[0;32mIn[25], line 18\u001b[0m\n\u001b[1;32m     15\u001b[0m model\u001b[38;5;241m.\u001b[39mtrain()\n\u001b[1;32m     17\u001b[0m \u001b[38;5;66;03m# << Train the model >>\u001b[39;00m\n\u001b[0;32m---> 18\u001b[0m \u001b[43mtrainer\u001b[49m\u001b[38;5;241;43m.\u001b[39;49m\u001b[43mtrain\u001b[49m\u001b[43m(\u001b[49m\u001b[43m)\u001b[49m\n\u001b[1;32m     20\u001b[0m \u001b[38;5;66;03m# << Plot the loss >>\u001b[39;00m\n\u001b[1;32m     21\u001b[0m plot_loss(trainer)\n",
      "File \u001b[0;32m~/Documents/imperial/year4/lectures/nlp/Coursework/nlp/.venv/lib/python3.10/site-packages/transformers/trainer.py:1624\u001b[0m, in \u001b[0;36mTrainer.train\u001b[0;34m(self, resume_from_checkpoint, trial, ignore_keys_for_eval, **kwargs)\u001b[0m\n\u001b[1;32m   1622\u001b[0m         hf_hub_utils\u001b[38;5;241m.\u001b[39menable_progress_bars()\n\u001b[1;32m   1623\u001b[0m \u001b[38;5;28;01melse\u001b[39;00m:\n\u001b[0;32m-> 1624\u001b[0m     \u001b[38;5;28;01mreturn\u001b[39;00m \u001b[43minner_training_loop\u001b[49m\u001b[43m(\u001b[49m\n\u001b[1;32m   1625\u001b[0m \u001b[43m        \u001b[49m\u001b[43margs\u001b[49m\u001b[38;5;241;43m=\u001b[39;49m\u001b[43margs\u001b[49m\u001b[43m,\u001b[49m\n\u001b[1;32m   1626\u001b[0m \u001b[43m        \u001b[49m\u001b[43mresume_from_checkpoint\u001b[49m\u001b[38;5;241;43m=\u001b[39;49m\u001b[43mresume_from_checkpoint\u001b[49m\u001b[43m,\u001b[49m\n\u001b[1;32m   1627\u001b[0m \u001b[43m        \u001b[49m\u001b[43mtrial\u001b[49m\u001b[38;5;241;43m=\u001b[39;49m\u001b[43mtrial\u001b[49m\u001b[43m,\u001b[49m\n\u001b[1;32m   1628\u001b[0m \u001b[43m        \u001b[49m\u001b[43mignore_keys_for_eval\u001b[49m\u001b[38;5;241;43m=\u001b[39;49m\u001b[43mignore_keys_for_eval\u001b[49m\u001b[43m,\u001b[49m\n\u001b[1;32m   1629\u001b[0m \u001b[43m    \u001b[49m\u001b[43m)\u001b[49m\n",
      "File \u001b[0;32m~/Documents/imperial/year4/lectures/nlp/Coursework/nlp/.venv/lib/python3.10/site-packages/transformers/trainer.py:1966\u001b[0m, in \u001b[0;36mTrainer._inner_training_loop\u001b[0;34m(self, batch_size, args, resume_from_checkpoint, trial, ignore_keys_for_eval)\u001b[0m\n\u001b[1;32m   1960\u001b[0m \u001b[38;5;28;01mwith\u001b[39;00m \u001b[38;5;28mself\u001b[39m\u001b[38;5;241m.\u001b[39maccelerator\u001b[38;5;241m.\u001b[39maccumulate(model):\n\u001b[1;32m   1961\u001b[0m     tr_loss_step \u001b[38;5;241m=\u001b[39m \u001b[38;5;28mself\u001b[39m\u001b[38;5;241m.\u001b[39mtraining_step(model, inputs)\n\u001b[1;32m   1963\u001b[0m \u001b[38;5;28;01mif\u001b[39;00m (\n\u001b[1;32m   1964\u001b[0m     args\u001b[38;5;241m.\u001b[39mlogging_nan_inf_filter\n\u001b[1;32m   1965\u001b[0m     \u001b[38;5;129;01mand\u001b[39;00m \u001b[38;5;129;01mnot\u001b[39;00m is_torch_tpu_available()\n\u001b[0;32m-> 1966\u001b[0m     \u001b[38;5;129;01mand\u001b[39;00m (torch\u001b[38;5;241m.\u001b[39misnan(tr_loss_step) \u001b[38;5;129;01mor\u001b[39;00m \u001b[43mtorch\u001b[49m\u001b[38;5;241;43m.\u001b[39;49m\u001b[43misinf\u001b[49m\u001b[43m(\u001b[49m\u001b[43mtr_loss_step\u001b[49m\u001b[43m)\u001b[49m)\n\u001b[1;32m   1967\u001b[0m ):\n\u001b[1;32m   1968\u001b[0m     \u001b[38;5;66;03m# if loss is nan or inf simply add the average of previous logged losses\u001b[39;00m\n\u001b[1;32m   1969\u001b[0m     tr_loss \u001b[38;5;241m+\u001b[39m\u001b[38;5;241m=\u001b[39m tr_loss \u001b[38;5;241m/\u001b[39m (\u001b[38;5;241m1\u001b[39m \u001b[38;5;241m+\u001b[39m \u001b[38;5;28mself\u001b[39m\u001b[38;5;241m.\u001b[39mstate\u001b[38;5;241m.\u001b[39mglobal_step \u001b[38;5;241m-\u001b[39m \u001b[38;5;28mself\u001b[39m\u001b[38;5;241m.\u001b[39m_globalstep_last_logged)\n\u001b[1;32m   1970\u001b[0m \u001b[38;5;28;01melse\u001b[39;00m:\n",
      "\u001b[0;31mKeyboardInterrupt\u001b[0m: "
     ]
    }
   ],
   "source": [
    "from transformers import DistilBertTokenizer, AutoModelForSequenceClassification\n",
    "\n",
    "# << Create Model and Tokenizer >>\n",
    "model = AutoModelForSequenceClassification.from_pretrained('distilbert-base-uncased', num_labels=2, id2label=id2label, label2id=label2id)\n",
    "tokenizer = DistilBertTokenizer.from_pretrained('distilbert-base-uncased')\n",
    "\n",
    "# << Create Datasets >>\n",
    "training_dataset = PCLDataset(train_data_df, mask_tokens=h_params['mask tokens'], tokenizer=tokenizer, trunc_len=h_params['text trunction length'])\n",
    "val_dataset = PCLDataset(val_data_df, mask_tokens=False, tokenizer=tokenizer, trunc_len=h_params['text trunction length'])\n",
    "\n",
    "# << Setup the trainer >>\n",
    "trainer = setup_trainer('distilbert-base-uncased', model, h_params, training_dataset, val_dataset)\n",
    "\n",
    "#  << Set model to training mode >>\n",
    "model.train()\n",
    "\n",
    "# << Train the model >>\n",
    "trainer.train()\n",
    "\n",
    "# << Plot the loss >>\n",
    "plot_loss(trainer)\n",
    "\n",
    "# << Save the model predictions >>\n",
    "save_model_predictions('distilbert-base-uncased', model, tokenizer)\n",
    "\n",
    "# << Evaluate the model >>\n",
    "evaluate_model(model, tokenizer, val_dataset)\n",
    "evaluate_model(model, tokenizer, training_dataset)\n",
    "\n",
    "# roberta_trainer = full_train_run('bert-base-cased', model, tokenizer, training_dataset, val_dataset)"
   ]
  },
  {
   "cell_type": "markdown",
   "metadata": {},
   "source": [
    "### DistilBERT with masking"
   ]
  },
  {
   "cell_type": "code",
   "execution_count": 28,
   "metadata": {},
   "outputs": [
    {
     "name": "stderr",
     "output_type": "stream",
     "text": [
      "Some weights of DistilBertForSequenceClassification were not initialized from the model checkpoint at distilbert-base-uncased and are newly initialized: ['classifier.bias', 'classifier.weight', 'pre_classifier.bias', 'pre_classifier.weight']\n",
      "You should probably TRAIN this model on a down-stream task to be able to use it for predictions and inference.\n"
     ]
    },
    {
     "data": {
      "application/vnd.jupyter.widget-view+json": {
       "model_id": "675ff4263bed492aa61c824db64c4b9c",
       "version_major": 2,
       "version_minor": 0
      },
      "text/plain": [
       "  0%|          | 0/2865 [00:00<?, ?it/s]"
      ]
     },
     "metadata": {},
     "output_type": "display_data"
    },
    {
     "name": "stdout",
     "output_type": "stream",
     "text": [
      "{'loss': 0.6881, 'grad_norm': 2.414789915084839, 'learning_rate': 1.9930191972076792e-05, 'epoch': 0.02}\n",
      "{'loss': 0.6754, 'grad_norm': 4.632843017578125, 'learning_rate': 1.986038394415358e-05, 'epoch': 0.03}\n",
      "{'loss': 0.6581, 'grad_norm': 2.054395914077759, 'learning_rate': 1.9790575916230367e-05, 'epoch': 0.05}\n",
      "{'loss': 0.6367, 'grad_norm': 2.9562864303588867, 'learning_rate': 1.9720767888307158e-05, 'epoch': 0.07}\n",
      "{'loss': 0.5532, 'grad_norm': 3.0328316688537598, 'learning_rate': 1.9650959860383945e-05, 'epoch': 0.09}\n",
      "{'loss': 0.5107, 'grad_norm': 4.308007717132568, 'learning_rate': 1.9581151832460736e-05, 'epoch': 0.1}\n",
      "{'loss': 0.4841, 'grad_norm': 13.155981063842773, 'learning_rate': 1.9511343804537523e-05, 'epoch': 0.12}\n",
      "{'loss': 0.494, 'grad_norm': 4.715897560119629, 'learning_rate': 1.9441535776614313e-05, 'epoch': 0.14}\n",
      "{'loss': 0.4988, 'grad_norm': 8.520383834838867, 'learning_rate': 1.93717277486911e-05, 'epoch': 0.16}\n",
      "{'loss': 0.4715, 'grad_norm': 7.223470687866211, 'learning_rate': 1.930191972076789e-05, 'epoch': 0.17}\n",
      "{'loss': 0.6133, 'grad_norm': 7.979206085205078, 'learning_rate': 1.923211169284468e-05, 'epoch': 0.19}\n",
      "{'loss': 0.4006, 'grad_norm': 4.654531478881836, 'learning_rate': 1.9162303664921466e-05, 'epoch': 0.21}\n",
      "{'loss': 0.6084, 'grad_norm': 6.341671943664551, 'learning_rate': 1.9092495636998257e-05, 'epoch': 0.23}\n",
      "{'loss': 0.429, 'grad_norm': 5.159004211425781, 'learning_rate': 1.9022687609075044e-05, 'epoch': 0.24}\n",
      "{'loss': 0.591, 'grad_norm': 5.981537342071533, 'learning_rate': 1.895287958115183e-05, 'epoch': 0.26}\n",
      "{'loss': 0.6138, 'grad_norm': 3.9274635314941406, 'learning_rate': 1.8883071553228622e-05, 'epoch': 0.28}\n",
      "{'loss': 0.5168, 'grad_norm': 5.60624361038208, 'learning_rate': 1.8813263525305413e-05, 'epoch': 0.3}\n",
      "{'loss': 0.46, 'grad_norm': 5.720746040344238, 'learning_rate': 1.87434554973822e-05, 'epoch': 0.31}\n",
      "{'loss': 0.5526, 'grad_norm': 7.1892781257629395, 'learning_rate': 1.8673647469458987e-05, 'epoch': 0.33}\n",
      "{'loss': 0.4016, 'grad_norm': 4.250481605529785, 'learning_rate': 1.8603839441535778e-05, 'epoch': 0.35}\n",
      "{'loss': 0.4401, 'grad_norm': 9.009562492370605, 'learning_rate': 1.853403141361257e-05, 'epoch': 0.37}\n",
      "{'loss': 0.3014, 'grad_norm': 14.893037796020508, 'learning_rate': 1.8464223385689356e-05, 'epoch': 0.38}\n",
      "{'loss': 0.5361, 'grad_norm': 11.79100227355957, 'learning_rate': 1.8394415357766143e-05, 'epoch': 0.4}\n",
      "{'loss': 0.5089, 'grad_norm': 5.141016960144043, 'learning_rate': 1.8324607329842934e-05, 'epoch': 0.42}\n",
      "{'loss': 0.567, 'grad_norm': 6.519350528717041, 'learning_rate': 1.825479930191972e-05, 'epoch': 0.44}\n",
      "{'loss': 0.5386, 'grad_norm': 4.424842834472656, 'learning_rate': 1.8184991273996512e-05, 'epoch': 0.45}\n",
      "{'loss': 0.4175, 'grad_norm': 8.931822776794434, 'learning_rate': 1.81151832460733e-05, 'epoch': 0.47}\n",
      "{'loss': 0.4886, 'grad_norm': 15.411734580993652, 'learning_rate': 1.804537521815009e-05, 'epoch': 0.49}\n",
      "{'loss': 0.4181, 'grad_norm': 7.247485160827637, 'learning_rate': 1.7975567190226877e-05, 'epoch': 0.51}\n",
      "{'loss': 0.3396, 'grad_norm': 12.219874382019043, 'learning_rate': 1.7905759162303668e-05, 'epoch': 0.52}\n",
      "{'loss': 0.4964, 'grad_norm': 3.650796413421631, 'learning_rate': 1.7835951134380455e-05, 'epoch': 0.54}\n",
      "{'loss': 0.4004, 'grad_norm': 5.926434516906738, 'learning_rate': 1.7766143106457242e-05, 'epoch': 0.56}\n",
      "{'loss': 0.2858, 'grad_norm': 3.4808483123779297, 'learning_rate': 1.7696335078534033e-05, 'epoch': 0.58}\n",
      "{'loss': 0.5011, 'grad_norm': 8.918717384338379, 'learning_rate': 1.7626527050610824e-05, 'epoch': 0.59}\n",
      "{'loss': 0.4106, 'grad_norm': 8.194416999816895, 'learning_rate': 1.755671902268761e-05, 'epoch': 0.61}\n",
      "{'loss': 0.4237, 'grad_norm': 10.504154205322266, 'learning_rate': 1.7486910994764398e-05, 'epoch': 0.63}\n",
      "{'loss': 0.4612, 'grad_norm': 11.644822120666504, 'learning_rate': 1.741710296684119e-05, 'epoch': 0.65}\n",
      "{'loss': 0.3883, 'grad_norm': 7.852944374084473, 'learning_rate': 1.734729493891798e-05, 'epoch': 0.66}\n",
      "{'loss': 0.4334, 'grad_norm': 3.2483561038970947, 'learning_rate': 1.7277486910994767e-05, 'epoch': 0.68}\n",
      "{'loss': 0.3776, 'grad_norm': 9.63581371307373, 'learning_rate': 1.7207678883071554e-05, 'epoch': 0.7}\n",
      "{'loss': 0.4228, 'grad_norm': 2.4330286979675293, 'learning_rate': 1.7137870855148345e-05, 'epoch': 0.72}\n",
      "{'loss': 0.3278, 'grad_norm': 9.051262855529785, 'learning_rate': 1.7068062827225132e-05, 'epoch': 0.73}\n",
      "{'loss': 0.4139, 'grad_norm': 12.186599731445312, 'learning_rate': 1.699825479930192e-05, 'epoch': 0.75}\n",
      "{'loss': 0.4125, 'grad_norm': 2.459698438644409, 'learning_rate': 1.692844677137871e-05, 'epoch': 0.77}\n",
      "{'loss': 0.3274, 'grad_norm': 18.38287925720215, 'learning_rate': 1.6858638743455497e-05, 'epoch': 0.79}\n",
      "{'loss': 0.4268, 'grad_norm': 2.619900703430176, 'learning_rate': 1.6788830715532288e-05, 'epoch': 0.8}\n",
      "{'loss': 0.4464, 'grad_norm': 11.110335350036621, 'learning_rate': 1.6719022687609075e-05, 'epoch': 0.82}\n",
      "{'loss': 0.4011, 'grad_norm': 5.468197822570801, 'learning_rate': 1.6649214659685866e-05, 'epoch': 0.84}\n",
      "{'loss': 0.5088, 'grad_norm': 8.151897430419922, 'learning_rate': 1.6579406631762653e-05, 'epoch': 0.86}\n",
      "{'loss': 0.295, 'grad_norm': 8.712555885314941, 'learning_rate': 1.6509598603839444e-05, 'epoch': 0.87}\n",
      "{'loss': 0.545, 'grad_norm': 13.755522727966309, 'learning_rate': 1.643979057591623e-05, 'epoch': 0.89}\n",
      "{'loss': 0.4358, 'grad_norm': 4.559478759765625, 'learning_rate': 1.636998254799302e-05, 'epoch': 0.91}\n",
      "{'loss': 0.3134, 'grad_norm': 7.870338439941406, 'learning_rate': 1.630017452006981e-05, 'epoch': 0.92}\n",
      "{'loss': 0.3523, 'grad_norm': 6.006438732147217, 'learning_rate': 1.62303664921466e-05, 'epoch': 0.94}\n",
      "{'loss': 0.3877, 'grad_norm': 6.771548271179199, 'learning_rate': 1.6160558464223387e-05, 'epoch': 0.96}\n",
      "{'loss': 0.3883, 'grad_norm': 2.491567611694336, 'learning_rate': 1.6090750436300174e-05, 'epoch': 0.98}\n",
      "{'loss': 0.3668, 'grad_norm': 3.5631561279296875, 'learning_rate': 1.6020942408376965e-05, 'epoch': 0.99}\n"
     ]
    },
    {
     "data": {
      "application/vnd.jupyter.widget-view+json": {
       "model_id": "082ad6e88adf410d9097eabcd9389fa1",
       "version_major": 2,
       "version_minor": 0
      },
      "text/plain": [
       "  0%|          | 0/131 [00:00<?, ?it/s]"
      ]
     },
     "metadata": {},
     "output_type": "display_data"
    },
    {
     "name": "stdout",
     "output_type": "stream",
     "text": [
      "{'eval_loss': 0.38503462076187134, 'eval_accuracy': 0.87774594078319, 'eval_runtime': 4.6194, 'eval_samples_per_second': 453.305, 'eval_steps_per_second': 28.359, 'epoch': 1.0}\n",
      "{'loss': 0.301, 'grad_norm': 1.8115569353103638, 'learning_rate': 1.5951134380453756e-05, 'epoch': 1.01}\n",
      "{'loss': 0.192, 'grad_norm': 5.168456554412842, 'learning_rate': 1.5881326352530543e-05, 'epoch': 1.03}\n",
      "{'loss': 0.3303, 'grad_norm': 0.3511413633823395, 'learning_rate': 1.581151832460733e-05, 'epoch': 1.05}\n",
      "{'loss': 0.4902, 'grad_norm': 19.131961822509766, 'learning_rate': 1.574171029668412e-05, 'epoch': 1.06}\n",
      "{'loss': 0.443, 'grad_norm': 17.582962036132812, 'learning_rate': 1.567190226876091e-05, 'epoch': 1.08}\n",
      "{'loss': 0.3405, 'grad_norm': 9.215032577514648, 'learning_rate': 1.56020942408377e-05, 'epoch': 1.1}\n",
      "{'loss': 0.4431, 'grad_norm': 19.831117630004883, 'learning_rate': 1.5532286212914486e-05, 'epoch': 1.12}\n",
      "{'loss': 0.2486, 'grad_norm': 14.503265380859375, 'learning_rate': 1.5462478184991274e-05, 'epoch': 1.13}\n",
      "{'loss': 0.2137, 'grad_norm': 11.224854469299316, 'learning_rate': 1.5392670157068064e-05, 'epoch': 1.15}\n",
      "{'loss': 0.2764, 'grad_norm': 4.502898693084717, 'learning_rate': 1.532286212914485e-05, 'epoch': 1.17}\n",
      "{'loss': 0.1532, 'grad_norm': 2.4759490489959717, 'learning_rate': 1.5253054101221642e-05, 'epoch': 1.19}\n",
      "{'loss': 0.3676, 'grad_norm': 13.582016944885254, 'learning_rate': 1.518324607329843e-05, 'epoch': 1.2}\n",
      "{'loss': 0.232, 'grad_norm': 2.4504311084747314, 'learning_rate': 1.511343804537522e-05, 'epoch': 1.22}\n",
      "{'loss': 0.3871, 'grad_norm': 0.638695240020752, 'learning_rate': 1.504363001745201e-05, 'epoch': 1.24}\n",
      "{'loss': 0.2015, 'grad_norm': 10.415204048156738, 'learning_rate': 1.4973821989528796e-05, 'epoch': 1.26}\n",
      "{'loss': 0.2586, 'grad_norm': 3.8002820014953613, 'learning_rate': 1.4904013961605585e-05, 'epoch': 1.27}\n",
      "{'loss': 0.2064, 'grad_norm': 4.725046634674072, 'learning_rate': 1.4834205933682374e-05, 'epoch': 1.29}\n",
      "{'loss': 0.2317, 'grad_norm': 14.706666946411133, 'learning_rate': 1.4764397905759162e-05, 'epoch': 1.31}\n",
      "{'loss': 0.2788, 'grad_norm': 14.733890533447266, 'learning_rate': 1.4694589877835952e-05, 'epoch': 1.33}\n",
      "{'loss': 0.1305, 'grad_norm': 2.1093783378601074, 'learning_rate': 1.4624781849912741e-05, 'epoch': 1.34}\n",
      "{'loss': 0.2312, 'grad_norm': 19.583791732788086, 'learning_rate': 1.455497382198953e-05, 'epoch': 1.36}\n",
      "{'loss': 0.3565, 'grad_norm': 13.504983901977539, 'learning_rate': 1.4485165794066318e-05, 'epoch': 1.38}\n",
      "{'loss': 0.2142, 'grad_norm': 13.203634262084961, 'learning_rate': 1.4415357766143108e-05, 'epoch': 1.4}\n",
      "{'loss': 0.2159, 'grad_norm': 3.727053165435791, 'learning_rate': 1.4345549738219897e-05, 'epoch': 1.41}\n",
      "{'loss': 0.2363, 'grad_norm': 0.5249785780906677, 'learning_rate': 1.4275741710296685e-05, 'epoch': 1.43}\n",
      "{'loss': 0.2259, 'grad_norm': 12.294316291809082, 'learning_rate': 1.4205933682373474e-05, 'epoch': 1.45}\n",
      "{'loss': 0.5021, 'grad_norm': 12.153068542480469, 'learning_rate': 1.4136125654450264e-05, 'epoch': 1.47}\n",
      "{'loss': 0.1797, 'grad_norm': 3.275590181350708, 'learning_rate': 1.4066317626527052e-05, 'epoch': 1.48}\n",
      "{'loss': 0.335, 'grad_norm': 12.555425643920898, 'learning_rate': 1.399650959860384e-05, 'epoch': 1.5}\n",
      "{'loss': 0.1411, 'grad_norm': 0.7832552790641785, 'learning_rate': 1.392670157068063e-05, 'epoch': 1.52}\n",
      "{'loss': 0.382, 'grad_norm': 24.23653793334961, 'learning_rate': 1.3856893542757418e-05, 'epoch': 1.54}\n",
      "{'loss': 0.2968, 'grad_norm': 5.435715198516846, 'learning_rate': 1.3787085514834206e-05, 'epoch': 1.55}\n",
      "{'loss': 0.2118, 'grad_norm': 8.36689567565918, 'learning_rate': 1.3717277486910996e-05, 'epoch': 1.57}\n",
      "{'loss': 0.1466, 'grad_norm': 2.129765510559082, 'learning_rate': 1.3647469458987785e-05, 'epoch': 1.59}\n",
      "{'loss': 0.4017, 'grad_norm': 3.739330768585205, 'learning_rate': 1.3577661431064573e-05, 'epoch': 1.61}\n",
      "{'loss': 0.2488, 'grad_norm': 2.429393768310547, 'learning_rate': 1.3507853403141362e-05, 'epoch': 1.62}\n",
      "{'loss': 0.1972, 'grad_norm': 1.1246212720870972, 'learning_rate': 1.3438045375218152e-05, 'epoch': 1.64}\n",
      "{'loss': 0.2684, 'grad_norm': 3.8166823387145996, 'learning_rate': 1.336823734729494e-05, 'epoch': 1.66}\n",
      "{'loss': 0.2786, 'grad_norm': 5.716588973999023, 'learning_rate': 1.3298429319371729e-05, 'epoch': 1.68}\n",
      "{'loss': 0.2828, 'grad_norm': 23.69308853149414, 'learning_rate': 1.3228621291448518e-05, 'epoch': 1.69}\n",
      "{'loss': 0.2654, 'grad_norm': 5.416459083557129, 'learning_rate': 1.3158813263525307e-05, 'epoch': 1.71}\n",
      "{'loss': 0.2106, 'grad_norm': 2.3526573181152344, 'learning_rate': 1.3089005235602094e-05, 'epoch': 1.73}\n",
      "{'loss': 0.4676, 'grad_norm': 1.6476027965545654, 'learning_rate': 1.3019197207678885e-05, 'epoch': 1.75}\n",
      "{'loss': 0.2166, 'grad_norm': 6.742188453674316, 'learning_rate': 1.2949389179755674e-05, 'epoch': 1.76}\n",
      "{'loss': 0.1352, 'grad_norm': 17.684051513671875, 'learning_rate': 1.287958115183246e-05, 'epoch': 1.78}\n",
      "{'loss': 0.3851, 'grad_norm': 5.725774765014648, 'learning_rate': 1.280977312390925e-05, 'epoch': 1.8}\n",
      "{'loss': 0.1618, 'grad_norm': 22.98099708557129, 'learning_rate': 1.273996509598604e-05, 'epoch': 1.82}\n",
      "{'loss': 0.208, 'grad_norm': 11.214123725891113, 'learning_rate': 1.2670157068062828e-05, 'epoch': 1.83}\n",
      "{'loss': 0.1162, 'grad_norm': 8.332718849182129, 'learning_rate': 1.2600349040139617e-05, 'epoch': 1.85}\n",
      "{'loss': 0.1504, 'grad_norm': 5.274698257446289, 'learning_rate': 1.2530541012216406e-05, 'epoch': 1.87}\n",
      "{'loss': 0.3896, 'grad_norm': 14.393199920654297, 'learning_rate': 1.2460732984293196e-05, 'epoch': 1.88}\n",
      "{'loss': 0.1803, 'grad_norm': 7.888129234313965, 'learning_rate': 1.2390924956369984e-05, 'epoch': 1.9}\n",
      "{'loss': 0.323, 'grad_norm': 34.816585540771484, 'learning_rate': 1.2321116928446773e-05, 'epoch': 1.92}\n",
      "{'loss': 0.2159, 'grad_norm': 21.427305221557617, 'learning_rate': 1.2251308900523562e-05, 'epoch': 1.94}\n",
      "{'loss': 0.2749, 'grad_norm': 0.35998740792274475, 'learning_rate': 1.2181500872600349e-05, 'epoch': 1.95}\n",
      "{'loss': 0.4126, 'grad_norm': 27.85570526123047, 'learning_rate': 1.2111692844677138e-05, 'epoch': 1.97}\n",
      "{'loss': 0.2511, 'grad_norm': 28.875141143798828, 'learning_rate': 1.2041884816753929e-05, 'epoch': 1.99}\n"
     ]
    },
    {
     "data": {
      "application/vnd.jupyter.widget-view+json": {
       "model_id": "c18a72a37ccd4c57b10ed8f261f79e38",
       "version_major": 2,
       "version_minor": 0
      },
      "text/plain": [
       "  0%|          | 0/131 [00:00<?, ?it/s]"
      ]
     },
     "metadata": {},
     "output_type": "display_data"
    },
    {
     "name": "stdout",
     "output_type": "stream",
     "text": [
      "{'eval_loss': 0.5826880931854248, 'eval_accuracy': 0.8973256924546322, 'eval_runtime': 4.5245, 'eval_samples_per_second': 462.814, 'eval_steps_per_second': 28.954, 'epoch': 2.0}\n",
      "{'loss': 0.2543, 'grad_norm': 32.52165985107422, 'learning_rate': 1.1972076788830716e-05, 'epoch': 2.01}\n",
      "{'loss': 0.1479, 'grad_norm': 6.413299560546875, 'learning_rate': 1.1902268760907505e-05, 'epoch': 2.02}\n",
      "{'loss': 0.1152, 'grad_norm': 1.7444044351577759, 'learning_rate': 1.1832460732984294e-05, 'epoch': 2.04}\n",
      "{'loss': 0.1038, 'grad_norm': 41.28646469116211, 'learning_rate': 1.1762652705061085e-05, 'epoch': 2.06}\n",
      "{'loss': 0.1774, 'grad_norm': 5.612088203430176, 'learning_rate': 1.1692844677137872e-05, 'epoch': 2.08}\n",
      "{'loss': 0.0411, 'grad_norm': 8.134644508361816, 'learning_rate': 1.162303664921466e-05, 'epoch': 2.09}\n",
      "{'loss': 0.1247, 'grad_norm': 0.5139351487159729, 'learning_rate': 1.155322862129145e-05, 'epoch': 2.11}\n",
      "{'loss': 0.135, 'grad_norm': 2.0054783821105957, 'learning_rate': 1.1483420593368237e-05, 'epoch': 2.13}\n",
      "{'loss': 0.0776, 'grad_norm': 13.629631042480469, 'learning_rate': 1.1413612565445028e-05, 'epoch': 2.15}\n",
      "{'loss': 0.356, 'grad_norm': 40.14277648925781, 'learning_rate': 1.1343804537521817e-05, 'epoch': 2.16}\n",
      "{'loss': 0.2068, 'grad_norm': 9.300019264221191, 'learning_rate': 1.1273996509598604e-05, 'epoch': 2.18}\n",
      "{'loss': 0.1369, 'grad_norm': 10.741046905517578, 'learning_rate': 1.1204188481675393e-05, 'epoch': 2.2}\n",
      "{'loss': 0.141, 'grad_norm': 38.803138732910156, 'learning_rate': 1.1134380453752182e-05, 'epoch': 2.22}\n",
      "{'loss': 0.1896, 'grad_norm': 18.88168716430664, 'learning_rate': 1.1064572425828973e-05, 'epoch': 2.23}\n",
      "{'loss': 0.0657, 'grad_norm': 1.8519301414489746, 'learning_rate': 1.099476439790576e-05, 'epoch': 2.25}\n",
      "{'loss': 0.0446, 'grad_norm': 22.24004364013672, 'learning_rate': 1.0924956369982549e-05, 'epoch': 2.27}\n",
      "{'loss': 0.1965, 'grad_norm': 0.8629308938980103, 'learning_rate': 1.0855148342059338e-05, 'epoch': 2.29}\n",
      "{'loss': 0.0832, 'grad_norm': 15.687073707580566, 'learning_rate': 1.0785340314136125e-05, 'epoch': 2.3}\n",
      "{'loss': 0.0458, 'grad_norm': 4.9280924797058105, 'learning_rate': 1.0715532286212916e-05, 'epoch': 2.32}\n",
      "{'loss': 0.0129, 'grad_norm': 0.38692691922187805, 'learning_rate': 1.0645724258289705e-05, 'epoch': 2.34}\n",
      "{'loss': 0.2758, 'grad_norm': 9.827876091003418, 'learning_rate': 1.0575916230366492e-05, 'epoch': 2.36}\n",
      "{'loss': 0.1068, 'grad_norm': 3.1378066539764404, 'learning_rate': 1.0506108202443281e-05, 'epoch': 2.37}\n",
      "{'loss': 0.1073, 'grad_norm': 4.303914546966553, 'learning_rate': 1.043630017452007e-05, 'epoch': 2.39}\n",
      "{'loss': 0.1227, 'grad_norm': 0.0970798060297966, 'learning_rate': 1.036649214659686e-05, 'epoch': 2.41}\n",
      "{'loss': 0.2651, 'grad_norm': 0.19537536799907684, 'learning_rate': 1.0296684118673648e-05, 'epoch': 2.43}\n",
      "{'loss': 0.1226, 'grad_norm': 4.562813758850098, 'learning_rate': 1.0226876090750437e-05, 'epoch': 2.44}\n",
      "{'loss': 0.0943, 'grad_norm': 9.082417488098145, 'learning_rate': 1.0157068062827226e-05, 'epoch': 2.46}\n",
      "{'loss': 0.5955, 'grad_norm': 3.562100648880005, 'learning_rate': 1.0087260034904013e-05, 'epoch': 2.48}\n",
      "{'loss': 0.0756, 'grad_norm': 0.2907319962978363, 'learning_rate': 1.0017452006980804e-05, 'epoch': 2.5}\n",
      "{'loss': 0.1119, 'grad_norm': 34.843544006347656, 'learning_rate': 9.947643979057593e-06, 'epoch': 2.51}\n",
      "{'loss': 0.0622, 'grad_norm': 18.192670822143555, 'learning_rate': 9.877835951134382e-06, 'epoch': 2.53}\n",
      "{'loss': 0.1316, 'grad_norm': 42.791908264160156, 'learning_rate': 9.80802792321117e-06, 'epoch': 2.55}\n",
      "{'loss': 0.1649, 'grad_norm': 11.558125495910645, 'learning_rate': 9.73821989528796e-06, 'epoch': 2.57}\n",
      "{'loss': 0.0481, 'grad_norm': 5.85345983505249, 'learning_rate': 9.668411867364747e-06, 'epoch': 2.58}\n",
      "{'loss': 0.142, 'grad_norm': 0.1346551477909088, 'learning_rate': 9.598603839441538e-06, 'epoch': 2.6}\n",
      "{'loss': 0.0758, 'grad_norm': 0.757523775100708, 'learning_rate': 9.528795811518325e-06, 'epoch': 2.62}\n",
      "{'loss': 0.0815, 'grad_norm': 0.15526965260505676, 'learning_rate': 9.458987783595114e-06, 'epoch': 2.64}\n",
      "{'loss': 0.1976, 'grad_norm': 19.777633666992188, 'learning_rate': 9.389179755671903e-06, 'epoch': 2.65}\n",
      "{'loss': 0.127, 'grad_norm': 0.059888239949941635, 'learning_rate': 9.319371727748692e-06, 'epoch': 2.67}\n",
      "{'loss': 0.1687, 'grad_norm': 14.838205337524414, 'learning_rate': 9.249563699825481e-06, 'epoch': 2.69}\n",
      "{'loss': 0.0578, 'grad_norm': 0.1506173312664032, 'learning_rate': 9.17975567190227e-06, 'epoch': 2.71}\n",
      "{'loss': 0.1086, 'grad_norm': 7.078464508056641, 'learning_rate': 9.109947643979057e-06, 'epoch': 2.72}\n",
      "{'loss': 0.2976, 'grad_norm': 143.30377197265625, 'learning_rate': 9.040139616055848e-06, 'epoch': 2.74}\n",
      "{'loss': 0.173, 'grad_norm': 0.0871410146355629, 'learning_rate': 8.970331588132635e-06, 'epoch': 2.76}\n",
      "{'loss': 0.2124, 'grad_norm': 0.08251937478780746, 'learning_rate': 8.900523560209426e-06, 'epoch': 2.77}\n",
      "{'loss': 0.2478, 'grad_norm': 11.542672157287598, 'learning_rate': 8.830715532286213e-06, 'epoch': 2.79}\n",
      "{'loss': 0.0239, 'grad_norm': 0.09265918284654617, 'learning_rate': 8.760907504363002e-06, 'epoch': 2.81}\n",
      "{'loss': 0.1168, 'grad_norm': 12.94579029083252, 'learning_rate': 8.691099476439791e-06, 'epoch': 2.83}\n",
      "{'loss': 0.1661, 'grad_norm': 59.7763786315918, 'learning_rate': 8.62129144851658e-06, 'epoch': 2.84}\n",
      "{'loss': 0.0564, 'grad_norm': 9.221758842468262, 'learning_rate': 8.55148342059337e-06, 'epoch': 2.86}\n",
      "{'loss': 0.0896, 'grad_norm': 11.156911849975586, 'learning_rate': 8.481675392670158e-06, 'epoch': 2.88}\n",
      "{'loss': 0.1202, 'grad_norm': 0.12247057259082794, 'learning_rate': 8.411867364746945e-06, 'epoch': 2.9}\n",
      "{'loss': 0.1769, 'grad_norm': 1.7362501621246338, 'learning_rate': 8.342059336823736e-06, 'epoch': 2.91}\n",
      "{'loss': 0.0486, 'grad_norm': 0.25985363125801086, 'learning_rate': 8.272251308900523e-06, 'epoch': 2.93}\n",
      "{'loss': 0.2475, 'grad_norm': 9.198460578918457, 'learning_rate': 8.202443280977314e-06, 'epoch': 2.95}\n",
      "{'loss': 0.119, 'grad_norm': 0.33026403188705444, 'learning_rate': 8.132635253054101e-06, 'epoch': 2.97}\n",
      "{'loss': 0.2159, 'grad_norm': 23.338258743286133, 'learning_rate': 8.06282722513089e-06, 'epoch': 2.98}\n"
     ]
    },
    {
     "data": {
      "application/vnd.jupyter.widget-view+json": {
       "model_id": "d4dd90ccc9584f55885f2016df4e0ac9",
       "version_major": 2,
       "version_minor": 0
      },
      "text/plain": [
       "  0%|          | 0/131 [00:00<?, ?it/s]"
      ]
     },
     "metadata": {},
     "output_type": "display_data"
    },
    {
     "name": "stdout",
     "output_type": "stream",
     "text": [
      "{'eval_loss': 0.7272594571113586, 'eval_accuracy': 0.8715377268385864, 'eval_runtime': 4.6405, 'eval_samples_per_second': 451.241, 'eval_steps_per_second': 28.23, 'epoch': 3.0}\n",
      "{'loss': 0.1274, 'grad_norm': 11.274100303649902, 'learning_rate': 7.99301919720768e-06, 'epoch': 3.0}\n",
      "{'loss': 0.0704, 'grad_norm': 0.06668967008590698, 'learning_rate': 7.923211169284468e-06, 'epoch': 3.02}\n",
      "{'loss': 0.0373, 'grad_norm': 0.04963957890868187, 'learning_rate': 7.853403141361257e-06, 'epoch': 3.04}\n",
      "{'loss': 0.1488, 'grad_norm': 1.818806767463684, 'learning_rate': 7.783595113438046e-06, 'epoch': 3.05}\n",
      "{'loss': 0.0509, 'grad_norm': 0.13673341274261475, 'learning_rate': 7.713787085514834e-06, 'epoch': 3.07}\n",
      "{'loss': 0.0885, 'grad_norm': 1.5729368925094604, 'learning_rate': 7.643979057591624e-06, 'epoch': 3.09}\n",
      "{'loss': 0.0955, 'grad_norm': 0.09966233372688293, 'learning_rate': 7.5741710296684124e-06, 'epoch': 3.11}\n",
      "{'loss': 0.0123, 'grad_norm': 0.12535184621810913, 'learning_rate': 7.504363001745201e-06, 'epoch': 3.12}\n",
      "{'loss': 0.0628, 'grad_norm': 6.2544684410095215, 'learning_rate': 7.43455497382199e-06, 'epoch': 3.14}\n",
      "{'loss': 0.0072, 'grad_norm': 0.05994407460093498, 'learning_rate': 7.3647469458987785e-06, 'epoch': 3.16}\n",
      "{'loss': 0.015, 'grad_norm': 0.03168461099267006, 'learning_rate': 7.294938917975568e-06, 'epoch': 3.18}\n",
      "{'loss': 0.044, 'grad_norm': 0.26525336503982544, 'learning_rate': 7.2251308900523565e-06, 'epoch': 3.19}\n",
      "{'loss': 0.0043, 'grad_norm': 0.9551652669906616, 'learning_rate': 7.155322862129146e-06, 'epoch': 3.21}\n",
      "{'loss': 0.1264, 'grad_norm': 0.03284022957086563, 'learning_rate': 7.0855148342059345e-06, 'epoch': 3.23}\n",
      "{'loss': 0.1487, 'grad_norm': 0.12054986506700516, 'learning_rate': 7.015706806282723e-06, 'epoch': 3.25}\n",
      "{'loss': 0.0319, 'grad_norm': 0.0462452657520771, 'learning_rate': 6.945898778359512e-06, 'epoch': 3.26}\n",
      "{'loss': 0.0302, 'grad_norm': 0.06891260296106339, 'learning_rate': 6.8760907504363005e-06, 'epoch': 3.28}\n",
      "{'loss': 0.0508, 'grad_norm': 36.415283203125, 'learning_rate': 6.80628272251309e-06, 'epoch': 3.3}\n",
      "{'loss': 0.0478, 'grad_norm': 0.03851828724145889, 'learning_rate': 6.7364746945898785e-06, 'epoch': 3.32}\n",
      "{'loss': 0.0067, 'grad_norm': 2.8606784343719482, 'learning_rate': 6.666666666666667e-06, 'epoch': 3.33}\n",
      "{'loss': 0.0067, 'grad_norm': 0.04507011920213699, 'learning_rate': 6.5968586387434565e-06, 'epoch': 3.35}\n",
      "{'loss': 0.0919, 'grad_norm': 12.428340911865234, 'learning_rate': 6.527050610820245e-06, 'epoch': 3.37}\n",
      "{'loss': 0.0528, 'grad_norm': 0.9052041172981262, 'learning_rate': 6.4572425828970344e-06, 'epoch': 3.39}\n",
      "{'loss': 0.1472, 'grad_norm': 0.13962684571743011, 'learning_rate': 6.3874345549738226e-06, 'epoch': 3.4}\n",
      "{'loss': 0.0558, 'grad_norm': 1.3738230466842651, 'learning_rate': 6.317626527050611e-06, 'epoch': 3.42}\n",
      "{'loss': 0.0429, 'grad_norm': 0.06088724359869957, 'learning_rate': 6.2478184991274005e-06, 'epoch': 3.44}\n",
      "{'loss': 0.041, 'grad_norm': 0.34370237588882446, 'learning_rate': 6.178010471204189e-06, 'epoch': 3.46}\n",
      "{'loss': 0.1303, 'grad_norm': 0.15777817368507385, 'learning_rate': 6.1082024432809785e-06, 'epoch': 3.47}\n",
      "{'loss': 0.1367, 'grad_norm': 0.1661480814218521, 'learning_rate': 6.038394415357767e-06, 'epoch': 3.49}\n",
      "{'loss': 0.0354, 'grad_norm': 2.8914594650268555, 'learning_rate': 5.968586387434555e-06, 'epoch': 3.51}\n",
      "{'loss': 0.1078, 'grad_norm': 58.68113327026367, 'learning_rate': 5.898778359511345e-06, 'epoch': 3.53}\n",
      "{'loss': 0.0091, 'grad_norm': 0.01997300051152706, 'learning_rate': 5.828970331588133e-06, 'epoch': 3.54}\n",
      "{'loss': 0.1708, 'grad_norm': 0.17535340785980225, 'learning_rate': 5.7591623036649226e-06, 'epoch': 3.56}\n",
      "{'loss': 0.0122, 'grad_norm': 12.068024635314941, 'learning_rate': 5.689354275741711e-06, 'epoch': 3.58}\n",
      "{'loss': 0.0021, 'grad_norm': 0.02424205280840397, 'learning_rate': 5.619546247818499e-06, 'epoch': 3.6}\n",
      "{'loss': 0.0886, 'grad_norm': 0.028932800516486168, 'learning_rate': 5.549738219895289e-06, 'epoch': 3.61}\n",
      "{'loss': 0.0533, 'grad_norm': 0.12045532464981079, 'learning_rate': 5.479930191972077e-06, 'epoch': 3.63}\n",
      "{'loss': 0.0187, 'grad_norm': 0.051089003682136536, 'learning_rate': 5.410122164048867e-06, 'epoch': 3.65}\n",
      "{'loss': 0.256, 'grad_norm': 0.033222127705812454, 'learning_rate': 5.340314136125655e-06, 'epoch': 3.66}\n",
      "{'loss': 0.1164, 'grad_norm': 78.2511215209961, 'learning_rate': 5.270506108202444e-06, 'epoch': 3.68}\n",
      "{'loss': 0.0065, 'grad_norm': 0.215697780251503, 'learning_rate': 5.200698080279233e-06, 'epoch': 3.7}\n",
      "{'loss': 0.078, 'grad_norm': 0.021166669204831123, 'learning_rate': 5.130890052356021e-06, 'epoch': 3.72}\n",
      "{'loss': 0.0182, 'grad_norm': 0.026745811104774475, 'learning_rate': 5.061082024432811e-06, 'epoch': 3.73}\n",
      "{'loss': 0.1254, 'grad_norm': 1.9689146280288696, 'learning_rate': 4.991273996509599e-06, 'epoch': 3.75}\n",
      "{'loss': 0.0532, 'grad_norm': 0.39203721284866333, 'learning_rate': 4.921465968586388e-06, 'epoch': 3.77}\n",
      "{'loss': 0.0049, 'grad_norm': 0.03213425725698471, 'learning_rate': 4.851657940663177e-06, 'epoch': 3.79}\n",
      "{'loss': 0.0218, 'grad_norm': 0.6768081188201904, 'learning_rate': 4.781849912739966e-06, 'epoch': 3.8}\n",
      "{'loss': 0.0373, 'grad_norm': 11.250048637390137, 'learning_rate': 4.712041884816754e-06, 'epoch': 3.82}\n",
      "{'loss': 0.0427, 'grad_norm': 0.09251217544078827, 'learning_rate': 4.642233856893543e-06, 'epoch': 3.84}\n",
      "{'loss': 0.025, 'grad_norm': 0.017905786633491516, 'learning_rate': 4.572425828970332e-06, 'epoch': 3.86}\n",
      "{'loss': 0.1085, 'grad_norm': 5.375725746154785, 'learning_rate': 4.502617801047121e-06, 'epoch': 3.87}\n",
      "{'loss': 0.1311, 'grad_norm': 0.0308579932898283, 'learning_rate': 4.43280977312391e-06, 'epoch': 3.89}\n",
      "{'loss': 0.0472, 'grad_norm': 1.3106541633605957, 'learning_rate': 4.363001745200699e-06, 'epoch': 3.91}\n",
      "{'loss': 0.0021, 'grad_norm': 0.017943434417247772, 'learning_rate': 4.293193717277487e-06, 'epoch': 3.93}\n",
      "{'loss': 0.0061, 'grad_norm': 0.015997229143977165, 'learning_rate': 4.223385689354276e-06, 'epoch': 3.94}\n",
      "{'loss': 0.006, 'grad_norm': 1.1247944831848145, 'learning_rate': 4.153577661431065e-06, 'epoch': 3.96}\n",
      "{'loss': 0.1889, 'grad_norm': 0.03881457448005676, 'learning_rate': 4.083769633507854e-06, 'epoch': 3.98}\n",
      "{'loss': 0.0207, 'grad_norm': 0.015529914759099483, 'learning_rate': 4.013961605584643e-06, 'epoch': 4.0}\n"
     ]
    },
    {
     "data": {
      "application/vnd.jupyter.widget-view+json": {
       "model_id": "94b17e96ca3c4cf9a0f4815243b87afd",
       "version_major": 2,
       "version_minor": 0
      },
      "text/plain": [
       "  0%|          | 0/131 [00:00<?, ?it/s]"
      ]
     },
     "metadata": {},
     "output_type": "display_data"
    },
    {
     "name": "stdout",
     "output_type": "stream",
     "text": [
      "{'eval_loss': 1.0256545543670654, 'eval_accuracy': 0.9030563514804203, 'eval_runtime': 4.6585, 'eval_samples_per_second': 449.505, 'eval_steps_per_second': 28.121, 'epoch': 4.0}\n",
      "{'loss': 0.0475, 'grad_norm': 0.042776890099048615, 'learning_rate': 3.944153577661432e-06, 'epoch': 4.01}\n",
      "{'loss': 0.0364, 'grad_norm': 0.035534486174583435, 'learning_rate': 3.874345549738221e-06, 'epoch': 4.03}\n",
      "{'loss': 0.0095, 'grad_norm': 0.06018878147006035, 'learning_rate': 3.804537521815009e-06, 'epoch': 4.05}\n",
      "{'loss': 0.0234, 'grad_norm': 0.2571093738079071, 'learning_rate': 3.7347294938917975e-06, 'epoch': 4.07}\n",
      "{'loss': 0.002, 'grad_norm': 0.020129648968577385, 'learning_rate': 3.6649214659685865e-06, 'epoch': 4.08}\n",
      "{'loss': 0.024, 'grad_norm': 15.717753410339355, 'learning_rate': 3.5951134380453755e-06, 'epoch': 4.1}\n",
      "{'loss': 0.0018, 'grad_norm': 0.05360155925154686, 'learning_rate': 3.5253054101221645e-06, 'epoch': 4.12}\n",
      "{'loss': 0.004, 'grad_norm': 0.021047145128250122, 'learning_rate': 3.455497382198953e-06, 'epoch': 4.14}\n",
      "{'loss': 0.0269, 'grad_norm': 16.66435432434082, 'learning_rate': 3.385689354275742e-06, 'epoch': 4.15}\n",
      "{'loss': 0.0096, 'grad_norm': 0.03444434329867363, 'learning_rate': 3.315881326352531e-06, 'epoch': 4.17}\n",
      "{'loss': 0.0206, 'grad_norm': 0.624129593372345, 'learning_rate': 3.2460732984293196e-06, 'epoch': 4.19}\n",
      "{'loss': 0.0841, 'grad_norm': 17.296710968017578, 'learning_rate': 3.1762652705061085e-06, 'epoch': 4.21}\n",
      "{'loss': 0.0231, 'grad_norm': 69.20038604736328, 'learning_rate': 3.106457242582897e-06, 'epoch': 4.22}\n",
      "{'loss': 0.0041, 'grad_norm': 0.09894244372844696, 'learning_rate': 3.036649214659686e-06, 'epoch': 4.24}\n",
      "{'loss': 0.0016, 'grad_norm': 0.7689220309257507, 'learning_rate': 2.966841186736475e-06, 'epoch': 4.26}\n",
      "{'loss': 0.0251, 'grad_norm': 0.12712252140045166, 'learning_rate': 2.897033158813264e-06, 'epoch': 4.28}\n",
      "{'loss': 0.0068, 'grad_norm': 0.020942751318216324, 'learning_rate': 2.8272251308900526e-06, 'epoch': 4.29}\n",
      "{'loss': 0.052, 'grad_norm': 0.0517498217523098, 'learning_rate': 2.757417102966841e-06, 'epoch': 4.31}\n",
      "{'loss': 0.0011, 'grad_norm': 0.02816717140376568, 'learning_rate': 2.68760907504363e-06, 'epoch': 4.33}\n",
      "{'loss': 0.1217, 'grad_norm': 0.3861639201641083, 'learning_rate': 2.617801047120419e-06, 'epoch': 4.35}\n",
      "{'loss': 0.0295, 'grad_norm': 0.01619907282292843, 'learning_rate': 2.547993019197208e-06, 'epoch': 4.36}\n",
      "{'loss': 0.0276, 'grad_norm': 0.5894079208374023, 'learning_rate': 2.4781849912739967e-06, 'epoch': 4.38}\n",
      "{'loss': 0.0014, 'grad_norm': 0.0541679784655571, 'learning_rate': 2.4083769633507856e-06, 'epoch': 4.4}\n",
      "{'loss': 0.0023, 'grad_norm': 0.029260093346238136, 'learning_rate': 2.338568935427574e-06, 'epoch': 4.42}\n",
      "{'loss': 0.0031, 'grad_norm': 6.851537227630615, 'learning_rate': 2.268760907504363e-06, 'epoch': 4.43}\n",
      "{'loss': 0.061, 'grad_norm': 0.03161992132663727, 'learning_rate': 2.198952879581152e-06, 'epoch': 4.45}\n",
      "{'loss': 0.0024, 'grad_norm': 0.018429355695843697, 'learning_rate': 2.1291448516579407e-06, 'epoch': 4.47}\n",
      "{'loss': 0.1417, 'grad_norm': 1.8706010580062866, 'learning_rate': 2.0593368237347297e-06, 'epoch': 4.49}\n",
      "{'loss': 0.0023, 'grad_norm': 0.040182095021009445, 'learning_rate': 1.9895287958115183e-06, 'epoch': 4.5}\n",
      "{'loss': 0.0018, 'grad_norm': 0.016511304304003716, 'learning_rate': 1.9197207678883072e-06, 'epoch': 4.52}\n",
      "{'loss': 0.0064, 'grad_norm': 0.015474330633878708, 'learning_rate': 1.8499127399650962e-06, 'epoch': 4.54}\n",
      "{'loss': 0.0031, 'grad_norm': 0.10563348233699799, 'learning_rate': 1.780104712041885e-06, 'epoch': 4.55}\n",
      "{'loss': 0.0061, 'grad_norm': 18.22367286682129, 'learning_rate': 1.7102966841186738e-06, 'epoch': 4.57}\n",
      "{'loss': 0.0465, 'grad_norm': 0.013104190118610859, 'learning_rate': 1.6404886561954625e-06, 'epoch': 4.59}\n",
      "{'loss': 0.0432, 'grad_norm': 0.06083444878458977, 'learning_rate': 1.5706806282722515e-06, 'epoch': 4.61}\n",
      "{'loss': 0.0439, 'grad_norm': 93.61260986328125, 'learning_rate': 1.5008726003490403e-06, 'epoch': 4.62}\n",
      "{'loss': 0.0102, 'grad_norm': 0.046656250953674316, 'learning_rate': 1.431064572425829e-06, 'epoch': 4.64}\n",
      "{'loss': 0.0196, 'grad_norm': 0.3011910915374756, 'learning_rate': 1.361256544502618e-06, 'epoch': 4.66}\n",
      "{'loss': 0.0782, 'grad_norm': 0.03110295534133911, 'learning_rate': 1.2914485165794066e-06, 'epoch': 4.68}\n",
      "{'loss': 0.0389, 'grad_norm': 0.012183262966573238, 'learning_rate': 1.2216404886561956e-06, 'epoch': 4.69}\n",
      "{'loss': 0.0337, 'grad_norm': 0.0225002933293581, 'learning_rate': 1.1518324607329843e-06, 'epoch': 4.71}\n",
      "{'loss': 0.0857, 'grad_norm': 0.02482905611395836, 'learning_rate': 1.0820244328097731e-06, 'epoch': 4.73}\n",
      "{'loss': 0.0863, 'grad_norm': 0.01892027258872986, 'learning_rate': 1.012216404886562e-06, 'epoch': 4.75}\n",
      "{'loss': 0.0011, 'grad_norm': 0.018238959833979607, 'learning_rate': 9.424083769633509e-07, 'epoch': 4.76}\n",
      "{'loss': 0.003, 'grad_norm': 0.2977263033390045, 'learning_rate': 8.726003490401396e-07, 'epoch': 4.78}\n",
      "{'loss': 0.1053, 'grad_norm': 0.011677584610879421, 'learning_rate': 8.027923211169285e-07, 'epoch': 4.8}\n",
      "{'loss': 0.1398, 'grad_norm': 0.016925306990742683, 'learning_rate': 7.329842931937173e-07, 'epoch': 4.82}\n",
      "{'loss': 0.0781, 'grad_norm': 43.29179763793945, 'learning_rate': 6.631762652705063e-07, 'epoch': 4.83}\n",
      "{'loss': 0.003, 'grad_norm': 0.019058329984545708, 'learning_rate': 5.93368237347295e-07, 'epoch': 4.85}\n",
      "{'loss': 0.0565, 'grad_norm': 7.331961154937744, 'learning_rate': 5.235602094240838e-07, 'epoch': 4.87}\n",
      "{'loss': 0.0817, 'grad_norm': 0.041061144322156906, 'learning_rate': 4.537521815008726e-07, 'epoch': 4.89}\n",
      "{'loss': 0.0155, 'grad_norm': 0.016023743897676468, 'learning_rate': 3.839441535776615e-07, 'epoch': 4.9}\n",
      "{'loss': 0.0051, 'grad_norm': 0.020201237872242928, 'learning_rate': 3.1413612565445027e-07, 'epoch': 4.92}\n",
      "{'loss': 0.1454, 'grad_norm': 0.10681844502687454, 'learning_rate': 2.443280977312391e-07, 'epoch': 4.94}\n",
      "{'loss': 0.0015, 'grad_norm': 0.028557902202010155, 'learning_rate': 1.7452006980802794e-07, 'epoch': 4.96}\n",
      "{'loss': 0.117, 'grad_norm': 0.05831334367394447, 'learning_rate': 1.0471204188481677e-07, 'epoch': 4.97}\n",
      "{'loss': 0.1089, 'grad_norm': 0.013817007653415203, 'learning_rate': 3.490401396160559e-08, 'epoch': 4.99}\n"
     ]
    },
    {
     "data": {
      "application/vnd.jupyter.widget-view+json": {
       "model_id": "556a3f73be904aa88cb532f64a228e72",
       "version_major": 2,
       "version_minor": 0
      },
      "text/plain": [
       "  0%|          | 0/131 [00:00<?, ?it/s]"
      ]
     },
     "metadata": {},
     "output_type": "display_data"
    },
    {
     "name": "stdout",
     "output_type": "stream",
     "text": [
      "{'eval_loss': 1.071964144706726, 'eval_accuracy': 0.9016236867239733, 'eval_runtime': 4.5655, 'eval_samples_per_second': 458.655, 'eval_steps_per_second': 28.693, 'epoch': 5.0}\n",
      "{'train_runtime': 418.3422, 'train_samples_per_second': 109.551, 'train_steps_per_second': 6.848, 'train_loss': 0.19506662527999694, 'epoch': 5.0}\n",
      "[1, 2, 3, 4, 5]\n",
      "[0.38503462076187134, 0.5826880931854248, 0.7272594571113586, 1.0256545543670654, 1.071964144706726]\n",
      "[0.87774594078319, 0.8973256924546322, 0.8715377268385864, 0.9030563514804203, 0.9016236867239733]\n"
     ]
    },
    {
     "data": {
      "image/png": "[encoded data removed]",
      "text/plain": [
       "<Figure size 1500x500 with 2 Axes>"
      ]
     },
     "metadata": {},
     "output_type": "display_data"
    },
    {
     "name": "stderr",
     "output_type": "stream",
     "text": [
      "100%|██████████| 240/240 [00:06<00:00, 34.78it/s]\n",
      "100%|██████████| 655/655 [00:25<00:00, 25.73it/s]\n",
      "100%|██████████| 2094/2094 [00:11<00:00, 187.03it/s]\n"
     ]
    },
    {
     "name": "stdout",
     "output_type": "stream",
     "text": [
      "{'Not offensive': {'precision': 0.9643059490084985, 'recall': 0.8981530343007915, 'f1-score': 0.9300546448087431, 'support': 1895.0}, 'Offensive': {'precision': 0.4133738601823708, 'recall': 0.6834170854271356, 'f1-score': 0.5151515151515151, 'support': 199.0}, 'accuracy': 0.87774594078319, 'macro avg': {'precision': 0.6888399045954346, 'recall': 0.7907850598639636, 'f1-score': 0.7226030799801291, 'support': 2094.0}, 'weighted avg': {'precision': 0.9119489835469897, 'recall': 0.87774594078319, 'f1-score': 0.8906249777591785, 'support': 2094.0}}\n"
     ]
    },
    {
     "data": {
      "image/png": "[encoded data removed]",
      "text/plain": [
       "<Figure size 640x480 with 2 Axes>"
      ]
     },
     "metadata": {},
     "output_type": "display_data"
    },
    {
     "name": "stderr",
     "output_type": "stream",
     "text": [
      "100%|██████████| 9166/9166 [00:47<00:00, 193.99it/s]\n"
     ]
    },
    {
     "name": "stdout",
     "output_type": "stream",
     "text": [
      "{'Not offensive': {'precision': 0.9742068965517241, 'recall': 0.9317941952506597, 'f1-score': 0.9525286581254214, 'support': 7580.0}, 'Offensive': {'precision': 0.7301670146137788, 'recall': 0.882093316519546, 'f1-score': 0.7989720159908623, 'support': 1586.0}, 'accuracy': 0.9231944141392101, 'macro avg': {'precision': 0.8521869555827515, 'recall': 0.9069437558851028, 'f1-score': 0.8757503370581419, 'support': 9166.0}, 'weighted avg': {'precision': 0.9319804888762298, 'recall': 0.9231944141392101, 'f1-score': 0.9259586347318571, 'support': 9166.0}}\n"
     ]
    },
    {
     "data": {
      "image/png": "[encoded data removed]",
      "text/plain": [
       "<Figure size 640x480 with 2 Axes>"
      ]
     },
     "metadata": {},
     "output_type": "display_data"
    },
    {
     "data": {
      "text/plain": [
       "{'Not offensive': {'precision': 0.9742068965517241,\n",
       "  'recall': 0.9317941952506597,\n",
       "  'f1-score': 0.9525286581254214,\n",
       "  'support': 7580.0},\n",
       " 'Offensive': {'precision': 0.7301670146137788,\n",
       "  'recall': 0.882093316519546,\n",
       "  'f1-score': 0.7989720159908623,\n",
       "  'support': 1586.0},\n",
       " 'accuracy': 0.9231944141392101,\n",
       " 'macro avg': {'precision': 0.8521869555827515,\n",
       "  'recall': 0.9069437558851028,\n",
       "  'f1-score': 0.8757503370581419,\n",
       "  'support': 9166.0},\n",
       " 'weighted avg': {'precision': 0.9319804888762298,\n",
       "  'recall': 0.9231944141392101,\n",
       "  'f1-score': 0.9259586347318571,\n",
       "  'support': 9166.0}}"
      ]
     },
     "execution_count": 28,
     "metadata": {},
     "output_type": "execute_result"
    }
   ],
   "source": [
    "from transformers import DistilBertTokenizer, AutoModelForSequenceClassification\n",
    "from transformers import DistilBertConfig\n",
    "\n",
    "# << Create Model and Tokenizer >>\n",
    "# model = AutoModelForSequenceClassification.from_pretrained('distilbert-base-uncased', num_labels=2, id2label=id2label, label2id=label2id)\n",
    "\n",
    "model = AutoModelForSequenceClassification.from_pretrained('distilbert-base-uncased', num_labels=2, id2label=id2label, label2id=label2id)\n",
    "tokenizer = DistilBertTokenizer.from_pretrained('distilbert-base-uncased')\n",
    "\n",
    "h_params['mask tokens'] = True\n",
    "\n",
    "# << Create Datasets >>\n",
    "training_dataset = PCLDataset(train_data_df, mask_tokens=h_params['mask tokens'], tokenizer=tokenizer, trunc_len=h_params['text trunction length'])\n",
    "val_dataset = PCLDataset(val_data_df, mask_tokens=False, tokenizer=tokenizer, trunc_len=h_params['text trunction length'])\n",
    "\n",
    "# << Setup the trainer >>\n",
    "trainer = setup_trainer('distilbert-base-uncased', model, h_params, training_dataset, val_dataset)\n",
    "\n",
    "#  << Set model to training mode >>\n",
    "model.train()\n",
    "\n",
    "# << Train the model >>\n",
    "trainer.train()\n",
    "\n",
    "# << Plot the loss >>\n",
    "plot_loss(trainer)\n",
    "\n",
    "# << Save the model predictions >>\n",
    "save_model_predictions('distilbert-base-uncased', model, tokenizer)\n",
    "\n",
    "# << Evaluate the model >>\n",
    "evaluate_model(model, tokenizer, val_dataset)\n",
    "evaluate_model(model, tokenizer, training_dataset)\n"
   ]
  }
 ],
 "metadata": {
  "kernelspec": {
   "display_name": ".venv",
   "language": "python",
   "name": "python3"
  },
  "language_info": {
   "codemirror_mode": {
    "name": "ipython",
    "version": 3
   },
   "file_extension": ".py",
   "mimetype": "text/x-python",
   "name": "python",
   "nbconvert_exporter": "python",
   "pygments_lexer": "ipython3",
   "version": "3.10.12"
  }
 },
 "nbformat": 4,
 "nbformat_minor": 2
}
