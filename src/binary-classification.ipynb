{
 "cells": [
  {
   "cell_type": "markdown",
   "metadata": {},
   "source": [
    "# Binary Classification of the \"Don't Patronize Me!\" Dataset"
   ]
  },
  {
   "cell_type": "markdown",
   "metadata": {},
   "source": [
    "Perform Binary Classification to predict whether a text contains patronizing and condescending language. The task was task 4 (subtask 1) in the SemEval 2022 competition."
   ]
  },
  {
   "cell_type": "markdown",
   "metadata": {},
   "source": [
    "## == Initialize Environment == "
   ]
  },
  {
   "cell_type": "code",
   "execution_count": 1,
   "metadata": {},
   "outputs": [
    {
     "name": "stderr",
     "output_type": "stream",
     "text": [
      "2024-03-03 22:31:34.838732: I tensorflow/core/util/port.cc:113] oneDNN custom operations are on. You may see slightly different numerical results due to floating-point round-off errors from different computation orders. To turn them off, set the environment variable `TF_ENABLE_ONEDNN_OPTS=0`.\n",
      "2024-03-03 22:31:34.860778: E external/local_xla/xla/stream_executor/cuda/cuda_dnn.cc:9261] Unable to register cuDNN factory: Attempting to register factory for plugin cuDNN when one has already been registered\n",
      "2024-03-03 22:31:34.860804: E external/local_xla/xla/stream_executor/cuda/cuda_fft.cc:607] Unable to register cuFFT factory: Attempting to register factory for plugin cuFFT when one has already been registered\n",
      "2024-03-03 22:31:34.861407: E external/local_xla/xla/stream_executor/cuda/cuda_blas.cc:1515] Unable to register cuBLAS factory: Attempting to register factory for plugin cuBLAS when one has already been registered\n",
      "2024-03-03 22:31:34.865726: I tensorflow/core/platform/cpu_feature_guard.cc:182] This TensorFlow binary is optimized to use available CPU instructions in performance-critical operations.\n",
      "To enable the following instructions: AVX2 AVX_VNNI FMA, in other operations, rebuild TensorFlow with the appropriate compiler flags.\n",
      "2024-03-03 22:31:35.285320: W tensorflow/compiler/tf2tensorrt/utils/py_utils.cc:38] TF-TRT Warning: Could not find TensorRT\n"
     ]
    },
    {
     "data": {
      "text/plain": [
       "'cuda'"
      ]
     },
     "execution_count": 1,
     "metadata": {},
     "output_type": "execute_result"
    }
   ],
   "source": [
    "# Library imports\n",
    "import pandas as pd\n",
    "\n",
    "import seaborn as sns\n",
    "import matplotlib.pyplot as plt    \n",
    "\n",
    "from nltk import PorterStemmer, WordNetLemmatizer\n",
    "import codecs\n",
    "\n",
    "import torch\n",
    "from torch.utils.data import DataLoader, Dataset, Sampler\n",
    "from tqdm import tqdm\n",
    "import torch.nn as nn\n",
    "\n",
    "import re\n",
    "from functools import partial\n",
    "\n",
    "import numpy as np\n",
    "from numpy import dot\n",
    "from numpy.linalg import norm\n",
    "\n",
    "from sklearn.model_selection import train_test_split\n",
    "from sklearn.metrics import confusion_matrix, ConfusionMatrixDisplay, classification_report, precision_score, recall_score, f1_score, precision_recall_fscore_support\n",
    "\n",
    "# Pre-trained models\n",
    "from simpletransformers.classification import ClassificationModel, ClassificationArgs, MultiLabelClassificationModel, MultiLabelClassificationArgs\n",
    "from transformers import Trainer, TrainingArguments\n",
    "from transformers import BertTokenizer\n",
    "from transformers import BertPreTrainedModel, BertModel\n",
    "from transformers.models.bert.modeling_bert import BertOnlyMLMHead\n",
    "from transformers import AutoModelForSequenceClassification, AdamW, get_scheduler\n",
    "\n",
    "\n",
    "def fix_seed(seed=420.69):\n",
    "  torch.manual_seed(seed)\n",
    "  torch.cuda.manual_seed(seed)\n",
    "#   np.random.seed(seed)\n",
    "#   random.seed(seed)\n",
    "\n",
    "fix_seed()\n",
    "\n",
    "data_path = '../bin/data'\n",
    "embeddings_path = '../bin/word_embeddings'\n",
    "model_save_path = '../bin/models'\n",
    "\n",
    "from util.datafunctions import *\n",
    "from util.evaluation import *\n",
    "\n",
    "if not torch.cuda.is_available():\n",
    "  DEVICE = 'cpu'\n",
    "else:\n",
    "  DEVICE = 'cuda'\n",
    "\n",
    "DEVICE"
   ]
  },
  {
   "cell_type": "markdown",
   "metadata": {},
   "source": [
    "## === Utils ==="
   ]
  },
  {
   "cell_type": "markdown",
   "metadata": {},
   "source": [
    "### Data related util functions"
   ]
  },
  {
   "cell_type": "code",
   "execution_count": 2,
   "metadata": {},
   "outputs": [],
   "source": [
    "from sklearn.model_selection import train_test_split\n",
    "import matplotlib.pyplot as plt\n",
    "\n",
    "def generate_data_splits(train_data):\n",
    "    # The stratify parameter makes a split so that the proportion of values in the sample produced will be the same as the proportion of values provided to parameter stratify. \n",
    "\n",
    "    X_train, X_val, y_train, y_val = train_test_split(train_data[['text', 'keyword', 'country_code']]\n",
    "                                                    , train_data['labels']\n",
    "                                                    , train_size=0.8\n",
    "                                                    , test_size=0.2\n",
    "                                                    , random_state=0\n",
    "                                                    , stratify=train_data[['labels']]\n",
    "                                                    )\n",
    "   \n",
    "    return X_train, X_val, y_train, y_val\n",
    "\n",
    "\n",
    "def pie_data_distributions(pie_series, pie_series_label):\n",
    "    \"\"\"Plots some pie charts for data distribution (Assume len(pie_series) inputs)\n",
    "\n",
    "    Args:\n",
    "        pie_series (_type_): pandas series \n",
    "        pie_series_label (_type_): for the title\n",
    "    \"\"\"\n",
    "\n",
    "    assert len(pie_series) == len(pie_series_label) and \"expected inputs of same length\"\n",
    "\n",
    "    _, axs = plt.subplots(1, len(pie_series), figsize=(len(pie_series)*5, 5))\n",
    "\n",
    "    for idx, (series, title) in enumerate(zip(pie_series, pie_series_label)):\n",
    "        tmp = series.value_counts()\n",
    "\n",
    "        wedges, _, _ = axs[idx].pie(tmp, labels=tmp.index, autopct='%1.1f%%', startangle=90)\n",
    "        legend_labels = [f'{label} ({count})' for label, count in zip(tmp.index, tmp)]\n",
    "        axs[idx].legend(wedges, legend_labels, title=\"Class 1 and 0\", loc=\"center left\", bbox_to_anchor=(1, 0, 0.5, 1))\n",
    "        axs[idx].set_title(f'Distribution for {title}')\n",
    "\n",
    "    plt.tight_layout()\n",
    "    plt.show()"
   ]
  },
  {
   "cell_type": "code",
   "execution_count": 3,
   "metadata": {},
   "outputs": [],
   "source": [
    "def plot_data_splits(X_train, X_val, y_train, y_val, test_data):\n",
    "    print(\"=== DISTRIBUTION FOR TRAINING DATA ===\")\n",
    "    pie_data_distributions(\n",
    "        [X_train['country_code'], X_train['keyword'], y_train],\n",
    "        ['train country_code label', 'train keyword label', 'train binary classification']\n",
    "    )\n",
    "\n",
    "    print(\"=== DISTRIBUTION FOR VALIDATION DATA ===\")\n",
    "    pie_data_distributions(\n",
    "        [X_val['country_code'], X_val['keyword'], y_val],\n",
    "        ['validation country_code label', 'validation keyword label', 'validation binary classification']\n",
    "    )\n",
    "\n",
    "    print(\"=== DISTRIBUTION FOR TEST DATA ===\")\n",
    "    pie_data_distributions(\n",
    "        [test_data['country_code'], test_data['keyword']],\n",
    "        ['test country_code label', 'test keyword label']\n",
    "    )"
   ]
  },
  {
   "cell_type": "markdown",
   "metadata": {},
   "source": [
    "### Evaluation util functions"
   ]
  },
  {
   "cell_type": "markdown",
   "metadata": {},
   "source": [
    "## === Loading the Data ==="
   ]
  },
  {
   "cell_type": "code",
   "execution_count": 4,
   "metadata": {},
   "outputs": [],
   "source": [
    "# Import Data\n",
    "train_data_path = f'{data_path}/dontpatronizeme_pcl.tsv'\n",
    "test_data_path  = f'{data_path}/task4_test.tsv'\n",
    "\n",
    "train_data = pd.read_csv(train_data_path, delimiter='\\t', skiprows=4, header=None, names=['par_id','art_id','keyword','country_code', 'text','label'])\n",
    "test_data  = pd.read_csv(test_data_path,  delimiter='\\t', skiprows=4, header=None, names=['par_id','art_id','keyword','country_code', 'text'])\n",
    "\n",
    "train_data = train_data.drop(['art_id'], axis=1)\n",
    "test_data = test_data.drop(['art_id'], axis=1)"
   ]
  },
  {
   "cell_type": "code",
   "execution_count": 5,
   "metadata": {},
   "outputs": [],
   "source": [
    "# Concatenate label information to train data\n",
    "dev_label_path   = f'{data_path}/dev_semeval_parids-labels.csv'\n",
    "train_label_path = f'{data_path}/train_semeval_parids-labels.csv'\n",
    "\n",
    "dev_label   = pd.read_csv(dev_label_path, delimiter=',')\n",
    "train_label = pd.read_csv(train_label_path, delimiter=',')\n",
    "\n",
    "detailed_labels = pd.concat([dev_label, train_label], ignore_index=True, join='inner', names=['simple', 'detailed'])\n",
    "train_data = pd.merge(train_data, detailed_labels, on='par_id')\n",
    "train_data = train_data.rename(columns={'label_x': 'binary_label', 'label_y': 'label_detailed'})"
   ]
  },
  {
   "cell_type": "code",
   "execution_count": 6,
   "metadata": {},
   "outputs": [],
   "source": [
    "# Add Binary Classification column for ease of checking\n",
    "train_data.loc[:, 'labels'] = 0\n",
    "train_data.loc[train_data['binary_label'].isin([2,3,4]), 'labels'] = 1"
   ]
  },
  {
   "cell_type": "code",
   "execution_count": 7,
   "metadata": {},
   "outputs": [],
   "source": [
    "train_data = train_data.dropna(subset = 'text')\n",
    "test_data = test_data.dropna(subset = 'text')\n",
    "\n",
    "test_data['labels'] = -1 # for compatibility with the dataloader, set a dummy label variable"
   ]
  },
  {
   "cell_type": "code",
   "execution_count": 8,
   "metadata": {},
   "outputs": [],
   "source": [
    "id2label = {0: \"non-PCL\", 1: \"PCL\"}\n",
    "label2id = {\"non-PCL\": 0, \"PCL\": 1}"
   ]
  },
  {
   "cell_type": "code",
   "execution_count": 9,
   "metadata": {},
   "outputs": [
    {
     "data": {
      "image/png": "[encoded data removed]",
      "text/plain": [
       "<Figure size 1000x500 with 2 Axes>"
      ]
     },
     "metadata": {},
     "output_type": "display_data"
    }
   ],
   "source": [
    "X_train, X_val, y_train, y_val = generate_data_splits(train_data)\n",
    "\n",
    "pie_data_distributions([y_train, y_val], ['Train Data', 'Validation Data'])"
   ]
  },
  {
   "cell_type": "markdown",
   "metadata": {},
   "source": [
    "## === Pre-processing ==="
   ]
  },
  {
   "cell_type": "markdown",
   "metadata": {},
   "source": [
    "### Tokenization"
   ]
  },
  {
   "cell_type": "code",
   "execution_count": 10,
   "metadata": {},
   "outputs": [],
   "source": [
    "from typing import List\n",
    "\n",
    "def tokenize_text(text: List[str], tokenizer: BertTokenizer, max_length: int = 300):\n",
    "    \"\"\"Tokenize the input text using the provided tokenizer\n",
    "\n",
    "    Args:\n",
    "        text (List[str]): input text\n",
    "        tokenizer (BertTokenizer): tokenizer to be used\n",
    "        max_length (int, optional): maximum length of the tokenized text. Defaults to 300.\n",
    "\n",
    "    Returns:\n",
    "        dict: dictionary containing the tokenized text\n",
    "    \"\"\"    \n",
    "\n",
    "    # We pad shorter sentences to a length of trunc_len tokens since the maximum sequence size for BERT is 512\n",
    "    return tokenizer(text, return_tensors='pt', padding=True, truncation=True, max_length=max_length)"
   ]
  },
  {
   "cell_type": "markdown",
   "metadata": {},
   "source": [
    "### 1. Masking Tokens"
   ]
  },
  {
   "cell_type": "code",
   "execution_count": 11,
   "metadata": {},
   "outputs": [],
   "source": [
    "def mask_tokens(inputs, tokenizer, mlm_probability):\n",
    "    \"\"\"Given a tokenized input, will prepare masked tokens inputs/labels for Masked Language Modelling. 'We want to train BERT to predict an mlm_probability% of tokens (in the original paper it is 15%) of which 80% will be replaced by a ``[MASK]`` token, 10% with a random token and 10% remain the same token.' (from tutorial)\n",
    "\n",
    "    Args:\n",
    "        inputs (list): list of inputs to be masked\n",
    "        tokenizer (BertTokenizer): tokenizer to be used\n",
    "        mlm_probability (float): probability of applying a mask to each token\n",
    "\n",
    "    Returns:\n",
    "        (maksed tokens, original token): _description_\n",
    "    \"\"\"    \n",
    "\n",
    "    assert tokenizer.mask_token is not None and \"Tokenizer should not be none. (how can we mask if we don't know what to call it!)\"\n",
    "\n",
    "    labels = inputs.clone()\n",
    "\n",
    "    # We sample a few tokens in each sequence for masked-LM training (with probability mlm_probability defaults to 0.15 in Bert/RoBERTa)\n",
    "    probability_matrix = torch.full(labels.shape, mlm_probability)\n",
    "    special_tokens_mask = [tokenizer.get_special_tokens_mask(val, already_has_special_tokens=True) for val in labels.tolist()]\n",
    "    probability_matrix.masked_fill_(torch.tensor(special_tokens_mask, dtype=torch.bool), value=0.0)\n",
    "\n",
    "    if tokenizer._pad_token is not None:\n",
    "        padding_mask = labels.eq(tokenizer.pad_token_id)\n",
    "        probability_matrix.masked_fill_(padding_mask, value=0.0)\n",
    "    masked_indices = torch.bernoulli(probability_matrix).bool()\n",
    "    labels[~masked_indices] = -100  # We only compute loss on masked tokens\n",
    "\n",
    "    # 80% of the time, we replace masked input tokens with tokenizer.mask_token ([MASK])\n",
    "    indices_replaced = torch.bernoulli(torch.full(labels.shape, 0.8)).bool() & masked_indices\n",
    "    inputs[indices_replaced] = tokenizer.convert_tokens_to_ids(tokenizer.mask_token)\n",
    "\n",
    "    # 10% of the time, we replace masked input tokens with random word\n",
    "    indices_random = torch.bernoulli(torch.full(labels.shape, 0.5)).bool() & masked_indices & ~indices_replaced\n",
    "    random_words = torch.randint(len(tokenizer), labels.shape, dtype=torch.long)\n",
    "    inputs[indices_random] = random_words[indices_random]\n",
    "\n",
    "    # The rest of the time (10% of the time) we keep the masked input tokens unchanged\n",
    "    return inputs, labels"
   ]
  },
  {
   "cell_type": "markdown",
   "metadata": {},
   "source": [
    "### 2. Stop Word Removal"
   ]
  },
  {
   "cell_type": "markdown",
   "metadata": {},
   "source": [
    "explanation: https://towardsdatascience.com/text-pre-processing-stop-words-removal-using-different-libraries-f20bac19929a\n",
    "\n",
    "we don't always remove stop words, e.g. https://www.ibm.com/docs/en/watson-explorer/11.0.0?topic=analytics-stop-word-removal when a sentence consists only of stop words, but this library takes care of it\"Surprisingly, the stopwords received as much attention as non-stop words, but removing them has no effect in MRR performances.\" https://stackoverflow.com/questions/63633534/is-it-necessary-to-do-stopwords-removal-stemming-lemmatization-for-text-classif "
   ]
  },
  {
   "cell_type": "code",
   "execution_count": 12,
   "metadata": {},
   "outputs": [
    {
     "name": "stdout",
     "output_type": "stream",
     "text": [
      "Original Text: I do not like you because I'm better than you\n",
      "Text after Stopword Removal: I like I'm better\n"
     ]
    }
   ],
   "source": [
    "from gensim.parsing.preprocessing import remove_stopwords\n",
    "\n",
    "# Another sample text\n",
    "new_text = \"I do not like you because I'm better than you\"\n",
    " \n",
    "# Remove stopwords using Gensim\n",
    "new_filtered_text = remove_stopwords(new_text)\n",
    "\n",
    "print(\"Original Text:\", new_text)\n",
    "print(\"Text after Stopword Removal:\", new_filtered_text)"
   ]
  },
  {
   "cell_type": "markdown",
   "metadata": {},
   "source": [
    "## === Data Sampling ==="
   ]
  },
  {
   "cell_type": "markdown",
   "metadata": {},
   "source": [
    "### 1. \"Easy Data Augmentation Techniques\""
   ]
  },
  {
   "cell_type": "markdown",
   "metadata": {},
   "source": [
    "(Initially) Inspired by https://datascience.stackexchange.com/questions/27671/how-do-you-apply-smote-on-text-classification \n",
    "\n",
    "Code implemented from https://arxiv.org/pdf/1901.11196.pdf"
   ]
  },
  {
   "cell_type": "code",
   "execution_count": 13,
   "metadata": {},
   "outputs": [
    {
     "name": "stdout",
     "output_type": "stream",
     "text": [
      "fatal: destination path 'eda_nlp' already exists and is not an empty directory.\n"
     ]
    }
   ],
   "source": [
    "!git clone https://github.com/jasonwei20/eda_nlp.git\n",
    "from eda_nlp.code.eda import *"
   ]
  },
  {
   "cell_type": "code",
   "execution_count": 14,
   "metadata": {},
   "outputs": [
    {
     "data": {
      "text/plain": [
       "['i hatred you because i think that im better than you',\n",
       " 'hate because i think that im better than you',\n",
       " 'i because you hate i think that im better than you',\n",
       " 'i hate you because i think that im better than you',\n",
       " 'i hate you because i retrieve that im better than you',\n",
       " 'i hate you because i think that im better than you']"
      ]
     },
     "execution_count": 14,
     "metadata": {},
     "output_type": "execute_result"
    }
   ],
   "source": [
    "# Default parameters have shown good performance in the original paper\n",
    "eda(\"I hate you because I think that I'm better than you\", alpha_ri=0.0, num_aug=5)"
   ]
  },
  {
   "cell_type": "code",
   "execution_count": 15,
   "metadata": {},
   "outputs": [],
   "source": [
    "def generate_eda(data, num_aug=3):\n",
    "    eda_upsampled = data[data['labels'] == 1]\n",
    "    eda_upsampled.loc[:, 'text'] = eda_upsampled.apply(lambda row: eda(row['text'], num_aug=num_aug), axis=1) #alpha_ri=0.0, num_aug=num_aug), axis=1)\n",
    "\n",
    "    upsampled_positives = pd.DataFrame(columns=data.columns)\n",
    "\n",
    "    for _, row in eda_upsampled.iterrows():\n",
    "        for upsample in row['text']:\n",
    "            # insert into upsampled_positives the row['text'] and the remaining columns in variable row\n",
    "            new_row = pd.DataFrame([row], columns=data.columns)\n",
    "            new_row['text'] = upsample\n",
    "            upsampled_positives = pd.concat([upsampled_positives, new_row], ignore_index=True)\n",
    "\n",
    "    train_data_minority_upsampled = pd.concat([upsampled_positives, data[data['labels'] == 0]], ignore_index=True)\n",
    "\n",
    "    return train_data_minority_upsampled"
   ]
  },
  {
   "cell_type": "code",
   "execution_count": 16,
   "metadata": {},
   "outputs": [
    {
     "data": {
      "image/png": "[encoded data removed]",
      "text/plain": [
       "<Figure size 1000x500 with 2 Axes>"
      ]
     },
     "metadata": {},
     "output_type": "display_data"
    }
   ],
   "source": [
    "train_data_minority_upsampled = generate_eda(train_data, num_aug=10)\n",
    "\n",
    "X_train, X_val, y_train, y_val = generate_data_splits(train_data_minority_upsampled)\n",
    "pie_data_distributions([y_train, y_val], ['Train Data', 'Validation Data'])"
   ]
  },
  {
   "cell_type": "markdown",
   "metadata": {},
   "source": [
    "## === Model Setup ==="
   ]
  },
  {
   "cell_type": "markdown",
   "metadata": {},
   "source": [
    "### Dataset Class"
   ]
  },
  {
   "cell_type": "code",
   "execution_count": 17,
   "metadata": {},
   "outputs": [],
   "source": [
    "# Creating Datasets for formatting entries from the PCL dataset.\n",
    "class PCLDataset(Dataset):\n",
    "    def __init__(self, data_frame: pd.DataFrame\n",
    "                 , tokenizer: BertTokenizer\n",
    "                 , mask_tokens = False\n",
    "                 , trunc_len = 300\n",
    "                 , mlm_probability = 0.15):\n",
    "        \"\"\"Initializes the PCLDataset class\"\"\"\n",
    "\n",
    "        self.data = data_frame\n",
    "        self.tokenizer = tokenizer\n",
    "        self.mask = mask_tokens\n",
    "        self.trunc_len = trunc_len\n",
    "        self.mlm_probability = mlm_probability        \n",
    "\n",
    "    def __len__(self):\n",
    "        return len(self.data)\n",
    "\n",
    "    def __getitem__(self, idx):\n",
    "        \"\"\"Returns a singular item with all pre-processing required for the tester\"\"\"\n",
    "\n",
    "        # For now, we don't need the keyword and country_code\n",
    "\n",
    "        # data = {'keyword'     : self.data['keyword'].iloc[idx],\n",
    "        #         'country_code': self.data['country_code'].iloc[idx],\n",
    "        #         'text'        : self.data['text'].iloc[idx]}\n",
    "        \n",
    "        data = {'text': self.data['text'].iloc[idx]}\n",
    "        \n",
    "        # instead of label and label_detailed we use label\n",
    "        label = {'labels': self.data['labels'].iloc[idx]}\n",
    "\n",
    "        return data, label\n",
    "    \n",
    "    def collate_fn(self, batch):\n",
    "        \"\"\"merges a list of samples to form a mini-batch of Tensor(s). Used when using batched loading from a map-style\"\"\"\n",
    "        \n",
    "        input_features = [i for i, _ in batch]\n",
    "        output_labels  = [o for _, o in batch]\n",
    "\n",
    "        # 1. Tokenize the input text\n",
    "        batched_text = [item['text'] for item in input_features]\n",
    "        encodings = tokenize_text(batched_text, self.tokenizer, self.trunc_len)\n",
    "\n",
    "        # 2. Optionally mask the input\n",
    "        # if self.mask:\n",
    "        if False: # for now, we don't mask the input\n",
    "            masked_input, labels = mask_tokens(encodings['input_ids'], self.tokenizer, self.mlm_probability)\n",
    "            encodings['input_ids'] = masked_input\n",
    "            encodings['labels'] = labels\n",
    "\n",
    "        # 3. Process the output labels\n",
    "        encodings['labels'] = torch.tensor([item['labels'] for item in output_labels])\n",
    "\n",
    "        return encodings"
   ]
  },
  {
   "cell_type": "markdown",
   "metadata": {},
   "source": [
    "### Data Sampling\n",
    "\n"
   ]
  },
  {
   "cell_type": "code",
   "execution_count": 18,
   "metadata": {},
   "outputs": [
    {
     "data": {
      "image/png": "[encoded data removed]",
      "text/plain": [
       "<Figure size 1000x500 with 2 Axes>"
      ]
     },
     "metadata": {},
     "output_type": "display_data"
    }
   ],
   "source": [
    "# Upsample the minority class\n",
    "\n",
    "X_train, X_val, y_train, y_val = generate_data_splits(train_data)\n",
    "\n",
    "sampled_train_data = pd.merge(X_train, y_train, left_index=True, right_index=True)\n",
    "sampled_val_data = pd.merge(X_val, y_val, left_index=True, right_index=True)\n",
    "\n",
    "# sampled_train_data = generate_eda(sampled_train_data, num_aug=10)\n",
    "\n",
    "pie_data_distributions([sampled_train_data['labels'], sampled_val_data['labels']], ['Upsampled Train Data\\n(Upsampled Minority)', 'Validation Data\\n(Original)'])"
   ]
  },
  {
   "cell_type": "markdown",
   "metadata": {},
   "source": [
    "## === Model ==="
   ]
  },
  {
   "cell_type": "code",
   "execution_count": 19,
   "metadata": {},
   "outputs": [],
   "source": [
    "h_params = {\n",
    "      'text trunction length': 300\n",
    "    , 'mask tokens': False\n",
    "    , 'mlm probability': 0.15\n",
    "    , 'batch size': 16\n",
    "    , 'learning rate': 2e-5\n",
    "    , 'epochs': 1\n",
    "    , 'warmup steps': 100\n",
    "    , 'weight decay': 0.01 \n",
    "}"
   ]
  },
  {
   "cell_type": "markdown",
   "metadata": {},
   "source": [
    "### Model Training Utils"
   ]
  },
  {
   "cell_type": "code",
   "execution_count": 20,
   "metadata": {},
   "outputs": [],
   "source": [
    "def predict_hatespeech(input, tokenizer, model):\n",
    "  model.eval()\n",
    "  encodings = tokenizer(input, return_tensors='pt', padding=True, truncation=True, max_length=h_params['text trunction length'])\n",
    "  encodings.to(DEVICE)\n",
    "\n",
    "  output = model(**encodings)\n",
    "  \n",
    "  return torch.argmax(output.logits, dim=1)"
   ]
  },
  {
   "cell_type": "code",
   "execution_count": 32,
   "metadata": {},
   "outputs": [],
   "source": [
    "def save_model_predictions(model_name, model, tokenizer):\n",
    "\n",
    "    model.eval()\n",
    "\n",
    "    # << create a dataloader for the entire training dataset >>\n",
    "    global_train_dataset = PCLDataset(sampled_train_data, mask_tokens=h_params['mask tokens'], tokenizer=tokenizer, trunc_len=h_params['text trunction length'])\n",
    "    global_train_data_loader = DataLoader(global_train_dataset, batch_size=h_params['batch size'], collate_fn=global_train_dataset.collate_fn)\n",
    "\n",
    "    test_dataset = PCLDataset(test_data, mask_tokens=False, tokenizer=tokenizer, trunc_len=h_params['text trunction length'])\n",
    "    test_data_loader = DataLoader(test_dataset, batch_size=h_params['batch size'], collate_fn=test_dataset.collate_fn)\n",
    "\n",
    "    # << iterate through the dataloader and make predictions >>\n",
    "    for loader in {global_train_data_loader, test_data_loader}:\n",
    "\n",
    "        train_predictions = []\n",
    "\n",
    "        with torch.no_grad():\n",
    "            for batch in tqdm(loader):\n",
    "                batch = batch.to(DEVICE)\n",
    "                del batch['labels']\n",
    "                \n",
    "                logits = model(**batch)\n",
    "                predictions = torch.argmax(logits.logits, dim=1)\n",
    "                train_predictions.extend(predictions.tolist())\n",
    "\n",
    "        train_predictions = np.array(train_predictions)\n",
    "\n",
    "        if loader is global_train_data_loader:\n",
    "            np.savetxt(f\"{model_save_path}/{model_name}/dev.txt\", train_predictions, fmt=\"%d\")\n",
    "        else:\n",
    "            np.savetxt(f\"{model_save_path}/{model_name}/test.txt\", train_predictions, fmt=\"%d\")\n"
   ]
  },
  {
   "cell_type": "code",
   "execution_count": 22,
   "metadata": {},
   "outputs": [],
   "source": [
    "import numpy as np\n",
    "from sklearn.metrics import confusion_matrix, classification_report\n",
    "import seaborn as sns\n",
    "import matplotlib.pyplot as plt\n",
    "\n",
    "def evaluate_model(model, tokenizer, data_loader):\n",
    "\n",
    "  preds = []\n",
    "  tot_labels = []\n",
    "\n",
    "  with torch.no_grad():\n",
    "    for logits, expected in tqdm(data_loader):\n",
    "      \n",
    "      tweets = logits['text']\n",
    "\n",
    "      pred = predict_hatespeech(tweets, tokenizer, model)\n",
    "\n",
    "      preds.append(pred.tolist())\n",
    "      tot_labels.append(expected['labels'].tolist())\n",
    "\n",
    "  # with the saved predictions and labels we can compute accuracy, precision, recall and f1-score\n",
    "  report = classification_report(tot_labels, preds, target_names=[\"Not offensive\",\"Offensive\"], output_dict= True)\n",
    "\n",
    "  cm = confusion_matrix(tot_labels, preds, labels=[0, 1]) \n",
    "\n",
    "  ax= plt.subplot()\n",
    "  sns.heatmap(cm, annot=True, fmt='g', ax=ax, cmap=sns.color_palette(\"ch:s=-.2,r=.6\", as_cmap=True));  #annot=True to annotate cells, ftm='g' to disable scientific notation\n",
    "\n",
    "  # labels, title and ticks\n",
    "  ax.set_xlabel('Predicted labels')\n",
    "  ax.set_ylabel('True labels')\n",
    "\n",
    "  ax.set_title('Confusion Matrix')\n",
    "\n",
    "  ax.xaxis.set_ticklabels(['Not Patronizing', 'Patronizing'])\n",
    "  ax.yaxis.set_ticklabels(['Not Patronizing', 'Patronizing'])\n",
    "\n",
    "  plt.show()\n",
    "\n",
    "  return report\n"
   ]
  },
  {
   "cell_type": "code",
   "execution_count": 23,
   "metadata": {},
   "outputs": [],
   "source": [
    "import evaluate\n",
    "\n",
    "def compute_accuracy(eval_pred):\n",
    "    logits, labels = eval_pred\n",
    "    predictions = np.argmax(logits, axis=-1)\n",
    "    metric = evaluate.load(\"accuracy\")\n",
    "    return metric.compute(predictions=predictions, references=labels)"
   ]
  },
  {
   "cell_type": "code",
   "execution_count": 24,
   "metadata": {},
   "outputs": [],
   "source": [
    "def setup_trainer(model_name, model, h_params, training_dataset, val_dataset):\n",
    "\n",
    "    #  << Set model to training mode >>\n",
    "    model.train()\n",
    "\n",
    "    # << Initilize the Training Arguments >>\n",
    "    training_args = TrainingArguments(\n",
    "          output_dir                 = model_name\n",
    "        , learning_rate              = h_params['learning rate']\n",
    "        , per_device_train_batch_size= h_params['batch size']\n",
    "        , per_device_eval_batch_size = h_params['batch size']\n",
    "        , num_train_epochs           = h_params['epochs']\n",
    "        , weight_decay               = h_params['weight decay']\n",
    "        , evaluation_strategy        = \"epoch\"\n",
    "        , save_strategy              = \"epoch\"\n",
    "        , load_best_model_at_end     = True\n",
    "        , logging_dir                = f'{model_save_path}/{model_name}/logs'\n",
    "        , logging_steps              = 10\n",
    "    )\n",
    "\n",
    "    # << Initilize the Trainer >>\n",
    "    trainer = Trainer(\n",
    "        model           = model,\n",
    "        args            = training_args,\n",
    "        train_dataset   = training_dataset,\n",
    "        eval_dataset    = val_dataset,\n",
    "        data_collator   = training_dataset.collate_fn,\n",
    "        compute_metrics = compute_accuracy\n",
    "    )\n",
    "\n",
    "    return trainer"
   ]
  },
  {
   "cell_type": "markdown",
   "metadata": {},
   "source": [
    "#### bert-base-cased"
   ]
  },
  {
   "cell_type": "code",
   "execution_count": 25,
   "metadata": {},
   "outputs": [
    {
     "name": "stderr",
     "output_type": "stream",
     "text": [
      "Some weights of BertForSequenceClassification were not initialized from the model checkpoint at google-bert/bert-base-cased and are newly initialized: ['classifier.bias', 'classifier.weight']\n",
      "You should probably TRAIN this model on a down-stream task to be able to use it for predictions and inference.\n"
     ]
    }
   ],
   "source": [
    "from transformers import BertTokenizer, AutoModelForSequenceClassification\n",
    "\n",
    "# << Create Model and Tokenizer >>\n",
    "model = AutoModelForSequenceClassification.from_pretrained('google-bert/bert-base-cased', num_labels=2, id2label=id2label, label2id=label2id)\n",
    "tokenizer = BertTokenizer.from_pretrained('google-bert/bert-base-cased')\n",
    "\n",
    "# << Create Datasets >>\n",
    "training_dataset = PCLDataset(sampled_train_data, mask_tokens=h_params['mask tokens'], tokenizer=tokenizer, trunc_len=h_params['text trunction length'])\n",
    "val_dataset = PCLDataset(sampled_val_data, mask_tokens=h_params['mask tokens'], tokenizer=tokenizer, trunc_len=h_params['text trunction length'])\n",
    "\n",
    "# << Setup the Trainer >> \n",
    "trainer = setup_trainer('bert-base-cased', model, h_params, training_dataset, val_dataset)"
   ]
  },
  {
   "cell_type": "code",
   "execution_count": 26,
   "metadata": {},
   "outputs": [
    {
     "name": "stderr",
     "output_type": "stream",
     "text": [
      "Failed to detect the name of this notebook, you can set it manually with the WANDB_NOTEBOOK_NAME environment variable to enable code saving.\n",
      "\u001b[34m\u001b[1mwandb\u001b[0m: Currently logged in as: \u001b[33manton-zhitomirsky\u001b[0m (\u001b[33manton-zhitomirsky-joe-mama\u001b[0m). Use \u001b[1m`wandb login --relogin`\u001b[0m to force relogin\n"
     ]
    },
    {
     "data": {
      "text/html": [
       "Tracking run with wandb version 0.16.3"
      ],
      "text/plain": [
       "<IPython.core.display.HTML object>"
      ]
     },
     "metadata": {},
     "output_type": "display_data"
    },
    {
     "data": {
      "text/html": [
       "Run data is saved locally in <code>/home/avzh1/Documents/imperial/year4/lectures/nlp/Coursework/nlp/src/wandb/run-20240303_223147-z54rg7q0</code>"
      ],
      "text/plain": [
       "<IPython.core.display.HTML object>"
      ]
     },
     "metadata": {},
     "output_type": "display_data"
    },
    {
     "data": {
      "text/html": [
       "Syncing run <strong><a href='https://wandb.ai/anton-zhitomirsky-joe-mama/huggingface/runs/z54rg7q0' target=\"_blank\">ruby-planet-31</a></strong> to <a href='https://wandb.ai/anton-zhitomirsky-joe-mama/huggingface' target=\"_blank\">Weights & Biases</a> (<a href='https://wandb.me/run' target=\"_blank\">docs</a>)<br/>"
      ],
      "text/plain": [
       "<IPython.core.display.HTML object>"
      ]
     },
     "metadata": {},
     "output_type": "display_data"
    },
    {
     "data": {
      "text/html": [
       " View project at <a href='https://wandb.ai/anton-zhitomirsky-joe-mama/huggingface' target=\"_blank\">https://wandb.ai/anton-zhitomirsky-joe-mama/huggingface</a>"
      ],
      "text/plain": [
       "<IPython.core.display.HTML object>"
      ]
     },
     "metadata": {},
     "output_type": "display_data"
    },
    {
     "data": {
      "text/html": [
       " View run at <a href='https://wandb.ai/anton-zhitomirsky-joe-mama/huggingface/runs/z54rg7q0' target=\"_blank\">https://wandb.ai/anton-zhitomirsky-joe-mama/huggingface/runs/z54rg7q0</a>"
      ],
      "text/plain": [
       "<IPython.core.display.HTML object>"
      ]
     },
     "metadata": {},
     "output_type": "display_data"
    },
    {
     "data": {
      "application/vnd.jupyter.widget-view+json": {
       "model_id": "dcca6041ef7940ad8077f97aedfa602c",
       "version_major": 2,
       "version_minor": 0
      },
      "text/plain": [
       "  0%|          | 0/524 [00:00<?, ?it/s]"
      ]
     },
     "metadata": {},
     "output_type": "display_data"
    },
    {
     "name": "stdout",
     "output_type": "stream",
     "text": [
      "{'loss': 0.4909, 'grad_norm': 3.369955062866211, 'learning_rate': 1.9618320610687024e-05, 'epoch': 0.02}\n",
      "{'loss': 0.2792, 'grad_norm': 2.849342107772827, 'learning_rate': 1.923664122137405e-05, 'epoch': 0.04}\n",
      "{'loss': 0.434, 'grad_norm': 2.597923755645752, 'learning_rate': 1.885496183206107e-05, 'epoch': 0.06}\n",
      "{'loss': 0.223, 'grad_norm': 1.6608695983886719, 'learning_rate': 1.847328244274809e-05, 'epoch': 0.08}\n",
      "{'loss': 0.3377, 'grad_norm': 2.6354997158050537, 'learning_rate': 1.8091603053435117e-05, 'epoch': 0.1}\n",
      "{'loss': 0.2623, 'grad_norm': 2.506601095199585, 'learning_rate': 1.770992366412214e-05, 'epoch': 0.11}\n",
      "{'loss': 0.3264, 'grad_norm': 3.891265630722046, 'learning_rate': 1.7328244274809162e-05, 'epoch': 0.13}\n",
      "{'loss': 0.3718, 'grad_norm': 4.210970878601074, 'learning_rate': 1.6946564885496184e-05, 'epoch': 0.15}\n",
      "{'loss': 0.2097, 'grad_norm': 3.398803234100342, 'learning_rate': 1.6564885496183207e-05, 'epoch': 0.17}\n",
      "{'loss': 0.2518, 'grad_norm': 5.178341865539551, 'learning_rate': 1.618320610687023e-05, 'epoch': 0.19}\n",
      "{'loss': 0.3185, 'grad_norm': 2.923247814178467, 'learning_rate': 1.5801526717557255e-05, 'epoch': 0.21}\n",
      "{'loss': 0.2837, 'grad_norm': 7.76334285736084, 'learning_rate': 1.5419847328244274e-05, 'epoch': 0.23}\n",
      "{'loss': 0.3202, 'grad_norm': 1.666425108909607, 'learning_rate': 1.5038167938931298e-05, 'epoch': 0.25}\n",
      "{'loss': 0.1625, 'grad_norm': 1.931052803993225, 'learning_rate': 1.4656488549618322e-05, 'epoch': 0.27}\n",
      "{'loss': 0.2025, 'grad_norm': 2.4849843978881836, 'learning_rate': 1.4274809160305345e-05, 'epoch': 0.29}\n",
      "{'loss': 0.2742, 'grad_norm': 2.3043577671051025, 'learning_rate': 1.3893129770992369e-05, 'epoch': 0.31}\n",
      "{'loss': 0.2942, 'grad_norm': 7.095081806182861, 'learning_rate': 1.351145038167939e-05, 'epoch': 0.32}\n",
      "{'loss': 0.26, 'grad_norm': 3.8563318252563477, 'learning_rate': 1.3129770992366414e-05, 'epoch': 0.34}\n",
      "{'loss': 0.2583, 'grad_norm': 0.4257960617542267, 'learning_rate': 1.2748091603053436e-05, 'epoch': 0.36}\n",
      "{'loss': 0.3217, 'grad_norm': 4.651813507080078, 'learning_rate': 1.236641221374046e-05, 'epoch': 0.38}\n",
      "{'loss': 0.275, 'grad_norm': 3.8516058921813965, 'learning_rate': 1.1984732824427483e-05, 'epoch': 0.4}\n",
      "{'loss': 0.2179, 'grad_norm': 9.691697120666504, 'learning_rate': 1.1603053435114503e-05, 'epoch': 0.42}\n",
      "{'loss': 0.2242, 'grad_norm': 3.5659091472625732, 'learning_rate': 1.1221374045801527e-05, 'epoch': 0.44}\n",
      "{'loss': 0.312, 'grad_norm': 3.390723705291748, 'learning_rate': 1.0839694656488552e-05, 'epoch': 0.46}\n",
      "{'loss': 0.2292, 'grad_norm': 2.005871295928955, 'learning_rate': 1.0458015267175574e-05, 'epoch': 0.48}\n",
      "{'loss': 0.2304, 'grad_norm': 2.165050506591797, 'learning_rate': 1.0076335877862595e-05, 'epoch': 0.5}\n",
      "{'loss': 0.4464, 'grad_norm': 4.2361907958984375, 'learning_rate': 9.694656488549619e-06, 'epoch': 0.52}\n",
      "{'loss': 0.2723, 'grad_norm': 6.624839782714844, 'learning_rate': 9.312977099236641e-06, 'epoch': 0.53}\n",
      "{'loss': 0.2066, 'grad_norm': 2.6594552993774414, 'learning_rate': 8.931297709923665e-06, 'epoch': 0.55}\n",
      "{'loss': 0.2052, 'grad_norm': 7.390356540679932, 'learning_rate': 8.549618320610688e-06, 'epoch': 0.57}\n",
      "{'loss': 0.2284, 'grad_norm': 2.852468252182007, 'learning_rate': 8.16793893129771e-06, 'epoch': 0.59}\n",
      "{'loss': 0.2067, 'grad_norm': 2.970799684524536, 'learning_rate': 7.786259541984733e-06, 'epoch': 0.61}\n",
      "{'loss': 0.2163, 'grad_norm': 6.254219055175781, 'learning_rate': 7.404580152671757e-06, 'epoch': 0.63}\n",
      "{'loss': 0.2207, 'grad_norm': 1.8593354225158691, 'learning_rate': 7.022900763358779e-06, 'epoch': 0.65}\n",
      "{'loss': 0.2698, 'grad_norm': 3.821864366531372, 'learning_rate': 6.641221374045802e-06, 'epoch': 0.67}\n",
      "{'loss': 0.191, 'grad_norm': 3.7950940132141113, 'learning_rate': 6.259541984732826e-06, 'epoch': 0.69}\n",
      "{'loss': 0.2039, 'grad_norm': 4.526841163635254, 'learning_rate': 5.877862595419848e-06, 'epoch': 0.71}\n",
      "{'loss': 0.264, 'grad_norm': 3.4086716175079346, 'learning_rate': 5.496183206106871e-06, 'epoch': 0.73}\n",
      "{'loss': 0.2928, 'grad_norm': 10.345376968383789, 'learning_rate': 5.114503816793893e-06, 'epoch': 0.74}\n",
      "{'loss': 0.2281, 'grad_norm': 3.6183407306671143, 'learning_rate': 4.732824427480917e-06, 'epoch': 0.76}\n",
      "{'loss': 0.2445, 'grad_norm': 3.1729226112365723, 'learning_rate': 4.351145038167939e-06, 'epoch': 0.78}\n",
      "{'loss': 0.1629, 'grad_norm': 2.911005735397339, 'learning_rate': 3.969465648854962e-06, 'epoch': 0.8}\n",
      "{'loss': 0.1922, 'grad_norm': 1.8128077983856201, 'learning_rate': 3.587786259541985e-06, 'epoch': 0.82}\n",
      "{'loss': 0.2173, 'grad_norm': 5.209766864776611, 'learning_rate': 3.206106870229008e-06, 'epoch': 0.84}\n",
      "{'loss': 0.2663, 'grad_norm': 6.825829029083252, 'learning_rate': 2.824427480916031e-06, 'epoch': 0.86}\n",
      "{'loss': 0.125, 'grad_norm': 3.132714033126831, 'learning_rate': 2.4427480916030536e-06, 'epoch': 0.88}\n",
      "{'loss': 0.1514, 'grad_norm': 7.705238342285156, 'learning_rate': 2.0610687022900764e-06, 'epoch': 0.9}\n",
      "{'loss': 0.2743, 'grad_norm': 7.577565670013428, 'learning_rate': 1.6793893129770995e-06, 'epoch': 0.92}\n",
      "{'loss': 0.1509, 'grad_norm': 5.346742630004883, 'learning_rate': 1.297709923664122e-06, 'epoch': 0.94}\n",
      "{'loss': 0.2691, 'grad_norm': 10.240527153015137, 'learning_rate': 9.160305343511451e-07, 'epoch': 0.95}\n",
      "{'loss': 0.2509, 'grad_norm': 6.863592147827148, 'learning_rate': 5.34351145038168e-07, 'epoch': 0.97}\n",
      "{'loss': 0.2424, 'grad_norm': 11.435636520385742, 'learning_rate': 1.5267175572519085e-07, 'epoch': 0.99}\n"
     ]
    },
    {
     "data": {
      "application/vnd.jupyter.widget-view+json": {
       "model_id": "9eed39cbdf974831acfa2dc34e82a4c5",
       "version_major": 2,
       "version_minor": 0
      },
      "text/plain": [
       "  0%|          | 0/131 [00:00<?, ?it/s]"
      ]
     },
     "metadata": {},
     "output_type": "display_data"
    },
    {
     "name": "stderr",
     "output_type": "stream",
     "text": [
      "Checkpoint destination directory bert-base-cased/checkpoint-524 already exists and is non-empty. Saving will proceed but saved results may be invalid.\n"
     ]
    },
    {
     "name": "stdout",
     "output_type": "stream",
     "text": [
      "{'eval_loss': 0.20899520814418793, 'eval_accuracy': 0.9164278892072588, 'eval_runtime': 7.8278, 'eval_samples_per_second': 267.509, 'eval_steps_per_second': 16.735, 'epoch': 1.0}\n",
      "{'train_runtime': 101.3115, 'train_samples_per_second': 82.656, 'train_steps_per_second': 5.172, 'train_loss': 0.25637817087064263, 'epoch': 1.0}\n"
     ]
    },
    {
     "data": {
      "text/plain": [
       "TrainOutput(global_step=524, training_loss=0.25637817087064263, metrics={'train_runtime': 101.3115, 'train_samples_per_second': 82.656, 'train_steps_per_second': 5.172, 'train_loss': 0.25637817087064263, 'epoch': 1.0})"
      ]
     },
     "execution_count": 26,
     "metadata": {},
     "output_type": "execute_result"
    }
   ],
   "source": [
    "train_output = trainer.train()\n",
    "train_output"
   ]
  },
  {
   "cell_type": "code",
   "execution_count": 27,
   "metadata": {},
   "outputs": [
    {
     "name": "stderr",
     "output_type": "stream",
     "text": [
      "100%|██████████| 2094/2094 [00:08<00:00, 238.93it/s]\n"
     ]
    },
    {
     "data": {
      "image/png": "[encoded data removed]",
      "text/plain": [
       "<Figure size 640x480 with 2 Axes>"
      ]
     },
     "metadata": {},
     "output_type": "display_data"
    },
    {
     "data": {
      "text/plain": [
       "{'Not offensive': {'precision': 0.9186952288218111,\n",
       "  'recall': 0.995778364116095,\n",
       "  'f1-score': 0.9556849835401368,\n",
       "  'support': 1895.0},\n",
       " 'Offensive': {'precision': 0.8,\n",
       "  'recall': 0.16080402010050251,\n",
       "  'f1-score': 0.26778242677824265,\n",
       "  'support': 199.0},\n",
       " 'accuracy': 0.9164278892072588,\n",
       " 'macro avg': {'precision': 0.8593476144109056,\n",
       "  'recall': 0.5782911921082987,\n",
       "  'f1-score': 0.6117337051591897,\n",
       "  'support': 2094.0},\n",
       " 'weighted avg': {'precision': 0.9074152142394135,\n",
       "  'recall': 0.9164278892072588,\n",
       "  'f1-score': 0.8903112448602815,\n",
       "  'support': 2094.0}}"
      ]
     },
     "execution_count": 27,
     "metadata": {},
     "output_type": "execute_result"
    }
   ],
   "source": [
    "evaluate_model(model, tokenizer, val_dataset)\n",
    "# trainer.evaluate()"
   ]
  },
  {
   "cell_type": "code",
   "execution_count": 33,
   "metadata": {},
   "outputs": [
    {
     "name": "stderr",
     "output_type": "stream",
     "text": [
      "100%|██████████| 240/240 [00:15<00:00, 15.73it/s]\n",
      " 15%|█▌        | 81/524 [00:05<00:25, 17.19it/s]"
     ]
    }
   ],
   "source": [
    "save_model_predictions('bert-base-cased', model, tokenizer)"
   ]
  },
  {
   "cell_type": "markdown",
   "metadata": {},
   "source": [
    "#### roberta"
   ]
  },
  {
   "cell_type": "code",
   "execution_count": null,
   "metadata": {},
   "outputs": [
    {
     "name": "stderr",
     "output_type": "stream",
     "text": [
      "Some weights of RobertaForSequenceClassification were not initialized from the model checkpoint at FacebookAI/roberta-base and are newly initialized: ['classifier.dense.bias', 'classifier.dense.weight', 'classifier.out_proj.bias', 'classifier.out_proj.weight']\n",
      "You should probably TRAIN this model on a down-stream task to be able to use it for predictions and inference.\n"
     ]
    }
   ],
   "source": [
    "from transformers import RobertaTokenizer, AutoModelForSequenceClassification\n",
    "\n",
    "# << Create Model and Tokenizer >>\n",
    "model = AutoModelForSequenceClassification.from_pretrained('FacebookAI/roberta-base', num_labels=2, id2label=id2label, label2id=label2id)\n",
    "tokenizer = RobertaTokenizer.from_pretrained('FacebookAI/roberta-base')\n",
    "\n",
    "# << Create Datasets >>\n",
    "training_dataset = PCLDataset(sampled_train_data, mask_tokens=h_params['mask tokens'], tokenizer=tokenizer, trunc_len=h_params['text trunction length'])\n",
    "val_dataset = PCLDataset(sampled_val_data, mask_tokens=h_params['mask tokens'], tokenizer=tokenizer, trunc_len=h_params['text trunction length'])\n",
    "\n",
    "# << Setup the Trainer >> \n",
    "trainer = setup_trainer('roberta-base', model, h_params, training_dataset, val_dataset)"
   ]
  },
  {
   "cell_type": "code",
   "execution_count": null,
   "metadata": {},
   "outputs": [
    {
     "data": {
      "application/vnd.jupyter.widget-view+json": {
       "model_id": "c939137db77e474d88ec1905f87f263a",
       "version_major": 2,
       "version_minor": 0
      },
      "text/plain": [
       "  0%|          | 0/524 [00:00<?, ?it/s]"
      ]
     },
     "metadata": {},
     "output_type": "display_data"
    },
    {
     "name": "stdout",
     "output_type": "stream",
     "text": [
      "{'loss': 0.5365, 'grad_norm': 3.1666181087493896, 'learning_rate': 1.9618320610687024e-05, 'epoch': 0.02}\n",
      "{'loss': 0.2735, 'grad_norm': 1.2347980737686157, 'learning_rate': 1.923664122137405e-05, 'epoch': 0.04}\n",
      "{'loss': 0.4818, 'grad_norm': 10.565610885620117, 'learning_rate': 1.885496183206107e-05, 'epoch': 0.06}\n",
      "{'loss': 0.2681, 'grad_norm': 1.638465404510498, 'learning_rate': 1.847328244274809e-05, 'epoch': 0.08}\n",
      "{'loss': 0.3701, 'grad_norm': 2.5123260021209717, 'learning_rate': 1.8091603053435117e-05, 'epoch': 0.1}\n",
      "{'loss': 0.2886, 'grad_norm': 2.792919635772705, 'learning_rate': 1.770992366412214e-05, 'epoch': 0.11}\n",
      "{'loss': 0.3661, 'grad_norm': 2.9645280838012695, 'learning_rate': 1.7328244274809162e-05, 'epoch': 0.13}\n",
      "{'loss': 0.3989, 'grad_norm': 4.213496208190918, 'learning_rate': 1.6946564885496184e-05, 'epoch': 0.15}\n",
      "{'loss': 0.2335, 'grad_norm': 1.8949236869812012, 'learning_rate': 1.6564885496183207e-05, 'epoch': 0.17}\n",
      "{'loss': 0.2407, 'grad_norm': 2.6323130130767822, 'learning_rate': 1.618320610687023e-05, 'epoch': 0.19}\n",
      "{'loss': 0.3603, 'grad_norm': 4.141708850860596, 'learning_rate': 1.5801526717557255e-05, 'epoch': 0.21}\n",
      "{'loss': 0.2983, 'grad_norm': 8.562899589538574, 'learning_rate': 1.5419847328244274e-05, 'epoch': 0.23}\n",
      "{'loss': 0.3332, 'grad_norm': 5.234975337982178, 'learning_rate': 1.5038167938931298e-05, 'epoch': 0.25}\n",
      "{'loss': 0.2149, 'grad_norm': 3.304133415222168, 'learning_rate': 1.4656488549618322e-05, 'epoch': 0.27}\n",
      "{'loss': 0.2377, 'grad_norm': 5.598435878753662, 'learning_rate': 1.4274809160305345e-05, 'epoch': 0.29}\n",
      "{'loss': 0.2617, 'grad_norm': 3.5128750801086426, 'learning_rate': 1.3893129770992369e-05, 'epoch': 0.31}\n",
      "{'loss': 0.2656, 'grad_norm': 9.153958320617676, 'learning_rate': 1.351145038167939e-05, 'epoch': 0.32}\n",
      "{'loss': 0.3324, 'grad_norm': 15.059341430664062, 'learning_rate': 1.3129770992366414e-05, 'epoch': 0.34}\n",
      "{'loss': 0.313, 'grad_norm': 5.682026386260986, 'learning_rate': 1.2748091603053436e-05, 'epoch': 0.36}\n",
      "{'loss': 0.2514, 'grad_norm': 6.840046405792236, 'learning_rate': 1.236641221374046e-05, 'epoch': 0.38}\n",
      "{'loss': 0.272, 'grad_norm': 2.353811025619507, 'learning_rate': 1.1984732824427483e-05, 'epoch': 0.4}\n",
      "{'loss': 0.2119, 'grad_norm': 10.0186767578125, 'learning_rate': 1.1603053435114503e-05, 'epoch': 0.42}\n",
      "{'loss': 0.199, 'grad_norm': 6.218599796295166, 'learning_rate': 1.1221374045801527e-05, 'epoch': 0.44}\n",
      "{'loss': 0.3091, 'grad_norm': 12.772940635681152, 'learning_rate': 1.0839694656488552e-05, 'epoch': 0.46}\n",
      "{'loss': 0.2435, 'grad_norm': 1.719742774963379, 'learning_rate': 1.0458015267175574e-05, 'epoch': 0.48}\n",
      "{'loss': 0.2359, 'grad_norm': 2.3768270015716553, 'learning_rate': 1.0076335877862595e-05, 'epoch': 0.5}\n",
      "{'loss': 0.5152, 'grad_norm': 5.316135883331299, 'learning_rate': 9.694656488549619e-06, 'epoch': 0.52}\n",
      "{'loss': 0.2685, 'grad_norm': 5.829627990722656, 'learning_rate': 9.312977099236641e-06, 'epoch': 0.53}\n",
      "{'loss': 0.2001, 'grad_norm': 2.8878376483917236, 'learning_rate': 8.931297709923665e-06, 'epoch': 0.55}\n",
      "{'loss': 0.2185, 'grad_norm': 11.155949592590332, 'learning_rate': 8.549618320610688e-06, 'epoch': 0.57}\n",
      "{'loss': 0.2252, 'grad_norm': 5.095215797424316, 'learning_rate': 8.16793893129771e-06, 'epoch': 0.59}\n",
      "{'loss': 0.171, 'grad_norm': 10.375025749206543, 'learning_rate': 7.786259541984733e-06, 'epoch': 0.61}\n",
      "{'loss': 0.2291, 'grad_norm': 9.536829948425293, 'learning_rate': 7.404580152671757e-06, 'epoch': 0.63}\n",
      "{'loss': 0.2309, 'grad_norm': 1.7445929050445557, 'learning_rate': 7.022900763358779e-06, 'epoch': 0.65}\n",
      "{'loss': 0.2726, 'grad_norm': 9.021307945251465, 'learning_rate': 6.641221374045802e-06, 'epoch': 0.67}\n",
      "{'loss': 0.1882, 'grad_norm': 9.46845817565918, 'learning_rate': 6.259541984732826e-06, 'epoch': 0.69}\n",
      "{'loss': 0.1922, 'grad_norm': 5.086745738983154, 'learning_rate': 5.877862595419848e-06, 'epoch': 0.71}\n",
      "{'loss': 0.2481, 'grad_norm': 6.958901882171631, 'learning_rate': 5.496183206106871e-06, 'epoch': 0.73}\n",
      "{'loss': 0.2737, 'grad_norm': 15.224752426147461, 'learning_rate': 5.114503816793893e-06, 'epoch': 0.74}\n",
      "{'loss': 0.2105, 'grad_norm': 3.7628579139709473, 'learning_rate': 4.732824427480917e-06, 'epoch': 0.76}\n",
      "{'loss': 0.2509, 'grad_norm': 5.36747932434082, 'learning_rate': 4.351145038167939e-06, 'epoch': 0.78}\n",
      "{'loss': 0.1505, 'grad_norm': 2.8559231758117676, 'learning_rate': 3.969465648854962e-06, 'epoch': 0.8}\n",
      "{'loss': 0.1692, 'grad_norm': 1.9437520503997803, 'learning_rate': 3.587786259541985e-06, 'epoch': 0.82}\n",
      "{'loss': 0.2455, 'grad_norm': 11.215909957885742, 'learning_rate': 3.206106870229008e-06, 'epoch': 0.84}\n",
      "{'loss': 0.2248, 'grad_norm': 5.3656535148620605, 'learning_rate': 2.824427480916031e-06, 'epoch': 0.86}\n",
      "{'loss': 0.1457, 'grad_norm': 5.6698527336120605, 'learning_rate': 2.4427480916030536e-06, 'epoch': 0.88}\n",
      "{'loss': 0.1523, 'grad_norm': 7.230633735656738, 'learning_rate': 2.0610687022900764e-06, 'epoch': 0.9}\n",
      "{'loss': 0.2503, 'grad_norm': 9.746636390686035, 'learning_rate': 1.6793893129770995e-06, 'epoch': 0.92}\n",
      "{'loss': 0.1489, 'grad_norm': 7.990536212921143, 'learning_rate': 1.297709923664122e-06, 'epoch': 0.94}\n",
      "{'loss': 0.2396, 'grad_norm': 15.64840316772461, 'learning_rate': 9.160305343511451e-07, 'epoch': 0.95}\n",
      "{'loss': 0.2379, 'grad_norm': 7.14078950881958, 'learning_rate': 5.34351145038168e-07, 'epoch': 0.97}\n",
      "{'loss': 0.2052, 'grad_norm': 12.853759765625, 'learning_rate': 1.5267175572519085e-07, 'epoch': 0.99}\n"
     ]
    },
    {
     "data": {
      "application/vnd.jupyter.widget-view+json": {
       "model_id": "6665487f3ab64e70b7e733977422d43b",
       "version_major": 2,
       "version_minor": 0
      },
      "text/plain": [
       "  0%|          | 0/131 [00:00<?, ?it/s]"
      ]
     },
     "metadata": {},
     "output_type": "display_data"
    },
    {
     "name": "stderr",
     "output_type": "stream",
     "text": [
      "Checkpoint destination directory bert-base-cased/checkpoint-524 already exists and is non-empty. Saving will proceed but saved results may be invalid.\n"
     ]
    },
    {
     "name": "stdout",
     "output_type": "stream",
     "text": [
      "{'eval_loss': 0.2022578865289688, 'eval_accuracy': 0.9259789875835721, 'eval_runtime': 7.1241, 'eval_samples_per_second': 293.931, 'eval_steps_per_second': 18.388, 'epoch': 1.0}\n",
      "{'train_runtime': 98.9273, 'train_samples_per_second': 84.648, 'train_steps_per_second': 5.297, 'train_loss': 0.2618254779176858, 'epoch': 1.0}\n"
     ]
    },
    {
     "data": {
      "text/plain": [
       "TrainOutput(global_step=524, training_loss=0.2618254779176858, metrics={'train_runtime': 98.9273, 'train_samples_per_second': 84.648, 'train_steps_per_second': 5.297, 'train_loss': 0.2618254779176858, 'epoch': 1.0})"
      ]
     },
     "execution_count": 62,
     "metadata": {},
     "output_type": "execute_result"
    }
   ],
   "source": [
    "train_output = trainer.train()\n",
    "train_output"
   ]
  },
  {
   "cell_type": "code",
   "execution_count": null,
   "metadata": {},
   "outputs": [
    {
     "name": "stderr",
     "output_type": "stream",
     "text": [
      "100%|██████████| 2094/2094 [00:08<00:00, 241.25it/s]\n"
     ]
    },
    {
     "data": {
      "image/png": "[encoded data removed]",
      "text/plain": [
       "<Figure size 640x480 with 2 Axes>"
      ]
     },
     "metadata": {},
     "output_type": "display_data"
    },
    {
     "data": {
      "text/plain": [
       "{'Not offensive': {'precision': 0.938508064516129,\n",
       "  'recall': 0.9825857519788919,\n",
       "  'f1-score': 0.960041247744264,\n",
       "  'support': 1895.0},\n",
       " 'Offensive': {'precision': 0.7,\n",
       "  'recall': 0.3869346733668342,\n",
       "  'f1-score': 0.49838187702265374,\n",
       "  'support': 199.0},\n",
       " 'accuracy': 0.9259789875835721,\n",
       " 'macro avg': {'precision': 0.8192540322580645,\n",
       "  'recall': 0.684760212672863,\n",
       "  'f1-score': 0.7292115623834589,\n",
       "  'support': 2094.0},\n",
       " 'weighted avg': {'precision': 0.9158418253381396,\n",
       "  'recall': 0.9259789875835721,\n",
       "  'f1-score': 0.9161681747864797,\n",
       "  'support': 2094.0}}"
      ]
     },
     "execution_count": 63,
     "metadata": {},
     "output_type": "execute_result"
    }
   ],
   "source": [
    "evaluate_model(model, tokenizer, val_dataset)"
   ]
  },
  {
   "cell_type": "code",
   "execution_count": null,
   "metadata": {},
   "outputs": [
    {
     "ename": "RuntimeError",
     "evalue": "CUDA error: device-side assert triggered\nCUDA kernel errors might be asynchronously reported at some other API call, so the stacktrace below might be incorrect.\nFor debugging consider passing CUDA_LAUNCH_BLOCKING=1.\nCompile with `TORCH_USE_CUDA_DSA` to enable device-side assertions.\n",
     "output_type": "error",
     "traceback": [
      "\u001b[0;31m---------------------------------------------------------------------------\u001b[0m",
      "\u001b[0;31mRuntimeError\u001b[0m                              Traceback (most recent call last)",
      "Cell \u001b[0;32mIn[30], line 1\u001b[0m\n\u001b[0;32m----> 1\u001b[0m \u001b[43msave_model_predictions\u001b[49m\u001b[43m(\u001b[49m\u001b[38;5;124;43m'\u001b[39;49m\u001b[38;5;124;43mroberta-base\u001b[39;49m\u001b[38;5;124;43m'\u001b[39;49m\u001b[43m,\u001b[49m\u001b[43m \u001b[49m\u001b[43mmodel\u001b[49m\u001b[43m,\u001b[49m\u001b[43m \u001b[49m\u001b[43mtokenizer\u001b[49m\u001b[43m)\u001b[49m\n",
      "Cell \u001b[0;32mIn[29], line 19\u001b[0m, in \u001b[0;36msave_model_predictions\u001b[0;34m(model_name, model, tokenizer)\u001b[0m\n\u001b[1;32m     17\u001b[0m \u001b[38;5;28;01mwith\u001b[39;00m torch\u001b[38;5;241m.\u001b[39mno_grad():\n\u001b[1;32m     18\u001b[0m     \u001b[38;5;28;01mfor\u001b[39;00m batch \u001b[38;5;129;01min\u001b[39;00m loader:\n\u001b[0;32m---> 19\u001b[0m         batch \u001b[38;5;241m=\u001b[39m \u001b[43mbatch\u001b[49m\u001b[38;5;241;43m.\u001b[39;49m\u001b[43mto\u001b[49m\u001b[43m(\u001b[49m\u001b[43mDEVICE\u001b[49m\u001b[43m)\u001b[49m\n\u001b[1;32m     20\u001b[0m         \u001b[38;5;28;01mdel\u001b[39;00m batch[\u001b[38;5;124m'\u001b[39m\u001b[38;5;124mlabels\u001b[39m\u001b[38;5;124m'\u001b[39m]\n\u001b[1;32m     22\u001b[0m         logits \u001b[38;5;241m=\u001b[39m model(\u001b[38;5;241m*\u001b[39m\u001b[38;5;241m*\u001b[39mbatch)\n",
      "File \u001b[0;32m~/Documents/imperial/year4/lectures/nlp/Coursework/nlp/.venv/lib/python3.10/site-packages/transformers/tokenization_utils_base.py:789\u001b[0m, in \u001b[0;36mBatchEncoding.to\u001b[0;34m(self, device)\u001b[0m\n\u001b[1;32m    785\u001b[0m \u001b[38;5;66;03m# This check catches things like APEX blindly calling \"to\" on all inputs to a module\u001b[39;00m\n\u001b[1;32m    786\u001b[0m \u001b[38;5;66;03m# Otherwise it passes the casts down and casts the LongTensor containing the token idxs\u001b[39;00m\n\u001b[1;32m    787\u001b[0m \u001b[38;5;66;03m# into a HalfTensor\u001b[39;00m\n\u001b[1;32m    788\u001b[0m \u001b[38;5;28;01mif\u001b[39;00m \u001b[38;5;28misinstance\u001b[39m(device, \u001b[38;5;28mstr\u001b[39m) \u001b[38;5;129;01mor\u001b[39;00m is_torch_device(device) \u001b[38;5;129;01mor\u001b[39;00m \u001b[38;5;28misinstance\u001b[39m(device, \u001b[38;5;28mint\u001b[39m):\n\u001b[0;32m--> 789\u001b[0m     \u001b[38;5;28mself\u001b[39m\u001b[38;5;241m.\u001b[39mdata \u001b[38;5;241m=\u001b[39m {k: v\u001b[38;5;241m.\u001b[39mto(device\u001b[38;5;241m=\u001b[39mdevice) \u001b[38;5;28;01mfor\u001b[39;00m k, v \u001b[38;5;129;01min\u001b[39;00m \u001b[38;5;28mself\u001b[39m\u001b[38;5;241m.\u001b[39mdata\u001b[38;5;241m.\u001b[39mitems()}\n\u001b[1;32m    790\u001b[0m \u001b[38;5;28;01melse\u001b[39;00m:\n\u001b[1;32m    791\u001b[0m     logger\u001b[38;5;241m.\u001b[39mwarning(\u001b[38;5;124mf\u001b[39m\u001b[38;5;124m\"\u001b[39m\u001b[38;5;124mAttempting to cast a BatchEncoding to type \u001b[39m\u001b[38;5;132;01m{\u001b[39;00m\u001b[38;5;28mstr\u001b[39m(device)\u001b[38;5;132;01m}\u001b[39;00m\u001b[38;5;124m. This is not supported.\u001b[39m\u001b[38;5;124m\"\u001b[39m)\n",
      "File \u001b[0;32m~/Documents/imperial/year4/lectures/nlp/Coursework/nlp/.venv/lib/python3.10/site-packages/transformers/tokenization_utils_base.py:789\u001b[0m, in \u001b[0;36m<dictcomp>\u001b[0;34m(.0)\u001b[0m\n\u001b[1;32m    785\u001b[0m \u001b[38;5;66;03m# This check catches things like APEX blindly calling \"to\" on all inputs to a module\u001b[39;00m\n\u001b[1;32m    786\u001b[0m \u001b[38;5;66;03m# Otherwise it passes the casts down and casts the LongTensor containing the token idxs\u001b[39;00m\n\u001b[1;32m    787\u001b[0m \u001b[38;5;66;03m# into a HalfTensor\u001b[39;00m\n\u001b[1;32m    788\u001b[0m \u001b[38;5;28;01mif\u001b[39;00m \u001b[38;5;28misinstance\u001b[39m(device, \u001b[38;5;28mstr\u001b[39m) \u001b[38;5;129;01mor\u001b[39;00m is_torch_device(device) \u001b[38;5;129;01mor\u001b[39;00m \u001b[38;5;28misinstance\u001b[39m(device, \u001b[38;5;28mint\u001b[39m):\n\u001b[0;32m--> 789\u001b[0m     \u001b[38;5;28mself\u001b[39m\u001b[38;5;241m.\u001b[39mdata \u001b[38;5;241m=\u001b[39m {k: \u001b[43mv\u001b[49m\u001b[38;5;241;43m.\u001b[39;49m\u001b[43mto\u001b[49m\u001b[43m(\u001b[49m\u001b[43mdevice\u001b[49m\u001b[38;5;241;43m=\u001b[39;49m\u001b[43mdevice\u001b[49m\u001b[43m)\u001b[49m \u001b[38;5;28;01mfor\u001b[39;00m k, v \u001b[38;5;129;01min\u001b[39;00m \u001b[38;5;28mself\u001b[39m\u001b[38;5;241m.\u001b[39mdata\u001b[38;5;241m.\u001b[39mitems()}\n\u001b[1;32m    790\u001b[0m \u001b[38;5;28;01melse\u001b[39;00m:\n\u001b[1;32m    791\u001b[0m     logger\u001b[38;5;241m.\u001b[39mwarning(\u001b[38;5;124mf\u001b[39m\u001b[38;5;124m\"\u001b[39m\u001b[38;5;124mAttempting to cast a BatchEncoding to type \u001b[39m\u001b[38;5;132;01m{\u001b[39;00m\u001b[38;5;28mstr\u001b[39m(device)\u001b[38;5;132;01m}\u001b[39;00m\u001b[38;5;124m. This is not supported.\u001b[39m\u001b[38;5;124m\"\u001b[39m)\n",
      "\u001b[0;31mRuntimeError\u001b[0m: CUDA error: device-side assert triggered\nCUDA kernel errors might be asynchronously reported at some other API call, so the stacktrace below might be incorrect.\nFor debugging consider passing CUDA_LAUNCH_BLOCKING=1.\nCompile with `TORCH_USE_CUDA_DSA` to enable device-side assertions.\n"
     ]
    }
   ],
   "source": [
    "save_model_predictions('roberta-base', model, tokenizer)"
   ]
  }
 ],
 "metadata": {
  "kernelspec": {
   "display_name": ".venv",
   "language": "python",
   "name": "python3"
  },
  "language_info": {
   "codemirror_mode": {
    "name": "ipython",
    "version": 3
   },
   "file_extension": ".py",
   "mimetype": "text/x-python",
   "name": "python",
   "nbconvert_exporter": "python",
   "pygments_lexer": "ipython3",
   "version": "3.10.12"
  }
 },
 "nbformat": 4,
 "nbformat_minor": 2
}
