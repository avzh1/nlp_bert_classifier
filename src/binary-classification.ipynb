{
 "cells": [
  {
   "cell_type": "markdown",
   "metadata": {},
   "source": [
    "# Binary Classification of the \"Don't Patronize Me!\" Dataset"
   ]
  },
  {
   "cell_type": "markdown",
   "metadata": {},
   "source": [
    "Perform Binary Classification to predict whether a text contains patronizing and condescending language. The task was task 4 (subtask 1) in the SemEval 2022 competition."
   ]
  },
  {
   "cell_type": "markdown",
   "metadata": {},
   "source": [
    "## == Initialize Environment == "
   ]
  },
  {
   "cell_type": "code",
   "execution_count": 1,
   "metadata": {},
   "outputs": [
    {
     "name": "stderr",
     "output_type": "stream",
     "text": [
      "2024-03-03 22:31:34.838732: I tensorflow/core/util/port.cc:113] oneDNN custom operations are on. You may see slightly different numerical results due to floating-point round-off errors from different computation orders. To turn them off, set the environment variable `TF_ENABLE_ONEDNN_OPTS=0`.\n",
      "2024-03-03 22:31:34.860778: E external/local_xla/xla/stream_executor/cuda/cuda_dnn.cc:9261] Unable to register cuDNN factory: Attempting to register factory for plugin cuDNN when one has already been registered\n",
      "2024-03-03 22:31:34.860804: E external/local_xla/xla/stream_executor/cuda/cuda_fft.cc:607] Unable to register cuFFT factory: Attempting to register factory for plugin cuFFT when one has already been registered\n",
      "2024-03-03 22:31:34.861407: E external/local_xla/xla/stream_executor/cuda/cuda_blas.cc:1515] Unable to register cuBLAS factory: Attempting to register factory for plugin cuBLAS when one has already been registered\n",
      "2024-03-03 22:31:34.865726: I tensorflow/core/platform/cpu_feature_guard.cc:182] This TensorFlow binary is optimized to use available CPU instructions in performance-critical operations.\n",
      "To enable the following instructions: AVX2 AVX_VNNI FMA, in other operations, rebuild TensorFlow with the appropriate compiler flags.\n",
      "2024-03-03 22:31:35.285320: W tensorflow/compiler/tf2tensorrt/utils/py_utils.cc:38] TF-TRT Warning: Could not find TensorRT\n"
     ]
    },
    {
     "data": {
      "text/plain": [
       "'cuda'"
      ]
     },
     "execution_count": 1,
     "metadata": {},
     "output_type": "execute_result"
    }
   ],
   "source": [
    "# Library imports\n",
    "import pandas as pd\n",
    "\n",
    "import seaborn as sns\n",
    "import matplotlib.pyplot as plt    \n",
    "\n",
    "from nltk import PorterStemmer, WordNetLemmatizer\n",
    "import codecs\n",
    "\n",
    "import torch\n",
    "from torch.utils.data import DataLoader, Dataset, Sampler\n",
    "from tqdm import tqdm\n",
    "import torch.nn as nn\n",
    "\n",
    "import re\n",
    "from functools import partial\n",
    "\n",
    "import numpy as np\n",
    "from numpy import dot\n",
    "from numpy.linalg import norm\n",
    "\n",
    "from sklearn.model_selection import train_test_split\n",
    "from sklearn.metrics import confusion_matrix, ConfusionMatrixDisplay, classification_report, precision_score, recall_score, f1_score, precision_recall_fscore_support\n",
    "\n",
    "# Pre-trained models\n",
    "from simpletransformers.classification import ClassificationModel, ClassificationArgs, MultiLabelClassificationModel, MultiLabelClassificationArgs\n",
    "from transformers import Trainer, TrainingArguments\n",
    "from transformers import BertTokenizer\n",
    "from transformers import BertPreTrainedModel, BertModel\n",
    "from transformers.models.bert.modeling_bert import BertOnlyMLMHead\n",
    "from transformers import AutoModelForSequenceClassification, AdamW, get_scheduler\n",
    "\n",
    "\n",
    "def fix_seed(seed=420.69):\n",
    "  torch.manual_seed(seed)\n",
    "  torch.cuda.manual_seed(seed)\n",
    "#   np.random.seed(seed)\n",
    "#   random.seed(seed)\n",
    "\n",
    "fix_seed()\n",
    "\n",
    "data_path = '../bin/data'\n",
    "embeddings_path = '../bin/word_embeddings'\n",
    "model_save_path = '../bin/models'\n",
    "\n",
    "from util.datafunctions import *\n",
    "from util.evaluation import *\n",
    "\n",
    "if not torch.cuda.is_available():\n",
    "  DEVICE = 'cpu'\n",
    "else:\n",
    "  DEVICE = 'cuda'\n",
    "\n",
    "DEVICE"
   ]
  },
  {
   "cell_type": "markdown",
   "metadata": {},
   "source": [
    "## === Utils ==="
   ]
  },
  {
   "cell_type": "markdown",
   "metadata": {},
   "source": [
    "### Data related util functions"
   ]
  },
  {
   "cell_type": "code",
   "execution_count": 2,
   "metadata": {},
   "outputs": [],
   "source": [
    "from sklearn.model_selection import train_test_split\n",
    "import matplotlib.pyplot as plt\n",
    "\n",
    "def generate_data_splits(train_data):\n",
    "    # The stratify parameter makes a split so that the proportion of values in the sample produced will be the same as the proportion of values provided to parameter stratify. \n",
    "\n",
    "    X_train, X_val, y_train, y_val = train_test_split(train_data[['text', 'keyword', 'country_code']]\n",
    "                                                    , train_data['labels']\n",
    "                                                    , train_size=0.8\n",
    "                                                    , test_size=0.2\n",
    "                                                    , random_state=0\n",
    "                                                    , stratify=train_data[['labels']]\n",
    "                                                    )\n",
    "   \n",
    "    return X_train, X_val, y_train, y_val\n",
    "\n",
    "\n",
    "def pie_data_distributions(pie_series, pie_series_label):\n",
    "    \"\"\"Plots some pie charts for data distribution (Assume len(pie_series) inputs)\n",
    "\n",
    "    Args:\n",
    "        pie_series (_type_): pandas series \n",
    "        pie_series_label (_type_): for the title\n",
    "    \"\"\"\n",
    "\n",
    "    assert len(pie_series) == len(pie_series_label) and \"expected inputs of same length\"\n",
    "\n",
    "    _, axs = plt.subplots(1, len(pie_series), figsize=(len(pie_series)*5, 5))\n",
    "\n",
    "    for idx, (series, title) in enumerate(zip(pie_series, pie_series_label)):\n",
    "        tmp = series.value_counts()\n",
    "\n",
    "        wedges, _, _ = axs[idx].pie(tmp, labels=tmp.index, autopct='%1.1f%%', startangle=90)\n",
    "        legend_labels = [f'{label} ({count})' for label, count in zip(tmp.index, tmp)]\n",
    "        axs[idx].legend(wedges, legend_labels, title=\"Class 1 and 0\", loc=\"center left\", bbox_to_anchor=(1, 0, 0.5, 1))\n",
    "        axs[idx].set_title(f'Distribution for {title}')\n",
    "\n",
    "    plt.tight_layout()\n",
    "    plt.show()"
   ]
  },
  {
   "cell_type": "code",
   "execution_count": 3,
   "metadata": {},
   "outputs": [],
   "source": [
    "def plot_data_splits(X_train, X_val, y_train, y_val, test_data):\n",
    "    print(\"=== DISTRIBUTION FOR TRAINING DATA ===\")\n",
    "    pie_data_distributions(\n",
    "        [X_train['country_code'], X_train['keyword'], y_train],\n",
    "        ['train country_code label', 'train keyword label', 'train binary classification']\n",
    "    )\n",
    "\n",
    "    print(\"=== DISTRIBUTION FOR VALIDATION DATA ===\")\n",
    "    pie_data_distributions(\n",
    "        [X_val['country_code'], X_val['keyword'], y_val],\n",
    "        ['validation country_code label', 'validation keyword label', 'validation binary classification']\n",
    "    )\n",
    "\n",
    "    print(\"=== DISTRIBUTION FOR TEST DATA ===\")\n",
    "    pie_data_distributions(\n",
    "        [test_data['country_code'], test_data['keyword']],\n",
    "        ['test country_code label', 'test keyword label']\n",
    "    )"
   ]
  },
  {
   "cell_type": "markdown",
   "metadata": {},
   "source": [
    "### Evaluation util functions"
   ]
  },
  {
   "cell_type": "markdown",
   "metadata": {},
   "source": [
    "## === Loading the Data ==="
   ]
  },
  {
   "cell_type": "code",
   "execution_count": 4,
   "metadata": {},
   "outputs": [],
   "source": [
    "# Import Data\n",
    "train_data_path = f'{data_path}/dontpatronizeme_pcl.tsv'\n",
    "test_data_path  = f'{data_path}/task4_test.tsv'\n",
    "\n",
    "train_data = pd.read_csv(train_data_path, delimiter='\\t', skiprows=4, header=None, names=['par_id','art_id','keyword','country_code', 'text','label'])\n",
    "test_data  = pd.read_csv(test_data_path,  delimiter='\\t', skiprows=4, header=None, names=['par_id','art_id','keyword','country_code', 'text'])\n",
    "\n",
    "train_data = train_data.drop(['art_id'], axis=1)\n",
    "test_data = test_data.drop(['art_id'], axis=1)"
   ]
  },
  {
   "cell_type": "code",
   "execution_count": 5,
   "metadata": {},
   "outputs": [],
   "source": [
    "# Concatenate label information to train data\n",
    "dev_label_path   = f'{data_path}/dev_semeval_parids-labels.csv'\n",
    "train_label_path = f'{data_path}/train_semeval_parids-labels.csv'\n",
    "\n",
    "dev_label   = pd.read_csv(dev_label_path, delimiter=',')\n",
    "train_label = pd.read_csv(train_label_path, delimiter=',')\n",
    "\n",
    "detailed_labels = pd.concat([dev_label, train_label], ignore_index=True, join='inner', names=['simple', 'detailed'])\n",
    "train_data = pd.merge(train_data, detailed_labels, on='par_id')\n",
    "train_data = train_data.rename(columns={'label_x': 'binary_label', 'label_y': 'label_detailed'})"
   ]
  },
  {
   "cell_type": "code",
   "execution_count": 6,
   "metadata": {},
   "outputs": [],
   "source": [
    "# Add Binary Classification column for ease of checking\n",
    "train_data.loc[:, 'labels'] = 0\n",
    "train_data.loc[train_data['binary_label'].isin([2,3,4]), 'labels'] = 1"
   ]
  },
  {
   "cell_type": "code",
   "execution_count": 7,
   "metadata": {},
   "outputs": [],
   "source": [
    "train_data = train_data.dropna(subset = 'text')\n",
    "test_data = test_data.dropna(subset = 'text')\n",
    "\n",
    "test_data['labels'] = -1 # for compatibility with the dataloader, set a dummy label variable"
   ]
  },
  {
   "cell_type": "code",
   "execution_count": 8,
   "metadata": {},
   "outputs": [],
   "source": [
    "id2label = {0: \"non-PCL\", 1: \"PCL\"}\n",
    "label2id = {\"non-PCL\": 0, \"PCL\": 1}"
   ]
  },
  {
   "cell_type": "code",
   "execution_count": 9,
   "metadata": {},
   "outputs": [
    {
     "data": {
      "image/png": "[encoded data removed]",
      "text/plain": [
       "<Figure size 1000x500 with 2 Axes>"
      ]
     },
     "metadata": {},
     "output_type": "display_data"
    }
   ],
   "source": [
    "X_train, X_val, y_train, y_val = generate_data_splits(train_data)\n",
    "\n",
    "pie_data_distributions([y_train, y_val], ['Train Data', 'Validation Data'])"
   ]
  },
  {
   "cell_type": "markdown",
   "metadata": {},
   "source": [
    "## === Pre-processing ==="
   ]
  },
  {
   "cell_type": "markdown",
   "metadata": {},
   "source": [
    "### Tokenization"
   ]
  },
  {
   "cell_type": "code",
   "execution_count": 10,
   "metadata": {},
   "outputs": [],
   "source": [
    "from typing import List\n",
    "\n",
    "def tokenize_text(text: List[str], tokenizer: BertTokenizer, max_length: int = 300):\n",
    "    \"\"\"Tokenize the input text using the provided tokenizer\n",
    "\n",
    "    Args:\n",
    "        text (List[str]): input text\n",
    "        tokenizer (BertTokenizer): tokenizer to be used\n",
    "        max_length (int, optional): maximum length of the tokenized text. Defaults to 300.\n",
    "\n",
    "    Returns:\n",
    "        dict: dictionary containing the tokenized text\n",
    "    \"\"\"    \n",
    "\n",
    "    # We pad shorter sentences to a length of trunc_len tokens since the maximum sequence size for BERT is 512\n",
    "    return tokenizer(text, return_tensors='pt', padding=True, truncation=True, max_length=max_length)"
   ]
  },
  {
   "cell_type": "markdown",
   "metadata": {},
   "source": [
    "### 1. Masking Tokens"
   ]
  },
  {
   "cell_type": "code",
   "execution_count": 11,
   "metadata": {},
   "outputs": [],
   "source": [
    "def mask_tokens(inputs, tokenizer, mlm_probability):\n",
    "    \"\"\"Given a tokenized input, will prepare masked tokens inputs/labels for Masked Language Modelling. 'We want to train BERT to predict an mlm_probability% of tokens (in the original paper it is 15%) of which 80% will be replaced by a ``[MASK]`` token, 10% with a random token and 10% remain the same token.' (from tutorial)\n",
    "\n",
    "    Args:\n",
    "        inputs (list): list of inputs to be masked\n",
    "        tokenizer (BertTokenizer): tokenizer to be used\n",
    "        mlm_probability (float): probability of applying a mask to each token\n",
    "\n",
    "    Returns:\n",
    "        (maksed tokens, original token): _description_\n",
    "    \"\"\"    \n",
    "\n",
    "    assert tokenizer.mask_token is not None and \"Tokenizer should not be none. (how can we mask if we don't know what to call it!)\"\n",
    "\n",
    "    labels = inputs.clone()\n",
    "\n",
    "    # We sample a few tokens in each sequence for masked-LM training (with probability mlm_probability defaults to 0.15 in Bert/RoBERTa)\n",
    "    probability_matrix = torch.full(labels.shape, mlm_probability)\n",
    "    special_tokens_mask = [tokenizer.get_special_tokens_mask(val, already_has_special_tokens=True) for val in labels.tolist()]\n",
    "    probability_matrix.masked_fill_(torch.tensor(special_tokens_mask, dtype=torch.bool), value=0.0)\n",
    "\n",
    "    if tokenizer._pad_token is not None:\n",
    "        padding_mask = labels.eq(tokenizer.pad_token_id)\n",
    "        probability_matrix.masked_fill_(padding_mask, value=0.0)\n",
    "    masked_indices = torch.bernoulli(probability_matrix).bool()\n",
    "    labels[~masked_indices] = -100  # We only compute loss on masked tokens\n",
    "\n",
    "    # 80% of the time, we replace masked input tokens with tokenizer.mask_token ([MASK])\n",
    "    indices_replaced = torch.bernoulli(torch.full(labels.shape, 0.8)).bool() & masked_indices\n",
    "    inputs[indices_replaced] = tokenizer.convert_tokens_to_ids(tokenizer.mask_token)\n",
    "\n",
    "    # 10% of the time, we replace masked input tokens with random word\n",
    "    indices_random = torch.bernoulli(torch.full(labels.shape, 0.5)).bool() & masked_indices & ~indices_replaced\n",
    "    random_words = torch.randint(len(tokenizer), labels.shape, dtype=torch.long)\n",
    "    inputs[indices_random] = random_words[indices_random]\n",
    "\n",
    "    # The rest of the time (10% of the time) we keep the masked input tokens unchanged\n",
    "    return inputs, labels"
   ]
  },
  {
   "cell_type": "markdown",
   "metadata": {},
   "source": [
    "### 2. Stop Word Removal"
   ]
  },
  {
   "cell_type": "markdown",
   "metadata": {},
   "source": [
    "explanation: https://towardsdatascience.com/text-pre-processing-stop-words-removal-using-different-libraries-f20bac19929a\n",
    "\n",
    "we don't always remove stop words, e.g. https://www.ibm.com/docs/en/watson-explorer/11.0.0?topic=analytics-stop-word-removal when a sentence consists only of stop words, but this library takes care of it\"Surprisingly, the stopwords received as much attention as non-stop words, but removing them has no effect in MRR performances.\" https://stackoverflow.com/questions/63633534/is-it-necessary-to-do-stopwords-removal-stemming-lemmatization-for-text-classif "
   ]
  },
  {
   "cell_type": "code",
   "execution_count": 12,
   "metadata": {},
   "outputs": [
    {
     "name": "stdout",
     "output_type": "stream",
     "text": [
      "Original Text: I do not like you because I'm better than you\n",
      "Text after Stopword Removal: I like I'm better\n"
     ]
    }
   ],
   "source": [
    "from gensim.parsing.preprocessing import remove_stopwords\n",
    "\n",
    "# Another sample text\n",
    "new_text = \"I do not like you because I'm better than you\"\n",
    " \n",
    "# Remove stopwords using Gensim\n",
    "new_filtered_text = remove_stopwords(new_text)\n",
    "\n",
    "print(\"Original Text:\", new_text)\n",
    "print(\"Text after Stopword Removal:\", new_filtered_text)"
   ]
  },
  {
   "cell_type": "markdown",
   "metadata": {},
   "source": [
    "## === Data Sampling ==="
   ]
  },
  {
   "cell_type": "markdown",
   "metadata": {},
   "source": [
    "### 1. \"Easy Data Augmentation Techniques\""
   ]
  },
  {
   "cell_type": "markdown",
   "metadata": {},
   "source": [
    "(Initially) Inspired by https://datascience.stackexchange.com/questions/27671/how-do-you-apply-smote-on-text-classification \n",
    "\n",
    "Code implemented from https://arxiv.org/pdf/1901.11196.pdf"
   ]
  },
  {
   "cell_type": "code",
   "execution_count": 13,
   "metadata": {},
   "outputs": [
    {
     "name": "stdout",
     "output_type": "stream",
     "text": [
      "fatal: destination path 'eda_nlp' already exists and is not an empty directory.\n"
     ]
    }
   ],
   "source": [
    "!git clone https://github.com/jasonwei20/eda_nlp.git\n",
    "from eda_nlp.code.eda import *"
   ]
  },
  {
   "cell_type": "code",
   "execution_count": 14,
   "metadata": {},
   "outputs": [
    {
     "data": {
      "text/plain": [
       "['i hatred you because i think that im better than you',\n",
       " 'hate because i think that im better than you',\n",
       " 'i because you hate i think that im better than you',\n",
       " 'i hate you because i think that im better than you',\n",
       " 'i hate you because i retrieve that im better than you',\n",
       " 'i hate you because i think that im better than you']"
      ]
     },
     "execution_count": 14,
     "metadata": {},
     "output_type": "execute_result"
    }
   ],
   "source": [
    "# Default parameters have shown good performance in the original paper\n",
    "eda(\"I hate you because I think that I'm better than you\", alpha_ri=0.0, num_aug=5)"
   ]
  },
  {
   "cell_type": "code",
   "execution_count": 55,
   "metadata": {},
   "outputs": [],
   "source": [
    "def generate_eda(data, num_aug=3, probability=0.1):\n",
    "    eda_upsampled = data[data['labels'] == 1]\n",
    "    eda_upsampled.loc[:, 'text'] = eda_upsampled.apply(\n",
    "        lambda row: eda(row['text']\n",
    "                        , num_aug=num_aug\n",
    "                        , alpha_ri=probability\n",
    "                        , alpha_rs=probability\n",
    "                        , p_rd    =probability\n",
    "                        , alpha_sr=probability\n",
    "                        ), axis=1) #alpha_ri=0.0, num_aug=num_aug), axis=1)\n",
    "\n",
    "    upsampled_positives = pd.DataFrame(columns=data.columns)\n",
    "\n",
    "    for _, row in eda_upsampled.iterrows():\n",
    "        for upsample in row['text']:\n",
    "            # insert into upsampled_positives the row['text'] and the remaining columns in variable row\n",
    "            new_row = pd.DataFrame([row], columns=data.columns)\n",
    "            new_row['text'] = upsample\n",
    "            upsampled_positives = pd.concat([upsampled_positives, new_row], ignore_index=True)\n",
    "\n",
    "    train_data_minority_upsampled = pd.concat([upsampled_positives, data[data['labels'] == 0]], ignore_index=True)\n",
    "\n",
    "    return train_data_minority_upsampled"
   ]
  },
  {
   "cell_type": "code",
   "execution_count": 16,
   "metadata": {},
   "outputs": [
    {
     "data": {
      "image/png": "[encoded data removed]",
      "text/plain": [
       "<Figure size 1000x500 with 2 Axes>"
      ]
     },
     "metadata": {},
     "output_type": "display_data"
    }
   ],
   "source": [
    "train_data_minority_upsampled = generate_eda(train_data, num_aug=10)\n",
    "\n",
    "X_train, X_val, y_train, y_val = generate_data_splits(train_data_minority_upsampled)\n",
    "pie_data_distributions([y_train, y_val], ['Train Data', 'Validation Data'])"
   ]
  },
  {
   "cell_type": "markdown",
   "metadata": {},
   "source": [
    "### 2. Rephrasing\n",
    "\n",
    "https://github.com/Vamsi995/Paraphrase-Generator\n",
    "\n",
    "https://huggingface.co/Vamsi/T5_Paraphrase_Paws\n",
    "\n",
    "Paraphrasing only really works on longer sentences"
   ]
  },
  {
   "cell_type": "code",
   "execution_count": 110,
   "metadata": {},
   "outputs": [
    {
     "name": "stderr",
     "output_type": "stream",
     "text": [
      "/home/avzh1/Documents/imperial/year4/lectures/nlp/Coursework/nlp/.venv/lib/python3.10/site-packages/transformers/generation/configuration_utils.py:453: UserWarning: `num_beams` is set to 1. However, `early_stopping` is set to `True` -- this flag is only used in beam-based generation modes. You should set `num_beams>1` or unset `early_stopping`.\n",
      "  warnings.warn(\n"
     ]
    },
    {
     "name": "stdout",
     "output_type": "stream",
     "text": [
      "I don't like you because I'm better than you.\n",
      "I don't like you because I'm better than you.\n",
      "I don't like you because I'm better than you.\n",
      "I don't like you because I am better than you.\n",
      "I don't like you, because I am better than you.\n",
      "For a while, waking up every day to check the news seemed to carry the same feeling of panic and dread that action heroes probably face when they decide whether to cut down the blue or green wire on a ticking bomb -- except the instructions of the bomb, long ago, burned in a fire and the imminent disaster seemed the probabilistic outcome.\n",
      "We are living in times of absolute insanity, as most people are probably aware : waking every day to check the news seemed to carry with it the same feeling of panic and fear that action heroes might face when they decide whether to cut the blue or green wire on a ticking bomb, except the instructions of the bomb have burned long ago in a fire and the imminent catastrophe seems the likely outcome, so it's natural for people to become inured to this constant chaos, to a malaise\n",
      "We live in times of absolute insanity, as I'm pretty sure most people are aware. A while ago, waking up to check the news seemed to carry the same feeling of panic and anxiety that action heroes probably face when they're trying to decide whether to cut the blue or green wire on a ticking bomb, except that the instructions on the bomb burned long ago in a fire and imminent disaster seems the likely outcome. It's natural for people to become inured to this\n",
      "We live in times of absolute insanity, as I'm pretty sure most people are aware, for a while, waking up to check the news seemed to carry the same feeling of panic and dread that action heroes probably face when they are trying to decide whether to cut the blue or green wire on a ticking bomb -- except the instructions of the bomb burned in a fire long ago, and the imminent catastrophe seemed the likely outcome. It is natural for people to become inured to this\n",
      "It's indeed living in times of absolute insanity, as most of the people I'm pretty sure are aware of, that waking up to read the news seemed to carry with it the same feeling of panic and dread that action heroes might face when trying to decide whether to cut the blue or green wire on a ticking bomb -- except that the instructions of the bomb were burned long ago in a fire and a lingering catastrophe seems the likely outcome. It's natural for people to\n"
     ]
    }
   ],
   "source": [
    "from transformers import AutoTokenizer, AutoModelForSeq2SeqLM\n",
    "\n",
    "def paraphrase_text(text: str, num_return_sequences: int):\n",
    "    \"\"\"Paraphrase the input text using the T5 model\n",
    "\n",
    "    Args:\n",
    "        text (str): input text\n",
    "        num_return_sequences (int): number of paraphrases to return\n",
    "\n",
    "    Returns:\n",
    "        list: list of paraphrased text\n",
    "    \"\"\"    \n",
    "\n",
    "    # Format text for the model to understand the paraphrasing task\n",
    "    text =  \"paraphrase: \" + text + \" </s>\"\n",
    "\n",
    "    # Load model\n",
    "    tokenizer = AutoTokenizer.from_pretrained(\"Vamsi/T5_Paraphrase_Paws\")  \n",
    "    model = AutoModelForSeq2SeqLM.from_pretrained(\"Vamsi/T5_Paraphrase_Paws\").to('cuda')\n",
    "\n",
    "    encoding = tokenizer.encode_plus(text, padding='longest', return_tensors=\"pt\")\n",
    "    input_ids, attention_masks = encoding[\"input_ids\"].to(\"cuda\"), encoding[\"attention_mask\"].to(\"cuda\")\n",
    "\n",
    "    # Generate paraphrases\n",
    "    outputs = model.generate(\n",
    "        input_ids=input_ids, attention_mask=attention_masks,\n",
    "        max_length=256,\n",
    "        do_sample=True,\n",
    "        top_k=120,\n",
    "        top_p=0.95,\n",
    "        early_stopping=True,\n",
    "        num_return_sequences=num_return_sequences\n",
    "    )\n",
    "\n",
    "    # Decode the generated paraphrases\n",
    "    return [tokenizer.decode(output, skip_special_tokens=True,clean_up_tokenization_spaces=True) for output in outputs]\n",
    "\n",
    "for text in [\"I don't like you because I'm better than you\",\n",
    "             \"We 're living in times of absolute insanity , as I 'm pretty sure most people are aware . For a while , waking up every day to check the news seemed to carry with it the same feeling of panic and dread that action heroes probably face when they 're trying to decide whether to cut the blue or green wire on a ticking bomb -- except the bomb 's instructions long ago burned in a fire and imminent catastrophe seems the likeliest outcome . It 's hard to stay that on-edge for that long , though , so it 's natural for people to become inured to this constant chaos , to slump into a malaise of hopelessness and pessimism .\"]:\n",
    "    for paraphrase in paraphrase_text(text, 5):\n",
    "        print(paraphrase)"
   ]
  },
  {
   "cell_type": "markdown",
   "metadata": {},
   "source": [
    "### 3. Contextual Word Embeddings for Sentence Augmenter\n",
    "\n",
    "https://github.com/makcedward/nlpaug/blob/master/example/textual_augmenter.ipynb\n",
    "\n",
    "seems to be bad for long sentences, good for short!"
   ]
  },
  {
   "cell_type": "code",
   "execution_count": 119,
   "metadata": {},
   "outputs": [
    {
     "name": "stdout",
     "output_type": "stream",
     "text": [
      "[\"I don't like you because I'm better than you I This A The , F The In .\"]\n",
      "['More than 750 trolleys of food donated to those in need I This to In The C You The to : The the It It \" We This G \" This , It to A D The of I T It']\n",
      "['The quick brown fox jumps over the lazy dog The R A I The B .']\n",
      "[\"We 're living in times of absolute insanity , as I 'm pretty sure most people are aware . For a while , waking up every day to check the news seemed to carry with it the same feeling of panic and dread that action heroes probably face when they 're trying to decide whether to cut the blue or green wire on a ticking bomb -- except the bomb 's instructions long ago burned in a fire and imminent catastrophe seems the likeliest outcome . It 's hard to stay that on-edge for that long , though , so it 's natural for people to become inured to this constant chaos , to slump into a malaise of hopelessness and pessimism . M The I The A , and The the B W 1 .\"]\n"
     ]
    }
   ],
   "source": [
    "# !pip install nlpaug\n",
    "\n",
    "import nlpaug.augmenter.sentence as nas\n",
    "\n",
    "aug = nas.ContextualWordEmbsForSentenceAug(model_path='distilgpt2')\n",
    "\n",
    "for text in [\"I don't like you because I'm better than you\",\n",
    "             \"More than 750 trolleys of food donated to those in need\",\n",
    "             \"The quick brown fox jumps over the lazy dog\",\n",
    "             \"We 're living in times of absolute insanity , as I 'm pretty sure most people are aware . For a while , waking up every day to check the news seemed to carry with it the same feeling of panic and dread that action heroes probably face when they 're trying to decide whether to cut the blue or green wire on a ticking bomb -- except the bomb 's instructions long ago burned in a fire and imminent catastrophe seems the likeliest outcome . It 's hard to stay that on-edge for that long , though , so it 's natural for people to become inured to this constant chaos , to slump into a malaise of hopelessness and pessimism .\"]:\n",
    "    print(aug.augment(text))\n"
   ]
  },
  {
   "cell_type": "markdown",
   "metadata": {},
   "source": [
    "### 4. AugGPT\n",
    "\n",
    "https://github.com/yhydhx/AugGPT"
   ]
  },
  {
   "cell_type": "markdown",
   "metadata": {},
   "source": [
    "### 5. Translate and back\n",
    "\n",
    "https://github.com/NandhiniN85/Class-Imbalancing/blob/main/NLP%20-%20Class%20Imbalanced.ipynb\n",
    "\n",
    "https://www.analyticsvidhya.com/blog/2020/11/handling-imbalanced-data-machine-learning-computer-vision-and-nlp/"
   ]
  },
  {
   "cell_type": "code",
   "execution_count": 128,
   "metadata": {},
   "outputs": [
    {
     "name": "stdout",
     "output_type": "stream",
     "text": [
      "I don't like you because I'm better than you\n",
      "More than 750 food carts donated to those most in need\n",
      "A fast brown fox jumps over a lazy dog\n",
      "We live in a time of absolute madness, as I'm sure most people know. For a while, it seemed like waking up every day to check the news brought with it the same sense of panic and dread that action heroes probably face when trying to decide whether to cut the blue or green wire of a time bomb. except that the instructions for detonating the bomb have long since been burned in a fire, and imminent disaster appears to be the most likely outcome. However, it is difficult to remain nervous for so long, so it is only natural that people get used to this constant chaos and fall into the malaise of hopelessness and pessimism.\n"
     ]
    }
   ],
   "source": [
    "# !pip install googletrans\n",
    "\n",
    "# from googletrans import Translator # google translator doesn't seem to be working: issue: https://stackoverflow.com/questions/52455774/googletrans-stopped-working-with-error-nonetype-object-has-no-attribute-group/52456197#52456197\n",
    "\n",
    "# translator = Translator()\n",
    "\n",
    "# def Portugese_translation(x):\n",
    "#     print(x)    \n",
    "#     german_translation = translator.translate(x, dest='pt')    \n",
    "#     return german_translation.text\n",
    "\n",
    "# def English_translation(x):\n",
    "#     print(x)    \n",
    "#     english_translation = translator.translate(x, dest='en')    \n",
    "#     return english_translation.text\n",
    "\n",
    "# x = Portugese_translation(\"warning for using windows disk space\")\n",
    "# English_translation(x)\n",
    "\n",
    "# !pip install -U deep-translator\n",
    "from deep_translator import GoogleTranslator\n",
    "\n",
    "def multi_translate(text):\n",
    "    text = GoogleTranslator(source='en', target='pt').translate(text)\n",
    "    text = GoogleTranslator(source='pt', target='ru').translate(text)\n",
    "    return GoogleTranslator(source='ru', target='en').translate(text)\n",
    "\n",
    "# multi_translate(\"More than 750 trolleys of food donated to those in need\")\n",
    "\n",
    "for text in [\"I don't like you because I'm better than you\",\n",
    "             \"More than 750 trolleys of food donated to those in need\",\n",
    "             \"The quick brown fox jumps over the lazy dog\",\n",
    "             \"We 're living in times of absolute insanity , as I 'm pretty sure most people are aware . For a while , waking up every day to check the news seemed to carry with it the same feeling of panic and dread that action heroes probably face when they 're trying to decide whether to cut the blue or green wire on a ticking bomb -- except the bomb 's instructions long ago burned in a fire and imminent catastrophe seems the likeliest outcome . It 's hard to stay that on-edge for that long , though , so it 's natural for people to become inured to this constant chaos , to slump into a malaise of hopelessness and pessimism .\"]:\n",
    "    \n",
    "    print(multi_translate(text))"
   ]
  },
  {
   "cell_type": "markdown",
   "metadata": {},
   "source": [
    "## === Model Setup ==="
   ]
  },
  {
   "cell_type": "markdown",
   "metadata": {},
   "source": [
    "### Dataset Class"
   ]
  },
  {
   "cell_type": "code",
   "execution_count": 17,
   "metadata": {},
   "outputs": [],
   "source": [
    "# Creating Datasets for formatting entries from the PCL dataset.\n",
    "class PCLDataset(Dataset):\n",
    "    def __init__(self, data_frame: pd.DataFrame\n",
    "                 , tokenizer: BertTokenizer\n",
    "                 , mask_tokens = False\n",
    "                 , trunc_len = 300\n",
    "                 , mlm_probability = 0.15):\n",
    "        \"\"\"Initializes the PCLDataset class\"\"\"\n",
    "\n",
    "        self.data = data_frame\n",
    "        self.tokenizer = tokenizer\n",
    "        self.mask = mask_tokens\n",
    "        self.trunc_len = trunc_len\n",
    "        self.mlm_probability = mlm_probability        \n",
    "\n",
    "    def __len__(self):\n",
    "        return len(self.data)\n",
    "\n",
    "    def __getitem__(self, idx):\n",
    "        \"\"\"Returns a singular item with all pre-processing required for the tester\"\"\"\n",
    "\n",
    "        # For now, we don't need the keyword and country_code\n",
    "\n",
    "        # data = {'keyword'     : self.data['keyword'].iloc[idx],\n",
    "        #         'country_code': self.data['country_code'].iloc[idx],\n",
    "        #         'text'        : self.data['text'].iloc[idx]}\n",
    "        \n",
    "        data = {'text': self.data['text'].iloc[idx]}\n",
    "        \n",
    "        # instead of label and label_detailed we use label\n",
    "        label = {'labels': self.data['labels'].iloc[idx]}\n",
    "\n",
    "        return data, label\n",
    "    \n",
    "    def collate_fn(self, batch):\n",
    "        \"\"\"merges a list of samples to form a mini-batch of Tensor(s). Used when using batched loading from a map-style\"\"\"\n",
    "        \n",
    "        input_features = [i for i, _ in batch]\n",
    "        output_labels  = [o for _, o in batch]\n",
    "\n",
    "        # 1. Tokenize the input text\n",
    "        batched_text = [item['text'] for item in input_features]\n",
    "        encodings = tokenize_text(batched_text, self.tokenizer, self.trunc_len)\n",
    "\n",
    "        # 2. Optionally mask the input\n",
    "        # if self.mask:\n",
    "        if False: # for now, we don't mask the input\n",
    "            masked_input, labels = mask_tokens(encodings['input_ids'], self.tokenizer, self.mlm_probability)\n",
    "            encodings['input_ids'] = masked_input\n",
    "            encodings['labels'] = labels\n",
    "\n",
    "        # 3. Process the output labels\n",
    "        encodings['labels'] = torch.tensor([item['labels'] for item in output_labels])\n",
    "\n",
    "        return encodings"
   ]
  },
  {
   "cell_type": "markdown",
   "metadata": {},
   "source": [
    "### Data Sampling\n",
    "\n"
   ]
  },
  {
   "cell_type": "code",
   "execution_count": 56,
   "metadata": {},
   "outputs": [
    {
     "data": {
      "image/png": "[encoded data removed]",
      "text/plain": [
       "<Figure size 1000x500 with 2 Axes>"
      ]
     },
     "metadata": {},
     "output_type": "display_data"
    }
   ],
   "source": [
    "# Upsample the minority class\n",
    "\n",
    "X_train, X_val, y_train, y_val = generate_data_splits(train_data)\n",
    "\n",
    "sampled_train_data = pd.merge(X_train, y_train, left_index=True, right_index=True)\n",
    "sampled_val_data = pd.merge(X_val, y_val, left_index=True, right_index=True)\n",
    "\n",
    "# sampled_train_data = generate_eda(sampled_train_data, num_aug=1, probability=0.5)\n",
    "\n",
    "pie_data_distributions([sampled_train_data['labels'], sampled_val_data['labels']], ['Upsampled Train Data\\n(Upsampled Minority)', 'Validation Data\\n(Original)'])"
   ]
  },
  {
   "cell_type": "markdown",
   "metadata": {},
   "source": [
    "## === Model ==="
   ]
  },
  {
   "cell_type": "code",
   "execution_count": 39,
   "metadata": {},
   "outputs": [],
   "source": [
    "h_params = {\n",
    "      'text trunction length': 300\n",
    "    , 'mask tokens': False\n",
    "    , 'mlm probability': 0.15\n",
    "    , 'batch size': 16\n",
    "    , 'learning rate': 2e-5\n",
    "    , 'epochs': 1\n",
    "    , 'warmup steps': 100\n",
    "    , 'weight decay': 0.01 \n",
    "}"
   ]
  },
  {
   "cell_type": "markdown",
   "metadata": {},
   "source": [
    "### Model Training Utils"
   ]
  },
  {
   "cell_type": "code",
   "execution_count": 40,
   "metadata": {},
   "outputs": [],
   "source": [
    "def predict_hatespeech(input, tokenizer, model):\n",
    "  model.eval()\n",
    "  encodings = tokenizer(input, return_tensors='pt', padding=True, truncation=True, max_length=h_params['text trunction length'])\n",
    "  encodings.to(DEVICE)\n",
    "\n",
    "  output = model(**encodings)\n",
    "  \n",
    "  return torch.argmax(output.logits, dim=1)"
   ]
  },
  {
   "cell_type": "code",
   "execution_count": 41,
   "metadata": {},
   "outputs": [],
   "source": [
    "def save_model_predictions(model_name, model, tokenizer):\n",
    "\n",
    "    model.eval()\n",
    "\n",
    "    # << create a dataloader for the entire training dataset >>\n",
    "    global_train_dataset = PCLDataset(sampled_train_data, mask_tokens=h_params['mask tokens'], tokenizer=tokenizer, trunc_len=h_params['text trunction length'])\n",
    "    global_train_data_loader = DataLoader(global_train_dataset, batch_size=h_params['batch size'], collate_fn=global_train_dataset.collate_fn)\n",
    "\n",
    "    test_dataset = PCLDataset(test_data, mask_tokens=False, tokenizer=tokenizer, trunc_len=h_params['text trunction length'])\n",
    "    test_data_loader = DataLoader(test_dataset, batch_size=h_params['batch size'], collate_fn=test_dataset.collate_fn)\n",
    "\n",
    "    # << iterate through the dataloader and make predictions >>\n",
    "    for loader in {global_train_data_loader, test_data_loader}:\n",
    "\n",
    "        train_predictions = []\n",
    "\n",
    "        with torch.no_grad():\n",
    "            for batch in tqdm(loader):\n",
    "                batch = batch.to(DEVICE)\n",
    "                del batch['labels']\n",
    "                \n",
    "                logits = model(**batch)\n",
    "                predictions = torch.argmax(logits.logits, dim=1)\n",
    "                train_predictions.extend(predictions.tolist())\n",
    "\n",
    "        train_predictions = np.array(train_predictions)\n",
    "\n",
    "        if loader is global_train_data_loader:\n",
    "            np.savetxt(f\"{model_save_path}/{model_name}/dev.txt\", train_predictions, fmt=\"%d\")\n",
    "        else:\n",
    "            np.savetxt(f\"{model_save_path}/{model_name}/test.txt\", train_predictions, fmt=\"%d\")\n"
   ]
  },
  {
   "cell_type": "code",
   "execution_count": 52,
   "metadata": {},
   "outputs": [],
   "source": [
    "import numpy as np\n",
    "from sklearn.metrics import confusion_matrix, classification_report\n",
    "import seaborn as sns\n",
    "import matplotlib.pyplot as plt\n",
    "\n",
    "def evaluate_model(model, tokenizer, data_loader):\n",
    "\n",
    "  preds = []\n",
    "  tot_labels = []\n",
    "\n",
    "  with torch.no_grad():\n",
    "    for logits, expected in tqdm(data_loader):\n",
    "      \n",
    "      tweets = logits['text']\n",
    "\n",
    "      pred = predict_hatespeech(tweets, tokenizer, model)\n",
    "\n",
    "      preds.append(pred.tolist())\n",
    "      tot_labels.append(expected['labels'])\n",
    "\n",
    "  # with the saved predictions and labels we can compute accuracy, precision, recall and f1-score\n",
    "  report = classification_report(tot_labels, preds, target_names=[\"Not offensive\",\"Offensive\"], output_dict= True)\n",
    "\n",
    "  cm = confusion_matrix(tot_labels, preds, labels=[0, 1]) \n",
    "\n",
    "  ax= plt.subplot()\n",
    "  sns.heatmap(cm, annot=True, fmt='g', ax=ax, cmap=sns.color_palette(\"ch:s=-.2,r=.6\", as_cmap=True));  #annot=True to annotate cells, ftm='g' to disable scientific notation\n",
    "\n",
    "  # labels, title and ticks\n",
    "  ax.set_xlabel('Predicted labels')\n",
    "  ax.set_ylabel('True labels')\n",
    "\n",
    "  ax.set_title('Confusion Matrix')\n",
    "\n",
    "  ax.xaxis.set_ticklabels(['Not Patronizing', 'Patronizing'])\n",
    "  ax.yaxis.set_ticklabels(['Not Patronizing', 'Patronizing'])\n",
    "\n",
    "  plt.show()\n",
    "\n",
    "  return report\n"
   ]
  },
  {
   "cell_type": "code",
   "execution_count": 43,
   "metadata": {},
   "outputs": [],
   "source": [
    "import evaluate\n",
    "\n",
    "def compute_accuracy(eval_pred):\n",
    "    logits, labels = eval_pred\n",
    "    predictions = np.argmax(logits, axis=-1)\n",
    "    metric = evaluate.load(\"accuracy\")\n",
    "    return metric.compute(predictions=predictions, references=labels)"
   ]
  },
  {
   "cell_type": "code",
   "execution_count": 91,
   "metadata": {},
   "outputs": [],
   "source": [
    "def setup_trainer(model_name, model, h_params, training_dataset, val_dataset):\n",
    "\n",
    "    #  << Set model to training mode >>\n",
    "    model.train()\n",
    "\n",
    "    # << Initilize the Training Arguments >>\n",
    "    training_args = TrainingArguments(\n",
    "          output_dir                 = model_name\n",
    "        , learning_rate              = h_params['learning rate']\n",
    "        , per_device_train_batch_size= h_params['batch size']\n",
    "        , per_device_eval_batch_size = h_params['batch size']\n",
    "        , num_train_epochs           = h_params['epochs']\n",
    "        , weight_decay               = h_params['weight decay']\n",
    "        , evaluation_strategy        = \"epoch\"\n",
    "        , save_strategy              = \"epoch\"\n",
    "        , load_best_model_at_end     = True\n",
    "        , logging_dir                = f'{model_save_path}/{model_name}/logs'\n",
    "        , logging_steps              = 10\n",
    "    )\n",
    "\n",
    "    # << Initilize the Trainer >>\n",
    "    trainer = Trainer(\n",
    "        model           = model,\n",
    "        args            = training_args,\n",
    "        train_dataset   = training_dataset,\n",
    "        eval_dataset    = val_dataset,\n",
    "        data_collator   = training_dataset.collate_fn,\n",
    "        compute_metrics = compute_accuracy\n",
    "    )\n",
    "\n",
    "    return trainer"
   ]
  },
  {
   "cell_type": "code",
   "execution_count": 92,
   "metadata": {},
   "outputs": [],
   "source": [
    "def plot_loss(trainer):\n",
    "    log = trainer.state.log_history\n",
    "\n",
    "    train_loss = []\n",
    "    train_epoch = []\n",
    "\n",
    "    eval_loss = [] # eval calculated at the end of each epoch\n",
    "    eval_accuracy = []\n",
    "\n",
    "    for log_entry in log:\n",
    "        keys = log_entry.keys()\n",
    "\n",
    "        if 'loss' in keys:\n",
    "            train_loss.append(log_entry['loss'])\n",
    "            train_epoch.append(log_entry['epoch'])\n",
    "        elif 'eval_loss' in keys:\n",
    "            eval_loss.append(log_entry['eval_loss'])\n",
    "            eval_accuracy.append(log_entry['eval_accuracy'])\n",
    "        \n",
    "    fig, ax = plt.subplots(1, 2, figsize=(15, 5))\n",
    "\n",
    "    ax[0].plot(train_epoch, train_loss, label='Training Loss')\n",
    "    ax[0].set_title('Training Loss')\n",
    "    ax[0].set_xlabel('Epoch')\n",
    "    ax[0].set_ylabel('Loss')\n",
    "    ax[0].legend()\n",
    "\n",
    "    eval_epoch = [i+1 for i in range(len(eval_loss))]\n",
    "\n",
    "    print(eval_epoch)\n",
    "    print(eval_loss)\n",
    "    print(eval_accuracy)\n",
    "\n",
    "    ax[1].plot(eval_epoch, eval_loss, 'x', label='Evaluation Loss')\n",
    "    ax[1].plot(eval_epoch, eval_accuracy, 'o', label='Evaluation Accuracy')\n",
    "    ax[1].set_title('Evaluation Loss and Accuracy')\n",
    "    ax[1].set_xlabel('Epoch')\n",
    "    ax[1].set_ylabel('Loss and Accuracy')\n",
    "    ax[1].legend()\n",
    "\n",
    "    plt.show()"
   ]
  },
  {
   "cell_type": "markdown",
   "metadata": {},
   "source": [
    "#### bert-base-cased"
   ]
  },
  {
   "cell_type": "code",
   "execution_count": 25,
   "metadata": {},
   "outputs": [
    {
     "name": "stderr",
     "output_type": "stream",
     "text": [
      "Some weights of BertForSequenceClassification were not initialized from the model checkpoint at google-bert/bert-base-cased and are newly initialized: ['classifier.bias', 'classifier.weight']\n",
      "You should probably TRAIN this model on a down-stream task to be able to use it for predictions and inference.\n"
     ]
    }
   ],
   "source": [
    "from transformers import BertTokenizer, AutoModelForSequenceClassification\n",
    "\n",
    "# << Create Model and Tokenizer >>\n",
    "model = AutoModelForSequenceClassification.from_pretrained('google-bert/bert-base-cased', num_labels=2, id2label=id2label, label2id=label2id)\n",
    "tokenizer = BertTokenizer.from_pretrained('google-bert/bert-base-cased')\n",
    "\n",
    "# << Create Datasets >>\n",
    "training_dataset = PCLDataset(sampled_train_data, mask_tokens=h_params['mask tokens'], tokenizer=tokenizer, trunc_len=h_params['text trunction length'])\n",
    "val_dataset = PCLDataset(sampled_val_data, mask_tokens=h_params['mask tokens'], tokenizer=tokenizer, trunc_len=h_params['text trunction length'])\n",
    "\n",
    "# << Setup the Trainer >> \n",
    "trainer = setup_trainer('bert-base-cased', model, h_params, training_dataset, val_dataset)"
   ]
  },
  {
   "cell_type": "code",
   "execution_count": 26,
   "metadata": {},
   "outputs": [
    {
     "name": "stderr",
     "output_type": "stream",
     "text": [
      "Failed to detect the name of this notebook, you can set it manually with the WANDB_NOTEBOOK_NAME environment variable to enable code saving.\n",
      "\u001b[34m\u001b[1mwandb\u001b[0m: Currently logged in as: \u001b[33manton-zhitomirsky\u001b[0m (\u001b[33manton-zhitomirsky-joe-mama\u001b[0m). Use \u001b[1m`wandb login --relogin`\u001b[0m to force relogin\n"
     ]
    },
    {
     "data": {
      "text/html": [
       "Tracking run with wandb version 0.16.3"
      ],
      "text/plain": [
       "<IPython.core.display.HTML object>"
      ]
     },
     "metadata": {},
     "output_type": "display_data"
    },
    {
     "data": {
      "text/html": [
       "Run data is saved locally in <code>/home/avzh1/Documents/imperial/year4/lectures/nlp/Coursework/nlp/src/wandb/run-20240303_223147-z54rg7q0</code>"
      ],
      "text/plain": [
       "<IPython.core.display.HTML object>"
      ]
     },
     "metadata": {},
     "output_type": "display_data"
    },
    {
     "data": {
      "text/html": [
       "Syncing run <strong><a href='https://wandb.ai/anton-zhitomirsky-joe-mama/huggingface/runs/z54rg7q0' target=\"_blank\">ruby-planet-31</a></strong> to <a href='https://wandb.ai/anton-zhitomirsky-joe-mama/huggingface' target=\"_blank\">Weights & Biases</a> (<a href='https://wandb.me/run' target=\"_blank\">docs</a>)<br/>"
      ],
      "text/plain": [
       "<IPython.core.display.HTML object>"
      ]
     },
     "metadata": {},
     "output_type": "display_data"
    },
    {
     "data": {
      "text/html": [
       " View project at <a href='https://wandb.ai/anton-zhitomirsky-joe-mama/huggingface' target=\"_blank\">https://wandb.ai/anton-zhitomirsky-joe-mama/huggingface</a>"
      ],
      "text/plain": [
       "<IPython.core.display.HTML object>"
      ]
     },
     "metadata": {},
     "output_type": "display_data"
    },
    {
     "data": {
      "text/html": [
       " View run at <a href='https://wandb.ai/anton-zhitomirsky-joe-mama/huggingface/runs/z54rg7q0' target=\"_blank\">https://wandb.ai/anton-zhitomirsky-joe-mama/huggingface/runs/z54rg7q0</a>"
      ],
      "text/plain": [
       "<IPython.core.display.HTML object>"
      ]
     },
     "metadata": {},
     "output_type": "display_data"
    },
    {
     "data": {
      "application/vnd.jupyter.widget-view+json": {
       "model_id": "dcca6041ef7940ad8077f97aedfa602c",
       "version_major": 2,
       "version_minor": 0
      },
      "text/plain": [
       "  0%|          | 0/524 [00:00<?, ?it/s]"
      ]
     },
     "metadata": {},
     "output_type": "display_data"
    },
    {
     "name": "stdout",
     "output_type": "stream",
     "text": [
      "{'loss': 0.4909, 'grad_norm': 3.369955062866211, 'learning_rate': 1.9618320610687024e-05, 'epoch': 0.02}\n",
      "{'loss': 0.2792, 'grad_norm': 2.849342107772827, 'learning_rate': 1.923664122137405e-05, 'epoch': 0.04}\n",
      "{'loss': 0.434, 'grad_norm': 2.597923755645752, 'learning_rate': 1.885496183206107e-05, 'epoch': 0.06}\n",
      "{'loss': 0.223, 'grad_norm': 1.6608695983886719, 'learning_rate': 1.847328244274809e-05, 'epoch': 0.08}\n",
      "{'loss': 0.3377, 'grad_norm': 2.6354997158050537, 'learning_rate': 1.8091603053435117e-05, 'epoch': 0.1}\n",
      "{'loss': 0.2623, 'grad_norm': 2.506601095199585, 'learning_rate': 1.770992366412214e-05, 'epoch': 0.11}\n",
      "{'loss': 0.3264, 'grad_norm': 3.891265630722046, 'learning_rate': 1.7328244274809162e-05, 'epoch': 0.13}\n",
      "{'loss': 0.3718, 'grad_norm': 4.210970878601074, 'learning_rate': 1.6946564885496184e-05, 'epoch': 0.15}\n",
      "{'loss': 0.2097, 'grad_norm': 3.398803234100342, 'learning_rate': 1.6564885496183207e-05, 'epoch': 0.17}\n",
      "{'loss': 0.2518, 'grad_norm': 5.178341865539551, 'learning_rate': 1.618320610687023e-05, 'epoch': 0.19}\n",
      "{'loss': 0.3185, 'grad_norm': 2.923247814178467, 'learning_rate': 1.5801526717557255e-05, 'epoch': 0.21}\n",
      "{'loss': 0.2837, 'grad_norm': 7.76334285736084, 'learning_rate': 1.5419847328244274e-05, 'epoch': 0.23}\n",
      "{'loss': 0.3202, 'grad_norm': 1.666425108909607, 'learning_rate': 1.5038167938931298e-05, 'epoch': 0.25}\n",
      "{'loss': 0.1625, 'grad_norm': 1.931052803993225, 'learning_rate': 1.4656488549618322e-05, 'epoch': 0.27}\n",
      "{'loss': 0.2025, 'grad_norm': 2.4849843978881836, 'learning_rate': 1.4274809160305345e-05, 'epoch': 0.29}\n",
      "{'loss': 0.2742, 'grad_norm': 2.3043577671051025, 'learning_rate': 1.3893129770992369e-05, 'epoch': 0.31}\n",
      "{'loss': 0.2942, 'grad_norm': 7.095081806182861, 'learning_rate': 1.351145038167939e-05, 'epoch': 0.32}\n",
      "{'loss': 0.26, 'grad_norm': 3.8563318252563477, 'learning_rate': 1.3129770992366414e-05, 'epoch': 0.34}\n",
      "{'loss': 0.2583, 'grad_norm': 0.4257960617542267, 'learning_rate': 1.2748091603053436e-05, 'epoch': 0.36}\n",
      "{'loss': 0.3217, 'grad_norm': 4.651813507080078, 'learning_rate': 1.236641221374046e-05, 'epoch': 0.38}\n",
      "{'loss': 0.275, 'grad_norm': 3.8516058921813965, 'learning_rate': 1.1984732824427483e-05, 'epoch': 0.4}\n",
      "{'loss': 0.2179, 'grad_norm': 9.691697120666504, 'learning_rate': 1.1603053435114503e-05, 'epoch': 0.42}\n",
      "{'loss': 0.2242, 'grad_norm': 3.5659091472625732, 'learning_rate': 1.1221374045801527e-05, 'epoch': 0.44}\n",
      "{'loss': 0.312, 'grad_norm': 3.390723705291748, 'learning_rate': 1.0839694656488552e-05, 'epoch': 0.46}\n",
      "{'loss': 0.2292, 'grad_norm': 2.005871295928955, 'learning_rate': 1.0458015267175574e-05, 'epoch': 0.48}\n",
      "{'loss': 0.2304, 'grad_norm': 2.165050506591797, 'learning_rate': 1.0076335877862595e-05, 'epoch': 0.5}\n",
      "{'loss': 0.4464, 'grad_norm': 4.2361907958984375, 'learning_rate': 9.694656488549619e-06, 'epoch': 0.52}\n",
      "{'loss': 0.2723, 'grad_norm': 6.624839782714844, 'learning_rate': 9.312977099236641e-06, 'epoch': 0.53}\n",
      "{'loss': 0.2066, 'grad_norm': 2.6594552993774414, 'learning_rate': 8.931297709923665e-06, 'epoch': 0.55}\n",
      "{'loss': 0.2052, 'grad_norm': 7.390356540679932, 'learning_rate': 8.549618320610688e-06, 'epoch': 0.57}\n",
      "{'loss': 0.2284, 'grad_norm': 2.852468252182007, 'learning_rate': 8.16793893129771e-06, 'epoch': 0.59}\n",
      "{'loss': 0.2067, 'grad_norm': 2.970799684524536, 'learning_rate': 7.786259541984733e-06, 'epoch': 0.61}\n",
      "{'loss': 0.2163, 'grad_norm': 6.254219055175781, 'learning_rate': 7.404580152671757e-06, 'epoch': 0.63}\n",
      "{'loss': 0.2207, 'grad_norm': 1.8593354225158691, 'learning_rate': 7.022900763358779e-06, 'epoch': 0.65}\n",
      "{'loss': 0.2698, 'grad_norm': 3.821864366531372, 'learning_rate': 6.641221374045802e-06, 'epoch': 0.67}\n",
      "{'loss': 0.191, 'grad_norm': 3.7950940132141113, 'learning_rate': 6.259541984732826e-06, 'epoch': 0.69}\n",
      "{'loss': 0.2039, 'grad_norm': 4.526841163635254, 'learning_rate': 5.877862595419848e-06, 'epoch': 0.71}\n",
      "{'loss': 0.264, 'grad_norm': 3.4086716175079346, 'learning_rate': 5.496183206106871e-06, 'epoch': 0.73}\n",
      "{'loss': 0.2928, 'grad_norm': 10.345376968383789, 'learning_rate': 5.114503816793893e-06, 'epoch': 0.74}\n",
      "{'loss': 0.2281, 'grad_norm': 3.6183407306671143, 'learning_rate': 4.732824427480917e-06, 'epoch': 0.76}\n",
      "{'loss': 0.2445, 'grad_norm': 3.1729226112365723, 'learning_rate': 4.351145038167939e-06, 'epoch': 0.78}\n",
      "{'loss': 0.1629, 'grad_norm': 2.911005735397339, 'learning_rate': 3.969465648854962e-06, 'epoch': 0.8}\n",
      "{'loss': 0.1922, 'grad_norm': 1.8128077983856201, 'learning_rate': 3.587786259541985e-06, 'epoch': 0.82}\n",
      "{'loss': 0.2173, 'grad_norm': 5.209766864776611, 'learning_rate': 3.206106870229008e-06, 'epoch': 0.84}\n",
      "{'loss': 0.2663, 'grad_norm': 6.825829029083252, 'learning_rate': 2.824427480916031e-06, 'epoch': 0.86}\n",
      "{'loss': 0.125, 'grad_norm': 3.132714033126831, 'learning_rate': 2.4427480916030536e-06, 'epoch': 0.88}\n",
      "{'loss': 0.1514, 'grad_norm': 7.705238342285156, 'learning_rate': 2.0610687022900764e-06, 'epoch': 0.9}\n",
      "{'loss': 0.2743, 'grad_norm': 7.577565670013428, 'learning_rate': 1.6793893129770995e-06, 'epoch': 0.92}\n",
      "{'loss': 0.1509, 'grad_norm': 5.346742630004883, 'learning_rate': 1.297709923664122e-06, 'epoch': 0.94}\n",
      "{'loss': 0.2691, 'grad_norm': 10.240527153015137, 'learning_rate': 9.160305343511451e-07, 'epoch': 0.95}\n",
      "{'loss': 0.2509, 'grad_norm': 6.863592147827148, 'learning_rate': 5.34351145038168e-07, 'epoch': 0.97}\n",
      "{'loss': 0.2424, 'grad_norm': 11.435636520385742, 'learning_rate': 1.5267175572519085e-07, 'epoch': 0.99}\n"
     ]
    },
    {
     "data": {
      "application/vnd.jupyter.widget-view+json": {
       "model_id": "9eed39cbdf974831acfa2dc34e82a4c5",
       "version_major": 2,
       "version_minor": 0
      },
      "text/plain": [
       "  0%|          | 0/131 [00:00<?, ?it/s]"
      ]
     },
     "metadata": {},
     "output_type": "display_data"
    },
    {
     "name": "stderr",
     "output_type": "stream",
     "text": [
      "Checkpoint destination directory bert-base-cased/checkpoint-524 already exists and is non-empty. Saving will proceed but saved results may be invalid.\n"
     ]
    },
    {
     "name": "stdout",
     "output_type": "stream",
     "text": [
      "{'eval_loss': 0.20899520814418793, 'eval_accuracy': 0.9164278892072588, 'eval_runtime': 7.8278, 'eval_samples_per_second': 267.509, 'eval_steps_per_second': 16.735, 'epoch': 1.0}\n",
      "{'train_runtime': 101.3115, 'train_samples_per_second': 82.656, 'train_steps_per_second': 5.172, 'train_loss': 0.25637817087064263, 'epoch': 1.0}\n"
     ]
    },
    {
     "data": {
      "text/plain": [
       "TrainOutput(global_step=524, training_loss=0.25637817087064263, metrics={'train_runtime': 101.3115, 'train_samples_per_second': 82.656, 'train_steps_per_second': 5.172, 'train_loss': 0.25637817087064263, 'epoch': 1.0})"
      ]
     },
     "execution_count": 26,
     "metadata": {},
     "output_type": "execute_result"
    }
   ],
   "source": [
    "train_output = trainer.train()\n",
    "train_output"
   ]
  },
  {
   "cell_type": "code",
   "execution_count": 27,
   "metadata": {},
   "outputs": [
    {
     "name": "stderr",
     "output_type": "stream",
     "text": [
      "100%|██████████| 2094/2094 [00:08<00:00, 238.93it/s]\n"
     ]
    },
    {
     "data": {
      "image/png": "[encoded data removed]",
      "text/plain": [
       "<Figure size 640x480 with 2 Axes>"
      ]
     },
     "metadata": {},
     "output_type": "display_data"
    },
    {
     "data": {
      "text/plain": [
       "{'Not offensive': {'precision': 0.9186952288218111,\n",
       "  'recall': 0.995778364116095,\n",
       "  'f1-score': 0.9556849835401368,\n",
       "  'support': 1895.0},\n",
       " 'Offensive': {'precision': 0.8,\n",
       "  'recall': 0.16080402010050251,\n",
       "  'f1-score': 0.26778242677824265,\n",
       "  'support': 199.0},\n",
       " 'accuracy': 0.9164278892072588,\n",
       " 'macro avg': {'precision': 0.8593476144109056,\n",
       "  'recall': 0.5782911921082987,\n",
       "  'f1-score': 0.6117337051591897,\n",
       "  'support': 2094.0},\n",
       " 'weighted avg': {'precision': 0.9074152142394135,\n",
       "  'recall': 0.9164278892072588,\n",
       "  'f1-score': 0.8903112448602815,\n",
       "  'support': 2094.0}}"
      ]
     },
     "execution_count": 27,
     "metadata": {},
     "output_type": "execute_result"
    }
   ],
   "source": [
    "evaluate_model(model, tokenizer, val_dataset)\n",
    "# trainer.evaluate()"
   ]
  },
  {
   "cell_type": "code",
   "execution_count": 33,
   "metadata": {},
   "outputs": [
    {
     "name": "stderr",
     "output_type": "stream",
     "text": [
      "100%|██████████| 240/240 [00:15<00:00, 15.73it/s]\n",
      "100%|██████████| 524/524 [00:32<00:00, 15.92it/s]\n"
     ]
    }
   ],
   "source": [
    "save_model_predictions('bert-base-cased', model, tokenizer)"
   ]
  },
  {
   "cell_type": "markdown",
   "metadata": {},
   "source": [
    "#### roberta"
   ]
  },
  {
   "cell_type": "code",
   "execution_count": 93,
   "metadata": {},
   "outputs": [
    {
     "name": "stderr",
     "output_type": "stream",
     "text": [
      "Some weights of RobertaForSequenceClassification were not initialized from the model checkpoint at FacebookAI/roberta-base and are newly initialized: ['classifier.dense.bias', 'classifier.dense.weight', 'classifier.out_proj.bias', 'classifier.out_proj.weight']\n",
      "You should probably TRAIN this model on a down-stream task to be able to use it for predictions and inference.\n"
     ]
    }
   ],
   "source": [
    "from transformers import RobertaTokenizer, AutoModelForSequenceClassification\n",
    "\n",
    "# << Create Model and Tokenizer >>\n",
    "model = AutoModelForSequenceClassification.from_pretrained('FacebookAI/roberta-base', num_labels=2, id2label=id2label, label2id=label2id)\n",
    "tokenizer = RobertaTokenizer.from_pretrained('FacebookAI/roberta-base')\n",
    "\n",
    "# << Create Datasets >>\n",
    "training_dataset = PCLDataset(sampled_train_data, mask_tokens=h_params['mask tokens'], tokenizer=tokenizer, trunc_len=h_params['text trunction length'])\n",
    "val_dataset = PCLDataset(sampled_val_data, mask_tokens=False, tokenizer=tokenizer, trunc_len=h_params['text trunction length'])\n",
    "\n",
    "# << Setup the Trainer >> \n",
    "trainer = setup_trainer('roberta-base', model, h_params, training_dataset, val_dataset)"
   ]
  },
  {
   "cell_type": "code",
   "execution_count": 90,
   "metadata": {},
   "outputs": [
    {
     "data": {
      "application/vnd.jupyter.widget-view+json": {
       "model_id": "62dc80870c6d49328b72fd955a4249a4",
       "version_major": 2,
       "version_minor": 0
      },
      "text/plain": [
       "  0%|          | 0/573 [00:00<?, ?it/s]"
      ]
     },
     "metadata": {},
     "output_type": "display_data"
    },
    {
     "name": "stdout",
     "output_type": "stream",
     "text": [
      "{'loss': 0.5466, 'grad_norm': 3.582944631576538, 'learning_rate': 1.9650959860383945e-05, 'epoch': 0.02}\n"
     ]
    },
    {
     "data": {
      "application/vnd.jupyter.widget-view+json": {
       "model_id": "eb872af9aed24993849da5c180aa6aa2",
       "version_major": 2,
       "version_minor": 0
      },
      "text/plain": [
       "  0%|          | 0/131 [00:00<?, ?it/s]"
      ]
     },
     "metadata": {},
     "output_type": "display_data"
    },
    {
     "name": "stdout",
     "output_type": "stream",
     "text": [
      "{'eval_loss': 0.33274728059768677, 'eval_accuracy': 0.9049665711556829, 'eval_runtime': 8.1413, 'eval_samples_per_second': 257.208, 'eval_steps_per_second': 16.091, 'epoch': 0.02}\n",
      "{'loss': 0.2953, 'grad_norm': 3.8743176460266113, 'learning_rate': 1.930191972076789e-05, 'epoch': 0.03}\n"
     ]
    },
    {
     "data": {
      "application/vnd.jupyter.widget-view+json": {
       "model_id": "24b82d9e03fb408bb5b18ca17de243e2",
       "version_major": 2,
       "version_minor": 0
      },
      "text/plain": [
       "  0%|          | 0/131 [00:00<?, ?it/s]"
      ]
     },
     "metadata": {},
     "output_type": "display_data"
    },
    {
     "name": "stdout",
     "output_type": "stream",
     "text": [
      "{'eval_loss': 0.43497857451438904, 'eval_accuracy': 0.9049665711556829, 'eval_runtime': 7.7575, 'eval_samples_per_second': 269.933, 'eval_steps_per_second': 16.887, 'epoch': 0.03}\n",
      "{'loss': 0.1607, 'grad_norm': 1.2727198600769043, 'learning_rate': 1.895287958115183e-05, 'epoch': 0.05}\n"
     ]
    },
    {
     "data": {
      "application/vnd.jupyter.widget-view+json": {
       "model_id": "c97026ffda66466b89b051dda9962082",
       "version_major": 2,
       "version_minor": 0
      },
      "text/plain": [
       "  0%|          | 0/131 [00:00<?, ?it/s]"
      ]
     },
     "metadata": {},
     "output_type": "display_data"
    },
    {
     "ename": "KeyboardInterrupt",
     "evalue": "",
     "output_type": "error",
     "traceback": [
      "\u001b[0;31m---------------------------------------------------------------------------\u001b[0m",
      "\u001b[0;31mKeyboardInterrupt\u001b[0m                         Traceback (most recent call last)",
      "Cell \u001b[0;32mIn[90], line 1\u001b[0m\n\u001b[0;32m----> 1\u001b[0m train_output \u001b[38;5;241m=\u001b[39m \u001b[43mtrainer\u001b[49m\u001b[38;5;241;43m.\u001b[39;49m\u001b[43mtrain\u001b[49m\u001b[43m(\u001b[49m\u001b[43m)\u001b[49m\n\u001b[1;32m      2\u001b[0m train_output\n",
      "File \u001b[0;32m~/Documents/imperial/year4/lectures/nlp/Coursework/nlp/.venv/lib/python3.10/site-packages/transformers/trainer.py:1624\u001b[0m, in \u001b[0;36mTrainer.train\u001b[0;34m(self, resume_from_checkpoint, trial, ignore_keys_for_eval, **kwargs)\u001b[0m\n\u001b[1;32m   1622\u001b[0m         hf_hub_utils\u001b[38;5;241m.\u001b[39menable_progress_bars()\n\u001b[1;32m   1623\u001b[0m \u001b[38;5;28;01melse\u001b[39;00m:\n\u001b[0;32m-> 1624\u001b[0m     \u001b[38;5;28;01mreturn\u001b[39;00m \u001b[43minner_training_loop\u001b[49m\u001b[43m(\u001b[49m\n\u001b[1;32m   1625\u001b[0m \u001b[43m        \u001b[49m\u001b[43margs\u001b[49m\u001b[38;5;241;43m=\u001b[39;49m\u001b[43margs\u001b[49m\u001b[43m,\u001b[49m\n\u001b[1;32m   1626\u001b[0m \u001b[43m        \u001b[49m\u001b[43mresume_from_checkpoint\u001b[49m\u001b[38;5;241;43m=\u001b[39;49m\u001b[43mresume_from_checkpoint\u001b[49m\u001b[43m,\u001b[49m\n\u001b[1;32m   1627\u001b[0m \u001b[43m        \u001b[49m\u001b[43mtrial\u001b[49m\u001b[38;5;241;43m=\u001b[39;49m\u001b[43mtrial\u001b[49m\u001b[43m,\u001b[49m\n\u001b[1;32m   1628\u001b[0m \u001b[43m        \u001b[49m\u001b[43mignore_keys_for_eval\u001b[49m\u001b[38;5;241;43m=\u001b[39;49m\u001b[43mignore_keys_for_eval\u001b[49m\u001b[43m,\u001b[49m\n\u001b[1;32m   1629\u001b[0m \u001b[43m    \u001b[49m\u001b[43m)\u001b[49m\n",
      "File \u001b[0;32m~/Documents/imperial/year4/lectures/nlp/Coursework/nlp/.venv/lib/python3.10/site-packages/transformers/trainer.py:2029\u001b[0m, in \u001b[0;36mTrainer._inner_training_loop\u001b[0;34m(self, batch_size, args, resume_from_checkpoint, trial, ignore_keys_for_eval)\u001b[0m\n\u001b[1;32m   2026\u001b[0m     \u001b[38;5;28mself\u001b[39m\u001b[38;5;241m.\u001b[39mstate\u001b[38;5;241m.\u001b[39mepoch \u001b[38;5;241m=\u001b[39m epoch \u001b[38;5;241m+\u001b[39m (step \u001b[38;5;241m+\u001b[39m \u001b[38;5;241m1\u001b[39m \u001b[38;5;241m+\u001b[39m steps_skipped) \u001b[38;5;241m/\u001b[39m steps_in_epoch\n\u001b[1;32m   2027\u001b[0m     \u001b[38;5;28mself\u001b[39m\u001b[38;5;241m.\u001b[39mcontrol \u001b[38;5;241m=\u001b[39m \u001b[38;5;28mself\u001b[39m\u001b[38;5;241m.\u001b[39mcallback_handler\u001b[38;5;241m.\u001b[39mon_step_end(args, \u001b[38;5;28mself\u001b[39m\u001b[38;5;241m.\u001b[39mstate, \u001b[38;5;28mself\u001b[39m\u001b[38;5;241m.\u001b[39mcontrol)\n\u001b[0;32m-> 2029\u001b[0m     \u001b[38;5;28;43mself\u001b[39;49m\u001b[38;5;241;43m.\u001b[39;49m\u001b[43m_maybe_log_save_evaluate\u001b[49m\u001b[43m(\u001b[49m\u001b[43mtr_loss\u001b[49m\u001b[43m,\u001b[49m\u001b[43m \u001b[49m\u001b[43mgrad_norm\u001b[49m\u001b[43m,\u001b[49m\u001b[43m \u001b[49m\u001b[43mmodel\u001b[49m\u001b[43m,\u001b[49m\u001b[43m \u001b[49m\u001b[43mtrial\u001b[49m\u001b[43m,\u001b[49m\u001b[43m \u001b[49m\u001b[43mepoch\u001b[49m\u001b[43m,\u001b[49m\u001b[43m \u001b[49m\u001b[43mignore_keys_for_eval\u001b[49m\u001b[43m)\u001b[49m\n\u001b[1;32m   2030\u001b[0m \u001b[38;5;28;01melse\u001b[39;00m:\n\u001b[1;32m   2031\u001b[0m     \u001b[38;5;28mself\u001b[39m\u001b[38;5;241m.\u001b[39mcontrol \u001b[38;5;241m=\u001b[39m \u001b[38;5;28mself\u001b[39m\u001b[38;5;241m.\u001b[39mcallback_handler\u001b[38;5;241m.\u001b[39mon_substep_end(args, \u001b[38;5;28mself\u001b[39m\u001b[38;5;241m.\u001b[39mstate, \u001b[38;5;28mself\u001b[39m\u001b[38;5;241m.\u001b[39mcontrol)\n",
      "File \u001b[0;32m~/Documents/imperial/year4/lectures/nlp/Coursework/nlp/.venv/lib/python3.10/site-packages/transformers/trainer.py:2412\u001b[0m, in \u001b[0;36mTrainer._maybe_log_save_evaluate\u001b[0;34m(self, tr_loss, grad_norm, model, trial, epoch, ignore_keys_for_eval)\u001b[0m\n\u001b[1;32m   2410\u001b[0m metrics \u001b[38;5;241m=\u001b[39m \u001b[38;5;28;01mNone\u001b[39;00m\n\u001b[1;32m   2411\u001b[0m \u001b[38;5;28;01mif\u001b[39;00m \u001b[38;5;28mself\u001b[39m\u001b[38;5;241m.\u001b[39mcontrol\u001b[38;5;241m.\u001b[39mshould_evaluate:\n\u001b[0;32m-> 2412\u001b[0m     metrics \u001b[38;5;241m=\u001b[39m \u001b[38;5;28;43mself\u001b[39;49m\u001b[38;5;241;43m.\u001b[39;49m\u001b[43mevaluate\u001b[49m\u001b[43m(\u001b[49m\u001b[43mignore_keys\u001b[49m\u001b[38;5;241;43m=\u001b[39;49m\u001b[43mignore_keys_for_eval\u001b[49m\u001b[43m)\u001b[49m\n\u001b[1;32m   2413\u001b[0m     \u001b[38;5;28mself\u001b[39m\u001b[38;5;241m.\u001b[39m_report_to_hp_search(trial, \u001b[38;5;28mself\u001b[39m\u001b[38;5;241m.\u001b[39mstate\u001b[38;5;241m.\u001b[39mglobal_step, metrics)\n\u001b[1;32m   2415\u001b[0m     \u001b[38;5;66;03m# Run delayed LR scheduler now that metrics are populated\u001b[39;00m\n",
      "File \u001b[0;32m~/Documents/imperial/year4/lectures/nlp/Coursework/nlp/.venv/lib/python3.10/site-packages/transformers/trainer.py:3229\u001b[0m, in \u001b[0;36mTrainer.evaluate\u001b[0;34m(self, eval_dataset, ignore_keys, metric_key_prefix)\u001b[0m\n\u001b[1;32m   3226\u001b[0m start_time \u001b[38;5;241m=\u001b[39m time\u001b[38;5;241m.\u001b[39mtime()\n\u001b[1;32m   3228\u001b[0m eval_loop \u001b[38;5;241m=\u001b[39m \u001b[38;5;28mself\u001b[39m\u001b[38;5;241m.\u001b[39mprediction_loop \u001b[38;5;28;01mif\u001b[39;00m \u001b[38;5;28mself\u001b[39m\u001b[38;5;241m.\u001b[39margs\u001b[38;5;241m.\u001b[39muse_legacy_prediction_loop \u001b[38;5;28;01melse\u001b[39;00m \u001b[38;5;28mself\u001b[39m\u001b[38;5;241m.\u001b[39mevaluation_loop\n\u001b[0;32m-> 3229\u001b[0m output \u001b[38;5;241m=\u001b[39m \u001b[43meval_loop\u001b[49m\u001b[43m(\u001b[49m\n\u001b[1;32m   3230\u001b[0m \u001b[43m    \u001b[49m\u001b[43meval_dataloader\u001b[49m\u001b[43m,\u001b[49m\n\u001b[1;32m   3231\u001b[0m \u001b[43m    \u001b[49m\u001b[43mdescription\u001b[49m\u001b[38;5;241;43m=\u001b[39;49m\u001b[38;5;124;43m\"\u001b[39;49m\u001b[38;5;124;43mEvaluation\u001b[39;49m\u001b[38;5;124;43m\"\u001b[39;49m\u001b[43m,\u001b[49m\n\u001b[1;32m   3232\u001b[0m \u001b[43m    \u001b[49m\u001b[38;5;66;43;03m# No point gathering the predictions if there are no metrics, otherwise we defer to\u001b[39;49;00m\n\u001b[1;32m   3233\u001b[0m \u001b[43m    \u001b[49m\u001b[38;5;66;43;03m# self.args.prediction_loss_only\u001b[39;49;00m\n\u001b[1;32m   3234\u001b[0m \u001b[43m    \u001b[49m\u001b[43mprediction_loss_only\u001b[49m\u001b[38;5;241;43m=\u001b[39;49m\u001b[38;5;28;43;01mTrue\u001b[39;49;00m\u001b[43m \u001b[49m\u001b[38;5;28;43;01mif\u001b[39;49;00m\u001b[43m \u001b[49m\u001b[38;5;28;43mself\u001b[39;49m\u001b[38;5;241;43m.\u001b[39;49m\u001b[43mcompute_metrics\u001b[49m\u001b[43m \u001b[49m\u001b[38;5;129;43;01mis\u001b[39;49;00m\u001b[43m \u001b[49m\u001b[38;5;28;43;01mNone\u001b[39;49;00m\u001b[43m \u001b[49m\u001b[38;5;28;43;01melse\u001b[39;49;00m\u001b[43m \u001b[49m\u001b[38;5;28;43;01mNone\u001b[39;49;00m\u001b[43m,\u001b[49m\n\u001b[1;32m   3235\u001b[0m \u001b[43m    \u001b[49m\u001b[43mignore_keys\u001b[49m\u001b[38;5;241;43m=\u001b[39;49m\u001b[43mignore_keys\u001b[49m\u001b[43m,\u001b[49m\n\u001b[1;32m   3236\u001b[0m \u001b[43m    \u001b[49m\u001b[43mmetric_key_prefix\u001b[49m\u001b[38;5;241;43m=\u001b[39;49m\u001b[43mmetric_key_prefix\u001b[49m\u001b[43m,\u001b[49m\n\u001b[1;32m   3237\u001b[0m \u001b[43m\u001b[49m\u001b[43m)\u001b[49m\n\u001b[1;32m   3239\u001b[0m total_batch_size \u001b[38;5;241m=\u001b[39m \u001b[38;5;28mself\u001b[39m\u001b[38;5;241m.\u001b[39margs\u001b[38;5;241m.\u001b[39meval_batch_size \u001b[38;5;241m*\u001b[39m \u001b[38;5;28mself\u001b[39m\u001b[38;5;241m.\u001b[39margs\u001b[38;5;241m.\u001b[39mworld_size\n\u001b[1;32m   3240\u001b[0m \u001b[38;5;28;01mif\u001b[39;00m \u001b[38;5;124mf\u001b[39m\u001b[38;5;124m\"\u001b[39m\u001b[38;5;132;01m{\u001b[39;00mmetric_key_prefix\u001b[38;5;132;01m}\u001b[39;00m\u001b[38;5;124m_jit_compilation_time\u001b[39m\u001b[38;5;124m\"\u001b[39m \u001b[38;5;129;01min\u001b[39;00m output\u001b[38;5;241m.\u001b[39mmetrics:\n",
      "File \u001b[0;32m~/Documents/imperial/year4/lectures/nlp/Coursework/nlp/.venv/lib/python3.10/site-packages/transformers/trainer.py:3440\u001b[0m, in \u001b[0;36mTrainer.evaluation_loop\u001b[0;34m(self, dataloader, description, prediction_loss_only, ignore_keys, metric_key_prefix)\u001b[0m\n\u001b[1;32m   3434\u001b[0m     inputs_host \u001b[38;5;241m=\u001b[39m (\n\u001b[1;32m   3435\u001b[0m         inputs_decode\n\u001b[1;32m   3436\u001b[0m         \u001b[38;5;28;01mif\u001b[39;00m inputs_host \u001b[38;5;129;01mis\u001b[39;00m \u001b[38;5;28;01mNone\u001b[39;00m\n\u001b[1;32m   3437\u001b[0m         \u001b[38;5;28;01melse\u001b[39;00m nested_concat(inputs_host, inputs_decode, padding_index\u001b[38;5;241m=\u001b[39m\u001b[38;5;241m-\u001b[39m\u001b[38;5;241m100\u001b[39m)\n\u001b[1;32m   3438\u001b[0m     )\n\u001b[1;32m   3439\u001b[0m \u001b[38;5;28;01mif\u001b[39;00m logits \u001b[38;5;129;01mis\u001b[39;00m \u001b[38;5;129;01mnot\u001b[39;00m \u001b[38;5;28;01mNone\u001b[39;00m:\n\u001b[0;32m-> 3440\u001b[0m     logits \u001b[38;5;241m=\u001b[39m \u001b[38;5;28;43mself\u001b[39;49m\u001b[38;5;241;43m.\u001b[39;49m\u001b[43maccelerator\u001b[49m\u001b[38;5;241;43m.\u001b[39;49m\u001b[43mpad_across_processes\u001b[49m\u001b[43m(\u001b[49m\u001b[43mlogits\u001b[49m\u001b[43m,\u001b[49m\u001b[43m \u001b[49m\u001b[43mdim\u001b[49m\u001b[38;5;241;43m=\u001b[39;49m\u001b[38;5;241;43m1\u001b[39;49m\u001b[43m,\u001b[49m\u001b[43m \u001b[49m\u001b[43mpad_index\u001b[49m\u001b[38;5;241;43m=\u001b[39;49m\u001b[38;5;241;43m-\u001b[39;49m\u001b[38;5;241;43m100\u001b[39;49m\u001b[43m)\u001b[49m\n\u001b[1;32m   3441\u001b[0m     \u001b[38;5;28;01mif\u001b[39;00m \u001b[38;5;28mself\u001b[39m\u001b[38;5;241m.\u001b[39mpreprocess_logits_for_metrics \u001b[38;5;129;01mis\u001b[39;00m \u001b[38;5;129;01mnot\u001b[39;00m \u001b[38;5;28;01mNone\u001b[39;00m:\n\u001b[1;32m   3442\u001b[0m         logits \u001b[38;5;241m=\u001b[39m \u001b[38;5;28mself\u001b[39m\u001b[38;5;241m.\u001b[39mpreprocess_logits_for_metrics(logits, labels)\n",
      "File \u001b[0;32m~/Documents/imperial/year4/lectures/nlp/Coursework/nlp/.venv/lib/python3.10/site-packages/accelerate/accelerator.py:2294\u001b[0m, in \u001b[0;36mAccelerator.pad_across_processes\u001b[0;34m(self, tensor, dim, pad_index, pad_first)\u001b[0m\n\u001b[1;32m   2261\u001b[0m \u001b[38;5;28;01mdef\u001b[39;00m \u001b[38;5;21mpad_across_processes\u001b[39m(\u001b[38;5;28mself\u001b[39m, tensor, dim\u001b[38;5;241m=\u001b[39m\u001b[38;5;241m0\u001b[39m, pad_index\u001b[38;5;241m=\u001b[39m\u001b[38;5;241m0\u001b[39m, pad_first\u001b[38;5;241m=\u001b[39m\u001b[38;5;28;01mFalse\u001b[39;00m):\n\u001b[1;32m   2262\u001b[0m \u001b[38;5;250m    \u001b[39m\u001b[38;5;124;03m\"\"\"\u001b[39;00m\n\u001b[1;32m   2263\u001b[0m \u001b[38;5;124;03m    Recursively pad the tensors in a nested list/tuple/dictionary of tensors from all devices to the same size so\u001b[39;00m\n\u001b[1;32m   2264\u001b[0m \u001b[38;5;124;03m    they can safely be gathered.\u001b[39;00m\n\u001b[0;32m   (...)\u001b[0m\n\u001b[1;32m   2292\u001b[0m \u001b[38;5;124;03m    ```\u001b[39;00m\n\u001b[1;32m   2293\u001b[0m \u001b[38;5;124;03m    \"\"\"\u001b[39;00m\n\u001b[0;32m-> 2294\u001b[0m     \u001b[38;5;28;01mreturn\u001b[39;00m \u001b[43mpad_across_processes\u001b[49m\u001b[43m(\u001b[49m\u001b[43mtensor\u001b[49m\u001b[43m,\u001b[49m\u001b[43m \u001b[49m\u001b[43mdim\u001b[49m\u001b[38;5;241;43m=\u001b[39;49m\u001b[43mdim\u001b[49m\u001b[43m,\u001b[49m\u001b[43m \u001b[49m\u001b[43mpad_index\u001b[49m\u001b[38;5;241;43m=\u001b[39;49m\u001b[43mpad_index\u001b[49m\u001b[43m,\u001b[49m\u001b[43m \u001b[49m\u001b[43mpad_first\u001b[49m\u001b[38;5;241;43m=\u001b[39;49m\u001b[43mpad_first\u001b[49m\u001b[43m)\u001b[49m\n",
      "File \u001b[0;32m~/Documents/imperial/year4/lectures/nlp/Coursework/nlp/.venv/lib/python3.10/site-packages/accelerate/utils/operations.py:412\u001b[0m, in \u001b[0;36mchained_operation.<locals>.wrapper\u001b[0;34m(*args, **kwargs)\u001b[0m\n\u001b[1;32m    409\u001b[0m \u001b[38;5;129m@wraps\u001b[39m(function)\n\u001b[1;32m    410\u001b[0m \u001b[38;5;28;01mdef\u001b[39;00m \u001b[38;5;21mwrapper\u001b[39m(\u001b[38;5;241m*\u001b[39margs, \u001b[38;5;241m*\u001b[39m\u001b[38;5;241m*\u001b[39mkwargs):\n\u001b[1;32m    411\u001b[0m     \u001b[38;5;28;01mtry\u001b[39;00m:\n\u001b[0;32m--> 412\u001b[0m         \u001b[38;5;28;01mreturn\u001b[39;00m \u001b[43mfunction\u001b[49m\u001b[43m(\u001b[49m\u001b[38;5;241;43m*\u001b[39;49m\u001b[43margs\u001b[49m\u001b[43m,\u001b[49m\u001b[43m \u001b[49m\u001b[38;5;241;43m*\u001b[39;49m\u001b[38;5;241;43m*\u001b[39;49m\u001b[43mkwargs\u001b[49m\u001b[43m)\u001b[49m\n\u001b[1;32m    413\u001b[0m     \u001b[38;5;28;01mexcept\u001b[39;00m DistributedOperationException \u001b[38;5;28;01mas\u001b[39;00m e:\n\u001b[1;32m    414\u001b[0m         operation \u001b[38;5;241m=\u001b[39m \u001b[38;5;124mf\u001b[39m\u001b[38;5;124m\"\u001b[39m\u001b[38;5;132;01m{\u001b[39;00mfunction\u001b[38;5;241m.\u001b[39m\u001b[38;5;18m__module__\u001b[39m\u001b[38;5;132;01m}\u001b[39;00m\u001b[38;5;124m.\u001b[39m\u001b[38;5;132;01m{\u001b[39;00mfunction\u001b[38;5;241m.\u001b[39m\u001b[38;5;18m__name__\u001b[39m\u001b[38;5;132;01m}\u001b[39;00m\u001b[38;5;124m\"\u001b[39m\n",
      "File \u001b[0;32m~/Documents/imperial/year4/lectures/nlp/Coursework/nlp/.venv/lib/python3.10/site-packages/accelerate/utils/operations.py:679\u001b[0m, in \u001b[0;36mpad_across_processes\u001b[0;34m(tensor, dim, pad_index, pad_first)\u001b[0m\n\u001b[1;32m    676\u001b[0m     new_tensor[indices] \u001b[38;5;241m=\u001b[39m tensor\n\u001b[1;32m    677\u001b[0m     \u001b[38;5;28;01mreturn\u001b[39;00m new_tensor\n\u001b[0;32m--> 679\u001b[0m \u001b[38;5;28;01mreturn\u001b[39;00m \u001b[43mrecursively_apply\u001b[49m\u001b[43m(\u001b[49m\n\u001b[1;32m    680\u001b[0m \u001b[43m    \u001b[49m\u001b[43m_pad_across_processes\u001b[49m\u001b[43m,\u001b[49m\u001b[43m \u001b[49m\u001b[43mtensor\u001b[49m\u001b[43m,\u001b[49m\u001b[43m \u001b[49m\u001b[43merror_on_other_type\u001b[49m\u001b[38;5;241;43m=\u001b[39;49m\u001b[38;5;28;43;01mTrue\u001b[39;49;00m\u001b[43m,\u001b[49m\u001b[43m \u001b[49m\u001b[43mdim\u001b[49m\u001b[38;5;241;43m=\u001b[39;49m\u001b[43mdim\u001b[49m\u001b[43m,\u001b[49m\u001b[43m \u001b[49m\u001b[43mpad_index\u001b[49m\u001b[38;5;241;43m=\u001b[39;49m\u001b[43mpad_index\u001b[49m\u001b[43m,\u001b[49m\u001b[43m \u001b[49m\u001b[43mpad_first\u001b[49m\u001b[38;5;241;43m=\u001b[39;49m\u001b[43mpad_first\u001b[49m\n\u001b[1;32m    681\u001b[0m \u001b[43m\u001b[49m\u001b[43m)\u001b[49m\n",
      "File \u001b[0;32m~/Documents/imperial/year4/lectures/nlp/Coursework/nlp/.venv/lib/python3.10/site-packages/accelerate/utils/operations.py:135\u001b[0m, in \u001b[0;36mrecursively_apply\u001b[0;34m(func, data, test_type, error_on_other_type, *args, **kwargs)\u001b[0m\n\u001b[1;32m    126\u001b[0m     \u001b[38;5;28;01mreturn\u001b[39;00m \u001b[38;5;28mtype\u001b[39m(data)(\n\u001b[1;32m    127\u001b[0m         {\n\u001b[1;32m    128\u001b[0m             k: recursively_apply(\n\u001b[0;32m   (...)\u001b[0m\n\u001b[1;32m    132\u001b[0m         }\n\u001b[1;32m    133\u001b[0m     )\n\u001b[1;32m    134\u001b[0m \u001b[38;5;28;01melif\u001b[39;00m test_type(data):\n\u001b[0;32m--> 135\u001b[0m     \u001b[38;5;28;01mreturn\u001b[39;00m \u001b[43mfunc\u001b[49m\u001b[43m(\u001b[49m\u001b[43mdata\u001b[49m\u001b[43m,\u001b[49m\u001b[43m \u001b[49m\u001b[38;5;241;43m*\u001b[39;49m\u001b[43margs\u001b[49m\u001b[43m,\u001b[49m\u001b[43m \u001b[49m\u001b[38;5;241;43m*\u001b[39;49m\u001b[38;5;241;43m*\u001b[39;49m\u001b[43mkwargs\u001b[49m\u001b[43m)\u001b[49m\n\u001b[1;32m    136\u001b[0m \u001b[38;5;28;01melif\u001b[39;00m error_on_other_type:\n\u001b[1;32m    137\u001b[0m     \u001b[38;5;28;01mraise\u001b[39;00m \u001b[38;5;167;01mTypeError\u001b[39;00m(\n\u001b[1;32m    138\u001b[0m         \u001b[38;5;124mf\u001b[39m\u001b[38;5;124m\"\u001b[39m\u001b[38;5;124mUnsupported types (\u001b[39m\u001b[38;5;132;01m{\u001b[39;00m\u001b[38;5;28mtype\u001b[39m(data)\u001b[38;5;132;01m}\u001b[39;00m\u001b[38;5;124m) passed to `\u001b[39m\u001b[38;5;132;01m{\u001b[39;00mfunc\u001b[38;5;241m.\u001b[39m\u001b[38;5;18m__name__\u001b[39m\u001b[38;5;132;01m}\u001b[39;00m\u001b[38;5;124m`. Only nested list/tuple/dicts of \u001b[39m\u001b[38;5;124m\"\u001b[39m\n\u001b[1;32m    139\u001b[0m         \u001b[38;5;124mf\u001b[39m\u001b[38;5;124m\"\u001b[39m\u001b[38;5;124mobjects that are valid for `\u001b[39m\u001b[38;5;132;01m{\u001b[39;00mtest_type\u001b[38;5;241m.\u001b[39m\u001b[38;5;18m__name__\u001b[39m\u001b[38;5;132;01m}\u001b[39;00m\u001b[38;5;124m` should be passed.\u001b[39m\u001b[38;5;124m\"\u001b[39m\n\u001b[1;32m    140\u001b[0m     )\n",
      "File \u001b[0;32m~/Documents/imperial/year4/lectures/nlp/Coursework/nlp/.venv/lib/python3.10/site-packages/accelerate/utils/operations.py:659\u001b[0m, in \u001b[0;36mpad_across_processes.<locals>._pad_across_processes\u001b[0;34m(tensor, dim, pad_index, pad_first)\u001b[0m\n\u001b[1;32m    656\u001b[0m     \u001b[38;5;28;01mreturn\u001b[39;00m tensor\n\u001b[1;32m    658\u001b[0m \u001b[38;5;66;03m# Gather all sizes\u001b[39;00m\n\u001b[0;32m--> 659\u001b[0m size \u001b[38;5;241m=\u001b[39m \u001b[43mtorch\u001b[49m\u001b[38;5;241;43m.\u001b[39;49m\u001b[43mtensor\u001b[49m\u001b[43m(\u001b[49m\u001b[43mtensor\u001b[49m\u001b[38;5;241;43m.\u001b[39;49m\u001b[43mshape\u001b[49m\u001b[43m,\u001b[49m\u001b[43m \u001b[49m\u001b[43mdevice\u001b[49m\u001b[38;5;241;43m=\u001b[39;49m\u001b[43mtensor\u001b[49m\u001b[38;5;241;43m.\u001b[39;49m\u001b[43mdevice\u001b[49m\u001b[43m)\u001b[49m[\u001b[38;5;28;01mNone\u001b[39;00m]\n\u001b[1;32m    660\u001b[0m sizes \u001b[38;5;241m=\u001b[39m gather(size)\u001b[38;5;241m.\u001b[39mcpu()\n\u001b[1;32m    661\u001b[0m \u001b[38;5;66;03m# Then pad to the maximum size\u001b[39;00m\n",
      "\u001b[0;31mKeyboardInterrupt\u001b[0m: "
     ]
    }
   ],
   "source": [
    "train_output = trainer.train()\n",
    "train_output"
   ]
  },
  {
   "cell_type": "code",
   "execution_count": 59,
   "metadata": {},
   "outputs": [
    {
     "name": "stderr",
     "output_type": "stream",
     "text": [
      "100%|██████████| 2094/2094 [00:17<00:00, 117.48it/s]\n"
     ]
    },
    {
     "data": {
      "image/png": "[encoded data removed]",
      "text/plain": [
       "<Figure size 640x480 with 2 Axes>"
      ]
     },
     "metadata": {},
     "output_type": "display_data"
    },
    {
     "name": "stderr",
     "output_type": "stream",
     "text": [
      "100%|██████████| 9168/9168 [01:09<00:00, 132.30it/s]\n"
     ]
    },
    {
     "data": {
      "image/png": "[encoded data removed]",
      "text/plain": [
       "<Figure size 640x480 with 2 Axes>"
      ]
     },
     "metadata": {},
     "output_type": "display_data"
    },
    {
     "data": {
      "text/plain": [
       "{'Not offensive': {'precision': 1.0,\n",
       "  'recall': 0.999868073878628,\n",
       "  'f1-score': 0.9999340325879016,\n",
       "  'support': 7580.0},\n",
       " 'Offensive': {'precision': 0.9993706733794839,\n",
       "  'recall': 1.0,\n",
       "  'f1-score': 0.9996852376455776,\n",
       "  'support': 1588.0},\n",
       " 'accuracy': 0.99989092495637,\n",
       " 'macro avg': {'precision': 0.999685336689742,\n",
       "  'recall': 0.9999340369393139,\n",
       "  'f1-score': 0.9998096351167396,\n",
       "  'support': 9168.0},\n",
       " 'weighted avg': {'precision': 0.9998909936001985,\n",
       "  'recall': 0.99989092495637,\n",
       "  'f1-score': 0.9998909385250295,\n",
       "  'support': 9168.0}}"
      ]
     },
     "execution_count": 59,
     "metadata": {},
     "output_type": "execute_result"
    }
   ],
   "source": [
    "evaluate_model(model, tokenizer, val_dataset)\n",
    "evaluate_model(model, tokenizer, training_dataset)"
   ]
  },
  {
   "cell_type": "code",
   "execution_count": 37,
   "metadata": {},
   "outputs": [
    {
     "name": "stderr",
     "output_type": "stream",
     "text": [
      "100%|██████████| 524/524 [00:26<00:00, 20.02it/s]\n",
      "100%|██████████| 240/240 [00:12<00:00, 19.16it/s]\n"
     ]
    }
   ],
   "source": [
    "save_model_predictions('roberta-base', model, tokenizer)"
   ]
  },
  {
   "cell_type": "code",
   "execution_count": null,
   "metadata": {},
   "outputs": [],
   "source": []
  }
 ],
 "metadata": {
  "kernelspec": {
   "display_name": ".venv",
   "language": "python",
   "name": "python3"
  },
  "language_info": {
   "codemirror_mode": {
    "name": "ipython",
    "version": 3
   },
   "file_extension": ".py",
   "mimetype": "text/x-python",
   "name": "python",
   "nbconvert_exporter": "python",
   "pygments_lexer": "ipython3",
   "version": "3.10.12"
  }
 },
 "nbformat": 4,
 "nbformat_minor": 2
}
