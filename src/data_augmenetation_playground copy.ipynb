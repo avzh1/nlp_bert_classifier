{
 "cells": [
  {
   "cell_type": "markdown",
   "metadata": {},
   "source": [
    "# Pre-processing sandbox"
   ]
  },
  {
   "cell_type": "markdown",
   "metadata": {},
   "source": [
    "## == Initialize Environment == "
   ]
  },
  {
   "cell_type": "code",
   "execution_count": 23,
   "metadata": {},
   "outputs": [
    {
     "data": {
      "text/plain": [
       "'cuda'"
      ]
     },
     "execution_count": 23,
     "metadata": {},
     "output_type": "execute_result"
    }
   ],
   "source": [
    "# Library imports\n",
    "import pandas as pd\n",
    "\n",
    "import seaborn as sns\n",
    "import matplotlib.pyplot as plt    \n",
    "\n",
    "from nltk import PorterStemmer, WordNetLemmatizer\n",
    "import codecs\n",
    "\n",
    "import torch\n",
    "from torch.utils.data import DataLoader, Dataset, Sampler\n",
    "from tqdm import tqdm\n",
    "import torch.nn as nn\n",
    "\n",
    "import re\n",
    "from functools import partial\n",
    "\n",
    "import numpy as np\n",
    "from numpy import dot\n",
    "from numpy.linalg import norm\n",
    "\n",
    "from sklearn.model_selection import train_test_split\n",
    "from sklearn.metrics import confusion_matrix, ConfusionMatrixDisplay, classification_report, precision_score, recall_score, f1_score, precision_recall_fscore_support\n",
    "\n",
    "# Pre-trained models\n",
    "from simpletransformers.classification import ClassificationModel, ClassificationArgs, MultiLabelClassificationModel, MultiLabelClassificationArgs\n",
    "from transformers import Trainer, TrainingArguments\n",
    "from transformers import BertTokenizer\n",
    "from transformers import BertPreTrainedModel, BertModel\n",
    "from transformers.models.bert.modeling_bert import BertOnlyMLMHead\n",
    "from transformers import AutoModelForSequenceClassification, AdamW, get_scheduler\n",
    "\n",
    "\n",
    "def fix_seed(seed=420.69):\n",
    "  torch.manual_seed(seed)\n",
    "  torch.cuda.manual_seed(seed)\n",
    "#   np.random.seed(seed)\n",
    "#   random.seed(seed)\n",
    "\n",
    "fix_seed()\n",
    "\n",
    "data_path = '../bin/data'\n",
    "embeddings_path = '../bin/word_embeddings'\n",
    "model_save_path = '../bin/models'\n",
    "\n",
    "from util.datafunctions import *\n",
    "from util.evaluation import *\n",
    "\n",
    "if not torch.cuda.is_available():\n",
    "  DEVICE = 'cpu'\n",
    "else:\n",
    "  DEVICE = 'cuda'\n",
    "\n",
    "DEVICE"
   ]
  },
  {
   "cell_type": "markdown",
   "metadata": {},
   "source": [
    "## === Utils ==="
   ]
  },
  {
   "cell_type": "markdown",
   "metadata": {},
   "source": [
    "### Data related util functions"
   ]
  },
  {
   "cell_type": "code",
   "execution_count": 24,
   "metadata": {},
   "outputs": [],
   "source": [
    "from sklearn.model_selection import train_test_split\n",
    "import matplotlib.pyplot as plt\n",
    "\n",
    "def generate_data_splits(train_data):\n",
    "    # The stratify parameter makes a split so that the proportion of values in the sample produced will be the same as the proportion of values provided to parameter stratify. \n",
    "\n",
    "    X_train, X_val, y_train, y_val = train_test_split(train_data[['text', 'keyword', 'country_code']]\n",
    "                                                    , train_data['labels']\n",
    "                                                    , train_size=0.8\n",
    "                                                    , test_size=0.2\n",
    "                                                    , random_state=0\n",
    "                                                    , stratify=train_data[['labels']]\n",
    "                                                    )\n",
    "   \n",
    "    return X_train, X_val, y_train, y_val\n",
    "\n",
    "\n",
    "def pie_data_distributions(pie_series, pie_series_label):\n",
    "    \"\"\"Plots some pie charts for data distribution (Assume len(pie_series) inputs)\n",
    "\n",
    "    Args:\n",
    "        pie_series (_type_): pandas series \n",
    "        pie_series_label (_type_): for the title\n",
    "    \"\"\"\n",
    "\n",
    "    assert len(pie_series) == len(pie_series_label) and \"expected inputs of same length\"\n",
    "\n",
    "    _, axs = plt.subplots(1, len(pie_series), figsize=(len(pie_series)*5, 5))\n",
    "\n",
    "    for idx, (series, title) in enumerate(zip(pie_series, pie_series_label)):\n",
    "        tmp = series.value_counts()\n",
    "\n",
    "        wedges, _, _ = axs[idx].pie(tmp, labels=tmp.index, autopct='%1.1f%%', startangle=90)\n",
    "        legend_labels = [f'{label} ({count})' for label, count in zip(tmp.index, tmp)]\n",
    "        axs[idx].legend(wedges, legend_labels, title=\"Class 1 and 0\", loc=\"center left\", bbox_to_anchor=(1, 0, 0.5, 1))\n",
    "        axs[idx].set_title(f'Distribution for {title}')\n",
    "\n",
    "    plt.tight_layout()\n",
    "    plt.show()"
   ]
  },
  {
   "cell_type": "code",
   "execution_count": 25,
   "metadata": {},
   "outputs": [],
   "source": [
    "def plot_data_splits(X_train, X_val, y_train, y_val, test_data):\n",
    "    print(\"=== DISTRIBUTION FOR TRAINING DATA ===\")\n",
    "    pie_data_distributions(\n",
    "        [X_train['country_code'], X_train['keyword'], y_train],\n",
    "        ['train country_code label', 'train keyword label', 'train binary classification']\n",
    "    )\n",
    "\n",
    "    print(\"=== DISTRIBUTION FOR VALIDATION DATA ===\")\n",
    "    pie_data_distributions(\n",
    "        [X_val['country_code'], X_val['keyword'], y_val],\n",
    "        ['validation country_code label', 'validation keyword label', 'validation binary classification']\n",
    "    )\n",
    "\n",
    "    print(\"=== DISTRIBUTION FOR TEST DATA ===\")\n",
    "    pie_data_distributions(\n",
    "        [test_data['country_code'], test_data['keyword']],\n",
    "        ['test country_code label', 'test keyword label']\n",
    "    )"
   ]
  },
  {
   "cell_type": "markdown",
   "metadata": {},
   "source": [
    "## === Loading the Data ==="
   ]
  },
  {
   "cell_type": "code",
   "execution_count": 26,
   "metadata": {},
   "outputs": [],
   "source": [
    "# Import Data\n",
    "train_data_path = f'{data_path}/dontpatronizeme_pcl.tsv'\n",
    "test_data_path  = f'{data_path}/task4_test.tsv'\n",
    "\n",
    "train_data = pd.read_csv(train_data_path, delimiter='\\t', skiprows=4, header=None, names=['par_id','art_id','keyword','country_code', 'text','label'])\n",
    "test_data  = pd.read_csv(test_data_path,  delimiter='\\t', skiprows=4, header=None, names=['par_id','art_id','keyword','country_code', 'text'])\n",
    "\n",
    "train_data = train_data.drop(['art_id'], axis=1)\n",
    "test_data = test_data.drop(['art_id'], axis=1)"
   ]
  },
  {
   "cell_type": "code",
   "execution_count": 27,
   "metadata": {},
   "outputs": [],
   "source": [
    "# Concatenate label information to train data\n",
    "dev_label_path   = f'{data_path}/dev_semeval_parids-labels.csv'\n",
    "train_label_path = f'{data_path}/train_semeval_parids-labels.csv'\n",
    "\n",
    "dev_label   = pd.read_csv(dev_label_path, delimiter=',')\n",
    "train_label = pd.read_csv(train_label_path, delimiter=',')\n",
    "\n",
    "detailed_labels = pd.concat([dev_label, train_label], ignore_index=True, join='inner', names=['simple', 'detailed'])\n",
    "train_data = pd.merge(train_data, detailed_labels, on='par_id')\n",
    "train_data = train_data.rename(columns={'label_x': 'binary_label', 'label_y': 'label_detailed'})"
   ]
  },
  {
   "cell_type": "code",
   "execution_count": 28,
   "metadata": {},
   "outputs": [],
   "source": [
    "# Add Binary Classification column for ease of checking\n",
    "train_data.loc[:, 'labels'] = 0\n",
    "train_data.loc[train_data['binary_label'].isin([2,3,4]), 'labels'] = 1"
   ]
  },
  {
   "cell_type": "code",
   "execution_count": 29,
   "metadata": {},
   "outputs": [],
   "source": [
    "train_data = train_data.dropna(subset = 'text')\n",
    "test_data = test_data.dropna(subset = 'text')\n",
    "\n",
    "test_data['labels'] = -1 # for compatibility with the dataloader, set a dummy label variable"
   ]
  },
  {
   "cell_type": "code",
   "execution_count": 30,
   "metadata": {},
   "outputs": [],
   "source": [
    "id2label = {0: \"non-PCL\", 1: \"PCL\"}\n",
    "label2id = {\"non-PCL\": 0, \"PCL\": 1}"
   ]
  },
  {
   "cell_type": "code",
   "execution_count": 31,
   "metadata": {},
   "outputs": [
    {
     "data": {
      "image/png": "[encoded data removed]",
      "text/plain": [
       "<Figure size 1000x500 with 2 Axes>"
      ]
     },
     "metadata": {},
     "output_type": "display_data"
    }
   ],
   "source": [
    "X_train, X_val, y_train, y_val = generate_data_splits(train_data)\n",
    "\n",
    "pie_data_distributions([y_train, y_val], ['Train Data', 'Validation Data'])"
   ]
  },
  {
   "cell_type": "markdown",
   "metadata": {},
   "source": [
    "## === Data Sampling ==="
   ]
  },
  {
   "cell_type": "code",
   "execution_count": 32,
   "metadata": {},
   "outputs": [],
   "source": [
    "\n",
    "\n",
    "def find_cosine_similarity_between_two_sentences(sentence1, sentence2):\n",
    "    \"\"\"Find the cosine similarity between two sentences using word embeddings\n",
    "\n",
    "    Args:\n",
    "        sentence1 (str): first sentence\n",
    "        sentence2 (str): second sentence\n",
    "\n",
    "    Returns:\n",
    "        float: cosine similarity between the two sentences\n",
    "    \"\"\"    \n",
    "    # Tokenize the sentences\n",
    "    sentence1 = sentence1.split()\n",
    "    sentence2 = sentence2.split()\n",
    "    \n",
    "    # Get the word vectors\n",
    "    word_vectors = [word_embeddings.get(word, np.zeros(300)) for word in sentence1]\n",
    "    word_vectors2 = [word_embeddings.get(word, np.zeros(300)) for word in sentence2]\n",
    "    \n",
    "    # Average the word vectors\n",
    "    sentence_vector = np.mean(word_vectors, axis=0)\n",
    "    sentence_vector2 = np.mean(word_vectors2, axis=0)\n",
    "    \n",
    "    # Find the cosine similarity\n",
    "    cosine_similarity = dot(sentence_vector, sentence_vector2)/(norm(sentence_vector)*norm(sentence_vector2))\n",
    "    \n",
    "    return cosine_similarity"
   ]
  },
  {
   "cell_type": "markdown",
   "metadata": {},
   "source": [
    "### 0. Stop Word Removal"
   ]
  },
  {
   "cell_type": "markdown",
   "metadata": {},
   "source": [
    "explanation: https://towardsdatascience.com/text-pre-processing-stop-words-removal-using-different-libraries-f20bac19929a\n",
    "\n",
    "we don't always remove stop words, e.g. https://www.ibm.com/docs/en/watson-explorer/11.0.0?topic=analytics-stop-word-removal when a sentence consists only of stop words, but this library takes care of it\"Surprisingly, the stopwords received as much attention as non-stop words, but removing them has no effect in MRR performances.\" https://stackoverflow.com/questions/63633534/is-it-necessary-to-do-stopwords-removal-stemming-lemmatization-for-text-classif "
   ]
  },
  {
   "cell_type": "code",
   "execution_count": 33,
   "metadata": {},
   "outputs": [
    {
     "name": "stdout",
     "output_type": "stream",
     "text": [
      "Original Text: I do not like you because I'm better than you\n",
      "Text after Stopword Removal: I like I'm better\n"
     ]
    }
   ],
   "source": [
    "from gensim.parsing.preprocessing import remove_stopwords\n",
    "\n",
    "# Another sample text\n",
    "new_text = \"I do not like you because I'm better than you\"\n",
    " \n",
    "# Remove stopwords using Gensim\n",
    "new_filtered_text = remove_stopwords(new_text)\n",
    "\n",
    "print(\"Original Text:\", new_text)\n",
    "print(\"Text after Stopword Removal:\", new_filtered_text)"
   ]
  },
  {
   "cell_type": "markdown",
   "metadata": {},
   "source": [
    "### 1. \"Easy Data Augmentation Techniques\""
   ]
  },
  {
   "cell_type": "markdown",
   "metadata": {},
   "source": [
    "(Initially) Inspired by https://datascience.stackexchange.com/questions/27671/how-do-you-apply-smote-on-text-classification \n",
    "\n",
    "Code implemented from https://arxiv.org/pdf/1901.11196.pdf"
   ]
  },
  {
   "cell_type": "code",
   "execution_count": 34,
   "metadata": {},
   "outputs": [
    {
     "name": "stdout",
     "output_type": "stream",
     "text": [
      "fatal: destination path 'eda_nlp' already exists and is not an empty directory.\n"
     ]
    },
    {
     "name": "stderr",
     "output_type": "stream",
     "text": [
      "huggingface/tokenizers: The current process just got forked, after parallelism has already been used. Disabling parallelism to avoid deadlocks...\n",
      "To disable this warning, you can either:\n",
      "\t- Avoid using `tokenizers` before the fork if possible\n",
      "\t- Explicitly set the environment variable TOKENIZERS_PARALLELISM=(true | false)\n"
     ]
    }
   ],
   "source": [
    "!git clone https://github.com/jasonwei20/eda_nlp.git\n",
    "from eda_nlp.code.eda import *"
   ]
  },
  {
   "cell_type": "code",
   "execution_count": 35,
   "metadata": {},
   "outputs": [
    {
     "data": {
      "text/plain": [
       "['i hate because think that im better than you',\n",
       " 'i hate you because i that think im better than you',\n",
       " 'i hate you because i mean that im better than you',\n",
       " 'hate you because i think that im better you',\n",
       " 'i hate you because i im that think better than you',\n",
       " 'i hate you because i think that im better than you']"
      ]
     },
     "execution_count": 35,
     "metadata": {},
     "output_type": "execute_result"
    }
   ],
   "source": [
    "# Default parameters have shown good performance in the original paper\n",
    "source_sentence = \"I hate you because I think that I'm better than you\"\n",
    "result = eda(source_sentence, alpha_ri=0.0, num_aug=5)\n",
    "result"
   ]
  },
  {
   "cell_type": "code",
   "execution_count": 36,
   "metadata": {},
   "outputs": [],
   "source": [
    "# find_cosine_similarity_between_two_sentences(source_sentence, result[0])"
   ]
  },
  {
   "cell_type": "code",
   "execution_count": 37,
   "metadata": {},
   "outputs": [],
   "source": [
    "def generate_eda(data, num_aug=3, probability=0.1):\n",
    "    eda_upsampled = data[data['labels'] == 1]\n",
    "    eda_upsampled.loc[:, 'text'] = eda_upsampled.apply(\n",
    "        lambda row: eda(row['text']\n",
    "                        , num_aug=num_aug\n",
    "                        , alpha_ri=probability\n",
    "                        , alpha_rs=probability\n",
    "                        , p_rd    =probability\n",
    "                        , alpha_sr=probability\n",
    "                        ), axis=1) #alpha_ri=0.0, num_aug=num_aug), axis=1)\n",
    "\n",
    "    upsampled_positives = pd.DataFrame(columns=data.columns)\n",
    "\n",
    "    for _, row in eda_upsampled.iterrows():\n",
    "        for upsample in row['text']:\n",
    "            # insert into upsampled_positives the row['text'] and the remaining columns in variable row\n",
    "            new_row = pd.DataFrame([row], columns=data.columns)\n",
    "            new_row['text'] = upsample\n",
    "            upsampled_positives = pd.concat([upsampled_positives, new_row], ignore_index=True)\n",
    "\n",
    "    train_data_minority_upsampled = pd.concat([upsampled_positives, data[data['labels'] == 0]], ignore_index=True)\n",
    "\n",
    "    return train_data_minority_upsampled"
   ]
  },
  {
   "cell_type": "code",
   "execution_count": 38,
   "metadata": {},
   "outputs": [],
   "source": [
    "# train_data_minority_upsampled = generate_eda(train_data, num_aug=10)\n",
    "\n",
    "# X_train, X_val, y_train, y_val = generate_data_splits(train_data_minority_upsampled)\n",
    "# pie_data_distributions([y_train, y_val], ['Train Data', 'Validation Data'])"
   ]
  },
  {
   "cell_type": "markdown",
   "metadata": {},
   "source": [
    "### 2. Rephrasing\n",
    "\n",
    "https://github.com/Vamsi995/Paraphrase-Generator\n",
    "\n",
    "https://huggingface.co/Vamsi/T5_Paraphrase_Paws\n",
    "\n",
    "Paraphrasing only really works on longer sentences"
   ]
  },
  {
   "cell_type": "code",
   "execution_count": 39,
   "metadata": {},
   "outputs": [
    {
     "name": "stderr",
     "output_type": "stream",
     "text": [
      "/home/avzh1/Documents/imperial/year4/lectures/nlp/Coursework/nlp/.venv/lib/python3.10/site-packages/transformers/generation/configuration_utils.py:453: UserWarning: `num_beams` is set to 1. However, `early_stopping` is set to `True` -- this flag is only used in beam-based generation modes. You should set `num_beams>1` or unset `early_stopping`.\n",
      "  warnings.warn(\n"
     ]
    },
    {
     "name": "stdout",
     "output_type": "stream",
     "text": [
      "I don't like you because I am better than you\n",
      "I don't like you because I'm better than you\n",
      "I don't like you because I am better than you\n",
      "I don't like you because I'm better than you\n",
      "I don't like you because I am better than you.\n",
      "We're living in times of absolute insanity, as I'm pretty sure most people are aware. waking up every day to check the news seemed to carry with it the same feeling of panic and dread that action heroes probably face when they are trying to decide whether to cut the blue or green wire on a ticking bomb -- except the bomb instructions burnt long ago in a fire, and the likelihood of imminent catastrophe seems the worst, so it is natural for people to become inured\n",
      "We are living in times of absolute insanity, as I'm pretty sure most people are aware of : for a while, waking up every day to check the news appeared to carry the same feeling of panic and dread that action heroes will probably face when they try to decide whether to cut the blue or green wire on a ticking bomb -- except the bomb instructions burned in a fire long ago, and imminent catastrophe seems the most likely outcome. It's natural for people to stay in\n",
      "We live in times of absolute - idiots, as I'm pretty sure most people are aware ; for a while, waking up to check the news seemed to carry with it the same feeling of panic and dread that action heroes probably face when they decide whether to cut the blue or green wire on a ticking bomb -- except the instructions made by the bomb burned in a fire long ago and the likely result seems imminent.\n",
      "For a while, being awake every day to check the news seemed to carry the same feeling of panic and dread that action heroes likely face when they are trying to decide whether to cut the blue or green wire on a tickling bomb -- except that the instructions burned on a fire long ago and the imminent catastrophe seems to be the likely outcome, so it is natural for people to become inured to this constant chaos, to fall into a malaise of hopelessness and pessimism.\n",
      "We are living in times of absolute insanity, as I'm pretty sure most people are aware : for a while, waking up every day to check the news seemed to carry the same feeling of panic and dread that Action heroes probably face when they try to decide whether to cut the blue or green wire on a ticking bomb -- except the instructions on the bomb burned in a fire, and imminent catastrophe seems the likely outcome. It's natural for people to become inured to\n"
     ]
    }
   ],
   "source": [
    "from transformers import AutoTokenizer, AutoModelForSeq2SeqLM\n",
    "\n",
    "def paraphrase_text(text: str, num_return_sequences: int):\n",
    "    \"\"\"Paraphrase the input text using the T5 model\n",
    "\n",
    "    Args:\n",
    "        text (str): input text\n",
    "        num_return_sequences (int): number of paraphrases to return\n",
    "\n",
    "    Returns:\n",
    "        list: list of paraphrased text\n",
    "    \"\"\"    \n",
    "\n",
    "    # Format text for the model to understand the paraphrasing task\n",
    "    text =  \"paraphrase: \" + text + \" </s>\"\n",
    "\n",
    "    # Load model\n",
    "    tokenizer = AutoTokenizer.from_pretrained(\"Vamsi/T5_Paraphrase_Paws\")  \n",
    "    model = AutoModelForSeq2SeqLM.from_pretrained(\"Vamsi/T5_Paraphrase_Paws\").to('cuda')\n",
    "\n",
    "    encoding = tokenizer.encode_plus(text, padding='longest', return_tensors=\"pt\")\n",
    "    input_ids, attention_masks = encoding[\"input_ids\"].to(\"cuda\"), encoding[\"attention_mask\"].to(\"cuda\")\n",
    "\n",
    "    # Generate paraphrases\n",
    "    outputs = model.generate(\n",
    "        input_ids=input_ids, attention_mask=attention_masks,\n",
    "        max_length=256,\n",
    "        do_sample=True,\n",
    "        top_k=120,\n",
    "        top_p=0.95,\n",
    "        early_stopping=True,\n",
    "        num_return_sequences=num_return_sequences\n",
    "    )\n",
    "\n",
    "    # Decode the generated paraphrases\n",
    "    return [tokenizer.decode(output, skip_special_tokens=True,clean_up_tokenization_spaces=True) for output in outputs]\n",
    "\n",
    "for text in [\"I don't like you because I'm better than you\",\n",
    "             \"We 're living in times of absolute insanity , as I 'm pretty sure most people are aware . For a while , waking up every day to check the news seemed to carry with it the same feeling of panic and dread that action heroes probably face when they 're trying to decide whether to cut the blue or green wire on a ticking bomb -- except the bomb 's instructions long ago burned in a fire and imminent catastrophe seems the likeliest outcome . It 's hard to stay that on-edge for that long , though , so it 's natural for people to become inured to this constant chaos , to slump into a malaise of hopelessness and pessimism .\"]:\n",
    "    for paraphrase in paraphrase_text(text, 5):\n",
    "        print(paraphrase)"
   ]
  },
  {
   "cell_type": "markdown",
   "metadata": {},
   "source": [
    "### 3. Contextual Word Embeddings for Sentence Augmenter\n",
    "\n",
    "https://github.com/makcedward/nlpaug/blob/master/example/textual_augmenter.ipynb\n",
    "\n",
    "seems to be bad for long sentences, good for short!"
   ]
  },
  {
   "cell_type": "code",
   "execution_count": 40,
   "metadata": {},
   "outputs": [
    {
     "name": "stdout",
     "output_type": "stream",
     "text": [
      "[\"I don't like you because I'm better than you A This , D H S I 2 We I S A � You R A This G , The The .\"]\n",
      "['More than 750 trolleys of food donated to those in need In the The The The I B H .']\n",
      "['The quick brown fox jumps over the lazy dog This T G It You The The C In A The A The H I We 1 W This This The I D the R This .']\n",
      "[\"We 're living in times of absolute insanity , as I 'm pretty sure most people are aware . For a while , waking up every day to check the news seemed to carry with it the same feeling of panic and dread that action heroes probably face when they 're trying to decide whether to cut the blue or green wire on a ticking bomb -- except the bomb 's instructions long ago burned in a fire and imminent catastrophe seems the likeliest outcome . It 's hard to stay that on-edge for that long , though , so it 's natural for people to become inured to this constant chaos , to slump into a malaise of hopelessness and pessimism . � If I The A and D and This M This The I , D A This .\"]\n"
     ]
    }
   ],
   "source": [
    "# !pip install nlpaug\n",
    "\n",
    "import nlpaug.augmenter.sentence as nas\n",
    "\n",
    "aug = nas.ContextualWordEmbsForSentenceAug(model_path='distilgpt2')\n",
    "\n",
    "for text in [\"I don't like you because I'm better than you\",\n",
    "             \"More than 750 trolleys of food donated to those in need\",\n",
    "             \"The quick brown fox jumps over the lazy dog\",\n",
    "             \"We 're living in times of absolute insanity , as I 'm pretty sure most people are aware . For a while , waking up every day to check the news seemed to carry with it the same feeling of panic and dread that action heroes probably face when they 're trying to decide whether to cut the blue or green wire on a ticking bomb -- except the bomb 's instructions long ago burned in a fire and imminent catastrophe seems the likeliest outcome . It 's hard to stay that on-edge for that long , though , so it 's natural for people to become inured to this constant chaos , to slump into a malaise of hopelessness and pessimism .\"]:\n",
    "    print(aug.augment(text))\n"
   ]
  },
  {
   "cell_type": "markdown",
   "metadata": {},
   "source": [
    "### 4. AugGPT\n",
    "\n",
    "https://github.com/yhydhx/AugGPT"
   ]
  },
  {
   "cell_type": "markdown",
   "metadata": {},
   "source": [
    "### 5. Translate and back\n",
    "\n",
    "https://github.com/NandhiniN85/Class-Imbalancing/blob/main/NLP%20-%20Class%20Imbalanced.ipynb\n",
    "\n",
    "https://www.analyticsvidhya.com/blog/2020/11/handling-imbalanced-data-machine-learning-computer-vision-and-nlp/"
   ]
  },
  {
   "cell_type": "code",
   "execution_count": 52,
   "metadata": {},
   "outputs": [
    {
     "name": "stdout",
     "output_type": "stream",
     "text": [
      "I don't like you because I'm better than you\n",
      "More than 750 food trolleys were donated to those in need\n",
      "A fast brown fox jumps over a lazy dog\n",
      "We live in a time of complete despair that I am sure most people know. For a while, the anxiety of checking the news every day seemed to be the anxiety and fear that the action hero might experience trying to cut the blue or white line on the bomb being ticked. Unless instructed to do so by firebombs long ago, the imminent catastrophe The result is most likely. But at the same time, it is very difficult to stay on that edge, so it is common for people who are obsessed with constant chaos to fall into the misery of despair and pessimism.\n"
     ]
    }
   ],
   "source": [
    "# !pip install googletrans\n",
    "\n",
    "# from googletrans import Translator # google translator doesn't seem to be working: issue: https://stackoverflow.com/questions/52455774/googletrans-stopped-working-with-error-nonetype-object-has-no-attribute-group/52456197#52456197\n",
    "\n",
    "# translator = Translator()\n",
    "\n",
    "# def Portugese_translation(x):\n",
    "#     print(x)    \n",
    "#     german_translation = translator.translate(x, dest='pt')    \n",
    "#     return german_translation.text\n",
    "\n",
    "# def English_translation(x):\n",
    "#     print(x)    \n",
    "#     english_translation = translator.translate(x, dest='en')    \n",
    "#     return english_translation.text\n",
    "\n",
    "# x = Portugese_translation(\"warning for using windows disk space\")\n",
    "# English_translation(x)\n",
    "\n",
    "# !pip install -U deep-translator\n",
    "from deep_translator import GoogleTranslator\n",
    "\n",
    "# get random subset of languages from supported languages\n",
    "\n",
    "GoogleTranslator().get_supported_languages()\n",
    "\n",
    "def multi_translate(text, depth=3):\n",
    "    random_languages = np.random.choice(list(GoogleTranslator().get_supported_languages()), depth-1, replace=False)\n",
    "\n",
    "    curr_language = 'english'\n",
    "\n",
    "    for language in random_languages:\n",
    "        text = GoogleTranslator(source=curr_language, target=language).translate(text)\n",
    "        curr_language = language\n",
    "\n",
    "    return GoogleTranslator(source=curr_language, target='english').translate(text)\n",
    "\n",
    "# multi_translate(\"More than 750 trolleys of food donated to those in need\")\n",
    "\n",
    "for text in [\"I don't like you because I'm better than you\",\n",
    "             \"More than 750 trolleys of food donated to those in need\",\n",
    "             \"The quick brown fox jumps over the lazy dog\",\n",
    "             \"We 're living in times of absolute insanity , as I 'm pretty sure most people are aware . For a while , waking up every day to check the news seemed to carry with it the same feeling of panic and dread that action heroes probably face when they 're trying to decide whether to cut the blue or green wire on a ticking bomb -- except the bomb 's instructions long ago burned in a fire and imminent catastrophe seems the likeliest outcome . It 's hard to stay that on-edge for that long , though , so it 's natural for people to become inured to this constant chaos , to slump into a malaise of hopelessness and pessimism .\"]:\n",
    "    \n",
    "    print(multi_translate(text))"
   ]
  },
  {
   "cell_type": "code",
   "execution_count": 48,
   "metadata": {},
   "outputs": [
    {
     "name": "stderr",
     "output_type": "stream",
     "text": [
      "/home/avzh1/Documents/imperial/year4/lectures/nlp/Coursework/nlp/.venv/lib/python3.10/site-packages/transformers/generation/configuration_utils.py:453: UserWarning: `num_beams` is set to 1. However, `early_stopping` is set to `True` -- this flag is only used in beam-based generation modes. You should set `num_beams>1` or unset `early_stopping`.\n",
      "  warnings.warn(\n"
     ]
    },
    {
     "name": "stdout",
     "output_type": "stream",
     "text": [
      "---\n",
      "More than 750 trolleys of food donated to those in need\n",
      "More than 750 food carts donated to those most in need\n",
      "---\n",
      "Over 750 trolleys of food are donated to those in need.\n",
      "More than 750 carts of food were donated to those in need.\n",
      "---\n",
      "More than 750 trolleys of food were donated to those in need.\n",
      "More than 750 carts of food were donated to those in need.\n",
      "---\n",
      "More than 750 trolleys of food donated to those in need\n",
      "More than 750 food carts donated to those most in need\n",
      "---\n",
      "More than 750 trolleys of food donated to those in need.\n",
      "More than 750 carts of food were donated to those in need.\n"
     ]
    }
   ],
   "source": [
    "augmented_sentence = paraphrase_text('More than 750 trolleys of food donated to those in need', 5)\n",
    "for sentence in augmented_sentence:\n",
    "    print('---')\n",
    "    print(sentence)\n",
    "    print(multi_translate(sentence))"
   ]
  },
  {
   "cell_type": "markdown",
   "metadata": {},
   "source": [
    "### 6. Sentence reordering"
   ]
  },
  {
   "cell_type": "code",
   "execution_count": 53,
   "metadata": {},
   "outputs": [],
   "source": [
    "def random_sentence_reordering(text):\n",
    "    \"\"\"Randomly reorder the words in the input text\n",
    "\n",
    "    Args:\n",
    "        text (str): input text\n",
    "\n",
    "    Returns:\n",
    "        str: reordered text\n",
    "    \"\"\"    \n",
    "    text = text.split('.')\n",
    "    np.random.shuffle(text)\n",
    "    return '.'.join(text)"
   ]
  },
  {
   "cell_type": "code",
   "execution_count": 55,
   "metadata": {},
   "outputs": [
    {
     "data": {
      "text/plain": [
       "\" It may contain some important information for sentence 2, but yet, it may not.Sentence 1 is in the first position. Sometimes, it doesn't make sense, but it doesn't always have to.. This is the beauty of data pre-processing\""
      ]
     },
     "execution_count": 55,
     "metadata": {},
     "output_type": "execute_result"
    }
   ],
   "source": [
    "random_sentence_reordering(\"Sentence 1 is in the first position. It may contain some important information for sentence 2, but yet, it may not. This is the beauty of data pre-processing. Sometimes, it doesn't make sense, but it doesn't always have to.\")"
   ]
  }
 ],
 "metadata": {
  "kernelspec": {
   "display_name": ".venv",
   "language": "python",
   "name": "python3"
  },
  "language_info": {
   "codemirror_mode": {
    "name": "ipython",
    "version": 3
   },
   "file_extension": ".py",
   "mimetype": "text/x-python",
   "name": "python",
   "nbconvert_exporter": "python",
   "pygments_lexer": "ipython3",
   "version": "3.10.12"
  }
 },
 "nbformat": 4,
 "nbformat_minor": 2
}
